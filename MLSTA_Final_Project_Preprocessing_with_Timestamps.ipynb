{
  "cells": [
    {
      "cell_type": "markdown",
      "metadata": {
        "id": "view-in-github",
        "colab_type": "text"
      },
      "source": [
        "<a href=\"https://colab.research.google.com/github/lifewinning/MLTSA22_final/blob/main/MLSTA_Final_Project_Preprocessing_with_Timestamps.ipynb\" target=\"_parent\"><img src=\"https://colab.research.google.com/assets/colab-badge.svg\" alt=\"Open In Colab\"/></a>"
      ]
    },
    {
      "cell_type": "markdown",
      "metadata": {
        "id": "l18M9_r5XmAQ"
      },
      "source": [
        "\n",
        "## Initialize EarthEngine, import geemap\n",
        "\n"
      ]
    },
    {
      "cell_type": "code",
      "execution_count": 1,
      "metadata": {
        "colab": {
          "base_uri": "https://localhost:8080/"
        },
        "id": "XeFsiSp2aDL6",
        "outputId": "80634234-b2d3-4157-837b-ac53a532c3d3"
      },
      "outputs": [
        {
          "output_type": "stream",
          "name": "stdout",
          "text": [
            "To authorize access needed by Earth Engine, open the following URL in a web browser and follow the instructions. If the web browser does not start automatically, please manually browse the URL below.\n",
            "\n",
            "    https://code.earthengine.google.com/client-auth?scopes=https%3A//www.googleapis.com/auth/earthengine%20https%3A//www.googleapis.com/auth/devstorage.full_control&request_id=x5IHMOoFOtZi8-BYMdRTajXoqLxukF8THkZEgq8OLvw&tc=eIXISSu7qO39FzY7xj-hrX7JtIxDBWFghHRAZUlc2kg&cc=dvDA2CYSR8Dx82iWsIhUKglXdfcmcDBIhCGh5av_Bhw\n",
            "\n",
            "The authorization workflow will generate a code, which you should paste in the box below. \n",
            "Enter verification code: 4/1AX4XfWghMf7VApJr3F6VTASZlYFFVfBYv2SYfKZ8pdfZPyZwv5QPm04nTEs\n",
            "\n",
            "Successfully saved authorization token.\n"
          ]
        }
      ],
      "source": [
        "import ee\n",
        " \n",
        "# Trigger the authentication flow.\n",
        "ee.Authenticate()\n",
        " \n",
        "# Initialize the library.\n",
        "ee.Initialize()"
      ]
    },
    {
      "cell_type": "code",
      "source": [
        "pip install geemap"
      ],
      "metadata": {
        "colab": {
          "base_uri": "https://localhost:8080/"
        },
        "id": "kGV1arDp9DD0",
        "outputId": "92a99852-5891-42e5-c8b3-84e1484cdf09"
      },
      "execution_count": 2,
      "outputs": [
        {
          "output_type": "stream",
          "name": "stdout",
          "text": [
            "Requirement already satisfied: geemap in /usr/local/lib/python3.7/dist-packages (0.13.3)\n",
            "Requirement already satisfied: geojson in /usr/local/lib/python3.7/dist-packages (from geemap) (2.5.0)\n",
            "Requirement already satisfied: ee-extra>=0.0.10 in /usr/local/lib/python3.7/dist-packages (from geemap) (0.0.13)\n",
            "Requirement already satisfied: ipyleaflet>=0.14.0 in /usr/local/lib/python3.7/dist-packages (from geemap) (0.16.0)\n",
            "Requirement already satisfied: colour in /usr/local/lib/python3.7/dist-packages (from geemap) (0.1.5)\n",
            "Requirement already satisfied: gdown in /usr/local/lib/python3.7/dist-packages (from geemap) (4.4.0)\n",
            "Requirement already satisfied: pandas in /usr/local/lib/python3.7/dist-packages (from geemap) (1.3.5)\n",
            "Requirement already satisfied: ffmpeg-python in /usr/local/lib/python3.7/dist-packages (from geemap) (0.2.0)\n",
            "Requirement already satisfied: pycrs in /usr/local/lib/python3.7/dist-packages (from geemap) (1.0.2)\n",
            "Requirement already satisfied: folium>=0.11.0 in /usr/local/lib/python3.7/dist-packages (from geemap) (0.12.1.post1)\n",
            "Requirement already satisfied: geeadd>=0.5.1 in /usr/local/lib/python3.7/dist-packages (from geemap) (0.5.5)\n",
            "Requirement already satisfied: whiteboxgui>=0.6.0 in /usr/local/lib/python3.7/dist-packages (from geemap) (0.7.0)\n",
            "Requirement already satisfied: xyzservices in /usr/local/lib/python3.7/dist-packages (from geemap) (2022.4.0)\n",
            "Requirement already satisfied: jupyterlab>=3 in /usr/local/lib/python3.7/dist-packages (from geemap) (3.3.4)\n",
            "Requirement already satisfied: numpy in /usr/local/lib/python3.7/dist-packages (from geemap) (1.21.6)\n",
            "Requirement already satisfied: matplotlib in /usr/local/lib/python3.7/dist-packages (from geemap) (3.2.2)\n",
            "Requirement already satisfied: geocoder in /usr/local/lib/python3.7/dist-packages (from geemap) (1.38.1)\n",
            "Requirement already satisfied: pyshp>=2.1.3 in /usr/local/lib/python3.7/dist-packages (from geemap) (2.2.0)\n",
            "Requirement already satisfied: python-box in /usr/local/lib/python3.7/dist-packages (from geemap) (6.0.2)\n",
            "Requirement already satisfied: ipyevents in /usr/local/lib/python3.7/dist-packages (from geemap) (2.0.1)\n",
            "Requirement already satisfied: ipytree in /usr/local/lib/python3.7/dist-packages (from geemap) (0.2.1)\n",
            "Requirement already satisfied: earthengine-api>=0.1.304 in /usr/local/lib/python3.7/dist-packages (from geemap) (0.1.306)\n",
            "Requirement already satisfied: pillow in /usr/local/lib/python3.7/dist-packages (from geemap) (7.1.2)\n",
            "Requirement already satisfied: sankee in /usr/local/lib/python3.7/dist-packages (from geemap) (0.0.7)\n",
            "Requirement already satisfied: ipyfilechooser>=0.6.0 in /usr/local/lib/python3.7/dist-packages (from geemap) (0.6.0)\n",
            "Requirement already satisfied: bqplot in /usr/local/lib/python3.7/dist-packages (from geemap) (0.12.33)\n",
            "Requirement already satisfied: google-auth-httplib2>=0.0.3 in /usr/local/lib/python3.7/dist-packages (from earthengine-api>=0.1.304->geemap) (0.0.4)\n",
            "Requirement already satisfied: httplib2shim in /usr/local/lib/python3.7/dist-packages (from earthengine-api>=0.1.304->geemap) (0.0.3)\n",
            "Requirement already satisfied: google-auth>=1.4.1 in /usr/local/lib/python3.7/dist-packages (from earthengine-api>=0.1.304->geemap) (1.35.0)\n",
            "Requirement already satisfied: google-cloud-storage in /usr/local/lib/python3.7/dist-packages (from earthengine-api>=0.1.304->geemap) (1.18.1)\n",
            "Requirement already satisfied: httplib2<1dev,>=0.9.2 in /usr/local/lib/python3.7/dist-packages (from earthengine-api>=0.1.304->geemap) (0.17.4)\n",
            "Requirement already satisfied: google-api-python-client<2,>=1.12.1 in /usr/local/lib/python3.7/dist-packages (from earthengine-api>=0.1.304->geemap) (1.12.11)\n",
            "Requirement already satisfied: future in /usr/local/lib/python3.7/dist-packages (from earthengine-api>=0.1.304->geemap) (0.16.0)\n",
            "Requirement already satisfied: six in /usr/local/lib/python3.7/dist-packages (from earthengine-api>=0.1.304->geemap) (1.15.0)\n",
            "Requirement already satisfied: requests in /usr/local/lib/python3.7/dist-packages (from folium>=0.11.0->geemap) (2.23.0)\n",
            "Requirement already satisfied: jinja2>=2.9 in /usr/local/lib/python3.7/dist-packages (from folium>=0.11.0->geemap) (3.1.1)\n",
            "Requirement already satisfied: branca>=0.3.0 in /usr/local/lib/python3.7/dist-packages (from folium>=0.11.0->geemap) (0.5.0)\n",
            "Requirement already satisfied: beautifulsoup4>=4.9.0 in /usr/local/lib/python3.7/dist-packages (from geeadd>=0.5.1->geemap) (4.11.1)\n",
            "Requirement already satisfied: logzero>=1.5.0 in /usr/local/lib/python3.7/dist-packages (from geeadd>=0.5.1->geemap) (1.7.0)\n",
            "Requirement already satisfied: soupsieve>1.2 in /usr/local/lib/python3.7/dist-packages (from beautifulsoup4>=4.9.0->geeadd>=0.5.1->geemap) (2.3.2.post1)\n",
            "Requirement already satisfied: uritemplate<4dev,>=3.0.0 in /usr/local/lib/python3.7/dist-packages (from google-api-python-client<2,>=1.12.1->earthengine-api>=0.1.304->geemap) (3.0.1)\n",
            "Requirement already satisfied: google-api-core<3dev,>=1.21.0 in /usr/local/lib/python3.7/dist-packages (from google-api-python-client<2,>=1.12.1->earthengine-api>=0.1.304->geemap) (1.31.5)\n",
            "Requirement already satisfied: setuptools>=40.3.0 in /usr/local/lib/python3.7/dist-packages (from google-api-core<3dev,>=1.21.0->google-api-python-client<2,>=1.12.1->earthengine-api>=0.1.304->geemap) (57.4.0)\n",
            "Requirement already satisfied: packaging>=14.3 in /usr/local/lib/python3.7/dist-packages (from google-api-core<3dev,>=1.21.0->google-api-python-client<2,>=1.12.1->earthengine-api>=0.1.304->geemap) (21.3)\n",
            "Requirement already satisfied: protobuf>=3.12.0 in /usr/local/lib/python3.7/dist-packages (from google-api-core<3dev,>=1.21.0->google-api-python-client<2,>=1.12.1->earthengine-api>=0.1.304->geemap) (3.17.3)\n",
            "Requirement already satisfied: googleapis-common-protos<2.0dev,>=1.6.0 in /usr/local/lib/python3.7/dist-packages (from google-api-core<3dev,>=1.21.0->google-api-python-client<2,>=1.12.1->earthengine-api>=0.1.304->geemap) (1.56.0)\n",
            "Requirement already satisfied: pytz in /usr/local/lib/python3.7/dist-packages (from google-api-core<3dev,>=1.21.0->google-api-python-client<2,>=1.12.1->earthengine-api>=0.1.304->geemap) (2022.1)\n",
            "Requirement already satisfied: rsa<5,>=3.1.4 in /usr/local/lib/python3.7/dist-packages (from google-auth>=1.4.1->earthengine-api>=0.1.304->geemap) (4.8)\n",
            "Requirement already satisfied: pyasn1-modules>=0.2.1 in /usr/local/lib/python3.7/dist-packages (from google-auth>=1.4.1->earthengine-api>=0.1.304->geemap) (0.2.8)\n",
            "Requirement already satisfied: cachetools<5.0,>=2.0.0 in /usr/local/lib/python3.7/dist-packages (from google-auth>=1.4.1->earthengine-api>=0.1.304->geemap) (4.2.4)\n",
            "Requirement already satisfied: ipywidgets in /usr/local/lib/python3.7/dist-packages (from ipyfilechooser>=0.6.0->geemap) (7.7.0)\n",
            "Requirement already satisfied: traittypes<3,>=0.2.1 in /usr/local/lib/python3.7/dist-packages (from ipyleaflet>=0.14.0->geemap) (0.2.1)\n",
            "Requirement already satisfied: ipython-genutils~=0.2.0 in /usr/local/lib/python3.7/dist-packages (from ipywidgets->ipyfilechooser>=0.6.0->geemap) (0.2.0)\n",
            "Requirement already satisfied: ipykernel>=4.5.1 in /usr/local/lib/python3.7/dist-packages (from ipywidgets->ipyfilechooser>=0.6.0->geemap) (4.10.1)\n",
            "Requirement already satisfied: traitlets>=4.3.1 in /usr/local/lib/python3.7/dist-packages (from ipywidgets->ipyfilechooser>=0.6.0->geemap) (5.1.1)\n",
            "Requirement already satisfied: widgetsnbextension~=3.6.0 in /usr/local/lib/python3.7/dist-packages (from ipywidgets->ipyfilechooser>=0.6.0->geemap) (3.6.0)\n",
            "Requirement already satisfied: ipython>=4.0.0 in /usr/local/lib/python3.7/dist-packages (from ipywidgets->ipyfilechooser>=0.6.0->geemap) (5.5.0)\n",
            "Requirement already satisfied: nbformat>=4.2.0 in /usr/local/lib/python3.7/dist-packages (from ipywidgets->ipyfilechooser>=0.6.0->geemap) (5.3.0)\n",
            "Requirement already satisfied: jupyterlab-widgets>=1.0.0 in /usr/local/lib/python3.7/dist-packages (from ipywidgets->ipyfilechooser>=0.6.0->geemap) (1.1.0)\n",
            "Requirement already satisfied: tornado>=4.0 in /usr/local/lib/python3.7/dist-packages (from ipykernel>=4.5.1->ipywidgets->ipyfilechooser>=0.6.0->geemap) (6.1)\n",
            "Requirement already satisfied: jupyter-client in /usr/local/lib/python3.7/dist-packages (from ipykernel>=4.5.1->ipywidgets->ipyfilechooser>=0.6.0->geemap) (7.3.0)\n",
            "Requirement already satisfied: prompt-toolkit<2.0.0,>=1.0.4 in /usr/local/lib/python3.7/dist-packages (from ipython>=4.0.0->ipywidgets->ipyfilechooser>=0.6.0->geemap) (1.0.18)\n",
            "Requirement already satisfied: pygments in /usr/local/lib/python3.7/dist-packages (from ipython>=4.0.0->ipywidgets->ipyfilechooser>=0.6.0->geemap) (2.6.1)\n",
            "Requirement already satisfied: decorator in /usr/local/lib/python3.7/dist-packages (from ipython>=4.0.0->ipywidgets->ipyfilechooser>=0.6.0->geemap) (4.4.2)\n",
            "Requirement already satisfied: pexpect in /usr/local/lib/python3.7/dist-packages (from ipython>=4.0.0->ipywidgets->ipyfilechooser>=0.6.0->geemap) (4.8.0)\n",
            "Requirement already satisfied: pickleshare in /usr/local/lib/python3.7/dist-packages (from ipython>=4.0.0->ipywidgets->ipyfilechooser>=0.6.0->geemap) (0.7.5)\n",
            "Requirement already satisfied: simplegeneric>0.8 in /usr/local/lib/python3.7/dist-packages (from ipython>=4.0.0->ipywidgets->ipyfilechooser>=0.6.0->geemap) (0.8.1)\n",
            "Requirement already satisfied: MarkupSafe>=2.0 in /usr/local/lib/python3.7/dist-packages (from jinja2>=2.9->folium>=0.11.0->geemap) (2.0.1)\n",
            "Requirement already satisfied: jupyterlab-server~=2.10 in /usr/local/lib/python3.7/dist-packages (from jupyterlab>=3->geemap) (2.13.0)\n",
            "Requirement already satisfied: jupyter-server~=1.4 in /usr/local/lib/python3.7/dist-packages (from jupyterlab>=3->geemap) (1.17.0)\n",
            "Requirement already satisfied: jupyter-core in /usr/local/lib/python3.7/dist-packages (from jupyterlab>=3->geemap) (4.10.0)\n",
            "Requirement already satisfied: nbclassic~=0.2 in /usr/local/lib/python3.7/dist-packages (from jupyterlab>=3->geemap) (0.3.7)\n",
            "Requirement already satisfied: Send2Trash in /usr/local/lib/python3.7/dist-packages (from jupyter-server~=1.4->jupyterlab>=3->geemap) (1.8.0)\n",
            "Requirement already satisfied: anyio<4,>=3.1.0 in /usr/local/lib/python3.7/dist-packages (from jupyter-server~=1.4->jupyterlab>=3->geemap) (3.5.0)\n",
            "Requirement already satisfied: nbconvert>=6.4.4 in /usr/local/lib/python3.7/dist-packages (from jupyter-server~=1.4->jupyterlab>=3->geemap) (6.5.0)\n",
            "Requirement already satisfied: terminado>=0.8.3 in /usr/local/lib/python3.7/dist-packages (from jupyter-server~=1.4->jupyterlab>=3->geemap) (0.13.3)\n",
            "Requirement already satisfied: pyzmq>=17 in /usr/local/lib/python3.7/dist-packages (from jupyter-server~=1.4->jupyterlab>=3->geemap) (22.3.0)\n",
            "Requirement already satisfied: websocket-client in /usr/local/lib/python3.7/dist-packages (from jupyter-server~=1.4->jupyterlab>=3->geemap) (1.3.2)\n",
            "Requirement already satisfied: argon2-cffi in /usr/local/lib/python3.7/dist-packages (from jupyter-server~=1.4->jupyterlab>=3->geemap) (21.3.0)\n",
            "Requirement already satisfied: prometheus-client in /usr/local/lib/python3.7/dist-packages (from jupyter-server~=1.4->jupyterlab>=3->geemap) (0.14.1)\n",
            "Requirement already satisfied: typing-extensions in /usr/local/lib/python3.7/dist-packages (from anyio<4,>=3.1.0->jupyter-server~=1.4->jupyterlab>=3->geemap) (4.2.0)\n",
            "Requirement already satisfied: idna>=2.8 in /usr/local/lib/python3.7/dist-packages (from anyio<4,>=3.1.0->jupyter-server~=1.4->jupyterlab>=3->geemap) (2.10)\n",
            "Requirement already satisfied: sniffio>=1.1 in /usr/local/lib/python3.7/dist-packages (from anyio<4,>=3.1.0->jupyter-server~=1.4->jupyterlab>=3->geemap) (1.2.0)\n",
            "Requirement already satisfied: python-dateutil>=2.8.2 in /usr/local/lib/python3.7/dist-packages (from jupyter-client->ipykernel>=4.5.1->ipywidgets->ipyfilechooser>=0.6.0->geemap) (2.8.2)\n",
            "Requirement already satisfied: nest-asyncio>=1.5.4 in /usr/local/lib/python3.7/dist-packages (from jupyter-client->ipykernel>=4.5.1->ipywidgets->ipyfilechooser>=0.6.0->geemap) (1.5.5)\n",
            "Requirement already satisfied: entrypoints in /usr/local/lib/python3.7/dist-packages (from jupyter-client->ipykernel>=4.5.1->ipywidgets->ipyfilechooser>=0.6.0->geemap) (0.4)\n",
            "Requirement already satisfied: importlib-metadata>=3.6 in /usr/local/lib/python3.7/dist-packages (from jupyterlab-server~=2.10->jupyterlab>=3->geemap) (4.11.3)\n",
            "Requirement already satisfied: jsonschema>=3.0.1 in /usr/local/lib/python3.7/dist-packages (from jupyterlab-server~=2.10->jupyterlab>=3->geemap) (4.3.3)\n",
            "Requirement already satisfied: babel in /usr/local/lib/python3.7/dist-packages (from jupyterlab-server~=2.10->jupyterlab>=3->geemap) (2.9.1)\n",
            "Requirement already satisfied: json5 in /usr/local/lib/python3.7/dist-packages (from jupyterlab-server~=2.10->jupyterlab>=3->geemap) (0.9.6)\n",
            "Requirement already satisfied: zipp>=0.5 in /usr/local/lib/python3.7/dist-packages (from importlib-metadata>=3.6->jupyterlab-server~=2.10->jupyterlab>=3->geemap) (3.8.0)\n",
            "Requirement already satisfied: importlib-resources>=1.4.0 in /usr/local/lib/python3.7/dist-packages (from jsonschema>=3.0.1->jupyterlab-server~=2.10->jupyterlab>=3->geemap) (5.7.1)\n",
            "Requirement already satisfied: attrs>=17.4.0 in /usr/local/lib/python3.7/dist-packages (from jsonschema>=3.0.1->jupyterlab-server~=2.10->jupyterlab>=3->geemap) (21.4.0)\n",
            "Requirement already satisfied: pyrsistent!=0.17.0,!=0.17.1,!=0.17.2,>=0.14.0 in /usr/local/lib/python3.7/dist-packages (from jsonschema>=3.0.1->jupyterlab-server~=2.10->jupyterlab>=3->geemap) (0.18.1)\n",
            "Requirement already satisfied: notebook-shim>=0.1.0 in /usr/local/lib/python3.7/dist-packages (from nbclassic~=0.2->jupyterlab>=3->geemap) (0.1.0)\n",
            "Requirement already satisfied: notebook<7 in /usr/local/lib/python3.7/dist-packages (from nbclassic~=0.2->jupyterlab>=3->geemap) (5.3.1)\n",
            "Requirement already satisfied: nbclient>=0.5.0 in /usr/local/lib/python3.7/dist-packages (from nbconvert>=6.4.4->jupyter-server~=1.4->jupyterlab>=3->geemap) (0.6.0)\n",
            "Requirement already satisfied: bleach in /usr/local/lib/python3.7/dist-packages (from nbconvert>=6.4.4->jupyter-server~=1.4->jupyterlab>=3->geemap) (5.0.0)\n",
            "Requirement already satisfied: defusedxml in /usr/local/lib/python3.7/dist-packages (from nbconvert>=6.4.4->jupyter-server~=1.4->jupyterlab>=3->geemap) (0.7.1)\n",
            "Requirement already satisfied: pandocfilters>=1.4.1 in /usr/local/lib/python3.7/dist-packages (from nbconvert>=6.4.4->jupyter-server~=1.4->jupyterlab>=3->geemap) (1.5.0)\n",
            "Requirement already satisfied: tinycss2 in /usr/local/lib/python3.7/dist-packages (from nbconvert>=6.4.4->jupyter-server~=1.4->jupyterlab>=3->geemap) (1.1.1)\n",
            "Requirement already satisfied: jupyterlab-pygments in /usr/local/lib/python3.7/dist-packages (from nbconvert>=6.4.4->jupyter-server~=1.4->jupyterlab>=3->geemap) (0.2.2)\n",
            "Requirement already satisfied: mistune<2,>=0.8.1 in /usr/local/lib/python3.7/dist-packages (from nbconvert>=6.4.4->jupyter-server~=1.4->jupyterlab>=3->geemap) (0.8.4)\n",
            "Requirement already satisfied: fastjsonschema in /usr/local/lib/python3.7/dist-packages (from nbformat>=4.2.0->ipywidgets->ipyfilechooser>=0.6.0->geemap) (2.15.3)\n",
            "Requirement already satisfied: pyparsing!=3.0.5,>=2.0.2 in /usr/local/lib/python3.7/dist-packages (from packaging>=14.3->google-api-core<3dev,>=1.21.0->google-api-python-client<2,>=1.12.1->earthengine-api>=0.1.304->geemap) (3.0.8)\n",
            "Requirement already satisfied: wcwidth in /usr/local/lib/python3.7/dist-packages (from prompt-toolkit<2.0.0,>=1.0.4->ipython>=4.0.0->ipywidgets->ipyfilechooser>=0.6.0->geemap) (0.2.5)\n",
            "Requirement already satisfied: pyasn1<0.5.0,>=0.4.6 in /usr/local/lib/python3.7/dist-packages (from pyasn1-modules>=0.2.1->google-auth>=1.4.1->earthengine-api>=0.1.304->geemap) (0.4.8)\n",
            "Requirement already satisfied: certifi>=2017.4.17 in /usr/local/lib/python3.7/dist-packages (from requests->folium>=0.11.0->geemap) (2021.10.8)\n",
            "Requirement already satisfied: chardet<4,>=3.0.2 in /usr/local/lib/python3.7/dist-packages (from requests->folium>=0.11.0->geemap) (3.0.4)\n",
            "Requirement already satisfied: urllib3!=1.25.0,!=1.25.1,<1.26,>=1.21.1 in /usr/local/lib/python3.7/dist-packages (from requests->folium>=0.11.0->geemap) (1.24.3)\n",
            "Requirement already satisfied: ptyprocess in /usr/local/lib/python3.7/dist-packages (from terminado>=0.8.3->jupyter-server~=1.4->jupyterlab>=3->geemap) (0.7.0)\n",
            "Requirement already satisfied: whitebox in /usr/local/lib/python3.7/dist-packages (from whiteboxgui>=0.6.0->geemap) (2.1.2)\n",
            "Requirement already satisfied: argon2-cffi-bindings in /usr/local/lib/python3.7/dist-packages (from argon2-cffi->jupyter-server~=1.4->jupyterlab>=3->geemap) (21.2.0)\n",
            "Requirement already satisfied: cffi>=1.0.1 in /usr/local/lib/python3.7/dist-packages (from argon2-cffi-bindings->argon2-cffi->jupyter-server~=1.4->jupyterlab>=3->geemap) (1.15.0)\n",
            "Requirement already satisfied: pycparser in /usr/local/lib/python3.7/dist-packages (from cffi>=1.0.1->argon2-cffi-bindings->argon2-cffi->jupyter-server~=1.4->jupyterlab>=3->geemap) (2.21)\n",
            "Requirement already satisfied: webencodings in /usr/local/lib/python3.7/dist-packages (from bleach->nbconvert>=6.4.4->jupyter-server~=1.4->jupyterlab>=3->geemap) (0.5.1)\n",
            "Requirement already satisfied: filelock in /usr/local/lib/python3.7/dist-packages (from gdown->geemap) (3.6.0)\n",
            "Requirement already satisfied: tqdm in /usr/local/lib/python3.7/dist-packages (from gdown->geemap) (4.64.0)\n",
            "Requirement already satisfied: click in /usr/local/lib/python3.7/dist-packages (from geocoder->geemap) (7.1.2)\n",
            "Requirement already satisfied: ratelim in /usr/local/lib/python3.7/dist-packages (from geocoder->geemap) (0.1.6)\n",
            "Requirement already satisfied: google-cloud-core<2.0dev,>=1.0.0 in /usr/local/lib/python3.7/dist-packages (from google-cloud-storage->earthengine-api>=0.1.304->geemap) (1.0.3)\n",
            "Requirement already satisfied: google-resumable-media<0.5.0dev,>=0.3.1 in /usr/local/lib/python3.7/dist-packages (from google-cloud-storage->earthengine-api>=0.1.304->geemap) (0.4.1)\n",
            "Requirement already satisfied: cycler>=0.10 in /usr/local/lib/python3.7/dist-packages (from matplotlib->geemap) (0.11.0)\n",
            "Requirement already satisfied: kiwisolver>=1.0.1 in /usr/local/lib/python3.7/dist-packages (from matplotlib->geemap) (1.4.2)\n",
            "Requirement already satisfied: PySocks!=1.5.7,>=1.5.6 in /usr/local/lib/python3.7/dist-packages (from requests->folium>=0.11.0->geemap) (1.7.1)\n",
            "Requirement already satisfied: plotly>=5.2.2 in /usr/local/lib/python3.7/dist-packages (from sankee->geemap) (5.5.0)\n",
            "Requirement already satisfied: tenacity>=6.2.0 in /usr/local/lib/python3.7/dist-packages (from plotly>=5.2.2->sankee->geemap) (8.0.1)\n"
          ]
        }
      ]
    },
    {
      "cell_type": "code",
      "source": [
        "import geemap\n",
        "Map = geemap.Map()"
      ],
      "metadata": {
        "id": "NpwiR8e09EuB"
      },
      "execution_count": 3,
      "outputs": []
    },
    {
      "cell_type": "code",
      "source": [
        "import json\n",
        "from urllib.request import urlopen"
      ],
      "metadata": {
        "id": "GoMEVDgBa5jF"
      },
      "execution_count": 7,
      "outputs": []
    },
    {
      "cell_type": "code",
      "source": [
        "from google.colab import drive\n",
        "drive.mount('/content/drive')"
      ],
      "metadata": {
        "colab": {
          "base_uri": "https://localhost:8080/"
        },
        "id": "tcqrA2OHVvtO",
        "outputId": "6587eec6-4a78-4d13-ace6-2ffd044fed46"
      },
      "execution_count": 23,
      "outputs": [
        {
          "output_type": "stream",
          "name": "stdout",
          "text": [
            "Mounted at /content/drive\n"
          ]
        }
      ]
    },
    {
      "cell_type": "code",
      "source": [
        "cd /content/drive/MyDrive/MLTSA22"
      ],
      "metadata": {
        "colab": {
          "base_uri": "https://localhost:8080/"
        },
        "id": "AHJVqhslWBES",
        "outputId": "0c80928b-c08c-48f3-9f05-627dbb8463bc"
      },
      "execution_count": 26,
      "outputs": [
        {
          "output_type": "stream",
          "name": "stdout",
          "text": [
            "/content/drive/MyDrive/MLTSA22\n"
          ]
        }
      ]
    },
    {
      "cell_type": "markdown",
      "source": [
        "# Set date params and load clipping features"
      ],
      "metadata": {
        "id": "GY7LgcVZyK-K"
      }
    },
    {
      "cell_type": "code",
      "source": [
        "# establish time series window\n",
        "start = ee.Date('2018-01-01')\n",
        "finish = ee.Date('2021-12-31')"
      ],
      "metadata": {
        "id": "oOxFU8Vfwrrx"
      },
      "execution_count": 5,
      "outputs": []
    },
    {
      "cell_type": "code",
      "source": [
        "# load geojson with bounding boxes\n",
        "url = urlopen('https://raw.githubusercontent.com/lifewinning/MLTSA22_final/main/added_ports.geojson')\n",
        "geojson = json.load(url)\n",
        "for site, index in enumerate(range(0,4)):\n",
        "  print(index, geojson['features'][site]['properties']['site'])\n"
      ],
      "metadata": {
        "colab": {
          "base_uri": "https://localhost:8080/"
        },
        "id": "Pc5ygkIgcZN7",
        "outputId": "b1b1b71d-2af2-4ca8-85e1-c8381c0a4eef"
      },
      "execution_count": 8,
      "outputs": [
        {
          "output_type": "stream",
          "name": "stdout",
          "text": [
            "0 oakland\n",
            "1 tacoma\n",
            "2 shanghai\n",
            "3 bayonne\n"
          ]
        }
      ]
    },
    {
      "cell_type": "markdown",
      "source": [
        "# Some generalizing functions"
      ],
      "metadata": {
        "id": "vw20VwIEfqNZ"
      }
    },
    {
      "cell_type": "code",
      "source": [
        "def cliptoaoi(image):\n",
        "  return image.clip(aoi)"
      ],
      "metadata": {
        "id": "vKnpCMRRIsjL"
      },
      "execution_count": 9,
      "outputs": []
    },
    {
      "cell_type": "code",
      "source": [
        "# generate a range of days between start and end of time series\n",
        "def getdates(collection):\n",
        "  first = collection.first().date()\n",
        "  print(first.format('yyy-MM-dd').getInfo())\n",
        "  diff = finish.difference(first, 'day')\n",
        "  def getDays(day):\n",
        "    return first.advance(day,'day')\n",
        "  \n",
        "  return ee.List.sequence(0, diff.subtract(1), 6).map(getDays)"
      ],
      "metadata": {
        "id": "kwdzlGmYynXI"
      },
      "execution_count": 10,
      "outputs": []
    },
    {
      "cell_type": "code",
      "source": [
        "def day_mosaics(date, newlist):\n",
        "  date = ee.Date(date)\n",
        "  newlist = ee.List(newlist)\n",
        "  \n",
        "  filtered = collection_clipped.filterDate(date, date.advance(1,'day'));\n",
        "\n",
        "  date_formatted = date.format('yyyy-MM-dd_H:m:s', 'UTC')\n",
        "\n",
        "  image_m = ee.Image(filtered.mosaic()).set({'ID': date_formatted}).set({'date': date}).clip(aoi)\n",
        "\n",
        "  # Add the mosaic to a list only if the collection has images\n",
        "  return ee.List(ee.Algorithms.If(filtered.size(), newlist.add(image_m), newlist))"
      ],
      "metadata": {
        "id": "J4YartQZznSK"
      },
      "execution_count": 96,
      "outputs": []
    },
    {
      "cell_type": "code",
      "source": [
        "def check_gaps(list):\n",
        "  collection_list"
      ],
      "metadata": {
        "id": "Wg6er2Ai6zGx"
      },
      "execution_count": null,
      "outputs": []
    },
    {
      "cell_type": "code",
      "source": [
        "def get_thumbnails(coords, ):\n",
        "  aoi = ee.Geometry.Polygon(coords)\n",
        "  # query EE\n",
        "  collection = ee.ImageCollection('COPERNICUS/S1_GRD').filterBounds(aoi).filterDate(start, finish).filter(ee.Filter.listContains('transmitterReceiverPolarisation', 'VH'))\n",
        "  collection_clipped = collection.map(cliptoaoi).sort('segmentStartTime')\n",
        "  collection_list = collection_clipped.toList(collection.size())\n",
        "\n",
        "  # mosaic images from the same day as needed\n",
        "  # newcol = ee.ImageCollection(ee.List(getdates(collection).iterate(day_mosaics, ee.List([]))))\n",
        "  # newcol_list = newcol.toList(newcol.size())\n",
        "  ids = collection_clipped.aggregate_array('system:time_start').map(lambda time_start: ee.Date(time_start).format('Y-MM-dd_H:m:s', 'US/Eastern')).getInfo()\n",
        "\n"
      ],
      "metadata": {
        "id": "CMnz-r2cutcr"
      },
      "execution_count": null,
      "outputs": []
    },
    {
      "cell_type": "markdown",
      "source": [
        "# Bayonne"
      ],
      "metadata": {
        "id": "1K84HJsjTqp5"
      }
    },
    {
      "cell_type": "code",
      "source": [
        "coords = geojson['features'][3]['geometry']['coordinates']\n",
        "aoi = ee.Geometry.Polygon(coords)\n",
        "\n",
        "# query EE\n",
        "collection = ee.ImageCollection('COPERNICUS/S1_GRD').filterBounds(aoi).filterDate(start, finish).filter(ee.Filter.listContains('transmitterReceiverPolarisation', 'VH'))\n",
        "collection_clipped = collection.map(cliptoaoi).sort('segmentStartTime')\n",
        "collection_list = collection_clipped.toList(collection.size())\n",
        "\n",
        "\n",
        "# mosaic images from the same day as needed\n",
        "# newcol = ee.ImageCollection(ee.List(getdates(collection).iterate(day_mosaics, ee.List([]))))\n",
        "# newcol_list = newcol.toList(newcol.size())\n",
        "ids = collection_clipped.aggregate_array('system:time_start').map(lambda time_start: ee.Date(time_start).format('Y-MM-dd_H:m:s', 'US/Eastern')).getInfo()\n",
        "\n",
        "# this is for exporting\n",
        "vis_params = {'min': -20, 'max': 0, 'bands':'VH'}"
      ],
      "metadata": {
        "id": "ESDdQR8bTkBh"
      },
      "execution_count": 79,
      "outputs": []
    },
    {
      "cell_type": "code",
      "source": [
        "image = collection_clipped.first()\n",
        "out_img = \"tests/bayonne.png\"\n",
        "geemap.get_image_thumbnail(image, out_img, vis_params, dimensions=500, format='png')\n",
        "geemap.show_image(out_img)"
      ],
      "metadata": {
        "colab": {
          "base_uri": "https://localhost:8080/",
          "height": 525,
          "referenced_widgets": [
            "50c3ebecd18645c5aaf8812258cb28bf",
            "d5cf4e22bb3648e1a8088cafc74c286f",
            "698176fdfad7442bbc8a66020b68f8c0",
            "3dc484201438486d95bcff8023e5c6ae"
          ]
        },
        "id": "6UxY1MF6T1GH",
        "outputId": "b0ce00d6-2b8b-4b11-b723-0aa494dea9c9"
      },
      "execution_count": 81,
      "outputs": [
        {
          "output_type": "display_data",
          "data": {
            "text/plain": [
              "Output()"
            ],
            "application/vnd.jupyter.widget-view+json": {
              "version_major": 2,
              "version_minor": 0,
              "model_id": "50c3ebecd18645c5aaf8812258cb28bf"
            }
          },
          "metadata": {
            "application/vnd.jupyter.widget-view+json": {
              "colab": {
                "custom_widget_manager": {
                  "url": "https://ssl.gstatic.com/colaboratory-static/widgets/colab-cdn-widget-manager/a8874ba6619b6106/manager.min.js"
                }
              }
            }
          }
        }
      ]
    },
    {
      "cell_type": "code",
      "source": [
        "out_dir = 'timestampedit/bayonne'\n",
        "geemap.get_image_collection_thumbnails(collection_clipped, out_dir, vis_params, dimensions=500, format=\"png\", names=ids)"
      ],
      "metadata": {
        "colab": {
          "base_uri": "https://localhost:8080/"
        },
        "id": "sWp6hBFbV-Vy",
        "outputId": "f17298d2-fc03-44f3-903f-26ed9b66e61f"
      },
      "execution_count": 82,
      "outputs": [
        {
          "output_type": "stream",
          "name": "stdout",
          "text": [
            "Total number of images: 120\n",
            "\n",
            "Downloading 1/120: 2018-01-07_17:50:57.png ...\n",
            "Downloading 2/120: 2018-01-19_17:50:57.png ...\n",
            "Downloading 3/120: 2018-01-31_17:50:56.png ...\n",
            "Downloading 4/120: 2018-02-12_17:50:56.png ...\n",
            "Downloading 5/120: 2018-03-08_17:50:56.png ...\n",
            "Downloading 6/120: 2018-03-20_18:50:56.png ...\n",
            "Downloading 7/120: 2018-04-01_18:50:56.png ...\n",
            "Downloading 8/120: 2018-04-13_18:50:57.png ...\n",
            "Downloading 9/120: 2018-04-25_18:50:57.png ...\n",
            "Downloading 10/120: 2018-05-07_18:50:58.png ...\n",
            "Downloading 11/120: 2018-05-19_18:50:59.png ...\n",
            "Downloading 12/120: 2018-05-31_18:50:59.png ...\n",
            "Downloading 13/120: 2018-06-12_18:51:0.png ...\n",
            "Downloading 14/120: 2018-06-24_18:51:1.png ...\n",
            "Downloading 15/120: 2018-07-06_18:51:1.png ...\n",
            "Downloading 16/120: 2018-07-11_7:5:0.png ...\n",
            "Downloading 17/120: 2018-07-18_18:51:2.png ...\n",
            "Downloading 18/120: 2018-07-30_18:51:3.png ...\n",
            "Downloading 19/120: 2018-08-11_18:51:4.png ...\n",
            "Downloading 20/120: 2018-08-23_18:51:4.png ...\n",
            "Downloading 21/120: 2018-09-04_18:51:5.png ...\n",
            "Downloading 22/120: 2018-09-16_18:51:5.png ...\n",
            "Downloading 23/120: 2018-09-28_18:51:6.png ...\n",
            "Downloading 24/120: 2018-10-10_18:51:6.png ...\n",
            "Downloading 25/120: 2018-10-22_18:51:6.png ...\n",
            "Downloading 26/120: 2018-11-03_18:51:6.png ...\n",
            "Downloading 27/120: 2018-11-15_17:51:6.png ...\n",
            "Downloading 28/120: 2018-11-27_17:51:5.png ...\n",
            "Downloading 29/120: 2018-12-21_17:51:4.png ...\n",
            "Downloading 30/120: 2019-01-02_17:51:4.png ...\n",
            "Downloading 31/120: 2019-01-14_17:51:4.png ...\n",
            "Downloading 32/120: 2019-01-26_17:51:3.png ...\n",
            "Downloading 33/120: 2019-02-07_17:51:3.png ...\n",
            "Downloading 34/120: 2019-02-19_17:51:2.png ...\n",
            "Downloading 35/120: 2019-03-03_17:51:3.png ...\n",
            "Downloading 36/120: 2019-03-15_18:51:3.png ...\n",
            "Downloading 37/120: 2019-03-27_18:51:3.png ...\n",
            "Downloading 38/120: 2019-04-08_18:51:3.png ...\n",
            "Downloading 39/120: 2019-05-02_18:51:4.png ...\n",
            "Downloading 40/120: 2019-05-14_18:51:5.png ...\n",
            "Downloading 41/120: 2019-05-26_18:51:5.png ...\n",
            "Downloading 42/120: 2019-06-07_18:51:6.png ...\n",
            "Downloading 43/120: 2019-06-19_18:51:6.png ...\n",
            "Downloading 44/120: 2019-07-01_18:51:7.png ...\n",
            "Downloading 45/120: 2019-07-13_18:51:8.png ...\n",
            "Downloading 46/120: 2019-07-25_18:51:9.png ...\n",
            "Downloading 47/120: 2019-08-06_18:51:10.png ...\n",
            "Downloading 48/120: 2019-08-18_18:51:10.png ...\n",
            "Downloading 49/120: 2019-08-30_18:51:11.png ...\n",
            "Downloading 50/120: 2019-09-11_18:51:11.png ...\n",
            "Downloading 51/120: 2019-09-23_18:51:12.png ...\n",
            "Downloading 52/120: 2019-10-05_18:51:12.png ...\n",
            "Downloading 53/120: 2019-10-17_18:51:12.png ...\n",
            "Downloading 54/120: 2019-10-29_18:51:12.png ...\n",
            "Downloading 55/120: 2019-11-10_17:51:12.png ...\n",
            "Downloading 56/120: 2019-11-22_17:51:12.png ...\n",
            "Downloading 57/120: 2019-12-04_17:51:11.png ...\n",
            "Downloading 58/120: 2019-12-16_17:51:11.png ...\n",
            "Downloading 59/120: 2019-12-28_17:51:10.png ...\n",
            "Downloading 60/120: 2020-01-09_17:51:10.png ...\n",
            "Downloading 61/120: 2020-01-21_17:51:10.png ...\n",
            "Downloading 62/120: 2020-02-02_17:51:9.png ...\n",
            "Downloading 63/120: 2020-02-14_17:51:9.png ...\n",
            "Downloading 64/120: 2020-02-26_17:51:9.png ...\n",
            "Downloading 65/120: 2020-03-09_18:51:9.png ...\n",
            "Downloading 66/120: 2020-03-21_18:51:9.png ...\n",
            "Downloading 67/120: 2020-04-02_18:51:9.png ...\n",
            "Downloading 68/120: 2020-04-14_18:51:10.png ...\n",
            "Downloading 69/120: 2020-04-26_18:51:10.png ...\n",
            "Downloading 70/120: 2020-05-08_18:51:11.png ...\n",
            "Downloading 71/120: 2020-05-20_18:51:11.png ...\n",
            "Downloading 72/120: 2020-06-01_18:51:12.png ...\n",
            "Downloading 73/120: 2020-06-13_18:51:13.png ...\n",
            "Downloading 74/120: 2020-06-25_18:51:14.png ...\n",
            "Downloading 75/120: 2020-07-07_18:51:14.png ...\n",
            "Downloading 76/120: 2020-07-19_18:51:15.png ...\n",
            "Downloading 77/120: 2020-07-31_18:51:16.png ...\n",
            "Downloading 78/120: 2020-08-12_18:51:16.png ...\n",
            "Downloading 79/120: 2020-08-24_18:51:17.png ...\n",
            "Downloading 80/120: 2020-08-30_6:57:50.png ...\n",
            "Downloading 81/120: 2020-09-05_18:51:18.png ...\n",
            "Downloading 82/120: 2020-09-17_18:51:18.png ...\n",
            "Downloading 83/120: 2020-09-29_18:51:18.png ...\n",
            "Downloading 84/120: 2020-10-11_18:51:19.png ...\n",
            "Downloading 85/120: 2020-10-23_18:51:19.png ...\n",
            "Downloading 86/120: 2020-11-04_17:51:19.png ...\n",
            "Downloading 87/120: 2020-11-16_17:51:18.png ...\n",
            "Downloading 88/120: 2020-11-28_17:51:18.png ...\n",
            "Downloading 89/120: 2020-12-10_17:51:18.png ...\n",
            "Downloading 90/120: 2020-12-22_17:51:17.png ...\n",
            "Downloading 91/120: 2021-01-03_17:51:16.png ...\n",
            "Downloading 92/120: 2021-01-15_17:51:16.png ...\n",
            "Downloading 93/120: 2021-01-27_17:51:15.png ...\n",
            "Downloading 94/120: 2021-02-08_17:51:15.png ...\n",
            "Downloading 95/120: 2021-02-20_17:51:15.png ...\n",
            "Downloading 96/120: 2021-03-04_17:51:15.png ...\n",
            "Downloading 97/120: 2021-03-16_18:51:15.png ...\n",
            "Downloading 98/120: 2021-03-28_18:51:15.png ...\n",
            "Downloading 99/120: 2021-04-09_18:51:15.png ...\n",
            "Downloading 100/120: 2021-04-21_18:51:16.png ...\n",
            "Downloading 101/120: 2021-05-03_18:51:16.png ...\n",
            "Downloading 102/120: 2021-05-15_18:51:17.png ...\n",
            "Downloading 103/120: 2021-05-27_18:51:18.png ...\n",
            "Downloading 104/120: 2021-06-08_18:51:18.png ...\n",
            "Downloading 105/120: 2021-06-20_18:51:19.png ...\n",
            "Downloading 106/120: 2021-07-02_18:51:20.png ...\n",
            "Downloading 107/120: 2021-07-14_18:51:21.png ...\n",
            "Downloading 108/120: 2021-07-26_18:51:21.png ...\n",
            "Downloading 109/120: 2021-08-07_18:51:22.png ...\n",
            "Downloading 110/120: 2021-08-19_18:51:23.png ...\n",
            "Downloading 111/120: 2021-08-31_18:51:23.png ...\n",
            "Downloading 112/120: 2021-09-12_18:51:24.png ...\n",
            "Downloading 113/120: 2021-09-24_18:51:24.png ...\n",
            "Downloading 114/120: 2021-10-06_18:51:24.png ...\n",
            "Downloading 115/120: 2021-10-18_18:51:25.png ...\n",
            "Downloading 116/120: 2021-10-30_18:51:24.png ...\n",
            "Downloading 117/120: 2021-11-23_17:51:24.png ...\n",
            "Downloading 118/120: 2021-12-05_17:51:23.png ...\n",
            "Downloading 119/120: 2021-12-17_17:51:23.png ...\n",
            "Downloading 120/120: 2021-12-29_17:51:22.png ...\n"
          ]
        }
      ]
    },
    {
      "cell_type": "code",
      "source": [
        ""
      ],
      "metadata": {
        "id": "JrgeNNxzun6r"
      },
      "execution_count": null,
      "outputs": []
    },
    {
      "cell_type": "markdown",
      "source": [
        "## Tacoma"
      ],
      "metadata": {
        "id": "JvAs6r37a76K"
      }
    },
    {
      "cell_type": "code",
      "source": [
        "coords = geojson['features'][1]['geometry']['coordinates']\n",
        "aoi = ee.Geometry.Polygon(coords)\n",
        "\n",
        "# query EE\n",
        "collection = ee.ImageCollection('COPERNICUS/S1_GRD').filterBounds(aoi).filterDate(start, finish).filter(ee.Filter.listContains('transmitterReceiverPolarisation', 'VH'))\n",
        "collection_clipped = collection.map(cliptoaoi).sort('segmentStartTime')\n",
        "collection_list = collection_clipped.toList(collection_clipped.size())"
      ],
      "metadata": {
        "id": "8OZAjgF275KA"
      },
      "execution_count": 88,
      "outputs": []
    },
    {
      "cell_type": "code",
      "source": [
        "# generate a range of days between start and end of time series\n",
        "def getdates(coll):\n",
        "  first = coll.first().date()\n",
        "  diff = finish.difference(first, 'day')\n",
        "  def getDays(day):\n",
        "    return first.advance(day,'day')\n",
        "  \n",
        "  return ee.List.sequence(0, diff.subtract(1), 6).map(getDays)"
      ],
      "metadata": {
        "id": "E4e-nHqs-WaP"
      },
      "execution_count": 66,
      "outputs": []
    },
    {
      "cell_type": "code",
      "source": [
        "# mosaic images from the same day as needed, make list of IDs from mosaic images\n",
        "newcol = ee.ImageCollection(ee.List(getdates(collection_clipped).iterate(day_mosaics, ee.List([]))))\n",
        "newcol_list = newcol.toList(newcol.size())\n",
        "ids = newcol.aggregate_array('ID').getInfo()\n",
        "# this is for exporting\n",
        "vis_params = {'min': -20, 'max': 0, 'bands':'VH'}"
      ],
      "metadata": {
        "id": "7K8eWYvifR4y"
      },
      "execution_count": 93,
      "outputs": []
    },
    {
      "cell_type": "code",
      "source": [
        "print(ids)"
      ],
      "metadata": {
        "colab": {
          "base_uri": "https://localhost:8080/"
        },
        "id": "MBTjXlIGnAID",
        "outputId": "e81e7c41-8e2f-4cfd-e3e7-234d48f7bb42"
      },
      "execution_count": 94,
      "outputs": [
        {
          "output_type": "stream",
          "name": "stdout",
          "text": [
            "['2018-01-07_6:12:38', '2018-01-19_6:12:38', '2018-04-01_7:12:38', '2018-04-13_7:12:38', '2018-04-25_7:12:38', '2018-05-07_7:12:38', '2018-05-19_7:12:38', '2018-05-31_7:12:38', '2018-06-12_7:12:38', '2018-06-24_7:12:38', '2018-07-06_7:12:38', '2018-07-18_7:12:38', '2018-07-30_7:12:38', '2018-08-11_7:12:38', '2018-08-23_7:12:38', '2018-09-04_7:12:38', '2018-09-16_7:12:38', '2018-09-28_7:12:38', '2018-10-10_7:12:38', '2018-10-22_7:12:38', '2018-11-03_7:12:38', '2018-11-15_6:12:38', '2018-11-27_6:12:38', '2018-12-09_6:12:38', '2018-12-21_6:12:38', '2019-01-02_6:12:38', '2019-01-14_6:12:38', '2019-01-26_6:12:38', '2019-02-07_6:12:38', '2019-02-19_6:12:38', '2019-03-03_6:12:38', '2019-03-15_7:12:38', '2019-03-27_7:12:38', '2019-04-08_7:12:38', '2019-04-20_7:12:38', '2019-05-02_7:12:38', '2019-05-14_7:12:38', '2019-05-26_7:12:38', '2019-06-07_7:12:38', '2019-06-19_7:12:38', '2019-07-01_7:12:38', '2019-07-13_7:12:38', '2019-07-25_7:12:38', '2019-08-18_7:12:38', '2019-08-30_7:12:38', '2019-09-11_7:12:38', '2019-10-05_7:12:38', '2019-10-17_7:12:38', '2019-10-29_7:12:38', '2019-11-10_6:12:38', '2019-11-22_6:12:38', '2019-12-04_6:12:38', '2019-12-16_6:12:38', '2019-12-28_6:12:38', '2020-01-09_6:12:38', '2020-01-21_6:12:38', '2020-02-02_6:12:38', '2020-02-14_6:12:38', '2020-02-26_6:12:38', '2020-03-09_7:12:38', '2020-03-21_7:12:38', '2020-04-02_7:12:38', '2020-04-14_7:12:38', '2020-04-26_7:12:38', '2020-05-08_7:12:38', '2020-05-20_7:12:38', '2020-06-01_7:12:38', '2020-06-13_7:12:38', '2020-06-25_7:12:38', '2020-07-07_7:12:38', '2020-07-19_7:12:38', '2020-07-31_7:12:38', '2020-08-12_7:12:38', '2020-08-24_7:12:38', '2020-09-05_7:12:38', '2020-09-17_7:12:38', '2020-09-29_7:12:38', '2020-10-11_7:12:38', '2020-10-23_7:12:38', '2020-11-04_6:12:38', '2020-11-16_6:12:38', '2020-11-28_6:12:38', '2020-12-10_6:12:38', '2020-12-22_6:12:38', '2021-01-03_6:12:38', '2021-01-15_6:12:38', '2021-01-27_6:12:38', '2021-02-08_6:12:38', '2021-02-20_6:12:38', '2021-03-04_6:12:38', '2021-03-16_7:12:38', '2021-03-28_7:12:38', '2021-04-09_7:12:38', '2021-04-21_7:12:38', '2021-05-03_7:12:38', '2021-05-15_7:12:38', '2021-05-27_7:12:38', '2021-06-08_7:12:38', '2021-06-20_7:12:38', '2021-07-02_7:12:38', '2021-07-14_7:12:38', '2021-07-26_7:12:38', '2021-08-01_7:12:38', '2021-08-07_7:12:38', '2021-08-31_7:12:38', '2021-09-12_7:12:38', '2021-09-24_7:12:38', '2021-10-06_7:12:38', '2021-10-18_7:12:38', '2021-10-30_7:12:38', '2021-11-11_6:12:38', '2021-11-23_6:12:38', '2021-12-05_6:12:38', '2021-12-17_6:12:38']\n"
          ]
        }
      ]
    },
    {
      "cell_type": "code",
      "source": [
        "# take a quick look at the first image just to see\n",
        "out_img = \"tests/tacoma.png\"\n",
        "image = newcol.first()\n",
        "geemap.get_image_thumbnail(image, out_img, vis_params, dimensions=500, format='png')\n",
        "geemap.show_image(out_img)"
      ],
      "metadata": {
        "colab": {
          "base_uri": "https://localhost:8080/",
          "height": 515,
          "referenced_widgets": [
            "03d671d1796e4ea09fee56cd728fb1c1",
            "52cb4cfe7b1f4a3bb5f724473f1ad6fd",
            "578ad1f58e044f89ab346f313358061f",
            "7a37650bfd6c49958efb1866b6aaaf62"
          ]
        },
        "id": "7wNXwSx9gjd5",
        "outputId": "e043a0f1-4303-4755-da0b-0fa97761802a"
      },
      "execution_count": 59,
      "outputs": [
        {
          "output_type": "display_data",
          "data": {
            "text/plain": [
              "Output()"
            ],
            "application/vnd.jupyter.widget-view+json": {
              "version_major": 2,
              "version_minor": 0,
              "model_id": "03d671d1796e4ea09fee56cd728fb1c1"
            }
          },
          "metadata": {
            "application/vnd.jupyter.widget-view+json": {
              "colab": {
                "custom_widget_manager": {
                  "url": "https://ssl.gstatic.com/colaboratory-static/widgets/colab-cdn-widget-manager/a8874ba6619b6106/manager.min.js"
                }
              }
            }
          }
        }
      ]
    },
    {
      "cell_type": "code",
      "source": [
        "out_dir = 'timestampedit/tacoma'\n",
        "geemap.get_image_collection_thumbnails(newcol, out_dir, vis_params, dimensions=500, format=\"png\", names=ids)"
      ],
      "metadata": {
        "colab": {
          "base_uri": "https://localhost:8080/"
        },
        "id": "yrVKSHNUgwqF",
        "outputId": "506ad447-45b0-4eda-b997-be980d979221"
      },
      "execution_count": 95,
      "outputs": [
        {
          "output_type": "stream",
          "name": "stdout",
          "text": [
            "Total number of images: 114\n",
            "\n",
            "Downloading 1/114: 2018-01-07_6:12:38.png ...\n",
            "Downloading 2/114: 2018-01-19_6:12:38.png ...\n",
            "Downloading 3/114: 2018-04-01_7:12:38.png ...\n",
            "Downloading 4/114: 2018-04-13_7:12:38.png ...\n",
            "Downloading 5/114: 2018-04-25_7:12:38.png ...\n",
            "Downloading 6/114: 2018-05-07_7:12:38.png ...\n",
            "Downloading 7/114: 2018-05-19_7:12:38.png ...\n",
            "Downloading 8/114: 2018-05-31_7:12:38.png ...\n",
            "Downloading 9/114: 2018-06-12_7:12:38.png ...\n",
            "Downloading 10/114: 2018-06-24_7:12:38.png ...\n",
            "Downloading 11/114: 2018-07-06_7:12:38.png ...\n",
            "Downloading 12/114: 2018-07-18_7:12:38.png ...\n",
            "Downloading 13/114: 2018-07-30_7:12:38.png ...\n",
            "Downloading 14/114: 2018-08-11_7:12:38.png ...\n",
            "Downloading 15/114: 2018-08-23_7:12:38.png ...\n",
            "Downloading 16/114: 2018-09-04_7:12:38.png ...\n",
            "Downloading 17/114: 2018-09-16_7:12:38.png ...\n",
            "Downloading 18/114: 2018-09-28_7:12:38.png ...\n",
            "Downloading 19/114: 2018-10-10_7:12:38.png ...\n",
            "Downloading 20/114: 2018-10-22_7:12:38.png ...\n",
            "Downloading 21/114: 2018-11-03_7:12:38.png ...\n",
            "Downloading 22/114: 2018-11-15_6:12:38.png ...\n",
            "Downloading 23/114: 2018-11-27_6:12:38.png ...\n",
            "Downloading 24/114: 2018-12-09_6:12:38.png ...\n",
            "Downloading 25/114: 2018-12-21_6:12:38.png ...\n",
            "Downloading 26/114: 2019-01-02_6:12:38.png ...\n",
            "Downloading 27/114: 2019-01-14_6:12:38.png ...\n",
            "Downloading 28/114: 2019-01-26_6:12:38.png ...\n",
            "Downloading 29/114: 2019-02-07_6:12:38.png ...\n",
            "Downloading 30/114: 2019-02-19_6:12:38.png ...\n",
            "Downloading 31/114: 2019-03-03_6:12:38.png ...\n",
            "Downloading 32/114: 2019-03-15_7:12:38.png ...\n",
            "Downloading 33/114: 2019-03-27_7:12:38.png ...\n",
            "Downloading 34/114: 2019-04-08_7:12:38.png ...\n",
            "Downloading 35/114: 2019-04-20_7:12:38.png ...\n",
            "Downloading 36/114: 2019-05-02_7:12:38.png ...\n",
            "Downloading 37/114: 2019-05-14_7:12:38.png ...\n",
            "Downloading 38/114: 2019-05-26_7:12:38.png ...\n",
            "Downloading 39/114: 2019-06-07_7:12:38.png ...\n",
            "Downloading 40/114: 2019-06-19_7:12:38.png ...\n",
            "Downloading 41/114: 2019-07-01_7:12:38.png ...\n",
            "Downloading 42/114: 2019-07-13_7:12:38.png ...\n",
            "Downloading 43/114: 2019-07-25_7:12:38.png ...\n",
            "Downloading 44/114: 2019-08-18_7:12:38.png ...\n",
            "Downloading 45/114: 2019-08-30_7:12:38.png ...\n",
            "Downloading 46/114: 2019-09-11_7:12:38.png ...\n",
            "Downloading 47/114: 2019-10-05_7:12:38.png ...\n",
            "Downloading 48/114: 2019-10-17_7:12:38.png ...\n",
            "Downloading 49/114: 2019-10-29_7:12:38.png ...\n",
            "Downloading 50/114: 2019-11-10_6:12:38.png ...\n",
            "Downloading 51/114: 2019-11-22_6:12:38.png ...\n",
            "Downloading 52/114: 2019-12-04_6:12:38.png ...\n",
            "Downloading 53/114: 2019-12-16_6:12:38.png ...\n",
            "Downloading 54/114: 2019-12-28_6:12:38.png ...\n",
            "Downloading 55/114: 2020-01-09_6:12:38.png ...\n",
            "Downloading 56/114: 2020-01-21_6:12:38.png ...\n",
            "Downloading 57/114: 2020-02-02_6:12:38.png ...\n",
            "Downloading 58/114: 2020-02-14_6:12:38.png ...\n",
            "Downloading 59/114: 2020-02-26_6:12:38.png ...\n",
            "Downloading 60/114: 2020-03-09_7:12:38.png ...\n",
            "Downloading 61/114: 2020-03-21_7:12:38.png ...\n",
            "Downloading 62/114: 2020-04-02_7:12:38.png ...\n",
            "Downloading 63/114: 2020-04-14_7:12:38.png ...\n",
            "Downloading 64/114: 2020-04-26_7:12:38.png ...\n",
            "Downloading 65/114: 2020-05-08_7:12:38.png ...\n",
            "Downloading 66/114: 2020-05-20_7:12:38.png ...\n",
            "Downloading 67/114: 2020-06-01_7:12:38.png ...\n",
            "Downloading 68/114: 2020-06-13_7:12:38.png ...\n",
            "Downloading 69/114: 2020-06-25_7:12:38.png ...\n",
            "Downloading 70/114: 2020-07-07_7:12:38.png ...\n",
            "Downloading 71/114: 2020-07-19_7:12:38.png ...\n",
            "Downloading 72/114: 2020-07-31_7:12:38.png ...\n",
            "Downloading 73/114: 2020-08-12_7:12:38.png ...\n",
            "Downloading 74/114: 2020-08-24_7:12:38.png ...\n",
            "Downloading 75/114: 2020-09-05_7:12:38.png ...\n",
            "Downloading 76/114: 2020-09-17_7:12:38.png ...\n",
            "Downloading 77/114: 2020-09-29_7:12:38.png ...\n",
            "Downloading 78/114: 2020-10-11_7:12:38.png ...\n",
            "Downloading 79/114: 2020-10-23_7:12:38.png ...\n",
            "Downloading 80/114: 2020-11-04_6:12:38.png ...\n",
            "Downloading 81/114: 2020-11-16_6:12:38.png ...\n",
            "Downloading 82/114: 2020-11-28_6:12:38.png ...\n",
            "Downloading 83/114: 2020-12-10_6:12:38.png ...\n",
            "Downloading 84/114: 2020-12-22_6:12:38.png ...\n",
            "Downloading 85/114: 2021-01-03_6:12:38.png ...\n",
            "Downloading 86/114: 2021-01-15_6:12:38.png ...\n",
            "Downloading 87/114: 2021-01-27_6:12:38.png ...\n",
            "Downloading 88/114: 2021-02-08_6:12:38.png ...\n",
            "Downloading 89/114: 2021-02-20_6:12:38.png ...\n",
            "Downloading 90/114: 2021-03-04_6:12:38.png ...\n",
            "Downloading 91/114: 2021-03-16_7:12:38.png ...\n",
            "Downloading 92/114: 2021-03-28_7:12:38.png ...\n",
            "Downloading 93/114: 2021-04-09_7:12:38.png ...\n",
            "Downloading 94/114: 2021-04-21_7:12:38.png ...\n",
            "Downloading 95/114: 2021-05-03_7:12:38.png ...\n",
            "Downloading 96/114: 2021-05-15_7:12:38.png ...\n",
            "Downloading 97/114: 2021-05-27_7:12:38.png ...\n",
            "Downloading 98/114: 2021-06-08_7:12:38.png ...\n",
            "Downloading 99/114: 2021-06-20_7:12:38.png ...\n",
            "Downloading 100/114: 2021-07-02_7:12:38.png ...\n",
            "Downloading 101/114: 2021-07-14_7:12:38.png ...\n",
            "Downloading 102/114: 2021-07-26_7:12:38.png ...\n",
            "Downloading 103/114: 2021-08-01_7:12:38.png ...\n",
            "Downloading 104/114: 2021-08-07_7:12:38.png ...\n",
            "Downloading 105/114: 2021-08-31_7:12:38.png ...\n",
            "Downloading 106/114: 2021-09-12_7:12:38.png ...\n",
            "Downloading 107/114: 2021-09-24_7:12:38.png ...\n",
            "Downloading 108/114: 2021-10-06_7:12:38.png ...\n",
            "Downloading 109/114: 2021-10-18_7:12:38.png ...\n",
            "Downloading 110/114: 2021-10-30_7:12:38.png ...\n",
            "Downloading 111/114: 2021-11-11_6:12:38.png ...\n",
            "Downloading 112/114: 2021-11-23_6:12:38.png ...\n",
            "Downloading 113/114: 2021-12-05_6:12:38.png ...\n",
            "Downloading 114/114: 2021-12-17_6:12:38.png ...\n"
          ]
        }
      ]
    },
    {
      "cell_type": "markdown",
      "source": [
        "# Rotterdam"
      ],
      "metadata": {
        "id": "wB3gvNcEbcvd"
      }
    },
    {
      "cell_type": "code",
      "source": [
        "# generate a range of days between start and end of time series\n",
        "def getdates(coll):\n",
        "  diff = finish.difference(start, 'day')\n",
        "  def getDays(day):\n",
        "    return start.advance(day,'day')\n",
        "  \n",
        "  return ee.List.sequence(0, diff.subtract(1),6).map(getDays)"
      ],
      "metadata": {
        "id": "eqequIAQbRpm"
      },
      "execution_count": null,
      "outputs": []
    },
    {
      "cell_type": "code",
      "source": [
        "# update to rotterdam\n",
        "coords = geojson['features'][3]['geometry']['coordinates']\n",
        "aoi = ee.Geometry.Polygon(coords)\n",
        "\n",
        "# query EE\n",
        "collection = ee.ImageCollection('COPERNICUS/S1_GRD').filterBounds(aoi).filterDate(start, finish).filter(ee.Filter.listContains('transmitterReceiverPolarisation', 'VH')).filter(ee.Filter.eq('instrumentMode', 'IW')).filter(ee.Filter.eq('orbitProperties_pass', 'DESCENDING'))\n",
        "collection_clipped = collection.map(cliptoaoi).sort('segmentStartTime')\n",
        "collection_list = collection_clipped.toList(collection_clipped.size())\n",
        "\n",
        "# mosaic images from the same day as needed, make list of IDs from mosaic images\n",
        "newcol = ee.ImageCollection(ee.List(getdates(collection_clipped).iterate(day_mosaics, ee.List([]))))\n",
        "newcol_list = newcol.toList(newcol.size())\n",
        "ids = newcol.aggregate_array('ID').getInfo()\n",
        "\n",
        "# this is for exporting\n",
        "vis_params = {'min': -20, 'max': 0, 'bands':'VH'}"
      ],
      "metadata": {
        "id": "akVpk5NNhkNx"
      },
      "execution_count": null,
      "outputs": []
    },
    {
      "cell_type": "code",
      "source": [
        "len(ids), ids"
      ],
      "metadata": {
        "colab": {
          "base_uri": "https://localhost:8080/"
        },
        "id": "S23atd8K4N1q",
        "outputId": "84181cbe-e610-456d-9fc1-979cecc15535"
      },
      "execution_count": null,
      "outputs": [
        {
          "output_type": "execute_result",
          "data": {
            "text/plain": [
              "(239,\n",
              " ['2018-01-01',\n",
              "  '2018-01-07',\n",
              "  '2018-01-13',\n",
              "  '2018-01-19',\n",
              "  '2018-01-25',\n",
              "  '2018-01-31',\n",
              "  '2018-02-06',\n",
              "  '2018-02-12',\n",
              "  '2018-02-18',\n",
              "  '2018-02-24',\n",
              "  '2018-03-02',\n",
              "  '2018-03-08',\n",
              "  '2018-03-14',\n",
              "  '2018-03-20',\n",
              "  '2018-03-26',\n",
              "  '2018-04-01',\n",
              "  '2018-04-07',\n",
              "  '2018-04-13',\n",
              "  '2018-04-19',\n",
              "  '2018-04-25',\n",
              "  '2018-05-01',\n",
              "  '2018-05-07',\n",
              "  '2018-05-13',\n",
              "  '2018-05-19',\n",
              "  '2018-05-25',\n",
              "  '2018-05-31',\n",
              "  '2018-06-06',\n",
              "  '2018-06-12',\n",
              "  '2018-06-18',\n",
              "  '2018-06-24',\n",
              "  '2018-06-30',\n",
              "  '2018-07-06',\n",
              "  '2018-07-12',\n",
              "  '2018-07-18',\n",
              "  '2018-07-24',\n",
              "  '2018-07-30',\n",
              "  '2018-08-05',\n",
              "  '2018-08-11',\n",
              "  '2018-08-17',\n",
              "  '2018-08-23',\n",
              "  '2018-09-04',\n",
              "  '2018-09-10',\n",
              "  '2018-09-16',\n",
              "  '2018-09-22',\n",
              "  '2018-09-28',\n",
              "  '2018-10-04',\n",
              "  '2018-10-10',\n",
              "  '2018-10-16',\n",
              "  '2018-10-22',\n",
              "  '2018-10-28',\n",
              "  '2018-11-03',\n",
              "  '2018-11-09',\n",
              "  '2018-11-15',\n",
              "  '2018-11-21',\n",
              "  '2018-11-27',\n",
              "  '2018-12-03',\n",
              "  '2018-12-09',\n",
              "  '2018-12-15',\n",
              "  '2018-12-21',\n",
              "  '2018-12-27',\n",
              "  '2019-01-02',\n",
              "  '2019-01-08',\n",
              "  '2019-01-14',\n",
              "  '2019-01-20',\n",
              "  '2019-01-26',\n",
              "  '2019-02-13',\n",
              "  '2019-02-19',\n",
              "  '2019-02-25',\n",
              "  '2019-03-03',\n",
              "  '2019-03-09',\n",
              "  '2019-03-15',\n",
              "  '2019-03-21',\n",
              "  '2019-03-27',\n",
              "  '2019-04-02',\n",
              "  '2019-04-08',\n",
              "  '2019-04-14',\n",
              "  '2019-04-20',\n",
              "  '2019-04-26',\n",
              "  '2019-05-02',\n",
              "  '2019-05-08',\n",
              "  '2019-05-14',\n",
              "  '2019-05-20',\n",
              "  '2019-05-26',\n",
              "  '2019-06-01',\n",
              "  '2019-06-13',\n",
              "  '2019-06-19',\n",
              "  '2019-06-25',\n",
              "  '2019-07-01',\n",
              "  '2019-07-07',\n",
              "  '2019-07-13',\n",
              "  '2019-07-19',\n",
              "  '2019-07-25',\n",
              "  '2019-07-31',\n",
              "  '2019-08-06',\n",
              "  '2019-08-12',\n",
              "  '2019-08-18',\n",
              "  '2019-08-24',\n",
              "  '2019-08-30',\n",
              "  '2019-09-05',\n",
              "  '2019-09-11',\n",
              "  '2019-09-17',\n",
              "  '2019-09-23',\n",
              "  '2019-09-29',\n",
              "  '2019-10-05',\n",
              "  '2019-10-11',\n",
              "  '2019-10-17',\n",
              "  '2019-10-23',\n",
              "  '2019-10-29',\n",
              "  '2019-11-04',\n",
              "  '2019-11-10',\n",
              "  '2019-11-16',\n",
              "  '2019-11-22',\n",
              "  '2019-11-28',\n",
              "  '2019-12-04',\n",
              "  '2019-12-10',\n",
              "  '2019-12-16',\n",
              "  '2019-12-22',\n",
              "  '2019-12-28',\n",
              "  '2020-01-03',\n",
              "  '2020-01-09',\n",
              "  '2020-01-15',\n",
              "  '2020-01-21',\n",
              "  '2020-01-27',\n",
              "  '2020-02-02',\n",
              "  '2020-02-08',\n",
              "  '2020-02-14',\n",
              "  '2020-02-20',\n",
              "  '2020-02-26',\n",
              "  '2020-03-03',\n",
              "  '2020-03-09',\n",
              "  '2020-03-15',\n",
              "  '2020-03-21',\n",
              "  '2020-03-27',\n",
              "  '2020-04-02',\n",
              "  '2020-04-08',\n",
              "  '2020-04-14',\n",
              "  '2020-04-20',\n",
              "  '2020-04-26',\n",
              "  '2020-05-02',\n",
              "  '2020-05-08',\n",
              "  '2020-05-14',\n",
              "  '2020-05-20',\n",
              "  '2020-05-26',\n",
              "  '2020-06-01',\n",
              "  '2020-06-07',\n",
              "  '2020-06-13',\n",
              "  '2020-06-19',\n",
              "  '2020-06-25',\n",
              "  '2020-07-01',\n",
              "  '2020-07-07',\n",
              "  '2020-07-13',\n",
              "  '2020-07-19',\n",
              "  '2020-07-25',\n",
              "  '2020-07-31',\n",
              "  '2020-08-06',\n",
              "  '2020-08-12',\n",
              "  '2020-08-18',\n",
              "  '2020-08-24',\n",
              "  '2020-08-30',\n",
              "  '2020-09-05',\n",
              "  '2020-09-11',\n",
              "  '2020-09-17',\n",
              "  '2020-09-23',\n",
              "  '2020-09-29',\n",
              "  '2020-10-05',\n",
              "  '2020-10-11',\n",
              "  '2020-10-17',\n",
              "  '2020-10-23',\n",
              "  '2020-10-29',\n",
              "  '2020-11-04',\n",
              "  '2020-11-10',\n",
              "  '2020-11-16',\n",
              "  '2020-11-22',\n",
              "  '2020-11-28',\n",
              "  '2020-12-04',\n",
              "  '2020-12-10',\n",
              "  '2020-12-16',\n",
              "  '2020-12-22',\n",
              "  '2020-12-28',\n",
              "  '2021-01-03',\n",
              "  '2021-01-09',\n",
              "  '2021-01-15',\n",
              "  '2021-01-21',\n",
              "  '2021-01-27',\n",
              "  '2021-02-02',\n",
              "  '2021-02-08',\n",
              "  '2021-02-14',\n",
              "  '2021-02-20',\n",
              "  '2021-02-26',\n",
              "  '2021-03-04',\n",
              "  '2021-03-10',\n",
              "  '2021-03-16',\n",
              "  '2021-03-22',\n",
              "  '2021-03-28',\n",
              "  '2021-04-03',\n",
              "  '2021-04-09',\n",
              "  '2021-04-15',\n",
              "  '2021-04-21',\n",
              "  '2021-04-27',\n",
              "  '2021-05-03',\n",
              "  '2021-05-09',\n",
              "  '2021-05-15',\n",
              "  '2021-05-21',\n",
              "  '2021-05-27',\n",
              "  '2021-06-02',\n",
              "  '2021-06-08',\n",
              "  '2021-06-14',\n",
              "  '2021-06-20',\n",
              "  '2021-06-26',\n",
              "  '2021-07-02',\n",
              "  '2021-07-08',\n",
              "  '2021-07-14',\n",
              "  '2021-07-20',\n",
              "  '2021-07-26',\n",
              "  '2021-08-01',\n",
              "  '2021-08-07',\n",
              "  '2021-08-13',\n",
              "  '2021-08-19',\n",
              "  '2021-08-25',\n",
              "  '2021-08-31',\n",
              "  '2021-09-06',\n",
              "  '2021-09-12',\n",
              "  '2021-09-18',\n",
              "  '2021-09-24',\n",
              "  '2021-09-30',\n",
              "  '2021-10-06',\n",
              "  '2021-10-12',\n",
              "  '2021-10-18',\n",
              "  '2021-10-24',\n",
              "  '2021-10-30',\n",
              "  '2021-11-05',\n",
              "  '2021-11-11',\n",
              "  '2021-11-17',\n",
              "  '2021-11-23',\n",
              "  '2021-11-29',\n",
              "  '2021-12-05',\n",
              "  '2021-12-11',\n",
              "  '2021-12-17',\n",
              "  '2021-12-23'])"
            ]
          },
          "metadata": {},
          "execution_count": 147
        }
      ]
    },
    {
      "cell_type": "code",
      "source": [
        "# take a quick look at the first image just to see\n",
        "out_img = \"tests/rotterdam-first.png\"\n",
        "image = newcol.first()\n",
        "geemap.get_image_thumbnail(image, out_img, vis_params, dimensions=500, format='png')\n",
        "geemap.show_image(out_img)"
      ],
      "metadata": {
        "colab": {
          "base_uri": "https://localhost:8080/",
          "height": 460,
          "referenced_widgets": [
            "cc581b31e47848db96a32d357e8e0d89",
            "0261ac71eb754269bd35a075c7d9e40f",
            "4b0fb78e60254254ae13434c3acdde0f",
            "78e67a34a9b141ce81cf003b6c91b654"
          ]
        },
        "id": "tGlZPiethm-T",
        "outputId": "abca4c8c-dd30-40ee-c6c2-925d51d2870d"
      },
      "execution_count": null,
      "outputs": [
        {
          "output_type": "display_data",
          "data": {
            "text/plain": [
              "Output()"
            ],
            "application/vnd.jupyter.widget-view+json": {
              "version_major": 2,
              "version_minor": 0,
              "model_id": "cc581b31e47848db96a32d357e8e0d89"
            }
          },
          "metadata": {
            "application/vnd.jupyter.widget-view+json": {
              "colab": {
                "custom_widget_manager": {
                  "url": "https://ssl.gstatic.com/colaboratory-static/widgets/colab-cdn-widget-manager/a8874ba6619b6106/manager.min.js"
                }
              }
            }
          }
        }
      ]
    },
    {
      "cell_type": "code",
      "source": [
        "out_dir = 'finalimages/rotterdam'\n",
        "geemap.get_image_collection_thumbnails(newcol, out_dir, vis_params, dimensions=500, format=\"png\", names=ids)"
      ],
      "metadata": {
        "colab": {
          "base_uri": "https://localhost:8080/"
        },
        "id": "oacccARhhobx",
        "outputId": "ff9735af-7568-422e-c9cc-9fa2d7502ada"
      },
      "execution_count": null,
      "outputs": [
        {
          "output_type": "stream",
          "name": "stdout",
          "text": [
            "Total number of images: 239\n",
            "\n",
            "Downloading 1/239: 2018-01-01.png ...\n",
            "Downloading 2/239: 2018-01-07.png ...\n",
            "Downloading 3/239: 2018-01-13.png ...\n",
            "Downloading 4/239: 2018-01-19.png ...\n",
            "Downloading 5/239: 2018-01-25.png ...\n",
            "Downloading 6/239: 2018-01-31.png ...\n",
            "Downloading 7/239: 2018-02-06.png ...\n",
            "Downloading 8/239: 2018-02-12.png ...\n",
            "Downloading 9/239: 2018-02-18.png ...\n",
            "Downloading 10/239: 2018-02-24.png ...\n",
            "Downloading 11/239: 2018-03-02.png ...\n",
            "Downloading 12/239: 2018-03-08.png ...\n",
            "Downloading 13/239: 2018-03-14.png ...\n",
            "Downloading 14/239: 2018-03-20.png ...\n",
            "Downloading 15/239: 2018-03-26.png ...\n",
            "Downloading 16/239: 2018-04-01.png ...\n",
            "Downloading 17/239: 2018-04-07.png ...\n",
            "Downloading 18/239: 2018-04-13.png ...\n",
            "Downloading 19/239: 2018-04-19.png ...\n",
            "Downloading 20/239: 2018-04-25.png ...\n",
            "Downloading 21/239: 2018-05-01.png ...\n",
            "Downloading 22/239: 2018-05-07.png ...\n",
            "Downloading 23/239: 2018-05-13.png ...\n",
            "Downloading 24/239: 2018-05-19.png ...\n",
            "Downloading 25/239: 2018-05-25.png ...\n",
            "Downloading 26/239: 2018-05-31.png ...\n",
            "Downloading 27/239: 2018-06-06.png ...\n",
            "Downloading 28/239: 2018-06-12.png ...\n",
            "Downloading 29/239: 2018-06-18.png ...\n",
            "Downloading 30/239: 2018-06-24.png ...\n",
            "Downloading 31/239: 2018-06-30.png ...\n",
            "Downloading 32/239: 2018-07-06.png ...\n",
            "Downloading 33/239: 2018-07-12.png ...\n",
            "Downloading 34/239: 2018-07-18.png ...\n",
            "Downloading 35/239: 2018-07-24.png ...\n",
            "Downloading 36/239: 2018-07-30.png ...\n",
            "Downloading 37/239: 2018-08-05.png ...\n",
            "Downloading 38/239: 2018-08-11.png ...\n",
            "Downloading 39/239: 2018-08-17.png ...\n",
            "Downloading 40/239: 2018-08-23.png ...\n",
            "Downloading 41/239: 2018-09-04.png ...\n",
            "Downloading 42/239: 2018-09-10.png ...\n",
            "Downloading 43/239: 2018-09-16.png ...\n",
            "Downloading 44/239: 2018-09-22.png ...\n",
            "Downloading 45/239: 2018-09-28.png ...\n",
            "Downloading 46/239: 2018-10-04.png ...\n",
            "Downloading 47/239: 2018-10-10.png ...\n",
            "Downloading 48/239: 2018-10-16.png ...\n",
            "Downloading 49/239: 2018-10-22.png ...\n",
            "Downloading 50/239: 2018-10-28.png ...\n",
            "Downloading 51/239: 2018-11-03.png ...\n",
            "Downloading 52/239: 2018-11-09.png ...\n",
            "Downloading 53/239: 2018-11-15.png ...\n",
            "Downloading 54/239: 2018-11-21.png ...\n",
            "Downloading 55/239: 2018-11-27.png ...\n",
            "Downloading 56/239: 2018-12-03.png ...\n",
            "Downloading 57/239: 2018-12-09.png ...\n",
            "Downloading 58/239: 2018-12-15.png ...\n",
            "Downloading 59/239: 2018-12-21.png ...\n",
            "Downloading 60/239: 2018-12-27.png ...\n",
            "Downloading 61/239: 2019-01-02.png ...\n",
            "Downloading 62/239: 2019-01-08.png ...\n",
            "Downloading 63/239: 2019-01-14.png ...\n",
            "Downloading 64/239: 2019-01-20.png ...\n",
            "Downloading 65/239: 2019-01-26.png ...\n",
            "Downloading 66/239: 2019-02-13.png ...\n",
            "Downloading 67/239: 2019-02-19.png ...\n",
            "Downloading 68/239: 2019-02-25.png ...\n",
            "Downloading 69/239: 2019-03-03.png ...\n",
            "Downloading 70/239: 2019-03-09.png ...\n",
            "Downloading 71/239: 2019-03-15.png ...\n",
            "Downloading 72/239: 2019-03-21.png ...\n",
            "Downloading 73/239: 2019-03-27.png ...\n",
            "Downloading 74/239: 2019-04-02.png ...\n",
            "Downloading 75/239: 2019-04-08.png ...\n",
            "Downloading 76/239: 2019-04-14.png ...\n",
            "Downloading 77/239: 2019-04-20.png ...\n",
            "Downloading 78/239: 2019-04-26.png ...\n",
            "Downloading 79/239: 2019-05-02.png ...\n",
            "Downloading 80/239: 2019-05-08.png ...\n",
            "Downloading 81/239: 2019-05-14.png ...\n",
            "Downloading 82/239: 2019-05-20.png ...\n",
            "Downloading 83/239: 2019-05-26.png ...\n",
            "Downloading 84/239: 2019-06-01.png ...\n",
            "Downloading 85/239: 2019-06-13.png ...\n",
            "Downloading 86/239: 2019-06-19.png ...\n",
            "Downloading 87/239: 2019-06-25.png ...\n",
            "Downloading 88/239: 2019-07-01.png ...\n",
            "Downloading 89/239: 2019-07-07.png ...\n",
            "Downloading 90/239: 2019-07-13.png ...\n",
            "Downloading 91/239: 2019-07-19.png ...\n",
            "Downloading 92/239: 2019-07-25.png ...\n",
            "Downloading 93/239: 2019-07-31.png ...\n",
            "Downloading 94/239: 2019-08-06.png ...\n",
            "Downloading 95/239: 2019-08-12.png ...\n",
            "Downloading 96/239: 2019-08-18.png ...\n",
            "Downloading 97/239: 2019-08-24.png ...\n",
            "Downloading 98/239: 2019-08-30.png ...\n",
            "Downloading 99/239: 2019-09-05.png ...\n",
            "Downloading 100/239: 2019-09-11.png ...\n",
            "Downloading 101/239: 2019-09-17.png ...\n",
            "Downloading 102/239: 2019-09-23.png ...\n",
            "Downloading 103/239: 2019-09-29.png ...\n",
            "Downloading 104/239: 2019-10-05.png ...\n",
            "Downloading 105/239: 2019-10-11.png ...\n",
            "Downloading 106/239: 2019-10-17.png ...\n",
            "Downloading 107/239: 2019-10-23.png ...\n",
            "Downloading 108/239: 2019-10-29.png ...\n",
            "Downloading 109/239: 2019-11-04.png ...\n",
            "Downloading 110/239: 2019-11-10.png ...\n",
            "Downloading 111/239: 2019-11-16.png ...\n",
            "Downloading 112/239: 2019-11-22.png ...\n",
            "Downloading 113/239: 2019-11-28.png ...\n",
            "Downloading 114/239: 2019-12-04.png ...\n",
            "Downloading 115/239: 2019-12-10.png ...\n",
            "Downloading 116/239: 2019-12-16.png ...\n",
            "Downloading 117/239: 2019-12-22.png ...\n",
            "Downloading 118/239: 2019-12-28.png ...\n",
            "Downloading 119/239: 2020-01-03.png ...\n",
            "Downloading 120/239: 2020-01-09.png ...\n",
            "Downloading 121/239: 2020-01-15.png ...\n",
            "Downloading 122/239: 2020-01-21.png ...\n",
            "Downloading 123/239: 2020-01-27.png ...\n",
            "Downloading 124/239: 2020-02-02.png ...\n",
            "Downloading 125/239: 2020-02-08.png ...\n",
            "Downloading 126/239: 2020-02-14.png ...\n",
            "Downloading 127/239: 2020-02-20.png ...\n",
            "Downloading 128/239: 2020-02-26.png ...\n",
            "Downloading 129/239: 2020-03-03.png ...\n",
            "Downloading 130/239: 2020-03-09.png ...\n",
            "Downloading 131/239: 2020-03-15.png ...\n",
            "Downloading 132/239: 2020-03-21.png ...\n",
            "Downloading 133/239: 2020-03-27.png ...\n",
            "Downloading 134/239: 2020-04-02.png ...\n",
            "Downloading 135/239: 2020-04-08.png ...\n",
            "Downloading 136/239: 2020-04-14.png ...\n",
            "Downloading 137/239: 2020-04-20.png ...\n",
            "Downloading 138/239: 2020-04-26.png ...\n",
            "Downloading 139/239: 2020-05-02.png ...\n",
            "Downloading 140/239: 2020-05-08.png ...\n",
            "Downloading 141/239: 2020-05-14.png ...\n",
            "Downloading 142/239: 2020-05-20.png ...\n",
            "Downloading 143/239: 2020-05-26.png ...\n",
            "Downloading 144/239: 2020-06-01.png ...\n",
            "Downloading 145/239: 2020-06-07.png ...\n",
            "Downloading 146/239: 2020-06-13.png ...\n",
            "Downloading 147/239: 2020-06-19.png ...\n",
            "Downloading 148/239: 2020-06-25.png ...\n",
            "Downloading 149/239: 2020-07-01.png ...\n",
            "Downloading 150/239: 2020-07-07.png ...\n",
            "Downloading 151/239: 2020-07-13.png ...\n",
            "Downloading 152/239: 2020-07-19.png ...\n",
            "Downloading 153/239: 2020-07-25.png ...\n",
            "Downloading 154/239: 2020-07-31.png ...\n",
            "Downloading 155/239: 2020-08-06.png ...\n",
            "Downloading 156/239: 2020-08-12.png ...\n",
            "Downloading 157/239: 2020-08-18.png ...\n",
            "Downloading 158/239: 2020-08-24.png ...\n",
            "Downloading 159/239: 2020-08-30.png ...\n",
            "Downloading 160/239: 2020-09-05.png ...\n",
            "Downloading 161/239: 2020-09-11.png ...\n",
            "Downloading 162/239: 2020-09-17.png ...\n",
            "Downloading 163/239: 2020-09-23.png ...\n",
            "Downloading 164/239: 2020-09-29.png ...\n",
            "Downloading 165/239: 2020-10-05.png ...\n",
            "Downloading 166/239: 2020-10-11.png ...\n",
            "Downloading 167/239: 2020-10-17.png ...\n",
            "Downloading 168/239: 2020-10-23.png ...\n",
            "Downloading 169/239: 2020-10-29.png ...\n",
            "Downloading 170/239: 2020-11-04.png ...\n",
            "Downloading 171/239: 2020-11-10.png ...\n",
            "Downloading 172/239: 2020-11-16.png ...\n",
            "Downloading 173/239: 2020-11-22.png ...\n",
            "Downloading 174/239: 2020-11-28.png ...\n",
            "Downloading 175/239: 2020-12-04.png ...\n",
            "Downloading 176/239: 2020-12-10.png ...\n",
            "Downloading 177/239: 2020-12-16.png ...\n",
            "Downloading 178/239: 2020-12-22.png ...\n",
            "Downloading 179/239: 2020-12-28.png ...\n",
            "Downloading 180/239: 2021-01-03.png ...\n",
            "Downloading 181/239: 2021-01-09.png ...\n",
            "Downloading 182/239: 2021-01-15.png ...\n",
            "Downloading 183/239: 2021-01-21.png ...\n",
            "Downloading 184/239: 2021-01-27.png ...\n",
            "Downloading 185/239: 2021-02-02.png ...\n",
            "Downloading 186/239: 2021-02-08.png ...\n",
            "Downloading 187/239: 2021-02-14.png ...\n",
            "Downloading 188/239: 2021-02-20.png ...\n",
            "Downloading 189/239: 2021-02-26.png ...\n",
            "Downloading 190/239: 2021-03-04.png ...\n",
            "Downloading 191/239: 2021-03-10.png ...\n",
            "Downloading 192/239: 2021-03-16.png ...\n",
            "Downloading 193/239: 2021-03-22.png ...\n",
            "Downloading 194/239: 2021-03-28.png ...\n",
            "Downloading 195/239: 2021-04-03.png ...\n",
            "Downloading 196/239: 2021-04-09.png ...\n",
            "Downloading 197/239: 2021-04-15.png ...\n",
            "Downloading 198/239: 2021-04-21.png ...\n",
            "Downloading 199/239: 2021-04-27.png ...\n",
            "Downloading 200/239: 2021-05-03.png ...\n",
            "Downloading 201/239: 2021-05-09.png ...\n",
            "Downloading 202/239: 2021-05-15.png ...\n",
            "Downloading 203/239: 2021-05-21.png ...\n",
            "Downloading 204/239: 2021-05-27.png ...\n",
            "Downloading 205/239: 2021-06-02.png ...\n",
            "Downloading 206/239: 2021-06-08.png ...\n",
            "Downloading 207/239: 2021-06-14.png ...\n",
            "Downloading 208/239: 2021-06-20.png ...\n",
            "Downloading 209/239: 2021-06-26.png ...\n",
            "Downloading 210/239: 2021-07-02.png ...\n",
            "Downloading 211/239: 2021-07-08.png ...\n",
            "Downloading 212/239: 2021-07-14.png ...\n",
            "Downloading 213/239: 2021-07-20.png ...\n",
            "Downloading 214/239: 2021-07-26.png ...\n",
            "Downloading 215/239: 2021-08-01.png ...\n",
            "Downloading 216/239: 2021-08-07.png ...\n",
            "Downloading 217/239: 2021-08-13.png ...\n",
            "Downloading 218/239: 2021-08-19.png ...\n",
            "Downloading 219/239: 2021-08-25.png ...\n",
            "Downloading 220/239: 2021-08-31.png ...\n",
            "Downloading 221/239: 2021-09-06.png ...\n",
            "Downloading 222/239: 2021-09-12.png ...\n",
            "Downloading 223/239: 2021-09-18.png ...\n",
            "Downloading 224/239: 2021-09-24.png ...\n",
            "Downloading 225/239: 2021-09-30.png ...\n",
            "Downloading 226/239: 2021-10-06.png ...\n",
            "Downloading 227/239: 2021-10-12.png ...\n",
            "Downloading 228/239: 2021-10-18.png ...\n",
            "Downloading 229/239: 2021-10-24.png ...\n",
            "Downloading 230/239: 2021-10-30.png ...\n",
            "Downloading 231/239: 2021-11-05.png ...\n",
            "Downloading 232/239: 2021-11-11.png ...\n",
            "Downloading 233/239: 2021-11-17.png ...\n",
            "Downloading 234/239: 2021-11-23.png ...\n",
            "Downloading 235/239: 2021-11-29.png ...\n",
            "Downloading 236/239: 2021-12-05.png ...\n",
            "Downloading 237/239: 2021-12-11.png ...\n",
            "Downloading 238/239: 2021-12-17.png ...\n",
            "Downloading 239/239: 2021-12-23.png ...\n"
          ]
        }
      ]
    },
    {
      "cell_type": "markdown",
      "source": [
        "# Singapore"
      ],
      "metadata": {
        "id": "Y0MQ4FNHbgli"
      }
    },
    {
      "cell_type": "code",
      "source": [
        "# update to singapore\n",
        "coords = geojson['features'][0]['geometry']['coordinates']\n",
        "aoi = ee.Geometry.Polygon(coords)\n",
        "\n",
        "# query EE\n",
        "collection = ee.ImageCollection('COPERNICUS/S1_GRD').filterBounds(aoi).filterDate(start, finish).filter(ee.Filter.listContains('transmitterReceiverPolarisation', 'VH'))\n",
        "collection_clipped = collection.map(cliptoaoi).sort('segmentStartTime')\n",
        "collection_list = collection_clipped.toList(collection_clipped.size())"
      ],
      "metadata": {
        "id": "TLrrdkULPSru"
      },
      "execution_count": null,
      "outputs": []
    },
    {
      "cell_type": "code",
      "source": [
        "# generate a range of days between start and end of time series\n",
        "# because of the size of the image and gaps in overlap days (?) Singapore actually has a 12 day lag\n",
        "def getdates(coll):\n",
        "  first = ee.Date('2018-01-06')\n",
        "  diff = finish.difference(first, 'day')\n",
        "  def getDays(day):\n",
        "    return first.advance(day,'day')\n",
        "  \n",
        "  return ee.List.sequence(0, diff.subtract(1),12).map(getDays)"
      ],
      "metadata": {
        "id": "GhqRFKqhPQiq"
      },
      "execution_count": null,
      "outputs": []
    },
    {
      "cell_type": "code",
      "source": [
        "# mosaic images from the same day as needed, make list of IDs from mosaic images\n",
        "newcol = ee.ImageCollection(ee.List(getdates(collection_clipped).iterate(day_mosaics, ee.List([]))))\n",
        "newcol_list = newcol.toList(newcol.size())\n",
        "ids = newcol.aggregate_array('ID').getInfo()\n",
        "\n",
        "# this is for exporting\n",
        "vis_params = {'min': -20, 'max': 0, 'bands':'VH'}"
      ],
      "metadata": {
        "id": "GScaLwzPPpyD"
      },
      "execution_count": null,
      "outputs": []
    },
    {
      "cell_type": "code",
      "source": [
        "# take a quick look at the first image just to see\n",
        "out_img = \"tests/singapore-first.png\"\n",
        "image = newcol.first()\n",
        "geemap.get_image_thumbnail(image, out_img, vis_params, dimensions=800, format='png')\n",
        "geemap.show_image(out_img)"
      ],
      "metadata": {
        "colab": {
          "base_uri": "https://localhost:8080/",
          "height": 257,
          "referenced_widgets": [
            "4a973c8f64274e9fa369de4633227ff7",
            "4822e6819b1c4635b233e06a2ec36150",
            "38d0782ba4f94ed9a1ea4ef84b255910",
            "4cca71f602c34f7dbcb47a2449d8035e"
          ]
        },
        "id": "VsSFdH5nhzWZ",
        "outputId": "9212b726-34b7-4525-fbe4-801bcd4f26f6"
      },
      "execution_count": null,
      "outputs": [
        {
          "output_type": "display_data",
          "data": {
            "text/plain": [
              "Output()"
            ],
            "application/vnd.jupyter.widget-view+json": {
              "version_major": 2,
              "version_minor": 0,
              "model_id": "4a973c8f64274e9fa369de4633227ff7"
            }
          },
          "metadata": {
            "application/vnd.jupyter.widget-view+json": {
              "colab": {
                "custom_widget_manager": {
                  "url": "https://ssl.gstatic.com/colaboratory-static/widgets/colab-cdn-widget-manager/a8874ba6619b6106/manager.min.js"
                }
              }
            }
          }
        }
      ]
    },
    {
      "cell_type": "code",
      "source": [
        "out_dir = 'finalimages/singapore'\n",
        "geemap.get_image_collection_thumbnails(newcol, out_dir, vis_params, dimensions=800, format=\"png\", names=ids)"
      ],
      "metadata": {
        "colab": {
          "base_uri": "https://localhost:8080/"
        },
        "id": "Ffvafp3kh4bn",
        "outputId": "5040661b-b5db-4162-b3bc-99a52ca86753"
      },
      "execution_count": null,
      "outputs": [
        {
          "output_type": "stream",
          "name": "stdout",
          "text": [
            "Total number of images: 118\n",
            "\n",
            "Downloading 1/118: 2018-01-06.png ...\n",
            "Downloading 2/118: 2018-01-18.png ...\n",
            "Downloading 3/118: 2018-01-30.png ...\n",
            "Downloading 4/118: 2018-02-11.png ...\n",
            "Downloading 5/118: 2018-02-23.png ...\n",
            "Downloading 6/118: 2018-03-19.png ...\n",
            "Downloading 7/118: 2018-03-31.png ...\n",
            "Downloading 8/118: 2018-04-12.png ...\n",
            "Downloading 9/118: 2018-04-24.png ...\n",
            "Downloading 10/118: 2018-05-06.png ...\n",
            "Downloading 11/118: 2018-05-18.png ...\n",
            "Downloading 12/118: 2018-05-30.png ...\n",
            "Downloading 13/118: 2018-06-11.png ...\n",
            "Downloading 14/118: 2018-06-23.png ...\n",
            "Downloading 15/118: 2018-07-05.png ...\n",
            "Downloading 16/118: 2018-07-17.png ...\n",
            "Downloading 17/118: 2018-07-29.png ...\n",
            "Downloading 18/118: 2018-08-10.png ...\n",
            "Downloading 19/118: 2018-08-22.png ...\n",
            "Downloading 20/118: 2018-09-03.png ...\n",
            "Downloading 21/118: 2018-09-15.png ...\n",
            "Downloading 22/118: 2018-09-27.png ...\n",
            "Downloading 23/118: 2018-10-09.png ...\n",
            "Downloading 24/118: 2018-10-21.png ...\n",
            "Downloading 25/118: 2018-11-02.png ...\n",
            "Downloading 26/118: 2018-11-14.png ...\n",
            "Downloading 27/118: 2018-11-26.png ...\n",
            "Downloading 28/118: 2018-12-08.png ...\n",
            "Downloading 29/118: 2018-12-20.png ...\n",
            "Downloading 30/118: 2019-01-01.png ...\n",
            "Downloading 31/118: 2019-01-13.png ...\n",
            "Downloading 32/118: 2019-01-25.png ...\n",
            "Downloading 33/118: 2019-02-06.png ...\n",
            "Downloading 34/118: 2019-02-18.png ...\n",
            "Downloading 35/118: 2019-03-02.png ...\n",
            "Downloading 36/118: 2019-03-14.png ...\n",
            "Downloading 37/118: 2019-03-26.png ...\n",
            "Downloading 38/118: 2019-04-07.png ...\n",
            "Downloading 39/118: 2019-04-19.png ...\n",
            "Downloading 40/118: 2019-05-01.png ...\n",
            "Downloading 41/118: 2019-05-13.png ...\n",
            "Downloading 42/118: 2019-05-25.png ...\n",
            "Downloading 43/118: 2019-06-06.png ...\n",
            "Downloading 44/118: 2019-06-18.png ...\n",
            "Downloading 45/118: 2019-06-30.png ...\n",
            "Downloading 46/118: 2019-07-12.png ...\n",
            "Downloading 47/118: 2019-08-05.png ...\n",
            "Downloading 48/118: 2019-08-17.png ...\n",
            "Downloading 49/118: 2019-08-29.png ...\n",
            "Downloading 50/118: 2019-09-10.png ...\n",
            "Downloading 51/118: 2019-09-22.png ...\n",
            "Downloading 52/118: 2019-10-04.png ...\n",
            "Downloading 53/118: 2019-10-16.png ...\n",
            "Downloading 54/118: 2019-10-28.png ...\n",
            "Downloading 55/118: 2019-11-09.png ...\n",
            "Downloading 56/118: 2019-11-21.png ...\n",
            "Downloading 57/118: 2019-12-03.png ...\n",
            "Downloading 58/118: 2019-12-15.png ...\n",
            "Downloading 59/118: 2019-12-27.png ...\n",
            "Downloading 60/118: 2020-01-08.png ...\n",
            "Downloading 61/118: 2020-01-20.png ...\n",
            "Downloading 62/118: 2020-02-01.png ...\n",
            "Downloading 63/118: 2020-02-13.png ...\n",
            "Downloading 64/118: 2020-03-08.png ...\n",
            "Downloading 65/118: 2020-03-20.png ...\n",
            "Downloading 66/118: 2020-04-01.png ...\n",
            "Downloading 67/118: 2020-04-13.png ...\n",
            "Downloading 68/118: 2020-04-25.png ...\n",
            "Downloading 69/118: 2020-05-07.png ...\n",
            "Downloading 70/118: 2020-05-19.png ...\n",
            "Downloading 71/118: 2020-05-31.png ...\n",
            "Downloading 72/118: 2020-06-12.png ...\n",
            "Downloading 73/118: 2020-06-24.png ...\n",
            "Downloading 74/118: 2020-07-06.png ...\n",
            "Downloading 75/118: 2020-07-30.png ...\n",
            "Downloading 76/118: 2020-08-11.png ...\n",
            "Downloading 77/118: 2020-08-23.png ...\n",
            "Downloading 78/118: 2020-09-04.png ...\n",
            "Downloading 79/118: 2020-09-16.png ...\n",
            "Downloading 80/118: 2020-09-28.png ...\n",
            "Downloading 81/118: 2020-10-10.png ...\n",
            "Downloading 82/118: 2020-10-22.png ...\n",
            "Downloading 83/118: 2020-11-03.png ...\n",
            "Downloading 84/118: 2020-11-15.png ...\n",
            "Downloading 85/118: 2020-11-27.png ...\n",
            "Downloading 86/118: 2020-12-09.png ...\n",
            "Downloading 87/118: 2020-12-21.png ...\n",
            "Downloading 88/118: 2021-01-02.png ...\n",
            "Downloading 89/118: 2021-01-14.png ...\n",
            "Downloading 90/118: 2021-01-26.png ...\n",
            "Downloading 91/118: 2021-02-07.png ...\n",
            "Downloading 92/118: 2021-02-19.png ...\n",
            "Downloading 93/118: 2021-03-03.png ...\n",
            "Downloading 94/118: 2021-03-15.png ...\n",
            "Downloading 95/118: 2021-03-27.png ...\n",
            "Downloading 96/118: 2021-04-08.png ...\n",
            "Downloading 97/118: 2021-04-20.png ...\n",
            "Downloading 98/118: 2021-05-02.png ...\n",
            "Downloading 99/118: 2021-05-14.png ...\n",
            "Downloading 100/118: 2021-05-26.png ...\n",
            "Downloading 101/118: 2021-06-07.png ...\n",
            "Downloading 102/118: 2021-06-19.png ...\n",
            "Downloading 103/118: 2021-07-01.png ...\n",
            "Downloading 104/118: 2021-07-13.png ...\n",
            "Downloading 105/118: 2021-07-25.png ...\n",
            "Downloading 106/118: 2021-08-06.png ...\n",
            "Downloading 107/118: 2021-08-18.png ...\n",
            "Downloading 108/118: 2021-08-30.png ...\n",
            "Downloading 109/118: 2021-09-11.png ...\n",
            "Downloading 110/118: 2021-09-23.png ...\n",
            "Downloading 111/118: 2021-10-05.png ...\n",
            "Downloading 112/118: 2021-10-17.png ...\n",
            "Downloading 113/118: 2021-10-29.png ...\n",
            "Downloading 114/118: 2021-11-10.png ...\n",
            "Downloading 115/118: 2021-11-22.png ...\n",
            "Downloading 116/118: 2021-12-04.png ...\n",
            "Downloading 117/118: 2021-12-16.png ...\n",
            "Downloading 118/118: 2021-12-28.png ...\n"
          ]
        }
      ]
    }
  ],
  "metadata": {
    "colab": {
      "collapsed_sections": [],
      "name": "MLSTA Final Project Preprocessing with Timestamps",
      "provenance": [],
      "include_colab_link": true
    },
    "kernelspec": {
      "display_name": "Python 3",
      "name": "python3"
    },
    "widgets": {
      "application/vnd.jupyter.widget-state+json": {
        "cc581b31e47848db96a32d357e8e0d89": {
          "model_module": "@jupyter-widgets/output",
          "model_name": "OutputModel",
          "model_module_version": "1.0.0",
          "state": {
            "_dom_classes": [],
            "_model_module": "@jupyter-widgets/output",
            "_model_module_version": "1.0.0",
            "_model_name": "OutputModel",
            "_view_count": null,
            "_view_module": "@jupyter-widgets/output",
            "_view_module_version": "1.0.0",
            "_view_name": "OutputView",
            "layout": "IPY_MODEL_0261ac71eb754269bd35a075c7d9e40f",
            "msg_id": "",
            "outputs": [
              {
                "output_type": "display_data",
                "data": {
                  "text/plain": "Image(value=b'\\x89PNG\\r\\n\\x1a\\n\\x00\\x00\\x00\\rIHDR\\x00\\x00\\x01\\xf4\\x00\\x00\\x01\\xb2\\x08\\x04\\x00\\x00\\x00\\xb8\\xde\\…",
                  "application/vnd.jupyter.widget-view+json": {
                    "version_major": 2,
                    "version_minor": 0,
                    "model_id": "4b0fb78e60254254ae13434c3acdde0f"
                  }
                },
                "metadata": {
                  "application/vnd.jupyter.widget-view+json": {
                    "colab": {
                      "custom_widget_manager": {
                        "url": "https://ssl.gstatic.com/colaboratory-static/widgets/colab-cdn-widget-manager/a8874ba6619b6106/manager.min.js"
                      }
                    }
                  }
                }
              }
            ]
          }
        },
        "0261ac71eb754269bd35a075c7d9e40f": {
          "model_module": "@jupyter-widgets/base",
          "model_name": "LayoutModel",
          "model_module_version": "1.2.0",
          "state": {
            "_model_module": "@jupyter-widgets/base",
            "_model_module_version": "1.2.0",
            "_model_name": "LayoutModel",
            "_view_count": null,
            "_view_module": "@jupyter-widgets/base",
            "_view_module_version": "1.2.0",
            "_view_name": "LayoutView",
            "align_content": null,
            "align_items": null,
            "align_self": null,
            "border": null,
            "bottom": null,
            "display": null,
            "flex": null,
            "flex_flow": null,
            "grid_area": null,
            "grid_auto_columns": null,
            "grid_auto_flow": null,
            "grid_auto_rows": null,
            "grid_column": null,
            "grid_gap": null,
            "grid_row": null,
            "grid_template_areas": null,
            "grid_template_columns": null,
            "grid_template_rows": null,
            "height": null,
            "justify_content": null,
            "justify_items": null,
            "left": null,
            "margin": null,
            "max_height": null,
            "max_width": null,
            "min_height": null,
            "min_width": null,
            "object_fit": null,
            "object_position": null,
            "order": null,
            "overflow": null,
            "overflow_x": null,
            "overflow_y": null,
            "padding": null,
            "right": null,
            "top": null,
            "visibility": null,
            "width": null
          }
        },
        "4b0fb78e60254254ae13434c3acdde0f": {
          "model_module": "@jupyter-widgets/controls",
          "model_name": "ImageModel",
          "model_module_version": "1.5.0",
          "state": {
            "_dom_classes": [],
            "_model_module": "@jupyter-widgets/controls",
            "_model_module_version": "1.5.0",
            "_model_name": "ImageModel",
            "_view_count": null,
            "_view_module": "@jupyter-widgets/controls",
            "_view_module_version": "1.5.0",
            "_view_name": "ImageView",
            "format": "png",
            "height": "",
            "layout": "IPY_MODEL_78e67a34a9b141ce81cf003b6c91b654",
            "width": ""
          }
        },
        "78e67a34a9b141ce81cf003b6c91b654": {
          "model_module": "@jupyter-widgets/base",
          "model_name": "LayoutModel",
          "model_module_version": "1.2.0",
          "state": {
            "_model_module": "@jupyter-widgets/base",
            "_model_module_version": "1.2.0",
            "_model_name": "LayoutModel",
            "_view_count": null,
            "_view_module": "@jupyter-widgets/base",
            "_view_module_version": "1.2.0",
            "_view_name": "LayoutView",
            "align_content": null,
            "align_items": null,
            "align_self": null,
            "border": null,
            "bottom": null,
            "display": null,
            "flex": null,
            "flex_flow": null,
            "grid_area": null,
            "grid_auto_columns": null,
            "grid_auto_flow": null,
            "grid_auto_rows": null,
            "grid_column": null,
            "grid_gap": null,
            "grid_row": null,
            "grid_template_areas": null,
            "grid_template_columns": null,
            "grid_template_rows": null,
            "height": null,
            "justify_content": null,
            "justify_items": null,
            "left": null,
            "margin": null,
            "max_height": null,
            "max_width": null,
            "min_height": null,
            "min_width": null,
            "object_fit": null,
            "object_position": null,
            "order": null,
            "overflow": null,
            "overflow_x": null,
            "overflow_y": null,
            "padding": null,
            "right": null,
            "top": null,
            "visibility": null,
            "width": null
          }
        },
        "4a973c8f64274e9fa369de4633227ff7": {
          "model_module": "@jupyter-widgets/output",
          "model_name": "OutputModel",
          "model_module_version": "1.0.0",
          "state": {
            "_dom_classes": [],
            "_model_module": "@jupyter-widgets/output",
            "_model_module_version": "1.0.0",
            "_model_name": "OutputModel",
            "_view_count": null,
            "_view_module": "@jupyter-widgets/output",
            "_view_module_version": "1.0.0",
            "_view_name": "OutputView",
            "layout": "IPY_MODEL_4822e6819b1c4635b233e06a2ec36150",
            "msg_id": "",
            "outputs": [
              {
                "output_type": "display_data",
                "data": {
                  "text/plain": "Image(value=b'\\x89PNG\\r\\n\\x1a\\n\\x00\\x00\\x00\\rIHDR\\x00\\x00\\x03 \\x00\\x00\\x00\\xe7\\x08\\x04\\x00\\x00\\x00L|\\xfar\\x00\\…",
                  "application/vnd.jupyter.widget-view+json": {
                    "version_major": 2,
                    "version_minor": 0,
                    "model_id": "38d0782ba4f94ed9a1ea4ef84b255910"
                  }
                },
                "metadata": {
                  "application/vnd.jupyter.widget-view+json": {
                    "colab": {
                      "custom_widget_manager": {
                        "url": "https://ssl.gstatic.com/colaboratory-static/widgets/colab-cdn-widget-manager/a8874ba6619b6106/manager.min.js"
                      }
                    }
                  }
                }
              }
            ]
          }
        },
        "4822e6819b1c4635b233e06a2ec36150": {
          "model_module": "@jupyter-widgets/base",
          "model_name": "LayoutModel",
          "model_module_version": "1.2.0",
          "state": {
            "_model_module": "@jupyter-widgets/base",
            "_model_module_version": "1.2.0",
            "_model_name": "LayoutModel",
            "_view_count": null,
            "_view_module": "@jupyter-widgets/base",
            "_view_module_version": "1.2.0",
            "_view_name": "LayoutView",
            "align_content": null,
            "align_items": null,
            "align_self": null,
            "border": null,
            "bottom": null,
            "display": null,
            "flex": null,
            "flex_flow": null,
            "grid_area": null,
            "grid_auto_columns": null,
            "grid_auto_flow": null,
            "grid_auto_rows": null,
            "grid_column": null,
            "grid_gap": null,
            "grid_row": null,
            "grid_template_areas": null,
            "grid_template_columns": null,
            "grid_template_rows": null,
            "height": null,
            "justify_content": null,
            "justify_items": null,
            "left": null,
            "margin": null,
            "max_height": null,
            "max_width": null,
            "min_height": null,
            "min_width": null,
            "object_fit": null,
            "object_position": null,
            "order": null,
            "overflow": null,
            "overflow_x": null,
            "overflow_y": null,
            "padding": null,
            "right": null,
            "top": null,
            "visibility": null,
            "width": null
          }
        },
        "38d0782ba4f94ed9a1ea4ef84b255910": {
          "model_module": "@jupyter-widgets/controls",
          "model_name": "ImageModel",
          "model_module_version": "1.5.0",
          "state": {
            "_dom_classes": [],
            "_model_module": "@jupyter-widgets/controls",
            "_model_module_version": "1.5.0",
            "_model_name": "ImageModel",
            "_view_count": null,
            "_view_module": "@jupyter-widgets/controls",
            "_view_module_version": "1.5.0",
            "_view_name": "ImageView",
            "format": "png",
            "height": "",
            "layout": "IPY_MODEL_4cca71f602c34f7dbcb47a2449d8035e",
            "width": ""
          }
        },
        "4cca71f602c34f7dbcb47a2449d8035e": {
          "model_module": "@jupyter-widgets/base",
          "model_name": "LayoutModel",
          "model_module_version": "1.2.0",
          "state": {
            "_model_module": "@jupyter-widgets/base",
            "_model_module_version": "1.2.0",
            "_model_name": "LayoutModel",
            "_view_count": null,
            "_view_module": "@jupyter-widgets/base",
            "_view_module_version": "1.2.0",
            "_view_name": "LayoutView",
            "align_content": null,
            "align_items": null,
            "align_self": null,
            "border": null,
            "bottom": null,
            "display": null,
            "flex": null,
            "flex_flow": null,
            "grid_area": null,
            "grid_auto_columns": null,
            "grid_auto_flow": null,
            "grid_auto_rows": null,
            "grid_column": null,
            "grid_gap": null,
            "grid_row": null,
            "grid_template_areas": null,
            "grid_template_columns": null,
            "grid_template_rows": null,
            "height": null,
            "justify_content": null,
            "justify_items": null,
            "left": null,
            "margin": null,
            "max_height": null,
            "max_width": null,
            "min_height": null,
            "min_width": null,
            "object_fit": null,
            "object_position": null,
            "order": null,
            "overflow": null,
            "overflow_x": null,
            "overflow_y": null,
            "padding": null,
            "right": null,
            "top": null,
            "visibility": null,
            "width": null
          }
        },
        "50c3ebecd18645c5aaf8812258cb28bf": {
          "model_module": "@jupyter-widgets/output",
          "model_name": "OutputModel",
          "model_module_version": "1.0.0",
          "state": {
            "_dom_classes": [],
            "_model_module": "@jupyter-widgets/output",
            "_model_module_version": "1.0.0",
            "_model_name": "OutputModel",
            "_view_count": null,
            "_view_module": "@jupyter-widgets/output",
            "_view_module_version": "1.0.0",
            "_view_name": "OutputView",
            "layout": "IPY_MODEL_d5cf4e22bb3648e1a8088cafc74c286f",
            "msg_id": "",
            "outputs": [
              {
                "output_type": "display_data",
                "data": {
                  "text/plain": "Image(value=b'\\x89PNG\\r\\n\\x1a\\n\\x00\\x00\\x00\\rIHDR\\x00\\x00\\x01B\\x00\\x00\\x01\\xf4\\x08\\x04\\x00\\x00\\x00\\xe27\\xec\\x7…",
                  "application/vnd.jupyter.widget-view+json": {
                    "version_major": 2,
                    "version_minor": 0,
                    "model_id": "698176fdfad7442bbc8a66020b68f8c0"
                  }
                },
                "metadata": {
                  "application/vnd.jupyter.widget-view+json": {
                    "colab": {
                      "custom_widget_manager": {
                        "url": "https://ssl.gstatic.com/colaboratory-static/widgets/colab-cdn-widget-manager/a8874ba6619b6106/manager.min.js"
                      }
                    }
                  }
                }
              }
            ]
          }
        },
        "d5cf4e22bb3648e1a8088cafc74c286f": {
          "model_module": "@jupyter-widgets/base",
          "model_name": "LayoutModel",
          "model_module_version": "1.2.0",
          "state": {
            "_model_module": "@jupyter-widgets/base",
            "_model_module_version": "1.2.0",
            "_model_name": "LayoutModel",
            "_view_count": null,
            "_view_module": "@jupyter-widgets/base",
            "_view_module_version": "1.2.0",
            "_view_name": "LayoutView",
            "align_content": null,
            "align_items": null,
            "align_self": null,
            "border": null,
            "bottom": null,
            "display": null,
            "flex": null,
            "flex_flow": null,
            "grid_area": null,
            "grid_auto_columns": null,
            "grid_auto_flow": null,
            "grid_auto_rows": null,
            "grid_column": null,
            "grid_gap": null,
            "grid_row": null,
            "grid_template_areas": null,
            "grid_template_columns": null,
            "grid_template_rows": null,
            "height": null,
            "justify_content": null,
            "justify_items": null,
            "left": null,
            "margin": null,
            "max_height": null,
            "max_width": null,
            "min_height": null,
            "min_width": null,
            "object_fit": null,
            "object_position": null,
            "order": null,
            "overflow": null,
            "overflow_x": null,
            "overflow_y": null,
            "padding": null,
            "right": null,
            "top": null,
            "visibility": null,
            "width": null
          }
        },
        "698176fdfad7442bbc8a66020b68f8c0": {
          "model_module": "@jupyter-widgets/controls",
          "model_name": "ImageModel",
          "model_module_version": "1.5.0",
          "state": {
            "_dom_classes": [],
            "_model_module": "@jupyter-widgets/controls",
            "_model_module_version": "1.5.0",
            "_model_name": "ImageModel",
            "_view_count": null,
            "_view_module": "@jupyter-widgets/controls",
            "_view_module_version": "1.5.0",
            "_view_name": "ImageView",
            "format": "png",
            "height": "",
            "layout": "IPY_MODEL_3dc484201438486d95bcff8023e5c6ae",
            "width": ""
          }
        },
        "3dc484201438486d95bcff8023e5c6ae": {
          "model_module": "@jupyter-widgets/base",
          "model_name": "LayoutModel",
          "model_module_version": "1.2.0",
          "state": {
            "_model_module": "@jupyter-widgets/base",
            "_model_module_version": "1.2.0",
            "_model_name": "LayoutModel",
            "_view_count": null,
            "_view_module": "@jupyter-widgets/base",
            "_view_module_version": "1.2.0",
            "_view_name": "LayoutView",
            "align_content": null,
            "align_items": null,
            "align_self": null,
            "border": null,
            "bottom": null,
            "display": null,
            "flex": null,
            "flex_flow": null,
            "grid_area": null,
            "grid_auto_columns": null,
            "grid_auto_flow": null,
            "grid_auto_rows": null,
            "grid_column": null,
            "grid_gap": null,
            "grid_row": null,
            "grid_template_areas": null,
            "grid_template_columns": null,
            "grid_template_rows": null,
            "height": null,
            "justify_content": null,
            "justify_items": null,
            "left": null,
            "margin": null,
            "max_height": null,
            "max_width": null,
            "min_height": null,
            "min_width": null,
            "object_fit": null,
            "object_position": null,
            "order": null,
            "overflow": null,
            "overflow_x": null,
            "overflow_y": null,
            "padding": null,
            "right": null,
            "top": null,
            "visibility": null,
            "width": null
          }
        },
        "03d671d1796e4ea09fee56cd728fb1c1": {
          "model_module": "@jupyter-widgets/output",
          "model_name": "OutputModel",
          "model_module_version": "1.0.0",
          "state": {
            "_dom_classes": [],
            "_model_module": "@jupyter-widgets/output",
            "_model_module_version": "1.0.0",
            "_model_name": "OutputModel",
            "_view_count": null,
            "_view_module": "@jupyter-widgets/output",
            "_view_module_version": "1.0.0",
            "_view_name": "OutputView",
            "layout": "IPY_MODEL_52cb4cfe7b1f4a3bb5f724473f1ad6fd",
            "msg_id": "",
            "outputs": [
              {
                "output_type": "display_data",
                "data": {
                  "text/plain": "Image(value=b'\\x89PNG\\r\\n\\x1a\\n\\x00\\x00\\x00\\rIHDR\\x00\\x00\\x01\\xf4\\x00\\x00\\x01\\xea\\x08\\x04\\x00\\x00\\x00X\\x03t\\xe…",
                  "application/vnd.jupyter.widget-view+json": {
                    "version_major": 2,
                    "version_minor": 0,
                    "model_id": "578ad1f58e044f89ab346f313358061f"
                  }
                },
                "metadata": {
                  "application/vnd.jupyter.widget-view+json": {
                    "colab": {
                      "custom_widget_manager": {
                        "url": "https://ssl.gstatic.com/colaboratory-static/widgets/colab-cdn-widget-manager/a8874ba6619b6106/manager.min.js"
                      }
                    }
                  }
                }
              }
            ]
          }
        },
        "52cb4cfe7b1f4a3bb5f724473f1ad6fd": {
          "model_module": "@jupyter-widgets/base",
          "model_name": "LayoutModel",
          "model_module_version": "1.2.0",
          "state": {
            "_model_module": "@jupyter-widgets/base",
            "_model_module_version": "1.2.0",
            "_model_name": "LayoutModel",
            "_view_count": null,
            "_view_module": "@jupyter-widgets/base",
            "_view_module_version": "1.2.0",
            "_view_name": "LayoutView",
            "align_content": null,
            "align_items": null,
            "align_self": null,
            "border": null,
            "bottom": null,
            "display": null,
            "flex": null,
            "flex_flow": null,
            "grid_area": null,
            "grid_auto_columns": null,
            "grid_auto_flow": null,
            "grid_auto_rows": null,
            "grid_column": null,
            "grid_gap": null,
            "grid_row": null,
            "grid_template_areas": null,
            "grid_template_columns": null,
            "grid_template_rows": null,
            "height": null,
            "justify_content": null,
            "justify_items": null,
            "left": null,
            "margin": null,
            "max_height": null,
            "max_width": null,
            "min_height": null,
            "min_width": null,
            "object_fit": null,
            "object_position": null,
            "order": null,
            "overflow": null,
            "overflow_x": null,
            "overflow_y": null,
            "padding": null,
            "right": null,
            "top": null,
            "visibility": null,
            "width": null
          }
        },
        "578ad1f58e044f89ab346f313358061f": {
          "model_module": "@jupyter-widgets/controls",
          "model_name": "ImageModel",
          "model_module_version": "1.5.0",
          "state": {
            "_dom_classes": [],
            "_model_module": "@jupyter-widgets/controls",
            "_model_module_version": "1.5.0",
            "_model_name": "ImageModel",
            "_view_count": null,
            "_view_module": "@jupyter-widgets/controls",
            "_view_module_version": "1.5.0",
            "_view_name": "ImageView",
            "format": "png",
            "height": "",
            "layout": "IPY_MODEL_7a37650bfd6c49958efb1866b6aaaf62",
            "width": ""
          }
        },
        "7a37650bfd6c49958efb1866b6aaaf62": {
          "model_module": "@jupyter-widgets/base",
          "model_name": "LayoutModel",
          "model_module_version": "1.2.0",
          "state": {
            "_model_module": "@jupyter-widgets/base",
            "_model_module_version": "1.2.0",
            "_model_name": "LayoutModel",
            "_view_count": null,
            "_view_module": "@jupyter-widgets/base",
            "_view_module_version": "1.2.0",
            "_view_name": "LayoutView",
            "align_content": null,
            "align_items": null,
            "align_self": null,
            "border": null,
            "bottom": null,
            "display": null,
            "flex": null,
            "flex_flow": null,
            "grid_area": null,
            "grid_auto_columns": null,
            "grid_auto_flow": null,
            "grid_auto_rows": null,
            "grid_column": null,
            "grid_gap": null,
            "grid_row": null,
            "grid_template_areas": null,
            "grid_template_columns": null,
            "grid_template_rows": null,
            "height": null,
            "justify_content": null,
            "justify_items": null,
            "left": null,
            "margin": null,
            "max_height": null,
            "max_width": null,
            "min_height": null,
            "min_width": null,
            "object_fit": null,
            "object_position": null,
            "order": null,
            "overflow": null,
            "overflow_x": null,
            "overflow_y": null,
            "padding": null,
            "right": null,
            "top": null,
            "visibility": null,
            "width": null
          }
        }
      }
    }
  },
  "nbformat": 4,
  "nbformat_minor": 0
}