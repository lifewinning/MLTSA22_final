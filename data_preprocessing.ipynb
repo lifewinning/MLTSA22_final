{
  "cells": [
    {
      "cell_type": "markdown",
      "metadata": {
        "id": "view-in-github",
        "colab_type": "text"
      },
      "source": [
        "<a href=\"https://colab.research.google.com/github/lifewinning/MLTSA22_final_IBHPMP/blob/main/data_preprocessing.ipynb\" target=\"_parent\"><img src=\"https://colab.research.google.com/assets/colab-badge.svg\" alt=\"Open In Colab\"/></a>"
      ]
    },
    {
      "cell_type": "markdown",
      "metadata": {
        "id": "l18M9_r5XmAQ"
      },
      "source": [
        "\n",
        "## Initialize EarthEngine, import geemap\n",
        "\n"
      ]
    },
    {
      "cell_type": "code",
      "execution_count": 1,
      "metadata": {
        "colab": {
          "base_uri": "https://localhost:8080/"
        },
        "id": "XeFsiSp2aDL6",
        "outputId": "a35e2796-e4e2-4f54-9680-294f311d801f"
      },
      "outputs": [
        {
          "output_type": "stream",
          "name": "stdout",
          "text": [
            "To authorize access needed by Earth Engine, open the following URL in a web browser and follow the instructions. If the web browser does not start automatically, please manually browse the URL below.\n",
            "\n",
            "    https://accounts.google.com/o/oauth2/auth?client_id=517222506229-vsmmajv00ul0bs7p89v5m89qs8eb9359.apps.googleusercontent.com&scope=https%3A%2F%2Fwww.googleapis.com%2Fauth%2Fearthengine+https%3A%2F%2Fwww.googleapis.com%2Fauth%2Fdevstorage.full_control&redirect_uri=urn%3Aietf%3Awg%3Aoauth%3A2.0%3Aoob&response_type=code&code_challenge=vqmB-CQjZwqosymzU1CHi8Q-KoOcd1dBnLRKcZ-os1g&code_challenge_method=S256\n",
            "\n",
            "The authorization workflow will generate a code, which you should paste in the box below. \n",
            "Enter verification code: 4/1AX4XfWhDDs6nxYfYIDHml-A0EFRiZih3F5CMGx0kVZ8Qn8E4Q1Sm_NcW0rA\n",
            "\n",
            "Successfully saved authorization token.\n"
          ]
        }
      ],
      "source": [
        "import ee\n",
        " \n",
        "# Trigger the authentication flow.\n",
        "ee.Authenticate()\n",
        " \n",
        "# Initialize the library.\n",
        "ee.Initialize()"
      ]
    },
    {
      "cell_type": "code",
      "source": [
        "pip install geemap"
      ],
      "metadata": {
        "colab": {
          "base_uri": "https://localhost:8080/"
        },
        "id": "kGV1arDp9DD0",
        "outputId": "87e38b5e-6f9a-4867-a39a-6c88f1582616"
      },
      "execution_count": 2,
      "outputs": [
        {
          "output_type": "stream",
          "name": "stdout",
          "text": [
            "Requirement already satisfied: geemap in /usr/local/lib/python3.7/dist-packages (0.12.1)\n",
            "Requirement already satisfied: geeadd>=0.5.1 in /usr/local/lib/python3.7/dist-packages (from geemap) (0.5.5)\n",
            "Requirement already satisfied: here-map-widget-for-jupyter>=1.1.1 in /usr/local/lib/python3.7/dist-packages (from geemap) (1.1.3)\n",
            "Requirement already satisfied: python-box~=5.4 in /usr/local/lib/python3.7/dist-packages (from geemap) (5.4.1)\n",
            "Requirement already satisfied: ipyleaflet>=0.14.0 in /usr/local/lib/python3.7/dist-packages (from geemap) (0.15.0)\n",
            "Requirement already satisfied: mss in /usr/local/lib/python3.7/dist-packages (from geemap) (6.1.0)\n",
            "Requirement already satisfied: matplotlib in /usr/local/lib/python3.7/dist-packages (from geemap) (3.2.2)\n",
            "Requirement already satisfied: ipynb-py-convert in /usr/local/lib/python3.7/dist-packages (from geemap) (0.4.6)\n",
            "Requirement already satisfied: click in /usr/local/lib/python3.7/dist-packages (from geemap) (7.1.2)\n",
            "Requirement already satisfied: pycrs in /usr/local/lib/python3.7/dist-packages (from geemap) (1.0.2)\n",
            "Requirement already satisfied: palettable in /usr/local/lib/python3.7/dist-packages (from geemap) (3.3.0)\n",
            "Requirement already satisfied: geojson in /usr/local/lib/python3.7/dist-packages (from geemap) (2.5.0)\n",
            "Requirement already satisfied: gdown in /usr/local/lib/python3.7/dist-packages (from geemap) (4.2.2)\n",
            "Requirement already satisfied: owslib in /usr/local/lib/python3.7/dist-packages (from geemap) (0.25.0)\n",
            "Requirement already satisfied: googledrivedownloader in /usr/local/lib/python3.7/dist-packages (from geemap) (0.4)\n",
            "Requirement already satisfied: colour in /usr/local/lib/python3.7/dist-packages (from geemap) (0.1.5)\n",
            "Requirement already satisfied: ipytree in /usr/local/lib/python3.7/dist-packages (from geemap) (0.2.1)\n",
            "Requirement already satisfied: plotly in /usr/local/lib/python3.7/dist-packages (from geemap) (5.5.0)\n",
            "Requirement already satisfied: earthengine-api>=0.1.230 in /usr/local/lib/python3.7/dist-packages (from geemap) (0.1.301)\n",
            "Requirement already satisfied: ipyevents in /usr/local/lib/python3.7/dist-packages (from geemap) (2.0.1)\n",
            "Requirement already satisfied: geocoder in /usr/local/lib/python3.7/dist-packages (from geemap) (1.38.1)\n",
            "Requirement already satisfied: pillow in /usr/local/lib/python3.7/dist-packages (from geemap) (7.1.2)\n",
            "Requirement already satisfied: ee-extra>=0.0.10 in /usr/local/lib/python3.7/dist-packages (from geemap) (0.0.12)\n",
            "Requirement already satisfied: numpy in /usr/local/lib/python3.7/dist-packages (from geemap) (1.21.5)\n",
            "Requirement already satisfied: ipyfilechooser>=0.6.0 in /usr/local/lib/python3.7/dist-packages (from geemap) (0.6.0)\n",
            "Requirement already satisfied: pandas in /usr/local/lib/python3.7/dist-packages (from geemap) (1.3.5)\n",
            "Requirement already satisfied: folium>=0.11.0 in /usr/local/lib/python3.7/dist-packages (from geemap) (0.12.1.post1)\n",
            "Requirement already satisfied: sankee in /usr/local/lib/python3.7/dist-packages (from geemap) (0.0.7)\n",
            "Requirement already satisfied: voila in /usr/local/lib/python3.7/dist-packages (from geemap) (0.3.3)\n",
            "Requirement already satisfied: ffmpeg-python in /usr/local/lib/python3.7/dist-packages (from geemap) (0.2.0)\n",
            "Requirement already satisfied: whiteboxgui>=0.6.0 in /usr/local/lib/python3.7/dist-packages (from geemap) (0.7.0)\n",
            "Requirement already satisfied: xyzservices in /usr/local/lib/python3.7/dist-packages (from geemap) (2022.3.0)\n",
            "Requirement already satisfied: jupyterlab>=3 in /usr/local/lib/python3.7/dist-packages (from geemap) (3.3.2)\n",
            "Requirement already satisfied: pyshp>=2.1.3 in /usr/local/lib/python3.7/dist-packages (from geemap) (2.2.0)\n",
            "Requirement already satisfied: bqplot in /usr/local/lib/python3.7/dist-packages (from geemap) (0.12.33)\n",
            "Requirement already satisfied: future in /usr/local/lib/python3.7/dist-packages (from earthengine-api>=0.1.230->geemap) (0.16.0)\n",
            "Requirement already satisfied: httplib2shim in /usr/local/lib/python3.7/dist-packages (from earthengine-api>=0.1.230->geemap) (0.0.3)\n",
            "Requirement already satisfied: six in /usr/local/lib/python3.7/dist-packages (from earthengine-api>=0.1.230->geemap) (1.15.0)\n",
            "Requirement already satisfied: google-auth-httplib2>=0.0.3 in /usr/local/lib/python3.7/dist-packages (from earthengine-api>=0.1.230->geemap) (0.0.4)\n",
            "Requirement already satisfied: google-cloud-storage in /usr/local/lib/python3.7/dist-packages (from earthengine-api>=0.1.230->geemap) (1.18.1)\n",
            "Requirement already satisfied: google-auth>=1.4.1 in /usr/local/lib/python3.7/dist-packages (from earthengine-api>=0.1.230->geemap) (1.35.0)\n",
            "Requirement already satisfied: google-api-python-client<2,>=1.12.1 in /usr/local/lib/python3.7/dist-packages (from earthengine-api>=0.1.230->geemap) (1.12.10)\n",
            "Requirement already satisfied: httplib2<1dev,>=0.9.2 in /usr/local/lib/python3.7/dist-packages (from earthengine-api>=0.1.230->geemap) (0.17.4)\n",
            "Requirement already satisfied: branca>=0.3.0 in /usr/local/lib/python3.7/dist-packages (from folium>=0.11.0->geemap) (0.4.2)\n",
            "Requirement already satisfied: requests in /usr/local/lib/python3.7/dist-packages (from folium>=0.11.0->geemap) (2.23.0)\n",
            "Requirement already satisfied: jinja2>=2.9 in /usr/local/lib/python3.7/dist-packages (from folium>=0.11.0->geemap) (3.0.3)\n",
            "Requirement already satisfied: beautifulsoup4>=4.9.0 in /usr/local/lib/python3.7/dist-packages (from geeadd>=0.5.1->geemap) (4.10.0)\n",
            "Requirement already satisfied: logzero>=1.5.0 in /usr/local/lib/python3.7/dist-packages (from geeadd>=0.5.1->geemap) (1.7.0)\n",
            "Requirement already satisfied: soupsieve>1.2 in /usr/local/lib/python3.7/dist-packages (from beautifulsoup4>=4.9.0->geeadd>=0.5.1->geemap) (2.3.1)\n",
            "Requirement already satisfied: uritemplate<4dev,>=3.0.0 in /usr/local/lib/python3.7/dist-packages (from google-api-python-client<2,>=1.12.1->earthengine-api>=0.1.230->geemap) (3.0.1)\n",
            "Requirement already satisfied: google-api-core<3dev,>=1.21.0 in /usr/local/lib/python3.7/dist-packages (from google-api-python-client<2,>=1.12.1->earthengine-api>=0.1.230->geemap) (1.26.3)\n",
            "Requirement already satisfied: packaging>=14.3 in /usr/local/lib/python3.7/dist-packages (from google-api-core<3dev,>=1.21.0->google-api-python-client<2,>=1.12.1->earthengine-api>=0.1.230->geemap) (21.3)\n",
            "Requirement already satisfied: googleapis-common-protos<2.0dev,>=1.6.0 in /usr/local/lib/python3.7/dist-packages (from google-api-core<3dev,>=1.21.0->google-api-python-client<2,>=1.12.1->earthengine-api>=0.1.230->geemap) (1.55.0)\n",
            "Requirement already satisfied: protobuf>=3.12.0 in /usr/local/lib/python3.7/dist-packages (from google-api-core<3dev,>=1.21.0->google-api-python-client<2,>=1.12.1->earthengine-api>=0.1.230->geemap) (3.17.3)\n",
            "Requirement already satisfied: pytz in /usr/local/lib/python3.7/dist-packages (from google-api-core<3dev,>=1.21.0->google-api-python-client<2,>=1.12.1->earthengine-api>=0.1.230->geemap) (2018.9)\n",
            "Requirement already satisfied: setuptools>=40.3.0 in /usr/local/lib/python3.7/dist-packages (from google-api-core<3dev,>=1.21.0->google-api-python-client<2,>=1.12.1->earthengine-api>=0.1.230->geemap) (57.4.0)\n",
            "Requirement already satisfied: rsa<5,>=3.1.4 in /usr/local/lib/python3.7/dist-packages (from google-auth>=1.4.1->earthengine-api>=0.1.230->geemap) (4.8)\n",
            "Requirement already satisfied: pyasn1-modules>=0.2.1 in /usr/local/lib/python3.7/dist-packages (from google-auth>=1.4.1->earthengine-api>=0.1.230->geemap) (0.2.8)\n",
            "Requirement already satisfied: cachetools<5.0,>=2.0.0 in /usr/local/lib/python3.7/dist-packages (from google-auth>=1.4.1->earthengine-api>=0.1.230->geemap) (4.2.4)\n",
            "Requirement already satisfied: ipywidgets<8,>=7.6.0 in /usr/local/lib/python3.7/dist-packages (from here-map-widget-for-jupyter>=1.1.1->geemap) (7.6.5)\n",
            "Requirement already satisfied: traittypes<3,>=0.2.1 in /usr/local/lib/python3.7/dist-packages (from ipyleaflet>=0.14.0->geemap) (0.2.1)\n",
            "Requirement already satisfied: traitlets>=4.3.1 in /usr/local/lib/python3.7/dist-packages (from ipywidgets<8,>=7.6.0->here-map-widget-for-jupyter>=1.1.1->geemap) (5.1.1)\n",
            "Requirement already satisfied: ipykernel>=4.5.1 in /usr/local/lib/python3.7/dist-packages (from ipywidgets<8,>=7.6.0->here-map-widget-for-jupyter>=1.1.1->geemap) (4.10.1)\n",
            "Requirement already satisfied: ipython-genutils~=0.2.0 in /usr/local/lib/python3.7/dist-packages (from ipywidgets<8,>=7.6.0->here-map-widget-for-jupyter>=1.1.1->geemap) (0.2.0)\n",
            "Requirement already satisfied: ipython>=4.0.0 in /usr/local/lib/python3.7/dist-packages (from ipywidgets<8,>=7.6.0->here-map-widget-for-jupyter>=1.1.1->geemap) (5.5.0)\n",
            "Requirement already satisfied: nbformat>=4.2.0 in /usr/local/lib/python3.7/dist-packages (from ipywidgets<8,>=7.6.0->here-map-widget-for-jupyter>=1.1.1->geemap) (5.2.0)\n",
            "Requirement already satisfied: jupyterlab-widgets>=1.0.0 in /usr/local/lib/python3.7/dist-packages (from ipywidgets<8,>=7.6.0->here-map-widget-for-jupyter>=1.1.1->geemap) (1.0.2)\n",
            "Requirement already satisfied: widgetsnbextension~=3.5.0 in /usr/local/lib/python3.7/dist-packages (from ipywidgets<8,>=7.6.0->here-map-widget-for-jupyter>=1.1.1->geemap) (3.5.2)\n",
            "Requirement already satisfied: jupyter-client in /usr/local/lib/python3.7/dist-packages (from ipykernel>=4.5.1->ipywidgets<8,>=7.6.0->here-map-widget-for-jupyter>=1.1.1->geemap) (7.1.2)\n",
            "Requirement already satisfied: tornado>=4.0 in /usr/local/lib/python3.7/dist-packages (from ipykernel>=4.5.1->ipywidgets<8,>=7.6.0->here-map-widget-for-jupyter>=1.1.1->geemap) (6.1)\n",
            "Requirement already satisfied: pickleshare in /usr/local/lib/python3.7/dist-packages (from ipython>=4.0.0->ipywidgets<8,>=7.6.0->here-map-widget-for-jupyter>=1.1.1->geemap) (0.7.5)\n",
            "Requirement already satisfied: simplegeneric>0.8 in /usr/local/lib/python3.7/dist-packages (from ipython>=4.0.0->ipywidgets<8,>=7.6.0->here-map-widget-for-jupyter>=1.1.1->geemap) (0.8.1)\n",
            "Requirement already satisfied: prompt-toolkit<2.0.0,>=1.0.4 in /usr/local/lib/python3.7/dist-packages (from ipython>=4.0.0->ipywidgets<8,>=7.6.0->here-map-widget-for-jupyter>=1.1.1->geemap) (1.0.18)\n",
            "Requirement already satisfied: pygments in /usr/local/lib/python3.7/dist-packages (from ipython>=4.0.0->ipywidgets<8,>=7.6.0->here-map-widget-for-jupyter>=1.1.1->geemap) (2.6.1)\n",
            "Requirement already satisfied: decorator in /usr/local/lib/python3.7/dist-packages (from ipython>=4.0.0->ipywidgets<8,>=7.6.0->here-map-widget-for-jupyter>=1.1.1->geemap) (4.4.2)\n",
            "Requirement already satisfied: pexpect in /usr/local/lib/python3.7/dist-packages (from ipython>=4.0.0->ipywidgets<8,>=7.6.0->here-map-widget-for-jupyter>=1.1.1->geemap) (4.8.0)\n",
            "Requirement already satisfied: MarkupSafe>=2.0 in /usr/local/lib/python3.7/dist-packages (from jinja2>=2.9->folium>=0.11.0->geemap) (2.0.1)\n",
            "Requirement already satisfied: jupyter-core in /usr/local/lib/python3.7/dist-packages (from jupyterlab>=3->geemap) (4.9.2)\n",
            "Requirement already satisfied: jupyter-server~=1.4 in /usr/local/lib/python3.7/dist-packages (from jupyterlab>=3->geemap) (1.15.6)\n",
            "Requirement already satisfied: jupyterlab-server~=2.10 in /usr/local/lib/python3.7/dist-packages (from jupyterlab>=3->geemap) (2.11.2)\n",
            "Requirement already satisfied: nbclassic~=0.2 in /usr/local/lib/python3.7/dist-packages (from jupyterlab>=3->geemap) (0.3.7)\n",
            "Requirement already satisfied: Send2Trash in /usr/local/lib/python3.7/dist-packages (from jupyter-server~=1.4->jupyterlab>=3->geemap) (1.8.0)\n",
            "Requirement already satisfied: pyzmq>=17 in /usr/local/lib/python3.7/dist-packages (from jupyter-server~=1.4->jupyterlab>=3->geemap) (22.3.0)\n",
            "Requirement already satisfied: anyio>=3.1.0 in /usr/local/lib/python3.7/dist-packages (from jupyter-server~=1.4->jupyterlab>=3->geemap) (3.5.0)\n",
            "Requirement already satisfied: prometheus-client in /usr/local/lib/python3.7/dist-packages (from jupyter-server~=1.4->jupyterlab>=3->geemap) (0.13.1)\n",
            "Requirement already satisfied: websocket-client in /usr/local/lib/python3.7/dist-packages (from jupyter-server~=1.4->jupyterlab>=3->geemap) (1.3.1)\n",
            "Requirement already satisfied: nbconvert in /usr/local/lib/python3.7/dist-packages (from jupyter-server~=1.4->jupyterlab>=3->geemap) (6.4.4)\n",
            "Requirement already satisfied: terminado>=0.8.3 in /usr/local/lib/python3.7/dist-packages (from jupyter-server~=1.4->jupyterlab>=3->geemap) (0.13.3)\n",
            "Requirement already satisfied: argon2-cffi in /usr/local/lib/python3.7/dist-packages (from jupyter-server~=1.4->jupyterlab>=3->geemap) (21.3.0)\n",
            "Requirement already satisfied: idna>=2.8 in /usr/local/lib/python3.7/dist-packages (from anyio>=3.1.0->jupyter-server~=1.4->jupyterlab>=3->geemap) (2.10)\n",
            "Requirement already satisfied: typing-extensions in /usr/local/lib/python3.7/dist-packages (from anyio>=3.1.0->jupyter-server~=1.4->jupyterlab>=3->geemap) (3.10.0.2)\n",
            "Requirement already satisfied: sniffio>=1.1 in /usr/local/lib/python3.7/dist-packages (from anyio>=3.1.0->jupyter-server~=1.4->jupyterlab>=3->geemap) (1.2.0)\n",
            "Requirement already satisfied: python-dateutil>=2.1 in /usr/local/lib/python3.7/dist-packages (from jupyter-client->ipykernel>=4.5.1->ipywidgets<8,>=7.6.0->here-map-widget-for-jupyter>=1.1.1->geemap) (2.8.2)\n",
            "Requirement already satisfied: nest-asyncio>=1.5 in /usr/local/lib/python3.7/dist-packages (from jupyter-client->ipykernel>=4.5.1->ipywidgets<8,>=7.6.0->here-map-widget-for-jupyter>=1.1.1->geemap) (1.5.4)\n",
            "Requirement already satisfied: entrypoints in /usr/local/lib/python3.7/dist-packages (from jupyter-client->ipykernel>=4.5.1->ipywidgets<8,>=7.6.0->here-map-widget-for-jupyter>=1.1.1->geemap) (0.4)\n",
            "Requirement already satisfied: json5 in /usr/local/lib/python3.7/dist-packages (from jupyterlab-server~=2.10->jupyterlab>=3->geemap) (0.9.6)\n",
            "Requirement already satisfied: jsonschema>=3.0.1 in /usr/local/lib/python3.7/dist-packages (from jupyterlab-server~=2.10->jupyterlab>=3->geemap) (4.3.3)\n",
            "Requirement already satisfied: babel in /usr/local/lib/python3.7/dist-packages (from jupyterlab-server~=2.10->jupyterlab>=3->geemap) (2.9.1)\n",
            "Requirement already satisfied: importlib-resources>=1.4.0 in /usr/local/lib/python3.7/dist-packages (from jsonschema>=3.0.1->jupyterlab-server~=2.10->jupyterlab>=3->geemap) (5.4.0)\n",
            "Requirement already satisfied: attrs>=17.4.0 in /usr/local/lib/python3.7/dist-packages (from jsonschema>=3.0.1->jupyterlab-server~=2.10->jupyterlab>=3->geemap) (21.4.0)\n",
            "Requirement already satisfied: pyrsistent!=0.17.0,!=0.17.1,!=0.17.2,>=0.14.0 in /usr/local/lib/python3.7/dist-packages (from jsonschema>=3.0.1->jupyterlab-server~=2.10->jupyterlab>=3->geemap) (0.18.1)\n",
            "Requirement already satisfied: importlib-metadata in /usr/local/lib/python3.7/dist-packages (from jsonschema>=3.0.1->jupyterlab-server~=2.10->jupyterlab>=3->geemap) (4.11.2)\n",
            "Requirement already satisfied: zipp>=3.1.0 in /usr/local/lib/python3.7/dist-packages (from importlib-resources>=1.4.0->jsonschema>=3.0.1->jupyterlab-server~=2.10->jupyterlab>=3->geemap) (3.7.0)\n",
            "Requirement already satisfied: notebook-shim>=0.1.0 in /usr/local/lib/python3.7/dist-packages (from nbclassic~=0.2->jupyterlab>=3->geemap) (0.1.0)\n",
            "Requirement already satisfied: notebook<7 in /usr/local/lib/python3.7/dist-packages (from nbclassic~=0.2->jupyterlab>=3->geemap) (5.3.1)\n",
            "Requirement already satisfied: pyparsing!=3.0.5,>=2.0.2 in /usr/local/lib/python3.7/dist-packages (from packaging>=14.3->google-api-core<3dev,>=1.21.0->google-api-python-client<2,>=1.12.1->earthengine-api>=0.1.230->geemap) (3.0.7)\n",
            "Requirement already satisfied: wcwidth in /usr/local/lib/python3.7/dist-packages (from prompt-toolkit<2.0.0,>=1.0.4->ipython>=4.0.0->ipywidgets<8,>=7.6.0->here-map-widget-for-jupyter>=1.1.1->geemap) (0.2.5)\n",
            "Requirement already satisfied: pyasn1<0.5.0,>=0.4.6 in /usr/local/lib/python3.7/dist-packages (from pyasn1-modules>=0.2.1->google-auth>=1.4.1->earthengine-api>=0.1.230->geemap) (0.4.8)\n",
            "Requirement already satisfied: chardet<4,>=3.0.2 in /usr/local/lib/python3.7/dist-packages (from requests->folium>=0.11.0->geemap) (3.0.4)\n",
            "Requirement already satisfied: certifi>=2017.4.17 in /usr/local/lib/python3.7/dist-packages (from requests->folium>=0.11.0->geemap) (2021.10.8)\n",
            "Requirement already satisfied: urllib3!=1.25.0,!=1.25.1,<1.26,>=1.21.1 in /usr/local/lib/python3.7/dist-packages (from requests->folium>=0.11.0->geemap) (1.24.3)\n",
            "Requirement already satisfied: ptyprocess in /usr/local/lib/python3.7/dist-packages (from terminado>=0.8.3->jupyter-server~=1.4->jupyterlab>=3->geemap) (0.7.0)\n",
            "Requirement already satisfied: whitebox in /usr/local/lib/python3.7/dist-packages (from whiteboxgui>=0.6.0->geemap) (2.1.2)\n",
            "Requirement already satisfied: argon2-cffi-bindings in /usr/local/lib/python3.7/dist-packages (from argon2-cffi->jupyter-server~=1.4->jupyterlab>=3->geemap) (21.2.0)\n",
            "Requirement already satisfied: cffi>=1.0.1 in /usr/local/lib/python3.7/dist-packages (from argon2-cffi-bindings->argon2-cffi->jupyter-server~=1.4->jupyterlab>=3->geemap) (1.15.0)\n",
            "Requirement already satisfied: pycparser in /usr/local/lib/python3.7/dist-packages (from cffi>=1.0.1->argon2-cffi-bindings->argon2-cffi->jupyter-server~=1.4->jupyterlab>=3->geemap) (2.21)\n",
            "Requirement already satisfied: tqdm in /usr/local/lib/python3.7/dist-packages (from gdown->geemap) (4.63.0)\n",
            "Requirement already satisfied: filelock in /usr/local/lib/python3.7/dist-packages (from gdown->geemap) (3.6.0)\n",
            "Requirement already satisfied: ratelim in /usr/local/lib/python3.7/dist-packages (from geocoder->geemap) (0.1.6)\n",
            "Requirement already satisfied: google-cloud-core<2.0dev,>=1.0.0 in /usr/local/lib/python3.7/dist-packages (from google-cloud-storage->earthengine-api>=0.1.230->geemap) (1.0.3)\n",
            "Requirement already satisfied: google-resumable-media<0.5.0dev,>=0.3.1 in /usr/local/lib/python3.7/dist-packages (from google-cloud-storage->earthengine-api>=0.1.230->geemap) (0.4.1)\n",
            "Requirement already satisfied: cycler>=0.10 in /usr/local/lib/python3.7/dist-packages (from matplotlib->geemap) (0.11.0)\n",
            "Requirement already satisfied: kiwisolver>=1.0.1 in /usr/local/lib/python3.7/dist-packages (from matplotlib->geemap) (1.3.2)\n",
            "Requirement already satisfied: nbclient<0.6.0,>=0.5.0 in /usr/local/lib/python3.7/dist-packages (from nbconvert->jupyter-server~=1.4->jupyterlab>=3->geemap) (0.5.12)\n",
            "Requirement already satisfied: jupyterlab-pygments in /usr/local/lib/python3.7/dist-packages (from nbconvert->jupyter-server~=1.4->jupyterlab>=3->geemap) (0.1.2)\n",
            "Requirement already satisfied: testpath in /usr/local/lib/python3.7/dist-packages (from nbconvert->jupyter-server~=1.4->jupyterlab>=3->geemap) (0.6.0)\n",
            "Requirement already satisfied: defusedxml in /usr/local/lib/python3.7/dist-packages (from nbconvert->jupyter-server~=1.4->jupyterlab>=3->geemap) (0.7.1)\n",
            "Requirement already satisfied: bleach in /usr/local/lib/python3.7/dist-packages (from nbconvert->jupyter-server~=1.4->jupyterlab>=3->geemap) (4.1.0)\n",
            "Requirement already satisfied: pandocfilters>=1.4.1 in /usr/local/lib/python3.7/dist-packages (from nbconvert->jupyter-server~=1.4->jupyterlab>=3->geemap) (1.5.0)\n",
            "Requirement already satisfied: mistune<2,>=0.8.1 in /usr/local/lib/python3.7/dist-packages (from nbconvert->jupyter-server~=1.4->jupyterlab>=3->geemap) (0.8.4)\n",
            "Requirement already satisfied: webencodings in /usr/local/lib/python3.7/dist-packages (from bleach->nbconvert->jupyter-server~=1.4->jupyterlab>=3->geemap) (0.5.1)\n",
            "Requirement already satisfied: pyyaml in /usr/local/lib/python3.7/dist-packages (from owslib->geemap) (3.13)\n",
            "Requirement already satisfied: pyproj>=2 in /usr/local/lib/python3.7/dist-packages (from owslib->geemap) (3.2.1)\n",
            "Requirement already satisfied: tenacity>=6.2.0 in /usr/local/lib/python3.7/dist-packages (from plotly->geemap) (8.0.1)\n",
            "Requirement already satisfied: PySocks!=1.5.7,>=1.5.6 in /usr/local/lib/python3.7/dist-packages (from requests->folium>=0.11.0->geemap) (1.7.1)\n",
            "Requirement already satisfied: websockets>=9.0 in /usr/local/lib/python3.7/dist-packages (from voila->geemap) (10.2)\n"
          ]
        }
      ]
    },
    {
      "cell_type": "code",
      "source": [
        "import geemap\n",
        "Map = geemap.Map()"
      ],
      "metadata": {
        "id": "NpwiR8e09EuB"
      },
      "execution_count": 3,
      "outputs": []
    },
    {
      "cell_type": "code",
      "source": [
        "import json"
      ],
      "metadata": {
        "id": "GoMEVDgBa5jF"
      },
      "execution_count": 4,
      "outputs": []
    },
    {
      "cell_type": "markdown",
      "source": [
        "# Mount Drive"
      ],
      "metadata": {
        "id": "OG8QqJU4x3FY"
      }
    },
    {
      "cell_type": "code",
      "source": [
        "from google.colab import drive\n",
        "drive.mount('/content/drive')"
      ],
      "metadata": {
        "colab": {
          "base_uri": "https://localhost:8080/"
        },
        "id": "nIr8NrGMxxgf",
        "outputId": "b8c2cc2f-dd7e-4f81-8df0-2d54b05a4818"
      },
      "execution_count": 5,
      "outputs": [
        {
          "output_type": "stream",
          "name": "stdout",
          "text": [
            "Drive already mounted at /content/drive; to attempt to forcibly remount, call drive.mount(\"/content/drive\", force_remount=True).\n"
          ]
        }
      ]
    },
    {
      "cell_type": "code",
      "source": [
        "cd /content/drive/MyDrive/MLTSA22"
      ],
      "metadata": {
        "colab": {
          "base_uri": "https://localhost:8080/"
        },
        "id": "pHlFKYHax7Sj",
        "outputId": "643332c8-6ae9-4a0c-c272-7d09ab4c58ff"
      },
      "execution_count": 6,
      "outputs": [
        {
          "output_type": "stream",
          "name": "stdout",
          "text": [
            "/content/drive/MyDrive/MLTSA22\n"
          ]
        }
      ]
    },
    {
      "cell_type": "markdown",
      "source": [
        "# Set date params and load clipping features"
      ],
      "metadata": {
        "id": "GY7LgcVZyK-K"
      }
    },
    {
      "cell_type": "code",
      "source": [
        "# establish time series window\n",
        "start = ee.Date('2018-01-01')\n",
        "finish = ee.Date('2021-12-31')"
      ],
      "metadata": {
        "id": "oOxFU8Vfwrrx"
      },
      "execution_count": 7,
      "outputs": []
    },
    {
      "cell_type": "code",
      "source": [
        "# load a geojson with bounding boxes\n",
        "with open('mltsa_bb.geojson', 'r') as file:\n",
        "     geojson = json.load(file)\n",
        "for site, index in enumerate(range(0,4)):\n",
        "  print(index, geojson['features'][site]['properties']['site'])\n"
      ],
      "metadata": {
        "colab": {
          "base_uri": "https://localhost:8080/"
        },
        "id": "Pc5ygkIgcZN7",
        "outputId": "d454cb6e-260b-4272-9bc5-8fa2501c6a0f"
      },
      "execution_count": 8,
      "outputs": [
        {
          "output_type": "stream",
          "name": "stdout",
          "text": [
            "0 singapore\n",
            "1 suez\n",
            "2 long beach\n",
            "3 rotterdam\n"
          ]
        }
      ]
    },
    {
      "cell_type": "markdown",
      "source": [
        "# Some generalizing functions"
      ],
      "metadata": {
        "id": "vw20VwIEfqNZ"
      }
    },
    {
      "cell_type": "code",
      "source": [
        "def cliptoaoi(image):\n",
        "  return image.clip(aoi)"
      ],
      "metadata": {
        "id": "vKnpCMRRIsjL"
      },
      "execution_count": 9,
      "outputs": []
    },
    {
      "cell_type": "code",
      "source": [
        "# generate a range of days between start and end of time series\n",
        "def getdates(collection):\n",
        "  first = collection.first().date()\n",
        "  print(first.format('yyy-MM-dd').getInfo())\n",
        "  diff = finish.difference(first, 'day')\n",
        "  def getDays(day):\n",
        "    return first.advance(day,'day')\n",
        "  \n",
        "  return ee.List.sequence(0, diff.subtract(1), 6).map(getDays)"
      ],
      "metadata": {
        "id": "kwdzlGmYynXI"
      },
      "execution_count": 60,
      "outputs": []
    },
    {
      "cell_type": "code",
      "source": [
        "def day_mosaics(date, newlist):\n",
        "  date = ee.Date(date)\n",
        "  newlist = ee.List(newlist)\n",
        "  \n",
        "  filtered = collection_clipped.filterDate(date, date.advance(1,'day'));\n",
        "\n",
        "  date_formatted = date.format('yyyy-MM-dd')\n",
        "\n",
        "  image_m = ee.Image(filtered.mosaic()).set({'ID': date_formatted}).set({'date': date}).clip(aoi)\n",
        "\n",
        "  # Add the mosaic to a list only if the collection has images\n",
        "  return ee.List(ee.Algorithms.If(filtered.size(), newlist.add(image_m), newlist))"
      ],
      "metadata": {
        "id": "J4YartQZznSK"
      },
      "execution_count": 31,
      "outputs": []
    },
    {
      "cell_type": "markdown",
      "source": [
        "# Suez Canal"
      ],
      "metadata": {
        "id": "suejIuTqbP44"
      }
    },
    {
      "cell_type": "code",
      "execution_count": 23,
      "metadata": {
        "id": "PRWSgszXTjFw"
      },
      "outputs": [],
      "source": [
        "coords = geojson['features'][1]['geometry']['coordinates']\n",
        "aoi = ee.Geometry.Polygon(coords)\n",
        "\n",
        "# query EE\n",
        "collection = ee.ImageCollection('COPERNICUS/S1_GRD').filterBounds(aoi).filterDate(start, finish).filter(ee.Filter.listContains('transmitterReceiverPolarisation', 'VH'))\n",
        "collection_clipped = collection.map(cliptoaoi).sort('segmentStartTime')\n",
        "collection_list = collection_clipped.toList(collection.size())\n",
        "\n",
        "# mosaic images from the same day as needed\n",
        "newcol = ee.ImageCollection(ee.List(getdates(collection).iterate(day_mosaics, ee.List([]))))\n",
        "newcol_list = newcol.toList(newcol.size())\n",
        "ids = newcol.aggregate_array('ID').getInfo()\n",
        "\n",
        "# this is for exporting\n",
        "vis_params = {'min': -20, 'max': 0, 'bands':'VH'}"
      ]
    },
    {
      "cell_type": "code",
      "source": [
        "# take a quick look at the first image just to see\n",
        "image = newcol.first()\n",
        "out_img = \"tests/suez-first.png\"\n",
        "geemap.get_image_thumbnail(image, out_img, vis_params, dimensions=500, format='png')\n",
        "geemap.show_image(out_img)"
      ],
      "metadata": {
        "colab": {
          "base_uri": "https://localhost:8080/",
          "height": 464,
          "referenced_widgets": [
            "6b4cf6d7a5d34d9ebc531d9469374b38",
            "4e5282f81eee4803a7284a6dfde39137",
            "2cb14a5d1f804ff3afb5c47b35786839",
            "7cc97672f3c14315ad0afe93174b0ba9"
          ]
        },
        "id": "tkcvPpv2KXRI",
        "outputId": "c4416669-0c2a-4bad-81fb-a64b4b25be44"
      },
      "execution_count": 161,
      "outputs": [
        {
          "output_type": "display_data",
          "data": {
            "text/plain": [
              "Output()"
            ],
            "application/vnd.jupyter.widget-view+json": {
              "version_major": 2,
              "version_minor": 0,
              "model_id": "6b4cf6d7a5d34d9ebc531d9469374b38"
            }
          },
          "metadata": {
            "application/vnd.jupyter.widget-view+json": {
              "colab": {
                "custom_widget_manager": {
                  "url": "https://ssl.gstatic.com/colaboratory-static/widgets/colab-cdn-widget-manager/a8874ba6619b6106/manager.min.js"
                }
              }
            }
          }
        }
      ]
    },
    {
      "cell_type": "code",
      "source": [
        "out_dir = 'finalimages/suez'\n",
        "geemap.get_image_collection_thumbnails(newcol, out_dir, vis_params, dimensions=500, format=\"png\", names=ids)"
      ],
      "metadata": {
        "colab": {
          "base_uri": "https://localhost:8080/"
        },
        "id": "vUTBHO1SLkvU",
        "outputId": "bbcc7609-153e-4cb9-a121-1a08ff6b4187"
      },
      "execution_count": 163,
      "outputs": [
        {
          "output_type": "stream",
          "name": "stdout",
          "text": [
            "Total number of images: 242\n",
            "\n",
            "Downloading 1/242: 2018-01-04.png ...\n",
            "Downloading 2/242: 2018-01-10.png ...\n",
            "Downloading 3/242: 2018-01-16.png ...\n",
            "Downloading 4/242: 2018-01-22.png ...\n",
            "Downloading 5/242: 2018-01-28.png ...\n",
            "Downloading 6/242: 2018-02-03.png ...\n",
            "Downloading 7/242: 2018-02-09.png ...\n",
            "Downloading 8/242: 2018-02-15.png ...\n",
            "Downloading 9/242: 2018-02-21.png ...\n",
            "Downloading 10/242: 2018-02-27.png ...\n",
            "Downloading 11/242: 2018-03-05.png ...\n",
            "Downloading 12/242: 2018-03-11.png ...\n",
            "Downloading 13/242: 2018-03-17.png ...\n",
            "Downloading 14/242: 2018-03-23.png ...\n",
            "Downloading 15/242: 2018-03-29.png ...\n",
            "Downloading 16/242: 2018-04-04.png ...\n",
            "Downloading 17/242: 2018-04-10.png ...\n",
            "Downloading 18/242: 2018-04-16.png ...\n",
            "Downloading 19/242: 2018-04-22.png ...\n",
            "An error occurred while downloading.\n",
            "Earth Engine capacity exceeded.\n",
            "Downloading 20/242: 2018-04-28.png ...\n",
            "Downloading 21/242: 2018-05-04.png ...\n",
            "Downloading 22/242: 2018-05-10.png ...\n",
            "Downloading 23/242: 2018-05-16.png ...\n",
            "Downloading 24/242: 2018-05-22.png ...\n",
            "Downloading 25/242: 2018-05-28.png ...\n",
            "Downloading 26/242: 2018-06-03.png ...\n",
            "Downloading 27/242: 2018-06-09.png ...\n",
            "Downloading 28/242: 2018-06-15.png ...\n",
            "Downloading 29/242: 2018-06-21.png ...\n",
            "Downloading 30/242: 2018-06-27.png ...\n",
            "Downloading 31/242: 2018-07-03.png ...\n",
            "Downloading 32/242: 2018-07-09.png ...\n",
            "Downloading 33/242: 2018-07-15.png ...\n",
            "Downloading 34/242: 2018-07-21.png ...\n",
            "Downloading 35/242: 2018-07-27.png ...\n",
            "Downloading 36/242: 2018-08-02.png ...\n",
            "Downloading 37/242: 2018-08-08.png ...\n",
            "Downloading 38/242: 2018-08-14.png ...\n",
            "Downloading 39/242: 2018-08-20.png ...\n",
            "Downloading 40/242: 2018-08-26.png ...\n",
            "Downloading 41/242: 2018-09-01.png ...\n",
            "Downloading 42/242: 2018-09-07.png ...\n",
            "Downloading 43/242: 2018-09-13.png ...\n",
            "Downloading 44/242: 2018-09-19.png ...\n",
            "Downloading 45/242: 2018-09-25.png ...\n",
            "Downloading 46/242: 2018-10-01.png ...\n",
            "Downloading 47/242: 2018-10-07.png ...\n",
            "Downloading 48/242: 2018-10-13.png ...\n",
            "Downloading 49/242: 2018-10-19.png ...\n",
            "Downloading 50/242: 2018-10-25.png ...\n",
            "Downloading 51/242: 2018-10-31.png ...\n",
            "Downloading 52/242: 2018-11-06.png ...\n",
            "Downloading 53/242: 2018-11-12.png ...\n",
            "Downloading 54/242: 2018-11-18.png ...\n",
            "Downloading 55/242: 2018-11-24.png ...\n",
            "Downloading 56/242: 2018-11-30.png ...\n",
            "Downloading 57/242: 2018-12-06.png ...\n",
            "Downloading 58/242: 2018-12-12.png ...\n",
            "Downloading 59/242: 2018-12-18.png ...\n",
            "Downloading 60/242: 2018-12-24.png ...\n",
            "Downloading 61/242: 2018-12-30.png ...\n",
            "Downloading 62/242: 2019-01-05.png ...\n",
            "Downloading 63/242: 2019-01-11.png ...\n",
            "Downloading 64/242: 2019-01-17.png ...\n",
            "Downloading 65/242: 2019-01-23.png ...\n",
            "Downloading 66/242: 2019-01-29.png ...\n",
            "Downloading 67/242: 2019-02-04.png ...\n",
            "Downloading 68/242: 2019-02-10.png ...\n",
            "Downloading 69/242: 2019-02-16.png ...\n",
            "Downloading 70/242: 2019-02-22.png ...\n",
            "Downloading 71/242: 2019-02-28.png ...\n",
            "Downloading 72/242: 2019-03-06.png ...\n",
            "Downloading 73/242: 2019-03-12.png ...\n",
            "Downloading 74/242: 2019-03-18.png ...\n",
            "Downloading 75/242: 2019-03-24.png ...\n",
            "Downloading 76/242: 2019-03-30.png ...\n",
            "Downloading 77/242: 2019-04-05.png ...\n",
            "Downloading 78/242: 2019-04-11.png ...\n",
            "Downloading 79/242: 2019-04-17.png ...\n",
            "Downloading 80/242: 2019-04-23.png ...\n",
            "Downloading 81/242: 2019-04-29.png ...\n",
            "Downloading 82/242: 2019-05-05.png ...\n",
            "Downloading 83/242: 2019-05-11.png ...\n",
            "Downloading 84/242: 2019-05-17.png ...\n",
            "Downloading 85/242: 2019-05-23.png ...\n",
            "Downloading 86/242: 2019-05-29.png ...\n",
            "Downloading 87/242: 2019-06-04.png ...\n",
            "Downloading 88/242: 2019-06-10.png ...\n",
            "Downloading 89/242: 2019-06-16.png ...\n",
            "Downloading 90/242: 2019-06-22.png ...\n",
            "Downloading 91/242: 2019-06-28.png ...\n",
            "Downloading 92/242: 2019-07-04.png ...\n",
            "Downloading 93/242: 2019-07-10.png ...\n",
            "Downloading 94/242: 2019-07-16.png ...\n",
            "Downloading 95/242: 2019-07-22.png ...\n",
            "Downloading 96/242: 2019-07-28.png ...\n",
            "Downloading 97/242: 2019-08-03.png ...\n",
            "Downloading 98/242: 2019-08-09.png ...\n",
            "Downloading 99/242: 2019-08-15.png ...\n",
            "Downloading 100/242: 2019-08-21.png ...\n",
            "Downloading 101/242: 2019-08-27.png ...\n",
            "Downloading 102/242: 2019-09-02.png ...\n",
            "Downloading 103/242: 2019-09-08.png ...\n",
            "Downloading 104/242: 2019-09-14.png ...\n",
            "Downloading 105/242: 2019-09-20.png ...\n",
            "Downloading 106/242: 2019-09-26.png ...\n",
            "Downloading 107/242: 2019-10-02.png ...\n",
            "Downloading 108/242: 2019-10-08.png ...\n",
            "Downloading 109/242: 2019-10-14.png ...\n",
            "Downloading 110/242: 2019-10-20.png ...\n",
            "Downloading 111/242: 2019-10-26.png ...\n",
            "Downloading 112/242: 2019-11-01.png ...\n",
            "Downloading 113/242: 2019-11-07.png ...\n",
            "Downloading 114/242: 2019-11-13.png ...\n",
            "Downloading 115/242: 2019-11-19.png ...\n",
            "Downloading 116/242: 2019-11-25.png ...\n",
            "Downloading 117/242: 2019-12-01.png ...\n",
            "Downloading 118/242: 2019-12-07.png ...\n",
            "Downloading 119/242: 2019-12-13.png ...\n",
            "Downloading 120/242: 2019-12-19.png ...\n",
            "Downloading 121/242: 2019-12-25.png ...\n",
            "Downloading 122/242: 2019-12-31.png ...\n",
            "Downloading 123/242: 2020-01-06.png ...\n",
            "Downloading 124/242: 2020-01-12.png ...\n",
            "Downloading 125/242: 2020-01-18.png ...\n",
            "Downloading 126/242: 2020-01-24.png ...\n",
            "Downloading 127/242: 2020-01-30.png ...\n",
            "Downloading 128/242: 2020-02-05.png ...\n",
            "Downloading 129/242: 2020-02-11.png ...\n",
            "Downloading 130/242: 2020-02-17.png ...\n",
            "Downloading 131/242: 2020-02-23.png ...\n",
            "Downloading 132/242: 2020-02-29.png ...\n",
            "Downloading 133/242: 2020-03-06.png ...\n",
            "Downloading 134/242: 2020-03-12.png ...\n",
            "Downloading 135/242: 2020-03-18.png ...\n",
            "Downloading 136/242: 2020-03-24.png ...\n",
            "Downloading 137/242: 2020-03-30.png ...\n",
            "Downloading 138/242: 2020-04-05.png ...\n",
            "Downloading 139/242: 2020-04-11.png ...\n",
            "Downloading 140/242: 2020-04-17.png ...\n",
            "Downloading 141/242: 2020-04-23.png ...\n",
            "Downloading 142/242: 2020-04-29.png ...\n",
            "Downloading 143/242: 2020-05-05.png ...\n",
            "Downloading 144/242: 2020-05-11.png ...\n",
            "Downloading 145/242: 2020-05-17.png ...\n",
            "Downloading 146/242: 2020-05-23.png ...\n",
            "Downloading 147/242: 2020-05-29.png ...\n",
            "Downloading 148/242: 2020-06-04.png ...\n",
            "Downloading 149/242: 2020-06-10.png ...\n",
            "Downloading 150/242: 2020-06-16.png ...\n",
            "Downloading 151/242: 2020-06-22.png ...\n",
            "Downloading 152/242: 2020-06-28.png ...\n",
            "Downloading 153/242: 2020-07-04.png ...\n",
            "Downloading 154/242: 2020-07-10.png ...\n",
            "Downloading 155/242: 2020-07-16.png ...\n",
            "Downloading 156/242: 2020-07-22.png ...\n",
            "Downloading 157/242: 2020-07-28.png ...\n",
            "Downloading 158/242: 2020-08-03.png ...\n",
            "Downloading 159/242: 2020-08-09.png ...\n",
            "Downloading 160/242: 2020-08-15.png ...\n",
            "Downloading 161/242: 2020-08-21.png ...\n",
            "Downloading 162/242: 2020-08-27.png ...\n",
            "Downloading 163/242: 2020-09-02.png ...\n",
            "Downloading 164/242: 2020-09-08.png ...\n",
            "Downloading 165/242: 2020-09-14.png ...\n",
            "Downloading 166/242: 2020-09-20.png ...\n",
            "Downloading 167/242: 2020-09-26.png ...\n",
            "Downloading 168/242: 2020-10-02.png ...\n",
            "Downloading 169/242: 2020-10-08.png ...\n",
            "Downloading 170/242: 2020-10-14.png ...\n",
            "Downloading 171/242: 2020-10-20.png ...\n",
            "Downloading 172/242: 2020-10-26.png ...\n",
            "Downloading 173/242: 2020-11-01.png ...\n",
            "Downloading 174/242: 2020-11-07.png ...\n",
            "Downloading 175/242: 2020-11-13.png ...\n",
            "Downloading 176/242: 2020-11-19.png ...\n",
            "Downloading 177/242: 2020-11-25.png ...\n",
            "Downloading 178/242: 2020-12-01.png ...\n",
            "Downloading 179/242: 2020-12-07.png ...\n",
            "Downloading 180/242: 2020-12-13.png ...\n",
            "Downloading 181/242: 2020-12-19.png ...\n",
            "Downloading 182/242: 2020-12-25.png ...\n",
            "Downloading 183/242: 2020-12-31.png ...\n",
            "Downloading 184/242: 2021-01-06.png ...\n",
            "Downloading 185/242: 2021-01-12.png ...\n",
            "Downloading 186/242: 2021-01-18.png ...\n",
            "Downloading 187/242: 2021-01-24.png ...\n",
            "Downloading 188/242: 2021-01-30.png ...\n",
            "Downloading 189/242: 2021-02-05.png ...\n",
            "Downloading 190/242: 2021-02-11.png ...\n",
            "Downloading 191/242: 2021-02-17.png ...\n",
            "Downloading 192/242: 2021-03-01.png ...\n",
            "Downloading 193/242: 2021-03-07.png ...\n",
            "Downloading 194/242: 2021-03-13.png ...\n",
            "Downloading 195/242: 2021-03-19.png ...\n",
            "Downloading 196/242: 2021-03-25.png ...\n",
            "Downloading 197/242: 2021-03-31.png ...\n",
            "Downloading 198/242: 2021-04-06.png ...\n",
            "Downloading 199/242: 2021-04-12.png ...\n",
            "Downloading 200/242: 2021-04-18.png ...\n",
            "Downloading 201/242: 2021-04-24.png ...\n",
            "Downloading 202/242: 2021-04-30.png ...\n",
            "Downloading 203/242: 2021-05-06.png ...\n",
            "Downloading 204/242: 2021-05-12.png ...\n",
            "Downloading 205/242: 2021-05-18.png ...\n",
            "Downloading 206/242: 2021-05-24.png ...\n",
            "Downloading 207/242: 2021-05-30.png ...\n",
            "Downloading 208/242: 2021-06-05.png ...\n",
            "Downloading 209/242: 2021-06-11.png ...\n",
            "Downloading 210/242: 2021-06-17.png ...\n",
            "Downloading 211/242: 2021-06-23.png ...\n",
            "Downloading 212/242: 2021-06-29.png ...\n",
            "Downloading 213/242: 2021-07-05.png ...\n",
            "Downloading 214/242: 2021-07-11.png ...\n",
            "Downloading 215/242: 2021-07-17.png ...\n",
            "Downloading 216/242: 2021-07-23.png ...\n",
            "Downloading 217/242: 2021-07-29.png ...\n",
            "Downloading 218/242: 2021-08-04.png ...\n",
            "Downloading 219/242: 2021-08-10.png ...\n",
            "Downloading 220/242: 2021-08-16.png ...\n",
            "Downloading 221/242: 2021-08-22.png ...\n",
            "Downloading 222/242: 2021-08-28.png ...\n",
            "Downloading 223/242: 2021-09-03.png ...\n",
            "Downloading 224/242: 2021-09-09.png ...\n",
            "Downloading 225/242: 2021-09-15.png ...\n",
            "Downloading 226/242: 2021-09-21.png ...\n",
            "Downloading 227/242: 2021-09-27.png ...\n",
            "Downloading 228/242: 2021-10-03.png ...\n",
            "Downloading 229/242: 2021-10-09.png ...\n",
            "Downloading 230/242: 2021-10-15.png ...\n",
            "Downloading 231/242: 2021-10-21.png ...\n",
            "Downloading 232/242: 2021-10-27.png ...\n",
            "Downloading 233/242: 2021-11-02.png ...\n",
            "Downloading 234/242: 2021-11-08.png ...\n",
            "Downloading 235/242: 2021-11-14.png ...\n",
            "Downloading 236/242: 2021-11-20.png ...\n",
            "Downloading 237/242: 2021-11-26.png ...\n",
            "Downloading 238/242: 2021-12-02.png ...\n",
            "Downloading 239/242: 2021-12-08.png ...\n",
            "Downloading 240/242: 2021-12-14.png ...\n",
            "Downloading 241/242: 2021-12-20.png ...\n",
            "Downloading 242/242: 2021-12-26.png ...\n"
          ]
        }
      ]
    },
    {
      "cell_type": "markdown",
      "source": [
        "# Long Beach"
      ],
      "metadata": {
        "id": "gjOqfTNiy5nQ"
      }
    },
    {
      "cell_type": "code",
      "source": [
        "# update to long beach\n",
        "coords = geojson['features'][2]['geometry']['coordinates']\n",
        "aoi = ee.Geometry.Polygon(coords)\n",
        "\n",
        "# query EE\n",
        "collection = ee.ImageCollection('COPERNICUS/S1_GRD').filterBounds(aoi).filterDate(start, finish).filter(ee.Filter.listContains('transmitterReceiverPolarisation', 'VH'))\n",
        "collection_clipped = collection.map(cliptoaoi).sort('segmentStartTime')\n",
        "collection_list = collection_clipped.toList(collection_clipped.size())"
      ],
      "metadata": {
        "id": "8OZAjgF275KA"
      },
      "execution_count": 66,
      "outputs": []
    },
    {
      "cell_type": "code",
      "source": [
        "def format(d):\n",
        "  return d.format('yyyy-MM-dd').getInfo()"
      ],
      "metadata": {
        "id": "x4AnpJN8-oew"
      },
      "execution_count": null,
      "outputs": []
    },
    {
      "cell_type": "code",
      "source": [
        "# generate a range of days between start and end of time series\n",
        "def getdates(coll):\n",
        "  first = coll.first().date()\n",
        "  diff = finish.difference(first, 'day')\n",
        "  def getDays(day):\n",
        "    return first.advance(day,'day')\n",
        "  \n",
        "  return ee.List.sequence(0, diff.subtract(1), 6).map(getDays)"
      ],
      "metadata": {
        "id": "E4e-nHqs-WaP"
      },
      "execution_count": 65,
      "outputs": []
    },
    {
      "cell_type": "code",
      "source": [
        "# mosaic images from the same day as needed, make list of IDs from mosaic images\n",
        "newcol = ee.ImageCollection(ee.List(getdates(collection_clipped).iterate(day_mosaics, ee.List([]))))\n",
        "newcol_list = newcol.toList(newcol.size())\n",
        "ids = newcol.aggregate_array('ID').getInfo()\n",
        "\n",
        "# this is for exporting\n",
        "vis_params = {'min': -20, 'max': 0, 'bands':'VH'}"
      ],
      "metadata": {
        "id": "7K8eWYvifR4y"
      },
      "execution_count": 67,
      "outputs": []
    },
    {
      "cell_type": "code",
      "source": [
        "# take a quick look at the first image just to see\n",
        "out_img = \"tests/longbeach-first.png\"\n",
        "image = newcol.first()\n",
        "geemap.get_image_thumbnail(image, out_img, vis_params, dimensions=500, format='png')\n",
        "geemap.show_image(out_img)"
      ],
      "metadata": {
        "colab": {
          "base_uri": "https://localhost:8080/",
          "height": 391,
          "referenced_widgets": [
            "435e4e13c10d48f892818267e6768fa1",
            "79898dc7ca4b41e68dcf82f3eec79f6c",
            "1f64369c0c2b423599f3398500e123f3",
            "7b45a866246b4eee95335757febbc23c"
          ]
        },
        "id": "7wNXwSx9gjd5",
        "outputId": "fcf67c28-6989-42db-8fe7-d839d73f6f70"
      },
      "execution_count": 70,
      "outputs": [
        {
          "output_type": "display_data",
          "data": {
            "text/plain": [
              "Output()"
            ],
            "application/vnd.jupyter.widget-view+json": {
              "version_major": 2,
              "version_minor": 0,
              "model_id": "435e4e13c10d48f892818267e6768fa1"
            }
          },
          "metadata": {
            "application/vnd.jupyter.widget-view+json": {
              "colab": {
                "custom_widget_manager": {
                  "url": "https://ssl.gstatic.com/colaboratory-static/widgets/colab-cdn-widget-manager/a8874ba6619b6106/manager.min.js"
                }
              }
            }
          }
        }
      ]
    },
    {
      "cell_type": "code",
      "source": [
        "out_dir = 'finalimages/longbeach'\n",
        "geemap.get_image_collection_thumbnails(newcol, out_dir, vis_params, dimensions=500, format=\"png\", names=ids)"
      ],
      "metadata": {
        "colab": {
          "base_uri": "https://localhost:8080/"
        },
        "id": "yrVKSHNUgwqF",
        "outputId": "52f1ee86-6aa0-4d48-c80a-95121849597a"
      },
      "execution_count": 71,
      "outputs": [
        {
          "output_type": "stream",
          "name": "stdout",
          "text": [
            "Total number of images: 222\n",
            "\n",
            "Downloading 1/222: 2018-01-04.png ...\n",
            "Downloading 2/222: 2018-01-10.png ...\n",
            "Downloading 3/222: 2018-01-16.png ...\n",
            "Downloading 4/222: 2018-01-22.png ...\n",
            "Downloading 5/222: 2018-01-28.png ...\n",
            "Downloading 6/222: 2018-02-03.png ...\n",
            "Downloading 7/222: 2018-02-15.png ...\n",
            "Downloading 8/222: 2018-02-27.png ...\n",
            "Downloading 9/222: 2018-03-11.png ...\n",
            "Downloading 10/222: 2018-03-23.png ...\n",
            "Downloading 11/222: 2018-04-04.png ...\n",
            "Downloading 12/222: 2018-04-10.png ...\n",
            "Downloading 13/222: 2018-04-16.png ...\n",
            "Downloading 14/222: 2018-04-22.png ...\n",
            "Downloading 15/222: 2018-04-28.png ...\n",
            "Downloading 16/222: 2018-05-04.png ...\n",
            "Downloading 17/222: 2018-05-10.png ...\n",
            "Downloading 18/222: 2018-05-16.png ...\n",
            "Downloading 19/222: 2018-05-22.png ...\n",
            "Downloading 20/222: 2018-05-28.png ...\n",
            "Downloading 21/222: 2018-06-03.png ...\n",
            "Downloading 22/222: 2018-06-09.png ...\n",
            "Downloading 23/222: 2018-06-15.png ...\n",
            "Downloading 24/222: 2018-06-21.png ...\n",
            "Downloading 25/222: 2018-06-27.png ...\n",
            "Downloading 26/222: 2018-07-03.png ...\n",
            "Downloading 27/222: 2018-07-09.png ...\n",
            "Downloading 28/222: 2018-07-15.png ...\n",
            "Downloading 29/222: 2018-07-21.png ...\n",
            "Downloading 30/222: 2018-07-27.png ...\n",
            "Downloading 31/222: 2018-08-02.png ...\n",
            "Downloading 32/222: 2018-08-14.png ...\n",
            "Downloading 33/222: 2018-08-26.png ...\n",
            "Downloading 34/222: 2018-09-07.png ...\n",
            "Downloading 35/222: 2018-09-19.png ...\n",
            "Downloading 36/222: 2018-09-25.png ...\n",
            "Downloading 37/222: 2018-10-01.png ...\n",
            "Downloading 38/222: 2018-10-13.png ...\n",
            "Downloading 39/222: 2018-10-25.png ...\n",
            "Downloading 40/222: 2018-11-06.png ...\n",
            "Downloading 41/222: 2018-11-18.png ...\n",
            "Downloading 42/222: 2018-11-30.png ...\n",
            "Downloading 43/222: 2018-12-12.png ...\n",
            "Downloading 44/222: 2018-12-24.png ...\n",
            "Downloading 45/222: 2018-12-30.png ...\n",
            "Downloading 46/222: 2019-01-05.png ...\n",
            "Downloading 47/222: 2019-01-11.png ...\n",
            "Downloading 48/222: 2019-01-17.png ...\n",
            "Downloading 49/222: 2019-01-23.png ...\n",
            "Downloading 50/222: 2019-01-29.png ...\n",
            "Downloading 51/222: 2019-02-10.png ...\n",
            "Downloading 52/222: 2019-02-22.png ...\n",
            "Downloading 53/222: 2019-03-06.png ...\n",
            "Downloading 54/222: 2019-03-12.png ...\n",
            "Downloading 55/222: 2019-03-18.png ...\n",
            "Downloading 56/222: 2019-03-24.png ...\n",
            "Downloading 57/222: 2019-03-30.png ...\n",
            "Downloading 58/222: 2019-04-05.png ...\n",
            "Downloading 59/222: 2019-04-11.png ...\n",
            "Downloading 60/222: 2019-04-17.png ...\n",
            "Downloading 61/222: 2019-04-23.png ...\n",
            "Downloading 62/222: 2019-04-29.png ...\n",
            "Downloading 63/222: 2019-05-05.png ...\n",
            "Downloading 64/222: 2019-05-11.png ...\n",
            "Downloading 65/222: 2019-05-17.png ...\n",
            "Downloading 66/222: 2019-05-23.png ...\n",
            "Downloading 67/222: 2019-05-29.png ...\n",
            "Downloading 68/222: 2019-06-10.png ...\n",
            "Downloading 69/222: 2019-06-16.png ...\n",
            "Downloading 70/222: 2019-06-22.png ...\n",
            "Downloading 71/222: 2019-06-28.png ...\n",
            "Downloading 72/222: 2019-07-04.png ...\n",
            "Downloading 73/222: 2019-07-10.png ...\n",
            "Downloading 74/222: 2019-07-16.png ...\n",
            "Downloading 75/222: 2019-07-22.png ...\n",
            "Downloading 76/222: 2019-07-28.png ...\n",
            "Downloading 77/222: 2019-08-03.png ...\n",
            "Downloading 78/222: 2019-08-09.png ...\n",
            "Downloading 79/222: 2019-08-15.png ...\n",
            "Downloading 80/222: 2019-08-21.png ...\n",
            "Downloading 81/222: 2019-08-27.png ...\n",
            "Downloading 82/222: 2019-09-02.png ...\n",
            "Downloading 83/222: 2019-09-08.png ...\n",
            "Downloading 84/222: 2019-09-14.png ...\n",
            "Downloading 85/222: 2019-09-20.png ...\n",
            "Downloading 86/222: 2019-09-26.png ...\n",
            "Downloading 87/222: 2019-10-02.png ...\n",
            "Downloading 88/222: 2019-10-08.png ...\n",
            "Downloading 89/222: 2019-10-14.png ...\n",
            "Downloading 90/222: 2019-10-20.png ...\n",
            "Downloading 91/222: 2019-10-26.png ...\n",
            "Downloading 92/222: 2019-11-01.png ...\n",
            "Downloading 93/222: 2019-11-07.png ...\n",
            "Downloading 94/222: 2019-11-13.png ...\n",
            "Downloading 95/222: 2019-11-19.png ...\n",
            "Downloading 96/222: 2019-11-25.png ...\n",
            "Downloading 97/222: 2019-12-01.png ...\n",
            "Downloading 98/222: 2019-12-07.png ...\n",
            "Downloading 99/222: 2019-12-13.png ...\n",
            "Downloading 100/222: 2019-12-19.png ...\n",
            "Downloading 101/222: 2019-12-25.png ...\n",
            "Downloading 102/222: 2019-12-31.png ...\n",
            "Downloading 103/222: 2020-01-06.png ...\n",
            "Downloading 104/222: 2020-01-12.png ...\n",
            "Downloading 105/222: 2020-01-18.png ...\n",
            "Downloading 106/222: 2020-01-24.png ...\n",
            "Downloading 107/222: 2020-01-30.png ...\n",
            "Downloading 108/222: 2020-02-05.png ...\n",
            "Downloading 109/222: 2020-02-11.png ...\n",
            "Downloading 110/222: 2020-02-17.png ...\n",
            "Downloading 111/222: 2020-02-23.png ...\n",
            "Downloading 112/222: 2020-02-29.png ...\n",
            "Downloading 113/222: 2020-03-06.png ...\n",
            "Downloading 114/222: 2020-03-12.png ...\n",
            "Downloading 115/222: 2020-03-18.png ...\n",
            "Downloading 116/222: 2020-03-24.png ...\n",
            "Downloading 117/222: 2020-03-30.png ...\n",
            "Downloading 118/222: 2020-04-05.png ...\n",
            "Downloading 119/222: 2020-04-11.png ...\n",
            "Downloading 120/222: 2020-04-17.png ...\n",
            "Downloading 121/222: 2020-04-23.png ...\n",
            "Downloading 122/222: 2020-04-29.png ...\n",
            "Downloading 123/222: 2020-05-05.png ...\n",
            "Downloading 124/222: 2020-05-11.png ...\n",
            "Downloading 125/222: 2020-05-17.png ...\n",
            "Downloading 126/222: 2020-05-23.png ...\n",
            "Downloading 127/222: 2020-05-29.png ...\n",
            "Downloading 128/222: 2020-06-04.png ...\n",
            "Downloading 129/222: 2020-06-10.png ...\n",
            "Downloading 130/222: 2020-06-16.png ...\n",
            "Downloading 131/222: 2020-06-22.png ...\n",
            "Downloading 132/222: 2020-06-28.png ...\n",
            "Downloading 133/222: 2020-07-04.png ...\n",
            "Downloading 134/222: 2020-07-10.png ...\n",
            "Downloading 135/222: 2020-07-16.png ...\n",
            "Downloading 136/222: 2020-07-22.png ...\n",
            "Downloading 137/222: 2020-07-28.png ...\n",
            "Downloading 138/222: 2020-08-03.png ...\n",
            "Downloading 139/222: 2020-08-09.png ...\n",
            "Downloading 140/222: 2020-08-15.png ...\n",
            "Downloading 141/222: 2020-08-21.png ...\n",
            "Downloading 142/222: 2020-08-27.png ...\n",
            "Downloading 143/222: 2020-09-02.png ...\n",
            "Downloading 144/222: 2020-09-08.png ...\n",
            "Downloading 145/222: 2020-09-14.png ...\n",
            "Downloading 146/222: 2020-09-20.png ...\n",
            "Downloading 147/222: 2020-09-26.png ...\n",
            "Downloading 148/222: 2020-10-02.png ...\n",
            "Downloading 149/222: 2020-10-08.png ...\n",
            "Downloading 150/222: 2020-10-14.png ...\n",
            "Downloading 151/222: 2020-10-20.png ...\n",
            "Downloading 152/222: 2020-10-26.png ...\n",
            "Downloading 153/222: 2020-11-01.png ...\n",
            "Downloading 154/222: 2020-11-07.png ...\n",
            "Downloading 155/222: 2020-11-13.png ...\n",
            "Downloading 156/222: 2020-11-19.png ...\n",
            "Downloading 157/222: 2020-11-25.png ...\n",
            "Downloading 158/222: 2020-12-01.png ...\n",
            "Downloading 159/222: 2020-12-07.png ...\n",
            "Downloading 160/222: 2020-12-13.png ...\n",
            "Downloading 161/222: 2020-12-19.png ...\n",
            "Downloading 162/222: 2020-12-25.png ...\n",
            "Downloading 163/222: 2020-12-31.png ...\n",
            "Downloading 164/222: 2021-01-06.png ...\n",
            "Downloading 165/222: 2021-01-12.png ...\n",
            "Downloading 166/222: 2021-01-18.png ...\n",
            "Downloading 167/222: 2021-01-24.png ...\n",
            "Downloading 168/222: 2021-01-30.png ...\n",
            "Downloading 169/222: 2021-02-05.png ...\n",
            "Downloading 170/222: 2021-02-11.png ...\n",
            "Downloading 171/222: 2021-02-17.png ...\n",
            "Downloading 172/222: 2021-02-23.png ...\n",
            "Downloading 173/222: 2021-03-01.png ...\n",
            "Downloading 174/222: 2021-03-07.png ...\n",
            "Downloading 175/222: 2021-03-13.png ...\n",
            "Downloading 176/222: 2021-03-19.png ...\n",
            "Downloading 177/222: 2021-03-25.png ...\n",
            "Downloading 178/222: 2021-03-31.png ...\n",
            "Downloading 179/222: 2021-04-06.png ...\n",
            "Downloading 180/222: 2021-04-12.png ...\n",
            "Downloading 181/222: 2021-04-18.png ...\n",
            "Downloading 182/222: 2021-04-24.png ...\n",
            "Downloading 183/222: 2021-04-30.png ...\n",
            "Downloading 184/222: 2021-05-06.png ...\n",
            "Downloading 185/222: 2021-05-12.png ...\n",
            "Downloading 186/222: 2021-05-18.png ...\n",
            "Downloading 187/222: 2021-05-24.png ...\n",
            "Downloading 188/222: 2021-05-30.png ...\n",
            "Downloading 189/222: 2021-06-05.png ...\n",
            "Downloading 190/222: 2021-06-11.png ...\n",
            "Downloading 191/222: 2021-06-17.png ...\n",
            "Downloading 192/222: 2021-06-23.png ...\n",
            "Downloading 193/222: 2021-06-29.png ...\n",
            "Downloading 194/222: 2021-07-05.png ...\n",
            "Downloading 195/222: 2021-07-11.png ...\n",
            "Downloading 196/222: 2021-07-17.png ...\n",
            "Downloading 197/222: 2021-07-23.png ...\n",
            "Downloading 198/222: 2021-07-29.png ...\n",
            "Downloading 199/222: 2021-08-04.png ...\n",
            "Downloading 200/222: 2021-08-10.png ...\n",
            "Downloading 201/222: 2021-08-16.png ...\n",
            "Downloading 202/222: 2021-08-22.png ...\n",
            "Downloading 203/222: 2021-08-28.png ...\n",
            "Downloading 204/222: 2021-09-03.png ...\n",
            "Downloading 205/222: 2021-09-09.png ...\n",
            "Downloading 206/222: 2021-09-15.png ...\n",
            "Downloading 207/222: 2021-09-21.png ...\n",
            "Downloading 208/222: 2021-09-27.png ...\n",
            "Downloading 209/222: 2021-10-03.png ...\n",
            "Downloading 210/222: 2021-10-09.png ...\n",
            "Downloading 211/222: 2021-10-15.png ...\n",
            "Downloading 212/222: 2021-10-21.png ...\n",
            "Downloading 213/222: 2021-10-27.png ...\n",
            "Downloading 214/222: 2021-11-02.png ...\n",
            "Downloading 215/222: 2021-11-08.png ...\n",
            "Downloading 216/222: 2021-11-14.png ...\n",
            "Downloading 217/222: 2021-11-20.png ...\n",
            "Downloading 218/222: 2021-11-26.png ...\n",
            "Downloading 219/222: 2021-12-02.png ...\n",
            "Downloading 220/222: 2021-12-08.png ...\n",
            "Downloading 221/222: 2021-12-14.png ...\n",
            "Downloading 222/222: 2021-12-20.png ...\n"
          ]
        }
      ]
    },
    {
      "cell_type": "markdown",
      "source": [
        "# Rotterdam"
      ],
      "metadata": {
        "id": "wB3gvNcEbcvd"
      }
    },
    {
      "cell_type": "code",
      "source": [
        "# update to rotterdam\n",
        "coords = geojson['features'][3]['geometry']['coordinates']\n",
        "aoi = ee.Geometry.Polygon(coords)\n",
        "\n",
        "# query EE\n",
        "collection = ee.ImageCollection('COPERNICUS/S1_GRD').filterBounds(aoi).filterDate(start, finish).filter(ee.Filter.listContains('transmitterReceiverPolarisation', 'VH'))\n",
        "collection_clipped = collection.map(cliptoaoi).sort('segmentStartTime')\n",
        "collection_list = collection_clipped.toList(collection_clipped.size())\n",
        "\n",
        "# mosaic images from the same day as needed, make list of IDs from mosaic images\n",
        "newcol = ee.ImageCollection(ee.List(getdates(collection_clipped).iterate(day_mosaics, ee.List([]))))\n",
        "newcol_list = newcol.toList(newcol.size())\n",
        "ids = newcol.aggregate_array('ID').getInfo()\n",
        "\n",
        "# this is for exporting\n",
        "vis_params = {'min': -20, 'max': 0, 'bands':'VH'}"
      ],
      "metadata": {
        "id": "akVpk5NNhkNx"
      },
      "execution_count": 72,
      "outputs": []
    },
    {
      "cell_type": "code",
      "source": [
        "# take a quick look at the first image just to see\n",
        "out_img = \"tests/rotterdam-first.png\"\n",
        "image = newcol.first()\n",
        "geemap.get_image_thumbnail(image, out_img, vis_params, dimensions=500, format='png')\n",
        "geemap.show_image(out_img)"
      ],
      "metadata": {
        "colab": {
          "base_uri": "https://localhost:8080/",
          "height": 460,
          "referenced_widgets": [
            "b5eb4a203d2b4506a4246bd742bbbe7b",
            "efb62629a98841a2bc8efcd8c91213cc",
            "f0cc9ff5af574fe890c587456a4cab19",
            "77bdedea35ed40a59b03cd41e24fe2c7"
          ]
        },
        "id": "tGlZPiethm-T",
        "outputId": "12995abd-d571-4618-da8e-ee39c42ab990"
      },
      "execution_count": 75,
      "outputs": [
        {
          "output_type": "display_data",
          "data": {
            "text/plain": [
              "Output()"
            ],
            "application/vnd.jupyter.widget-view+json": {
              "version_major": 2,
              "version_minor": 0,
              "model_id": "b5eb4a203d2b4506a4246bd742bbbe7b"
            }
          },
          "metadata": {
            "application/vnd.jupyter.widget-view+json": {
              "colab": {
                "custom_widget_manager": {
                  "url": "https://ssl.gstatic.com/colaboratory-static/widgets/colab-cdn-widget-manager/a8874ba6619b6106/manager.min.js"
                }
              }
            }
          }
        }
      ]
    },
    {
      "cell_type": "code",
      "source": [
        "out_dir = 'finalimages/rotterdam'\n",
        "geemap.get_image_collection_thumbnails(newcol, out_dir, vis_params, dimensions=500, format=\"png\", names=ids)"
      ],
      "metadata": {
        "colab": {
          "base_uri": "https://localhost:8080/"
        },
        "id": "oacccARhhobx",
        "outputId": "9db1effb-3547-4af9-e2dd-107d0a3b0f40"
      },
      "execution_count": 76,
      "outputs": [
        {
          "output_type": "stream",
          "name": "stdout",
          "text": [
            "Total number of images: 243\n",
            "\n",
            "Downloading 1/243: 2018-01-01.png ...\n",
            "Downloading 2/243: 2018-01-07.png ...\n",
            "Downloading 3/243: 2018-01-13.png ...\n",
            "Downloading 4/243: 2018-01-19.png ...\n",
            "Downloading 5/243: 2018-01-25.png ...\n",
            "Downloading 6/243: 2018-01-31.png ...\n",
            "Downloading 7/243: 2018-02-06.png ...\n",
            "Downloading 8/243: 2018-02-12.png ...\n",
            "Downloading 9/243: 2018-02-18.png ...\n",
            "Downloading 10/243: 2018-02-24.png ...\n",
            "Downloading 11/243: 2018-03-02.png ...\n",
            "Downloading 12/243: 2018-03-08.png ...\n",
            "Downloading 13/243: 2018-03-14.png ...\n",
            "Downloading 14/243: 2018-03-20.png ...\n",
            "Downloading 15/243: 2018-03-26.png ...\n",
            "Downloading 16/243: 2018-04-01.png ...\n",
            "Downloading 17/243: 2018-04-07.png ...\n",
            "Downloading 18/243: 2018-04-13.png ...\n",
            "Downloading 19/243: 2018-04-19.png ...\n",
            "Downloading 20/243: 2018-04-25.png ...\n",
            "Downloading 21/243: 2018-05-01.png ...\n",
            "Downloading 22/243: 2018-05-07.png ...\n",
            "Downloading 23/243: 2018-05-13.png ...\n",
            "Downloading 24/243: 2018-05-19.png ...\n",
            "Downloading 25/243: 2018-05-25.png ...\n",
            "Downloading 26/243: 2018-05-31.png ...\n",
            "Downloading 27/243: 2018-06-06.png ...\n",
            "Downloading 28/243: 2018-06-12.png ...\n",
            "Downloading 29/243: 2018-06-18.png ...\n",
            "Downloading 30/243: 2018-06-24.png ...\n",
            "Downloading 31/243: 2018-06-30.png ...\n",
            "Downloading 32/243: 2018-07-06.png ...\n",
            "Downloading 33/243: 2018-07-12.png ...\n",
            "Downloading 34/243: 2018-07-18.png ...\n",
            "Downloading 35/243: 2018-07-24.png ...\n",
            "Downloading 36/243: 2018-07-30.png ...\n",
            "Downloading 37/243: 2018-08-05.png ...\n",
            "Downloading 38/243: 2018-08-11.png ...\n",
            "Downloading 39/243: 2018-08-17.png ...\n",
            "Downloading 40/243: 2018-08-23.png ...\n",
            "Downloading 41/243: 2018-08-29.png ...\n",
            "Downloading 42/243: 2018-09-04.png ...\n",
            "Downloading 43/243: 2018-09-10.png ...\n",
            "Downloading 44/243: 2018-09-16.png ...\n",
            "Downloading 45/243: 2018-09-22.png ...\n",
            "Downloading 46/243: 2018-09-28.png ...\n",
            "Downloading 47/243: 2018-10-04.png ...\n",
            "Downloading 48/243: 2018-10-10.png ...\n",
            "Downloading 49/243: 2018-10-16.png ...\n",
            "Downloading 50/243: 2018-10-22.png ...\n",
            "Downloading 51/243: 2018-10-28.png ...\n",
            "Downloading 52/243: 2018-11-03.png ...\n",
            "Downloading 53/243: 2018-11-09.png ...\n",
            "Downloading 54/243: 2018-11-15.png ...\n",
            "Downloading 55/243: 2018-11-21.png ...\n",
            "Downloading 56/243: 2018-11-27.png ...\n",
            "Downloading 57/243: 2018-12-03.png ...\n",
            "Downloading 58/243: 2018-12-15.png ...\n",
            "Downloading 59/243: 2018-12-21.png ...\n",
            "Downloading 60/243: 2018-12-27.png ...\n",
            "Downloading 61/243: 2019-01-02.png ...\n",
            "Downloading 62/243: 2019-01-08.png ...\n",
            "Downloading 63/243: 2019-01-14.png ...\n",
            "Downloading 64/243: 2019-01-20.png ...\n",
            "Downloading 65/243: 2019-01-26.png ...\n",
            "Downloading 66/243: 2019-02-01.png ...\n",
            "Downloading 67/243: 2019-02-07.png ...\n",
            "Downloading 68/243: 2019-02-13.png ...\n",
            "Downloading 69/243: 2019-02-19.png ...\n",
            "Downloading 70/243: 2019-02-25.png ...\n",
            "Downloading 71/243: 2019-03-03.png ...\n",
            "Downloading 72/243: 2019-03-09.png ...\n",
            "Downloading 73/243: 2019-03-15.png ...\n",
            "Downloading 74/243: 2019-03-21.png ...\n",
            "Downloading 75/243: 2019-03-27.png ...\n",
            "Downloading 76/243: 2019-04-02.png ...\n",
            "Downloading 77/243: 2019-04-08.png ...\n",
            "Downloading 78/243: 2019-04-14.png ...\n",
            "Downloading 79/243: 2019-04-20.png ...\n",
            "Downloading 80/243: 2019-04-26.png ...\n",
            "Downloading 81/243: 2019-05-02.png ...\n",
            "Downloading 82/243: 2019-05-08.png ...\n",
            "Downloading 83/243: 2019-05-14.png ...\n",
            "Downloading 84/243: 2019-05-20.png ...\n",
            "Downloading 85/243: 2019-05-26.png ...\n",
            "Downloading 86/243: 2019-06-01.png ...\n",
            "Downloading 87/243: 2019-06-07.png ...\n",
            "Downloading 88/243: 2019-06-13.png ...\n",
            "Downloading 89/243: 2019-06-19.png ...\n",
            "Downloading 90/243: 2019-06-25.png ...\n",
            "Downloading 91/243: 2019-07-01.png ...\n",
            "Downloading 92/243: 2019-07-07.png ...\n",
            "Downloading 93/243: 2019-07-13.png ...\n",
            "Downloading 94/243: 2019-07-19.png ...\n",
            "Downloading 95/243: 2019-07-25.png ...\n",
            "Downloading 96/243: 2019-07-31.png ...\n",
            "Downloading 97/243: 2019-08-06.png ...\n",
            "Downloading 98/243: 2019-08-12.png ...\n",
            "Downloading 99/243: 2019-08-18.png ...\n",
            "Downloading 100/243: 2019-08-24.png ...\n",
            "Downloading 101/243: 2019-08-30.png ...\n",
            "Downloading 102/243: 2019-09-05.png ...\n",
            "Downloading 103/243: 2019-09-11.png ...\n",
            "Downloading 104/243: 2019-09-17.png ...\n",
            "Downloading 105/243: 2019-09-23.png ...\n",
            "Downloading 106/243: 2019-09-29.png ...\n",
            "Downloading 107/243: 2019-10-05.png ...\n",
            "Downloading 108/243: 2019-10-11.png ...\n",
            "Downloading 109/243: 2019-10-17.png ...\n",
            "Downloading 110/243: 2019-10-23.png ...\n",
            "Downloading 111/243: 2019-10-29.png ...\n",
            "Downloading 112/243: 2019-11-04.png ...\n",
            "Downloading 113/243: 2019-11-10.png ...\n",
            "Downloading 114/243: 2019-11-16.png ...\n",
            "Downloading 115/243: 2019-11-22.png ...\n",
            "Downloading 116/243: 2019-11-28.png ...\n",
            "Downloading 117/243: 2019-12-04.png ...\n",
            "Downloading 118/243: 2019-12-10.png ...\n",
            "Downloading 119/243: 2019-12-16.png ...\n",
            "Downloading 120/243: 2019-12-22.png ...\n",
            "Downloading 121/243: 2019-12-28.png ...\n",
            "Downloading 122/243: 2020-01-03.png ...\n",
            "Downloading 123/243: 2020-01-09.png ...\n",
            "Downloading 124/243: 2020-01-15.png ...\n",
            "Downloading 125/243: 2020-01-21.png ...\n",
            "Downloading 126/243: 2020-01-27.png ...\n",
            "Downloading 127/243: 2020-02-02.png ...\n",
            "Downloading 128/243: 2020-02-08.png ...\n",
            "Downloading 129/243: 2020-02-14.png ...\n",
            "Downloading 130/243: 2020-02-20.png ...\n",
            "Downloading 131/243: 2020-02-26.png ...\n",
            "Downloading 132/243: 2020-03-03.png ...\n",
            "Downloading 133/243: 2020-03-09.png ...\n",
            "Downloading 134/243: 2020-03-15.png ...\n",
            "Downloading 135/243: 2020-03-21.png ...\n",
            "Downloading 136/243: 2020-03-27.png ...\n",
            "Downloading 137/243: 2020-04-02.png ...\n",
            "Downloading 138/243: 2020-04-08.png ...\n",
            "Downloading 139/243: 2020-04-14.png ...\n",
            "Downloading 140/243: 2020-04-20.png ...\n",
            "Downloading 141/243: 2020-04-26.png ...\n",
            "Downloading 142/243: 2020-05-02.png ...\n",
            "Downloading 143/243: 2020-05-08.png ...\n",
            "Downloading 144/243: 2020-05-14.png ...\n",
            "Downloading 145/243: 2020-05-20.png ...\n",
            "Downloading 146/243: 2020-05-26.png ...\n",
            "Downloading 147/243: 2020-06-01.png ...\n",
            "Downloading 148/243: 2020-06-07.png ...\n",
            "Downloading 149/243: 2020-06-13.png ...\n",
            "Downloading 150/243: 2020-06-19.png ...\n",
            "Downloading 151/243: 2020-06-25.png ...\n",
            "Downloading 152/243: 2020-07-01.png ...\n",
            "Downloading 153/243: 2020-07-07.png ...\n",
            "Downloading 154/243: 2020-07-13.png ...\n",
            "Downloading 155/243: 2020-07-19.png ...\n",
            "Downloading 156/243: 2020-07-25.png ...\n",
            "Downloading 157/243: 2020-07-31.png ...\n",
            "Downloading 158/243: 2020-08-06.png ...\n",
            "Downloading 159/243: 2020-08-12.png ...\n",
            "Downloading 160/243: 2020-08-18.png ...\n",
            "Downloading 161/243: 2020-08-24.png ...\n",
            "Downloading 162/243: 2020-08-30.png ...\n",
            "Downloading 163/243: 2020-09-05.png ...\n",
            "Downloading 164/243: 2020-09-11.png ...\n",
            "Downloading 165/243: 2020-09-17.png ...\n",
            "Downloading 166/243: 2020-09-23.png ...\n",
            "Downloading 167/243: 2020-09-29.png ...\n",
            "Downloading 168/243: 2020-10-05.png ...\n",
            "Downloading 169/243: 2020-10-11.png ...\n",
            "Downloading 170/243: 2020-10-17.png ...\n",
            "Downloading 171/243: 2020-10-23.png ...\n",
            "Downloading 172/243: 2020-10-29.png ...\n",
            "Downloading 173/243: 2020-11-04.png ...\n",
            "Downloading 174/243: 2020-11-10.png ...\n",
            "Downloading 175/243: 2020-11-16.png ...\n",
            "Downloading 176/243: 2020-11-22.png ...\n",
            "Downloading 177/243: 2020-11-28.png ...\n",
            "Downloading 178/243: 2020-12-04.png ...\n",
            "Downloading 179/243: 2020-12-10.png ...\n",
            "Downloading 180/243: 2020-12-16.png ...\n",
            "Downloading 181/243: 2020-12-22.png ...\n",
            "Downloading 182/243: 2020-12-28.png ...\n",
            "Downloading 183/243: 2021-01-03.png ...\n",
            "Downloading 184/243: 2021-01-09.png ...\n",
            "Downloading 185/243: 2021-01-15.png ...\n",
            "Downloading 186/243: 2021-01-21.png ...\n",
            "Downloading 187/243: 2021-01-27.png ...\n",
            "Downloading 188/243: 2021-02-02.png ...\n",
            "Downloading 189/243: 2021-02-08.png ...\n",
            "Downloading 190/243: 2021-02-14.png ...\n",
            "Downloading 191/243: 2021-02-20.png ...\n",
            "Downloading 192/243: 2021-02-26.png ...\n",
            "Downloading 193/243: 2021-03-04.png ...\n",
            "Downloading 194/243: 2021-03-10.png ...\n",
            "Downloading 195/243: 2021-03-16.png ...\n",
            "Downloading 196/243: 2021-03-22.png ...\n",
            "Downloading 197/243: 2021-03-28.png ...\n",
            "Downloading 198/243: 2021-04-03.png ...\n",
            "Downloading 199/243: 2021-04-09.png ...\n",
            "Downloading 200/243: 2021-04-15.png ...\n",
            "Downloading 201/243: 2021-04-21.png ...\n",
            "Downloading 202/243: 2021-04-27.png ...\n",
            "Downloading 203/243: 2021-05-03.png ...\n",
            "Downloading 204/243: 2021-05-09.png ...\n",
            "Downloading 205/243: 2021-05-15.png ...\n",
            "Downloading 206/243: 2021-05-21.png ...\n",
            "Downloading 207/243: 2021-05-27.png ...\n",
            "Downloading 208/243: 2021-06-02.png ...\n",
            "Downloading 209/243: 2021-06-08.png ...\n",
            "Downloading 210/243: 2021-06-14.png ...\n",
            "Downloading 211/243: 2021-06-20.png ...\n",
            "Downloading 212/243: 2021-06-26.png ...\n",
            "Downloading 213/243: 2021-07-02.png ...\n",
            "Downloading 214/243: 2021-07-08.png ...\n",
            "Downloading 215/243: 2021-07-14.png ...\n",
            "Downloading 216/243: 2021-07-20.png ...\n",
            "Downloading 217/243: 2021-07-26.png ...\n",
            "Downloading 218/243: 2021-08-01.png ...\n",
            "Downloading 219/243: 2021-08-07.png ...\n",
            "Downloading 220/243: 2021-08-13.png ...\n",
            "Downloading 221/243: 2021-08-19.png ...\n",
            "Downloading 222/243: 2021-08-25.png ...\n",
            "Downloading 223/243: 2021-08-31.png ...\n",
            "Downloading 224/243: 2021-09-06.png ...\n",
            "Downloading 225/243: 2021-09-12.png ...\n",
            "Downloading 226/243: 2021-09-18.png ...\n",
            "Downloading 227/243: 2021-09-24.png ...\n",
            "Downloading 228/243: 2021-09-30.png ...\n",
            "Downloading 229/243: 2021-10-06.png ...\n",
            "Downloading 230/243: 2021-10-12.png ...\n",
            "Downloading 231/243: 2021-10-18.png ...\n",
            "Downloading 232/243: 2021-10-24.png ...\n",
            "Downloading 233/243: 2021-10-30.png ...\n",
            "Downloading 234/243: 2021-11-05.png ...\n",
            "Downloading 235/243: 2021-11-11.png ...\n",
            "Downloading 236/243: 2021-11-17.png ...\n",
            "Downloading 237/243: 2021-11-23.png ...\n",
            "Downloading 238/243: 2021-11-29.png ...\n",
            "Downloading 239/243: 2021-12-05.png ...\n",
            "Downloading 240/243: 2021-12-11.png ...\n",
            "Downloading 241/243: 2021-12-17.png ...\n",
            "Downloading 242/243: 2021-12-23.png ...\n",
            "Downloading 243/243: 2021-12-29.png ...\n"
          ]
        }
      ]
    },
    {
      "cell_type": "markdown",
      "source": [
        "# Singapore"
      ],
      "metadata": {
        "id": "Y0MQ4FNHbgli"
      }
    },
    {
      "cell_type": "code",
      "source": [
        "# update to singapore\n",
        "coords = geojson['features'][0]['geometry']['coordinates']\n",
        "aoi = ee.Geometry.Polygon(coords)\n",
        "\n",
        "# query EE\n",
        "collection = ee.ImageCollection('COPERNICUS/S1_GRD').filterBounds(aoi).filterDate(start, finish).filter(ee.Filter.listContains('transmitterReceiverPolarisation', 'VH'))\n",
        "collection_clipped = collection.map(cliptoaoi).sort('segmentStartTime')\n",
        "collection_list = collection_clipped.toList(collection_clipped.size())"
      ],
      "metadata": {
        "id": "TLrrdkULPSru"
      },
      "execution_count": 79,
      "outputs": []
    },
    {
      "cell_type": "code",
      "source": [
        "# generate a range of days between start and end of time series\n",
        "def getdates(coll):\n",
        "  first = coll.first().date()\n",
        "  diff = finish.difference(first, 'day')\n",
        "  def getDays(day):\n",
        "    return first.advance(day,'day')\n",
        "  \n",
        "  return ee.List.sequence(0, diff.subtract(1)).map(getDays)"
      ],
      "metadata": {
        "id": "GhqRFKqhPQiq"
      },
      "execution_count": 89,
      "outputs": []
    },
    {
      "cell_type": "code",
      "source": [
        "# mosaic images from the same day as needed, make list of IDs from mosaic images\n",
        "newcol = ee.ImageCollection(ee.List(getdates(collection_clipped).iterate(day_mosaics, ee.List([]))))\n",
        "newcol_list = newcol.toList(newcol.size())\n",
        "ids = newcol.aggregate_array('ID').getInfo()\n",
        "\n",
        "# this is for exporting\n",
        "vis_params = {'min': -20, 'max': 0, 'bands':'VH'}"
      ],
      "metadata": {
        "id": "GScaLwzPPpyD"
      },
      "execution_count": 90,
      "outputs": []
    },
    {
      "cell_type": "code",
      "source": [
        "# take a quick look at the first image just to see\n",
        "out_img = \"tests/singapore-first.png\"\n",
        "image = newcol.first()\n",
        "geemap.get_image_thumbnail(image, out_img, vis_params, dimensions=500, format='png')\n",
        "geemap.show_image(out_img)"
      ],
      "metadata": {
        "colab": {
          "base_uri": "https://localhost:8080/",
          "height": 252,
          "referenced_widgets": [
            "885e65b055e24a8a99ff2424c3d62c40",
            "d73bcfb066da48bbb7f8287ef4c93ce9",
            "e37b08c2d44e460aa30bd31f5727800a",
            "d12e7508d1fb4bd0b102665d817eb6c5"
          ]
        },
        "id": "VsSFdH5nhzWZ",
        "outputId": "97b38a5b-3595-4cfd-c0f7-8cb077baf350"
      },
      "execution_count": 91,
      "outputs": [
        {
          "output_type": "display_data",
          "data": {
            "text/plain": [
              "Output()"
            ],
            "application/vnd.jupyter.widget-view+json": {
              "version_major": 2,
              "version_minor": 0,
              "model_id": "885e65b055e24a8a99ff2424c3d62c40"
            }
          },
          "metadata": {
            "application/vnd.jupyter.widget-view+json": {
              "colab": {
                "custom_widget_manager": {
                  "url": "https://ssl.gstatic.com/colaboratory-static/widgets/colab-cdn-widget-manager/a8874ba6619b6106/manager.min.js"
                }
              }
            }
          }
        }
      ]
    },
    {
      "cell_type": "code",
      "source": [
        "out_dir = 'finalimages/singapore'\n",
        "geemap.get_image_collection_thumbnails(newcol, out_dir, vis_params, dimensions=500, format=\"png\", names=ids)"
      ],
      "metadata": {
        "colab": {
          "base_uri": "https://localhost:8080/",
          "height": 1000
        },
        "id": "Ffvafp3kh4bn",
        "outputId": "e25599f4-e2a7-435e-9e95-c17158b7e961"
      },
      "execution_count": 92,
      "outputs": [
        {
          "output_type": "stream",
          "name": "stdout",
          "text": [
            "Total number of images: 237\n",
            "\n",
            "Downloading 1/237: 2018-01-05.png ...\n",
            "Downloading 2/237: 2018-01-06.png ...\n",
            "Downloading 3/237: 2018-01-16.png ...\n",
            "Downloading 4/237: 2018-01-18.png ...\n",
            "Downloading 5/237: 2018-01-28.png ...\n",
            "Downloading 6/237: 2018-01-30.png ...\n",
            "Downloading 7/237: 2018-02-09.png ...\n",
            "Downloading 8/237: 2018-02-11.png ...\n",
            "Downloading 9/237: 2018-02-21.png ...\n",
            "Downloading 10/237: 2018-02-23.png ...\n",
            "Downloading 11/237: 2018-03-05.png ...\n",
            "Downloading 12/237: 2018-03-17.png ...\n",
            "Downloading 13/237: 2018-03-19.png ...\n",
            "Downloading 14/237: 2018-03-29.png ...\n",
            "Downloading 15/237: 2018-03-31.png ...\n",
            "Downloading 16/237: 2018-04-11.png ...\n",
            "Downloading 17/237: 2018-04-12.png ...\n",
            "Downloading 18/237: 2018-04-23.png ...\n",
            "Downloading 19/237: 2018-04-24.png ...\n",
            "Downloading 20/237: 2018-05-05.png ...\n",
            "Downloading 21/237: 2018-05-06.png ...\n",
            "Downloading 22/237: 2018-05-17.png ...\n",
            "Downloading 23/237: 2018-05-18.png ...\n",
            "Downloading 24/237: 2018-05-29.png ...\n",
            "Downloading 25/237: 2018-05-30.png ...\n",
            "Downloading 26/237: 2018-06-10.png ...\n",
            "Downloading 27/237: 2018-06-11.png ...\n",
            "Downloading 28/237: 2018-06-22.png ...\n",
            "Downloading 29/237: 2018-06-23.png ...\n",
            "Downloading 30/237: 2018-07-04.png ...\n",
            "Downloading 31/237: 2018-07-05.png ...\n",
            "Downloading 32/237: 2018-07-16.png ...\n",
            "Downloading 33/237: 2018-07-17.png ...\n",
            "Downloading 34/237: 2018-07-28.png ...\n",
            "Downloading 35/237: 2018-07-29.png ...\n",
            "Downloading 36/237: 2018-08-09.png ...\n",
            "Downloading 37/237: 2018-08-10.png ...\n",
            "Downloading 38/237: 2018-08-21.png ...\n",
            "Downloading 39/237: 2018-08-22.png ...\n",
            "Downloading 40/237: 2018-09-02.png ...\n",
            "Downloading 41/237: 2018-09-03.png ...\n",
            "Downloading 42/237: 2018-09-14.png ...\n",
            "Downloading 43/237: 2018-09-15.png ...\n",
            "Downloading 44/237: 2018-09-26.png ...\n",
            "Downloading 45/237: 2018-09-27.png ...\n",
            "Downloading 46/237: 2018-10-08.png ...\n",
            "Downloading 47/237: 2018-10-09.png ...\n",
            "Downloading 48/237: 2018-10-20.png ...\n",
            "Downloading 49/237: 2018-10-21.png ...\n",
            "Downloading 50/237: 2018-11-01.png ...\n",
            "Downloading 51/237: 2018-11-02.png ...\n",
            "Downloading 52/237: 2018-11-13.png ...\n",
            "Downloading 53/237: 2018-11-14.png ...\n",
            "Downloading 54/237: 2018-11-25.png ...\n",
            "Downloading 55/237: 2018-11-26.png ...\n",
            "Downloading 56/237: 2018-12-07.png ...\n",
            "Downloading 57/237: 2018-12-08.png ...\n",
            "Downloading 58/237: 2018-12-19.png ...\n",
            "Downloading 59/237: 2018-12-20.png ...\n",
            "Downloading 60/237: 2018-12-31.png ...\n",
            "Downloading 61/237: 2019-01-01.png ...\n",
            "Downloading 62/237: 2019-01-12.png ...\n",
            "Downloading 63/237: 2019-01-13.png ...\n",
            "Downloading 64/237: 2019-01-24.png ...\n",
            "Downloading 65/237: 2019-01-25.png ...\n",
            "Downloading 66/237: 2019-02-05.png ...\n",
            "Downloading 67/237: 2019-02-06.png ...\n",
            "Downloading 68/237: 2019-02-17.png ...\n",
            "Downloading 69/237: 2019-02-18.png ...\n",
            "Downloading 70/237: 2019-03-01.png ...\n",
            "Downloading 71/237: 2019-03-02.png ...\n",
            "Downloading 72/237: 2019-03-13.png ...\n",
            "Downloading 73/237: 2019-03-14.png ...\n",
            "Downloading 74/237: 2019-03-25.png ...\n",
            "Downloading 75/237: 2019-03-26.png ...\n",
            "Downloading 76/237: 2019-04-06.png ...\n",
            "Downloading 77/237: 2019-04-07.png ...\n",
            "Downloading 78/237: 2019-04-19.png ...\n",
            "Downloading 79/237: 2019-04-30.png ...\n",
            "Downloading 80/237: 2019-05-01.png ...\n"
          ]
        },
        {
          "output_type": "error",
          "ename": "KeyboardInterrupt",
          "evalue": "ignored",
          "traceback": [
            "\u001b[0;31m---------------------------------------------------------------------------\u001b[0m",
            "\u001b[0;31mTypeError\u001b[0m                                 Traceback (most recent call last)",
            "\u001b[0;32m/usr/local/lib/python3.7/dist-packages/urllib3/connectionpool.py\u001b[0m in \u001b[0;36m_make_request\u001b[0;34m(self, conn, method, url, timeout, chunked, **httplib_request_kw)\u001b[0m\n\u001b[1;32m    376\u001b[0m             \u001b[0;32mtry\u001b[0m\u001b[0;34m:\u001b[0m  \u001b[0;31m# Python 2.7, use buffering of HTTP responses\u001b[0m\u001b[0;34m\u001b[0m\u001b[0;34m\u001b[0m\u001b[0m\n\u001b[0;32m--> 377\u001b[0;31m                 \u001b[0mhttplib_response\u001b[0m \u001b[0;34m=\u001b[0m \u001b[0mconn\u001b[0m\u001b[0;34m.\u001b[0m\u001b[0mgetresponse\u001b[0m\u001b[0;34m(\u001b[0m\u001b[0mbuffering\u001b[0m\u001b[0;34m=\u001b[0m\u001b[0;32mTrue\u001b[0m\u001b[0;34m)\u001b[0m\u001b[0;34m\u001b[0m\u001b[0;34m\u001b[0m\u001b[0m\n\u001b[0m\u001b[1;32m    378\u001b[0m             \u001b[0;32mexcept\u001b[0m \u001b[0mTypeError\u001b[0m\u001b[0;34m:\u001b[0m  \u001b[0;31m# Python 3\u001b[0m\u001b[0;34m\u001b[0m\u001b[0;34m\u001b[0m\u001b[0m\n",
            "\u001b[0;31mTypeError\u001b[0m: getresponse() got an unexpected keyword argument 'buffering'",
            "\nDuring handling of the above exception, another exception occurred:\n",
            "\u001b[0;31mKeyboardInterrupt\u001b[0m                         Traceback (most recent call last)",
            "\u001b[0;32m<ipython-input-92-af1d0259eb2a>\u001b[0m in \u001b[0;36m<module>\u001b[0;34m()\u001b[0m\n\u001b[1;32m      1\u001b[0m \u001b[0mout_dir\u001b[0m \u001b[0;34m=\u001b[0m \u001b[0;34m'finalimages/singapore'\u001b[0m\u001b[0;34m\u001b[0m\u001b[0;34m\u001b[0m\u001b[0m\n\u001b[0;32m----> 2\u001b[0;31m \u001b[0mgeemap\u001b[0m\u001b[0;34m.\u001b[0m\u001b[0mget_image_collection_thumbnails\u001b[0m\u001b[0;34m(\u001b[0m\u001b[0mnewcol\u001b[0m\u001b[0;34m,\u001b[0m \u001b[0mout_dir\u001b[0m\u001b[0;34m,\u001b[0m \u001b[0mvis_params\u001b[0m\u001b[0;34m,\u001b[0m \u001b[0mdimensions\u001b[0m\u001b[0;34m=\u001b[0m\u001b[0;36m500\u001b[0m\u001b[0;34m,\u001b[0m \u001b[0mformat\u001b[0m\u001b[0;34m=\u001b[0m\u001b[0;34m\"png\"\u001b[0m\u001b[0;34m,\u001b[0m \u001b[0mnames\u001b[0m\u001b[0;34m=\u001b[0m\u001b[0mids\u001b[0m\u001b[0;34m)\u001b[0m\u001b[0;34m\u001b[0m\u001b[0;34m\u001b[0m\u001b[0m\n\u001b[0m",
            "\u001b[0;32m/usr/local/lib/python3.7/dist-packages/geemap/common.py\u001b[0m in \u001b[0;36mget_image_collection_thumbnails\u001b[0;34m(ee_object, out_dir, vis_params, dimensions, region, format, names, verbose)\u001b[0m\n\u001b[1;32m   2034\u001b[0m                 \u001b[0mprint\u001b[0m\u001b[0;34m(\u001b[0m\u001b[0;34mf\"Downloading {i+1}/{count}: {name} ...\"\u001b[0m\u001b[0;34m)\u001b[0m\u001b[0;34m\u001b[0m\u001b[0;34m\u001b[0m\u001b[0m\n\u001b[1;32m   2035\u001b[0m \u001b[0;34m\u001b[0m\u001b[0m\n\u001b[0;32m-> 2036\u001b[0;31m             \u001b[0mget_image_thumbnail\u001b[0m\u001b[0;34m(\u001b[0m\u001b[0mimage\u001b[0m\u001b[0;34m,\u001b[0m \u001b[0mout_img\u001b[0m\u001b[0;34m,\u001b[0m \u001b[0mvis_params\u001b[0m\u001b[0;34m,\u001b[0m \u001b[0mdimensions\u001b[0m\u001b[0;34m,\u001b[0m \u001b[0mregion\u001b[0m\u001b[0;34m,\u001b[0m \u001b[0mformat\u001b[0m\u001b[0;34m)\u001b[0m\u001b[0;34m\u001b[0m\u001b[0;34m\u001b[0m\u001b[0m\n\u001b[0m\u001b[1;32m   2037\u001b[0m \u001b[0;34m\u001b[0m\u001b[0m\n\u001b[1;32m   2038\u001b[0m     \u001b[0;32mexcept\u001b[0m \u001b[0mException\u001b[0m \u001b[0;32mas\u001b[0m \u001b[0me\u001b[0m\u001b[0;34m:\u001b[0m\u001b[0;34m\u001b[0m\u001b[0;34m\u001b[0m\u001b[0m\n",
            "\u001b[0;32m/usr/local/lib/python3.7/dist-packages/geemap/common.py\u001b[0m in \u001b[0;36mget_image_thumbnail\u001b[0;34m(ee_object, out_img, vis_params, dimensions, region, format, crs, timeout)\u001b[0m\n\u001b[1;32m   1965\u001b[0m     \u001b[0mvis_params\u001b[0m\u001b[0;34m[\u001b[0m\u001b[0;34m\"format\"\u001b[0m\u001b[0;34m]\u001b[0m \u001b[0;34m=\u001b[0m \u001b[0mformat\u001b[0m\u001b[0;34m\u001b[0m\u001b[0;34m\u001b[0m\u001b[0m\n\u001b[1;32m   1966\u001b[0m     \u001b[0mvis_params\u001b[0m\u001b[0;34m[\u001b[0m\u001b[0;34m\"crs\"\u001b[0m\u001b[0;34m]\u001b[0m \u001b[0;34m=\u001b[0m \u001b[0mcrs\u001b[0m\u001b[0;34m\u001b[0m\u001b[0;34m\u001b[0m\u001b[0m\n\u001b[0;32m-> 1967\u001b[0;31m     \u001b[0murl\u001b[0m \u001b[0;34m=\u001b[0m \u001b[0mee_object\u001b[0m\u001b[0;34m.\u001b[0m\u001b[0mgetThumbURL\u001b[0m\u001b[0;34m(\u001b[0m\u001b[0mvis_params\u001b[0m\u001b[0;34m)\u001b[0m\u001b[0;34m\u001b[0m\u001b[0;34m\u001b[0m\u001b[0m\n\u001b[0m\u001b[1;32m   1968\u001b[0m \u001b[0;34m\u001b[0m\u001b[0m\n\u001b[1;32m   1969\u001b[0m     \u001b[0mr\u001b[0m \u001b[0;34m=\u001b[0m \u001b[0mrequests\u001b[0m\u001b[0;34m.\u001b[0m\u001b[0mget\u001b[0m\u001b[0;34m(\u001b[0m\u001b[0murl\u001b[0m\u001b[0;34m,\u001b[0m \u001b[0mstream\u001b[0m\u001b[0;34m=\u001b[0m\u001b[0;32mTrue\u001b[0m\u001b[0;34m,\u001b[0m \u001b[0mtimeout\u001b[0m\u001b[0;34m=\u001b[0m\u001b[0mtimeout\u001b[0m\u001b[0;34m)\u001b[0m\u001b[0;34m\u001b[0m\u001b[0;34m\u001b[0m\u001b[0m\n",
            "\u001b[0;32m/usr/local/lib/python3.7/dist-packages/ee/image.py\u001b[0m in \u001b[0;36mgetThumbURL\u001b[0;34m(self, params)\u001b[0m\n\u001b[1;32m    518\u001b[0m     \u001b[0;31m# If it isn't enabled, we have to be bug-for-bug compatible with current\u001b[0m\u001b[0;34m\u001b[0m\u001b[0;34m\u001b[0m\u001b[0;34m\u001b[0m\u001b[0m\n\u001b[1;32m    519\u001b[0m     \u001b[0;31m# behaviour.\u001b[0m\u001b[0;34m\u001b[0m\u001b[0;34m\u001b[0m\u001b[0;34m\u001b[0m\u001b[0m\n\u001b[0;32m--> 520\u001b[0;31m     \u001b[0;32mreturn\u001b[0m \u001b[0mdata\u001b[0m\u001b[0;34m.\u001b[0m\u001b[0mmakeThumbUrl\u001b[0m\u001b[0;34m(\u001b[0m\u001b[0mself\u001b[0m\u001b[0;34m.\u001b[0m\u001b[0mgetThumbId\u001b[0m\u001b[0;34m(\u001b[0m\u001b[0mparams\u001b[0m\u001b[0;34m)\u001b[0m\u001b[0;34m)\u001b[0m\u001b[0;34m\u001b[0m\u001b[0;34m\u001b[0m\u001b[0m\n\u001b[0m\u001b[1;32m    521\u001b[0m \u001b[0;34m\u001b[0m\u001b[0m\n\u001b[1;32m    522\u001b[0m   \u001b[0;31m# Deprecated spellings to match the JS library.\u001b[0m\u001b[0;34m\u001b[0m\u001b[0;34m\u001b[0m\u001b[0;34m\u001b[0m\u001b[0m\n",
            "\u001b[0;32m/usr/local/lib/python3.7/dist-packages/ee/image.py\u001b[0m in \u001b[0;36mgetThumbId\u001b[0;34m(self, params)\u001b[0m\n\u001b[1;32m    491\u001b[0m     \u001b[0mimage\u001b[0m\u001b[0;34m,\u001b[0m \u001b[0mparams\u001b[0m \u001b[0;34m=\u001b[0m \u001b[0mimage\u001b[0m\u001b[0;34m.\u001b[0m\u001b[0m_apply_visualization\u001b[0m\u001b[0;34m(\u001b[0m\u001b[0mparams\u001b[0m\u001b[0;34m)\u001b[0m  \u001b[0;31m# pylint: disable=protected-access\u001b[0m\u001b[0;34m\u001b[0m\u001b[0;34m\u001b[0m\u001b[0m\n\u001b[1;32m    492\u001b[0m     \u001b[0mparams\u001b[0m\u001b[0;34m[\u001b[0m\u001b[0;34m'image'\u001b[0m\u001b[0;34m]\u001b[0m \u001b[0;34m=\u001b[0m \u001b[0mimage\u001b[0m\u001b[0;34m\u001b[0m\u001b[0;34m\u001b[0m\u001b[0m\n\u001b[0;32m--> 493\u001b[0;31m     \u001b[0;32mreturn\u001b[0m \u001b[0mdata\u001b[0m\u001b[0;34m.\u001b[0m\u001b[0mgetThumbId\u001b[0m\u001b[0;34m(\u001b[0m\u001b[0mparams\u001b[0m\u001b[0;34m)\u001b[0m\u001b[0;34m\u001b[0m\u001b[0;34m\u001b[0m\u001b[0m\n\u001b[0m\u001b[1;32m    494\u001b[0m \u001b[0;34m\u001b[0m\u001b[0m\n\u001b[1;32m    495\u001b[0m   \u001b[0;32mdef\u001b[0m \u001b[0mgetThumbURL\u001b[0m\u001b[0;34m(\u001b[0m\u001b[0mself\u001b[0m\u001b[0;34m,\u001b[0m \u001b[0mparams\u001b[0m\u001b[0;34m=\u001b[0m\u001b[0;32mNone\u001b[0m\u001b[0;34m)\u001b[0m\u001b[0;34m:\u001b[0m\u001b[0;34m\u001b[0m\u001b[0;34m\u001b[0m\u001b[0m\n",
            "\u001b[0;32m/usr/local/lib/python3.7/dist-packages/ee/data.py\u001b[0m in \u001b[0;36mgetThumbId\u001b[0;34m(params, thumbType)\u001b[0m\n\u001b[1;32m    842\u001b[0m     result = _execute_cloud_call(\n\u001b[1;32m    843\u001b[0m         _get_cloud_api_resource().projects().thumbnails().create(\n\u001b[0;32m--> 844\u001b[0;31m             parent=_get_projects_path(), fields='name', body=request))\n\u001b[0m\u001b[1;32m    845\u001b[0m   \u001b[0;32mreturn\u001b[0m \u001b[0;34m{\u001b[0m\u001b[0;34m'thumbid'\u001b[0m\u001b[0;34m:\u001b[0m \u001b[0mresult\u001b[0m\u001b[0;34m[\u001b[0m\u001b[0;34m'name'\u001b[0m\u001b[0;34m]\u001b[0m\u001b[0;34m,\u001b[0m \u001b[0;34m'token'\u001b[0m\u001b[0;34m:\u001b[0m \u001b[0;34m''\u001b[0m\u001b[0;34m}\u001b[0m\u001b[0;34m\u001b[0m\u001b[0;34m\u001b[0m\u001b[0m\n\u001b[1;32m    846\u001b[0m \u001b[0;34m\u001b[0m\u001b[0m\n",
            "\u001b[0;32m/usr/local/lib/python3.7/dist-packages/ee/data.py\u001b[0m in \u001b[0;36m_execute_cloud_call\u001b[0;34m(call, num_retries)\u001b[0m\n\u001b[1;32m    328\u001b[0m   \"\"\"\n\u001b[1;32m    329\u001b[0m   \u001b[0;32mtry\u001b[0m\u001b[0;34m:\u001b[0m\u001b[0;34m\u001b[0m\u001b[0;34m\u001b[0m\u001b[0m\n\u001b[0;32m--> 330\u001b[0;31m     \u001b[0;32mreturn\u001b[0m \u001b[0mcall\u001b[0m\u001b[0;34m.\u001b[0m\u001b[0mexecute\u001b[0m\u001b[0;34m(\u001b[0m\u001b[0mnum_retries\u001b[0m\u001b[0;34m=\u001b[0m\u001b[0mnum_retries\u001b[0m\u001b[0;34m)\u001b[0m\u001b[0;34m\u001b[0m\u001b[0;34m\u001b[0m\u001b[0m\n\u001b[0m\u001b[1;32m    331\u001b[0m   \u001b[0;32mexcept\u001b[0m \u001b[0mgoogleapiclient\u001b[0m\u001b[0;34m.\u001b[0m\u001b[0merrors\u001b[0m\u001b[0;34m.\u001b[0m\u001b[0mHttpError\u001b[0m \u001b[0;32mas\u001b[0m \u001b[0me\u001b[0m\u001b[0;34m:\u001b[0m\u001b[0;34m\u001b[0m\u001b[0;34m\u001b[0m\u001b[0m\n\u001b[1;32m    332\u001b[0m     \u001b[0;32mraise\u001b[0m \u001b[0m_translate_cloud_exception\u001b[0m\u001b[0;34m(\u001b[0m\u001b[0me\u001b[0m\u001b[0;34m)\u001b[0m\u001b[0;34m\u001b[0m\u001b[0;34m\u001b[0m\u001b[0m\n",
            "\u001b[0;32m/usr/local/lib/python3.7/dist-packages/googleapiclient/_helpers.py\u001b[0m in \u001b[0;36mpositional_wrapper\u001b[0;34m(*args, **kwargs)\u001b[0m\n\u001b[1;32m    132\u001b[0m                 \u001b[0;32melif\u001b[0m \u001b[0mpositional_parameters_enforcement\u001b[0m \u001b[0;34m==\u001b[0m \u001b[0mPOSITIONAL_WARNING\u001b[0m\u001b[0;34m:\u001b[0m\u001b[0;34m\u001b[0m\u001b[0;34m\u001b[0m\u001b[0m\n\u001b[1;32m    133\u001b[0m                     \u001b[0mlogger\u001b[0m\u001b[0;34m.\u001b[0m\u001b[0mwarning\u001b[0m\u001b[0;34m(\u001b[0m\u001b[0mmessage\u001b[0m\u001b[0;34m)\u001b[0m\u001b[0;34m\u001b[0m\u001b[0;34m\u001b[0m\u001b[0m\n\u001b[0;32m--> 134\u001b[0;31m             \u001b[0;32mreturn\u001b[0m \u001b[0mwrapped\u001b[0m\u001b[0;34m(\u001b[0m\u001b[0;34m*\u001b[0m\u001b[0margs\u001b[0m\u001b[0;34m,\u001b[0m \u001b[0;34m**\u001b[0m\u001b[0mkwargs\u001b[0m\u001b[0;34m)\u001b[0m\u001b[0;34m\u001b[0m\u001b[0;34m\u001b[0m\u001b[0m\n\u001b[0m\u001b[1;32m    135\u001b[0m \u001b[0;34m\u001b[0m\u001b[0m\n\u001b[1;32m    136\u001b[0m         \u001b[0;32mreturn\u001b[0m \u001b[0mpositional_wrapper\u001b[0m\u001b[0;34m\u001b[0m\u001b[0;34m\u001b[0m\u001b[0m\n",
            "\u001b[0;32m/usr/local/lib/python3.7/dist-packages/googleapiclient/http.py\u001b[0m in \u001b[0;36mexecute\u001b[0;34m(self, http, num_retries)\u001b[0m\n\u001b[1;32m    907\u001b[0m             \u001b[0mmethod\u001b[0m\u001b[0;34m=\u001b[0m\u001b[0mstr\u001b[0m\u001b[0;34m(\u001b[0m\u001b[0mself\u001b[0m\u001b[0;34m.\u001b[0m\u001b[0mmethod\u001b[0m\u001b[0;34m)\u001b[0m\u001b[0;34m,\u001b[0m\u001b[0;34m\u001b[0m\u001b[0;34m\u001b[0m\u001b[0m\n\u001b[1;32m    908\u001b[0m             \u001b[0mbody\u001b[0m\u001b[0;34m=\u001b[0m\u001b[0mself\u001b[0m\u001b[0;34m.\u001b[0m\u001b[0mbody\u001b[0m\u001b[0;34m,\u001b[0m\u001b[0;34m\u001b[0m\u001b[0;34m\u001b[0m\u001b[0m\n\u001b[0;32m--> 909\u001b[0;31m             \u001b[0mheaders\u001b[0m\u001b[0;34m=\u001b[0m\u001b[0mself\u001b[0m\u001b[0;34m.\u001b[0m\u001b[0mheaders\u001b[0m\u001b[0;34m,\u001b[0m\u001b[0;34m\u001b[0m\u001b[0;34m\u001b[0m\u001b[0m\n\u001b[0m\u001b[1;32m    910\u001b[0m         )\n\u001b[1;32m    911\u001b[0m \u001b[0;34m\u001b[0m\u001b[0m\n",
            "\u001b[0;32m/usr/local/lib/python3.7/dist-packages/googleapiclient/http.py\u001b[0m in \u001b[0;36m_retry_request\u001b[0;34m(http, num_retries, req_type, sleep, rand, uri, method, *args, **kwargs)\u001b[0m\n\u001b[1;32m    175\u001b[0m         \u001b[0;32mtry\u001b[0m\u001b[0;34m:\u001b[0m\u001b[0;34m\u001b[0m\u001b[0;34m\u001b[0m\u001b[0m\n\u001b[1;32m    176\u001b[0m             \u001b[0mexception\u001b[0m \u001b[0;34m=\u001b[0m \u001b[0;32mNone\u001b[0m\u001b[0;34m\u001b[0m\u001b[0;34m\u001b[0m\u001b[0m\n\u001b[0;32m--> 177\u001b[0;31m             \u001b[0mresp\u001b[0m\u001b[0;34m,\u001b[0m \u001b[0mcontent\u001b[0m \u001b[0;34m=\u001b[0m \u001b[0mhttp\u001b[0m\u001b[0;34m.\u001b[0m\u001b[0mrequest\u001b[0m\u001b[0;34m(\u001b[0m\u001b[0muri\u001b[0m\u001b[0;34m,\u001b[0m \u001b[0mmethod\u001b[0m\u001b[0;34m,\u001b[0m \u001b[0;34m*\u001b[0m\u001b[0margs\u001b[0m\u001b[0;34m,\u001b[0m \u001b[0;34m**\u001b[0m\u001b[0mkwargs\u001b[0m\u001b[0;34m)\u001b[0m\u001b[0;34m\u001b[0m\u001b[0;34m\u001b[0m\u001b[0m\n\u001b[0m\u001b[1;32m    178\u001b[0m         \u001b[0;31m# Retry on SSL errors and socket timeout errors.\u001b[0m\u001b[0;34m\u001b[0m\u001b[0;34m\u001b[0m\u001b[0;34m\u001b[0m\u001b[0m\n\u001b[1;32m    179\u001b[0m         \u001b[0;32mexcept\u001b[0m \u001b[0m_ssl_SSLError\u001b[0m \u001b[0;32mas\u001b[0m \u001b[0mssl_error\u001b[0m\u001b[0;34m:\u001b[0m\u001b[0;34m\u001b[0m\u001b[0;34m\u001b[0m\u001b[0m\n",
            "\u001b[0;32m/usr/local/lib/python3.7/dist-packages/google_auth_httplib2.py\u001b[0m in \u001b[0;36mrequest\u001b[0;34m(self, uri, method, body, headers, **kwargs)\u001b[0m\n\u001b[1;32m    199\u001b[0m         \u001b[0;31m# Make the request.\u001b[0m\u001b[0;34m\u001b[0m\u001b[0;34m\u001b[0m\u001b[0;34m\u001b[0m\u001b[0m\n\u001b[1;32m    200\u001b[0m         response, content = self.http.request(\n\u001b[0;32m--> 201\u001b[0;31m             uri, method, body=body, headers=request_headers, **kwargs)\n\u001b[0m\u001b[1;32m    202\u001b[0m \u001b[0;34m\u001b[0m\u001b[0m\n\u001b[1;32m    203\u001b[0m         \u001b[0;31m# If the response indicated that the credentials needed to be\u001b[0m\u001b[0;34m\u001b[0m\u001b[0;34m\u001b[0m\u001b[0;34m\u001b[0m\u001b[0m\n",
            "\u001b[0;32m/usr/local/lib/python3.7/dist-packages/httplib2/__init__.py\u001b[0m in \u001b[0;36mrequest\u001b[0;34m(self, uri, method, body, headers, redirections, connection_type)\u001b[0m\n\u001b[1;32m   1989\u001b[0m                         \u001b[0mheaders\u001b[0m\u001b[0;34m,\u001b[0m\u001b[0;34m\u001b[0m\u001b[0;34m\u001b[0m\u001b[0m\n\u001b[1;32m   1990\u001b[0m                         \u001b[0mredirections\u001b[0m\u001b[0;34m,\u001b[0m\u001b[0;34m\u001b[0m\u001b[0;34m\u001b[0m\u001b[0m\n\u001b[0;32m-> 1991\u001b[0;31m                         \u001b[0mcachekey\u001b[0m\u001b[0;34m,\u001b[0m\u001b[0;34m\u001b[0m\u001b[0;34m\u001b[0m\u001b[0m\n\u001b[0m\u001b[1;32m   1992\u001b[0m                     )\n\u001b[1;32m   1993\u001b[0m         \u001b[0;32mexcept\u001b[0m \u001b[0mException\u001b[0m \u001b[0;32mas\u001b[0m \u001b[0me\u001b[0m\u001b[0;34m:\u001b[0m\u001b[0;34m\u001b[0m\u001b[0;34m\u001b[0m\u001b[0m\n",
            "\u001b[0;32m/usr/local/lib/python3.7/dist-packages/httplib2/__init__.py\u001b[0m in \u001b[0;36m_request\u001b[0;34m(self, conn, host, absolute_uri, request_uri, method, body, headers, redirections, cachekey)\u001b[0m\n\u001b[1;32m   1649\u001b[0m \u001b[0;34m\u001b[0m\u001b[0m\n\u001b[1;32m   1650\u001b[0m         (response, content) = self._conn_request(\n\u001b[0;32m-> 1651\u001b[0;31m             \u001b[0mconn\u001b[0m\u001b[0;34m,\u001b[0m \u001b[0mrequest_uri\u001b[0m\u001b[0;34m,\u001b[0m \u001b[0mmethod\u001b[0m\u001b[0;34m,\u001b[0m \u001b[0mbody\u001b[0m\u001b[0;34m,\u001b[0m \u001b[0mheaders\u001b[0m\u001b[0;34m\u001b[0m\u001b[0;34m\u001b[0m\u001b[0m\n\u001b[0m\u001b[1;32m   1652\u001b[0m         )\n\u001b[1;32m   1653\u001b[0m \u001b[0;34m\u001b[0m\u001b[0m\n",
            "\u001b[0;32m/usr/local/lib/python3.7/dist-packages/httplib2shim/__init__.py\u001b[0m in \u001b[0;36m_conn_request\u001b[0;34m(self, conn, request_uri, method, body, headers)\u001b[0m\n\u001b[1;32m    146\u001b[0m                 \u001b[0mretries\u001b[0m\u001b[0;34m=\u001b[0m\u001b[0murllib3\u001b[0m\u001b[0;34m.\u001b[0m\u001b[0mRetry\u001b[0m\u001b[0;34m(\u001b[0m\u001b[0mtotal\u001b[0m\u001b[0;34m=\u001b[0m\u001b[0;32mFalse\u001b[0m\u001b[0;34m,\u001b[0m \u001b[0mredirect\u001b[0m\u001b[0;34m=\u001b[0m\u001b[0;36m0\u001b[0m\u001b[0;34m)\u001b[0m\u001b[0;34m,\u001b[0m\u001b[0;34m\u001b[0m\u001b[0;34m\u001b[0m\u001b[0m\n\u001b[1;32m    147\u001b[0m                 \u001b[0mtimeout\u001b[0m\u001b[0;34m=\u001b[0m\u001b[0murllib3\u001b[0m\u001b[0;34m.\u001b[0m\u001b[0mTimeout\u001b[0m\u001b[0;34m(\u001b[0m\u001b[0mtotal\u001b[0m\u001b[0;34m=\u001b[0m\u001b[0mself\u001b[0m\u001b[0;34m.\u001b[0m\u001b[0mtimeout\u001b[0m\u001b[0;34m)\u001b[0m\u001b[0;34m,\u001b[0m\u001b[0;34m\u001b[0m\u001b[0;34m\u001b[0m\u001b[0m\n\u001b[0;32m--> 148\u001b[0;31m                 decode_content=decode)\n\u001b[0m\u001b[1;32m    149\u001b[0m \u001b[0;34m\u001b[0m\u001b[0m\n\u001b[1;32m    150\u001b[0m             \u001b[0mresponse\u001b[0m \u001b[0;34m=\u001b[0m \u001b[0m_map_response\u001b[0m\u001b[0;34m(\u001b[0m\u001b[0murllib3_response\u001b[0m\u001b[0;34m,\u001b[0m \u001b[0mdecode\u001b[0m\u001b[0;34m=\u001b[0m\u001b[0mdecode\u001b[0m\u001b[0;34m)\u001b[0m\u001b[0;34m\u001b[0m\u001b[0;34m\u001b[0m\u001b[0m\n",
            "\u001b[0;32m/usr/local/lib/python3.7/dist-packages/urllib3/request.py\u001b[0m in \u001b[0;36mrequest\u001b[0;34m(self, method, url, fields, headers, **urlopen_kw)\u001b[0m\n\u001b[1;32m     70\u001b[0m             return self.request_encode_body(method, url, fields=fields,\n\u001b[1;32m     71\u001b[0m                                             \u001b[0mheaders\u001b[0m\u001b[0;34m=\u001b[0m\u001b[0mheaders\u001b[0m\u001b[0;34m,\u001b[0m\u001b[0;34m\u001b[0m\u001b[0;34m\u001b[0m\u001b[0m\n\u001b[0;32m---> 72\u001b[0;31m                                             **urlopen_kw)\n\u001b[0m\u001b[1;32m     73\u001b[0m \u001b[0;34m\u001b[0m\u001b[0m\n\u001b[1;32m     74\u001b[0m     def request_encode_url(self, method, url, fields=None, headers=None,\n",
            "\u001b[0;32m/usr/local/lib/python3.7/dist-packages/urllib3/request.py\u001b[0m in \u001b[0;36mrequest_encode_body\u001b[0;34m(self, method, url, fields, headers, encode_multipart, multipart_boundary, **urlopen_kw)\u001b[0m\n\u001b[1;32m    148\u001b[0m         \u001b[0mextra_kw\u001b[0m\u001b[0;34m.\u001b[0m\u001b[0mupdate\u001b[0m\u001b[0;34m(\u001b[0m\u001b[0murlopen_kw\u001b[0m\u001b[0;34m)\u001b[0m\u001b[0;34m\u001b[0m\u001b[0;34m\u001b[0m\u001b[0m\n\u001b[1;32m    149\u001b[0m \u001b[0;34m\u001b[0m\u001b[0m\n\u001b[0;32m--> 150\u001b[0;31m         \u001b[0;32mreturn\u001b[0m \u001b[0mself\u001b[0m\u001b[0;34m.\u001b[0m\u001b[0murlopen\u001b[0m\u001b[0;34m(\u001b[0m\u001b[0mmethod\u001b[0m\u001b[0;34m,\u001b[0m \u001b[0murl\u001b[0m\u001b[0;34m,\u001b[0m \u001b[0;34m**\u001b[0m\u001b[0mextra_kw\u001b[0m\u001b[0;34m)\u001b[0m\u001b[0;34m\u001b[0m\u001b[0;34m\u001b[0m\u001b[0m\n\u001b[0m",
            "\u001b[0;32m/usr/local/lib/python3.7/dist-packages/urllib3/poolmanager.py\u001b[0m in \u001b[0;36murlopen\u001b[0;34m(self, method, url, redirect, **kw)\u001b[0m\n\u001b[1;32m    322\u001b[0m             \u001b[0mresponse\u001b[0m \u001b[0;34m=\u001b[0m \u001b[0mconn\u001b[0m\u001b[0;34m.\u001b[0m\u001b[0murlopen\u001b[0m\u001b[0;34m(\u001b[0m\u001b[0mmethod\u001b[0m\u001b[0;34m,\u001b[0m \u001b[0murl\u001b[0m\u001b[0;34m,\u001b[0m \u001b[0;34m**\u001b[0m\u001b[0mkw\u001b[0m\u001b[0;34m)\u001b[0m\u001b[0;34m\u001b[0m\u001b[0;34m\u001b[0m\u001b[0m\n\u001b[1;32m    323\u001b[0m         \u001b[0;32melse\u001b[0m\u001b[0;34m:\u001b[0m\u001b[0;34m\u001b[0m\u001b[0;34m\u001b[0m\u001b[0m\n\u001b[0;32m--> 324\u001b[0;31m             \u001b[0mresponse\u001b[0m \u001b[0;34m=\u001b[0m \u001b[0mconn\u001b[0m\u001b[0;34m.\u001b[0m\u001b[0murlopen\u001b[0m\u001b[0;34m(\u001b[0m\u001b[0mmethod\u001b[0m\u001b[0;34m,\u001b[0m \u001b[0mu\u001b[0m\u001b[0;34m.\u001b[0m\u001b[0mrequest_uri\u001b[0m\u001b[0;34m,\u001b[0m \u001b[0;34m**\u001b[0m\u001b[0mkw\u001b[0m\u001b[0;34m)\u001b[0m\u001b[0;34m\u001b[0m\u001b[0;34m\u001b[0m\u001b[0m\n\u001b[0m\u001b[1;32m    325\u001b[0m \u001b[0;34m\u001b[0m\u001b[0m\n\u001b[1;32m    326\u001b[0m         \u001b[0mredirect_location\u001b[0m \u001b[0;34m=\u001b[0m \u001b[0mredirect\u001b[0m \u001b[0;32mand\u001b[0m \u001b[0mresponse\u001b[0m\u001b[0;34m.\u001b[0m\u001b[0mget_redirect_location\u001b[0m\u001b[0;34m(\u001b[0m\u001b[0;34m)\u001b[0m\u001b[0;34m\u001b[0m\u001b[0;34m\u001b[0m\u001b[0m\n",
            "\u001b[0;32m/usr/local/lib/python3.7/dist-packages/urllib3/connectionpool.py\u001b[0m in \u001b[0;36murlopen\u001b[0;34m(self, method, url, body, headers, retries, redirect, assert_same_host, timeout, pool_timeout, release_conn, chunked, body_pos, **response_kw)\u001b[0m\n\u001b[1;32m    598\u001b[0m                                                   \u001b[0mtimeout\u001b[0m\u001b[0;34m=\u001b[0m\u001b[0mtimeout_obj\u001b[0m\u001b[0;34m,\u001b[0m\u001b[0;34m\u001b[0m\u001b[0;34m\u001b[0m\u001b[0m\n\u001b[1;32m    599\u001b[0m                                                   \u001b[0mbody\u001b[0m\u001b[0;34m=\u001b[0m\u001b[0mbody\u001b[0m\u001b[0;34m,\u001b[0m \u001b[0mheaders\u001b[0m\u001b[0;34m=\u001b[0m\u001b[0mheaders\u001b[0m\u001b[0;34m,\u001b[0m\u001b[0;34m\u001b[0m\u001b[0;34m\u001b[0m\u001b[0m\n\u001b[0;32m--> 600\u001b[0;31m                                                   chunked=chunked)\n\u001b[0m\u001b[1;32m    601\u001b[0m \u001b[0;34m\u001b[0m\u001b[0m\n\u001b[1;32m    602\u001b[0m             \u001b[0;31m# If we're going to release the connection in ``finally:``, then\u001b[0m\u001b[0;34m\u001b[0m\u001b[0;34m\u001b[0m\u001b[0;34m\u001b[0m\u001b[0m\n",
            "\u001b[0;32m/usr/local/lib/python3.7/dist-packages/urllib3/connectionpool.py\u001b[0m in \u001b[0;36m_make_request\u001b[0;34m(self, conn, method, url, timeout, chunked, **httplib_request_kw)\u001b[0m\n\u001b[1;32m    378\u001b[0m             \u001b[0;32mexcept\u001b[0m \u001b[0mTypeError\u001b[0m\u001b[0;34m:\u001b[0m  \u001b[0;31m# Python 3\u001b[0m\u001b[0;34m\u001b[0m\u001b[0;34m\u001b[0m\u001b[0m\n\u001b[1;32m    379\u001b[0m                 \u001b[0;32mtry\u001b[0m\u001b[0;34m:\u001b[0m\u001b[0;34m\u001b[0m\u001b[0;34m\u001b[0m\u001b[0m\n\u001b[0;32m--> 380\u001b[0;31m                     \u001b[0mhttplib_response\u001b[0m \u001b[0;34m=\u001b[0m \u001b[0mconn\u001b[0m\u001b[0;34m.\u001b[0m\u001b[0mgetresponse\u001b[0m\u001b[0;34m(\u001b[0m\u001b[0;34m)\u001b[0m\u001b[0;34m\u001b[0m\u001b[0;34m\u001b[0m\u001b[0m\n\u001b[0m\u001b[1;32m    381\u001b[0m                 \u001b[0;32mexcept\u001b[0m \u001b[0mException\u001b[0m \u001b[0;32mas\u001b[0m \u001b[0me\u001b[0m\u001b[0;34m:\u001b[0m\u001b[0;34m\u001b[0m\u001b[0;34m\u001b[0m\u001b[0m\n\u001b[1;32m    382\u001b[0m                     \u001b[0;31m# Remove the TypeError from the exception chain in Python 3;\u001b[0m\u001b[0;34m\u001b[0m\u001b[0;34m\u001b[0m\u001b[0;34m\u001b[0m\u001b[0m\n",
            "\u001b[0;32m/usr/lib/python3.7/http/client.py\u001b[0m in \u001b[0;36mgetresponse\u001b[0;34m(self)\u001b[0m\n\u001b[1;32m   1371\u001b[0m         \u001b[0;32mtry\u001b[0m\u001b[0;34m:\u001b[0m\u001b[0;34m\u001b[0m\u001b[0;34m\u001b[0m\u001b[0m\n\u001b[1;32m   1372\u001b[0m             \u001b[0;32mtry\u001b[0m\u001b[0;34m:\u001b[0m\u001b[0;34m\u001b[0m\u001b[0;34m\u001b[0m\u001b[0m\n\u001b[0;32m-> 1373\u001b[0;31m                 \u001b[0mresponse\u001b[0m\u001b[0;34m.\u001b[0m\u001b[0mbegin\u001b[0m\u001b[0;34m(\u001b[0m\u001b[0;34m)\u001b[0m\u001b[0;34m\u001b[0m\u001b[0;34m\u001b[0m\u001b[0m\n\u001b[0m\u001b[1;32m   1374\u001b[0m             \u001b[0;32mexcept\u001b[0m \u001b[0mConnectionError\u001b[0m\u001b[0;34m:\u001b[0m\u001b[0;34m\u001b[0m\u001b[0;34m\u001b[0m\u001b[0m\n\u001b[1;32m   1375\u001b[0m                 \u001b[0mself\u001b[0m\u001b[0;34m.\u001b[0m\u001b[0mclose\u001b[0m\u001b[0;34m(\u001b[0m\u001b[0;34m)\u001b[0m\u001b[0;34m\u001b[0m\u001b[0;34m\u001b[0m\u001b[0m\n",
            "\u001b[0;32m/usr/lib/python3.7/http/client.py\u001b[0m in \u001b[0;36mbegin\u001b[0;34m(self)\u001b[0m\n\u001b[1;32m    317\u001b[0m         \u001b[0;31m# read until we get a non-100 response\u001b[0m\u001b[0;34m\u001b[0m\u001b[0;34m\u001b[0m\u001b[0;34m\u001b[0m\u001b[0m\n\u001b[1;32m    318\u001b[0m         \u001b[0;32mwhile\u001b[0m \u001b[0;32mTrue\u001b[0m\u001b[0;34m:\u001b[0m\u001b[0;34m\u001b[0m\u001b[0;34m\u001b[0m\u001b[0m\n\u001b[0;32m--> 319\u001b[0;31m             \u001b[0mversion\u001b[0m\u001b[0;34m,\u001b[0m \u001b[0mstatus\u001b[0m\u001b[0;34m,\u001b[0m \u001b[0mreason\u001b[0m \u001b[0;34m=\u001b[0m \u001b[0mself\u001b[0m\u001b[0;34m.\u001b[0m\u001b[0m_read_status\u001b[0m\u001b[0;34m(\u001b[0m\u001b[0;34m)\u001b[0m\u001b[0;34m\u001b[0m\u001b[0;34m\u001b[0m\u001b[0m\n\u001b[0m\u001b[1;32m    320\u001b[0m             \u001b[0;32mif\u001b[0m \u001b[0mstatus\u001b[0m \u001b[0;34m!=\u001b[0m \u001b[0mCONTINUE\u001b[0m\u001b[0;34m:\u001b[0m\u001b[0;34m\u001b[0m\u001b[0;34m\u001b[0m\u001b[0m\n\u001b[1;32m    321\u001b[0m                 \u001b[0;32mbreak\u001b[0m\u001b[0;34m\u001b[0m\u001b[0;34m\u001b[0m\u001b[0m\n",
            "\u001b[0;32m/usr/lib/python3.7/http/client.py\u001b[0m in \u001b[0;36m_read_status\u001b[0;34m(self)\u001b[0m\n\u001b[1;32m    278\u001b[0m \u001b[0;34m\u001b[0m\u001b[0m\n\u001b[1;32m    279\u001b[0m     \u001b[0;32mdef\u001b[0m \u001b[0m_read_status\u001b[0m\u001b[0;34m(\u001b[0m\u001b[0mself\u001b[0m\u001b[0;34m)\u001b[0m\u001b[0;34m:\u001b[0m\u001b[0;34m\u001b[0m\u001b[0;34m\u001b[0m\u001b[0m\n\u001b[0;32m--> 280\u001b[0;31m         \u001b[0mline\u001b[0m \u001b[0;34m=\u001b[0m \u001b[0mstr\u001b[0m\u001b[0;34m(\u001b[0m\u001b[0mself\u001b[0m\u001b[0;34m.\u001b[0m\u001b[0mfp\u001b[0m\u001b[0;34m.\u001b[0m\u001b[0mreadline\u001b[0m\u001b[0;34m(\u001b[0m\u001b[0m_MAXLINE\u001b[0m \u001b[0;34m+\u001b[0m \u001b[0;36m1\u001b[0m\u001b[0;34m)\u001b[0m\u001b[0;34m,\u001b[0m \u001b[0;34m\"iso-8859-1\"\u001b[0m\u001b[0;34m)\u001b[0m\u001b[0;34m\u001b[0m\u001b[0;34m\u001b[0m\u001b[0m\n\u001b[0m\u001b[1;32m    281\u001b[0m         \u001b[0;32mif\u001b[0m \u001b[0mlen\u001b[0m\u001b[0;34m(\u001b[0m\u001b[0mline\u001b[0m\u001b[0;34m)\u001b[0m \u001b[0;34m>\u001b[0m \u001b[0m_MAXLINE\u001b[0m\u001b[0;34m:\u001b[0m\u001b[0;34m\u001b[0m\u001b[0;34m\u001b[0m\u001b[0m\n\u001b[1;32m    282\u001b[0m             \u001b[0;32mraise\u001b[0m \u001b[0mLineTooLong\u001b[0m\u001b[0;34m(\u001b[0m\u001b[0;34m\"status line\"\u001b[0m\u001b[0;34m)\u001b[0m\u001b[0;34m\u001b[0m\u001b[0;34m\u001b[0m\u001b[0m\n",
            "\u001b[0;32m/usr/lib/python3.7/socket.py\u001b[0m in \u001b[0;36mreadinto\u001b[0;34m(self, b)\u001b[0m\n\u001b[1;32m    587\u001b[0m         \u001b[0;32mwhile\u001b[0m \u001b[0;32mTrue\u001b[0m\u001b[0;34m:\u001b[0m\u001b[0;34m\u001b[0m\u001b[0;34m\u001b[0m\u001b[0m\n\u001b[1;32m    588\u001b[0m             \u001b[0;32mtry\u001b[0m\u001b[0;34m:\u001b[0m\u001b[0;34m\u001b[0m\u001b[0;34m\u001b[0m\u001b[0m\n\u001b[0;32m--> 589\u001b[0;31m                 \u001b[0;32mreturn\u001b[0m \u001b[0mself\u001b[0m\u001b[0;34m.\u001b[0m\u001b[0m_sock\u001b[0m\u001b[0;34m.\u001b[0m\u001b[0mrecv_into\u001b[0m\u001b[0;34m(\u001b[0m\u001b[0mb\u001b[0m\u001b[0;34m)\u001b[0m\u001b[0;34m\u001b[0m\u001b[0;34m\u001b[0m\u001b[0m\n\u001b[0m\u001b[1;32m    590\u001b[0m             \u001b[0;32mexcept\u001b[0m \u001b[0mtimeout\u001b[0m\u001b[0;34m:\u001b[0m\u001b[0;34m\u001b[0m\u001b[0;34m\u001b[0m\u001b[0m\n\u001b[1;32m    591\u001b[0m                 \u001b[0mself\u001b[0m\u001b[0;34m.\u001b[0m\u001b[0m_timeout_occurred\u001b[0m \u001b[0;34m=\u001b[0m \u001b[0;32mTrue\u001b[0m\u001b[0;34m\u001b[0m\u001b[0;34m\u001b[0m\u001b[0m\n",
            "\u001b[0;32m/usr/lib/python3.7/ssl.py\u001b[0m in \u001b[0;36mrecv_into\u001b[0;34m(self, buffer, nbytes, flags)\u001b[0m\n\u001b[1;32m   1069\u001b[0m                   \u001b[0;34m\"non-zero flags not allowed in calls to recv_into() on %s\"\u001b[0m \u001b[0;34m%\u001b[0m\u001b[0;34m\u001b[0m\u001b[0;34m\u001b[0m\u001b[0m\n\u001b[1;32m   1070\u001b[0m                   self.__class__)\n\u001b[0;32m-> 1071\u001b[0;31m             \u001b[0;32mreturn\u001b[0m \u001b[0mself\u001b[0m\u001b[0;34m.\u001b[0m\u001b[0mread\u001b[0m\u001b[0;34m(\u001b[0m\u001b[0mnbytes\u001b[0m\u001b[0;34m,\u001b[0m \u001b[0mbuffer\u001b[0m\u001b[0;34m)\u001b[0m\u001b[0;34m\u001b[0m\u001b[0;34m\u001b[0m\u001b[0m\n\u001b[0m\u001b[1;32m   1072\u001b[0m         \u001b[0;32melse\u001b[0m\u001b[0;34m:\u001b[0m\u001b[0;34m\u001b[0m\u001b[0;34m\u001b[0m\u001b[0m\n\u001b[1;32m   1073\u001b[0m             \u001b[0;32mreturn\u001b[0m \u001b[0msuper\u001b[0m\u001b[0;34m(\u001b[0m\u001b[0;34m)\u001b[0m\u001b[0;34m.\u001b[0m\u001b[0mrecv_into\u001b[0m\u001b[0;34m(\u001b[0m\u001b[0mbuffer\u001b[0m\u001b[0;34m,\u001b[0m \u001b[0mnbytes\u001b[0m\u001b[0;34m,\u001b[0m \u001b[0mflags\u001b[0m\u001b[0;34m)\u001b[0m\u001b[0;34m\u001b[0m\u001b[0;34m\u001b[0m\u001b[0m\n",
            "\u001b[0;32m/usr/lib/python3.7/ssl.py\u001b[0m in \u001b[0;36mread\u001b[0;34m(self, len, buffer)\u001b[0m\n\u001b[1;32m    927\u001b[0m         \u001b[0;32mtry\u001b[0m\u001b[0;34m:\u001b[0m\u001b[0;34m\u001b[0m\u001b[0;34m\u001b[0m\u001b[0m\n\u001b[1;32m    928\u001b[0m             \u001b[0;32mif\u001b[0m \u001b[0mbuffer\u001b[0m \u001b[0;32mis\u001b[0m \u001b[0;32mnot\u001b[0m \u001b[0;32mNone\u001b[0m\u001b[0;34m:\u001b[0m\u001b[0;34m\u001b[0m\u001b[0;34m\u001b[0m\u001b[0m\n\u001b[0;32m--> 929\u001b[0;31m                 \u001b[0;32mreturn\u001b[0m \u001b[0mself\u001b[0m\u001b[0;34m.\u001b[0m\u001b[0m_sslobj\u001b[0m\u001b[0;34m.\u001b[0m\u001b[0mread\u001b[0m\u001b[0;34m(\u001b[0m\u001b[0mlen\u001b[0m\u001b[0;34m,\u001b[0m \u001b[0mbuffer\u001b[0m\u001b[0;34m)\u001b[0m\u001b[0;34m\u001b[0m\u001b[0;34m\u001b[0m\u001b[0m\n\u001b[0m\u001b[1;32m    930\u001b[0m             \u001b[0;32melse\u001b[0m\u001b[0;34m:\u001b[0m\u001b[0;34m\u001b[0m\u001b[0;34m\u001b[0m\u001b[0m\n\u001b[1;32m    931\u001b[0m                 \u001b[0;32mreturn\u001b[0m \u001b[0mself\u001b[0m\u001b[0;34m.\u001b[0m\u001b[0m_sslobj\u001b[0m\u001b[0;34m.\u001b[0m\u001b[0mread\u001b[0m\u001b[0;34m(\u001b[0m\u001b[0mlen\u001b[0m\u001b[0;34m)\u001b[0m\u001b[0;34m\u001b[0m\u001b[0;34m\u001b[0m\u001b[0m\n",
            "\u001b[0;31mKeyboardInterrupt\u001b[0m: "
          ]
        }
      ]
    }
  ],
  "metadata": {
    "colab": {
      "collapsed_sections": [],
      "name": "MLSTA Final Project Preprocessing",
      "provenance": [],
      "include_colab_link": true
    },
    "kernelspec": {
      "display_name": "Python 3",
      "name": "python3"
    },
    "widgets": {
      "application/vnd.jupyter.widget-state+json": {
        "6b4cf6d7a5d34d9ebc531d9469374b38": {
          "model_module": "@jupyter-widgets/output",
          "model_name": "OutputModel",
          "model_module_version": "1.0.0",
          "state": {
            "_dom_classes": [],
            "_model_module": "@jupyter-widgets/output",
            "_model_module_version": "1.0.0",
            "_model_name": "OutputModel",
            "_view_count": null,
            "_view_module": "@jupyter-widgets/output",
            "_view_module_version": "1.0.0",
            "_view_name": "OutputView",
            "layout": "IPY_MODEL_4e5282f81eee4803a7284a6dfde39137",
            "msg_id": "",
            "outputs": [
              {
                "output_type": "display_data",
                "data": {
                  "text/plain": "Image(value=b'\\x89PNG\\r\\n\\x1a\\n\\x00\\x00\\x00\\rIHDR\\x00\\x00\\x01\\xf4\\x00\\x00\\x01\\xb6\\x08\\x04\\x00\\x00\\x00#O\\xbcf\\x…",
                  "application/vnd.jupyter.widget-view+json": {
                    "version_major": 2,
                    "version_minor": 0,
                    "model_id": "2cb14a5d1f804ff3afb5c47b35786839"
                  }
                },
                "metadata": {
                  "application/vnd.jupyter.widget-view+json": {
                    "colab": {
                      "custom_widget_manager": {
                        "url": "https://ssl.gstatic.com/colaboratory-static/widgets/colab-cdn-widget-manager/a8874ba6619b6106/manager.min.js"
                      }
                    }
                  }
                }
              }
            ]
          }
        },
        "4e5282f81eee4803a7284a6dfde39137": {
          "model_module": "@jupyter-widgets/base",
          "model_name": "LayoutModel",
          "model_module_version": "1.2.0",
          "state": {
            "_model_module": "@jupyter-widgets/base",
            "_model_module_version": "1.2.0",
            "_model_name": "LayoutModel",
            "_view_count": null,
            "_view_module": "@jupyter-widgets/base",
            "_view_module_version": "1.2.0",
            "_view_name": "LayoutView",
            "align_content": null,
            "align_items": null,
            "align_self": null,
            "border": null,
            "bottom": null,
            "display": null,
            "flex": null,
            "flex_flow": null,
            "grid_area": null,
            "grid_auto_columns": null,
            "grid_auto_flow": null,
            "grid_auto_rows": null,
            "grid_column": null,
            "grid_gap": null,
            "grid_row": null,
            "grid_template_areas": null,
            "grid_template_columns": null,
            "grid_template_rows": null,
            "height": null,
            "justify_content": null,
            "justify_items": null,
            "left": null,
            "margin": null,
            "max_height": null,
            "max_width": null,
            "min_height": null,
            "min_width": null,
            "object_fit": null,
            "object_position": null,
            "order": null,
            "overflow": null,
            "overflow_x": null,
            "overflow_y": null,
            "padding": null,
            "right": null,
            "top": null,
            "visibility": null,
            "width": null
          }
        },
        "2cb14a5d1f804ff3afb5c47b35786839": {
          "model_module": "@jupyter-widgets/controls",
          "model_name": "ImageModel",
          "model_module_version": "1.5.0",
          "state": {
            "_dom_classes": [],
            "_model_module": "@jupyter-widgets/controls",
            "_model_module_version": "1.5.0",
            "_model_name": "ImageModel",
            "_view_count": null,
            "_view_module": "@jupyter-widgets/controls",
            "_view_module_version": "1.5.0",
            "_view_name": "ImageView",
            "format": "png",
            "height": "",
            "layout": "IPY_MODEL_7cc97672f3c14315ad0afe93174b0ba9",
            "width": ""
          }
        },
        "7cc97672f3c14315ad0afe93174b0ba9": {
          "model_module": "@jupyter-widgets/base",
          "model_name": "LayoutModel",
          "model_module_version": "1.2.0",
          "state": {
            "_model_module": "@jupyter-widgets/base",
            "_model_module_version": "1.2.0",
            "_model_name": "LayoutModel",
            "_view_count": null,
            "_view_module": "@jupyter-widgets/base",
            "_view_module_version": "1.2.0",
            "_view_name": "LayoutView",
            "align_content": null,
            "align_items": null,
            "align_self": null,
            "border": null,
            "bottom": null,
            "display": null,
            "flex": null,
            "flex_flow": null,
            "grid_area": null,
            "grid_auto_columns": null,
            "grid_auto_flow": null,
            "grid_auto_rows": null,
            "grid_column": null,
            "grid_gap": null,
            "grid_row": null,
            "grid_template_areas": null,
            "grid_template_columns": null,
            "grid_template_rows": null,
            "height": null,
            "justify_content": null,
            "justify_items": null,
            "left": null,
            "margin": null,
            "max_height": null,
            "max_width": null,
            "min_height": null,
            "min_width": null,
            "object_fit": null,
            "object_position": null,
            "order": null,
            "overflow": null,
            "overflow_x": null,
            "overflow_y": null,
            "padding": null,
            "right": null,
            "top": null,
            "visibility": null,
            "width": null
          }
        },
        "435e4e13c10d48f892818267e6768fa1": {
          "model_module": "@jupyter-widgets/output",
          "model_name": "OutputModel",
          "model_module_version": "1.0.0",
          "state": {
            "_dom_classes": [],
            "_model_module": "@jupyter-widgets/output",
            "_model_module_version": "1.0.0",
            "_model_name": "OutputModel",
            "_view_count": null,
            "_view_module": "@jupyter-widgets/output",
            "_view_module_version": "1.0.0",
            "_view_name": "OutputView",
            "layout": "IPY_MODEL_79898dc7ca4b41e68dcf82f3eec79f6c",
            "msg_id": "",
            "outputs": [
              {
                "output_type": "display_data",
                "data": {
                  "text/plain": "Image(value=b'\\x89PNG\\r\\n\\x1a\\n\\x00\\x00\\x00\\rIHDR\\x00\\x00\\x01\\xf4\\x00\\x00\\x01m\\x08\\x04\\x00\\x00\\x00[\\xb6P\\x8a\\x…",
                  "application/vnd.jupyter.widget-view+json": {
                    "version_major": 2,
                    "version_minor": 0,
                    "model_id": "1f64369c0c2b423599f3398500e123f3"
                  }
                },
                "metadata": {
                  "application/vnd.jupyter.widget-view+json": {
                    "colab": {
                      "custom_widget_manager": {
                        "url": "https://ssl.gstatic.com/colaboratory-static/widgets/colab-cdn-widget-manager/a8874ba6619b6106/manager.min.js"
                      }
                    }
                  }
                }
              }
            ]
          }
        },
        "79898dc7ca4b41e68dcf82f3eec79f6c": {
          "model_module": "@jupyter-widgets/base",
          "model_name": "LayoutModel",
          "model_module_version": "1.2.0",
          "state": {
            "_model_module": "@jupyter-widgets/base",
            "_model_module_version": "1.2.0",
            "_model_name": "LayoutModel",
            "_view_count": null,
            "_view_module": "@jupyter-widgets/base",
            "_view_module_version": "1.2.0",
            "_view_name": "LayoutView",
            "align_content": null,
            "align_items": null,
            "align_self": null,
            "border": null,
            "bottom": null,
            "display": null,
            "flex": null,
            "flex_flow": null,
            "grid_area": null,
            "grid_auto_columns": null,
            "grid_auto_flow": null,
            "grid_auto_rows": null,
            "grid_column": null,
            "grid_gap": null,
            "grid_row": null,
            "grid_template_areas": null,
            "grid_template_columns": null,
            "grid_template_rows": null,
            "height": null,
            "justify_content": null,
            "justify_items": null,
            "left": null,
            "margin": null,
            "max_height": null,
            "max_width": null,
            "min_height": null,
            "min_width": null,
            "object_fit": null,
            "object_position": null,
            "order": null,
            "overflow": null,
            "overflow_x": null,
            "overflow_y": null,
            "padding": null,
            "right": null,
            "top": null,
            "visibility": null,
            "width": null
          }
        },
        "1f64369c0c2b423599f3398500e123f3": {
          "model_module": "@jupyter-widgets/controls",
          "model_name": "ImageModel",
          "model_module_version": "1.5.0",
          "state": {
            "_dom_classes": [],
            "_model_module": "@jupyter-widgets/controls",
            "_model_module_version": "1.5.0",
            "_model_name": "ImageModel",
            "_view_count": null,
            "_view_module": "@jupyter-widgets/controls",
            "_view_module_version": "1.5.0",
            "_view_name": "ImageView",
            "format": "png",
            "height": "",
            "layout": "IPY_MODEL_7b45a866246b4eee95335757febbc23c",
            "width": ""
          }
        },
        "7b45a866246b4eee95335757febbc23c": {
          "model_module": "@jupyter-widgets/base",
          "model_name": "LayoutModel",
          "model_module_version": "1.2.0",
          "state": {
            "_model_module": "@jupyter-widgets/base",
            "_model_module_version": "1.2.0",
            "_model_name": "LayoutModel",
            "_view_count": null,
            "_view_module": "@jupyter-widgets/base",
            "_view_module_version": "1.2.0",
            "_view_name": "LayoutView",
            "align_content": null,
            "align_items": null,
            "align_self": null,
            "border": null,
            "bottom": null,
            "display": null,
            "flex": null,
            "flex_flow": null,
            "grid_area": null,
            "grid_auto_columns": null,
            "grid_auto_flow": null,
            "grid_auto_rows": null,
            "grid_column": null,
            "grid_gap": null,
            "grid_row": null,
            "grid_template_areas": null,
            "grid_template_columns": null,
            "grid_template_rows": null,
            "height": null,
            "justify_content": null,
            "justify_items": null,
            "left": null,
            "margin": null,
            "max_height": null,
            "max_width": null,
            "min_height": null,
            "min_width": null,
            "object_fit": null,
            "object_position": null,
            "order": null,
            "overflow": null,
            "overflow_x": null,
            "overflow_y": null,
            "padding": null,
            "right": null,
            "top": null,
            "visibility": null,
            "width": null
          }
        },
        "b5eb4a203d2b4506a4246bd742bbbe7b": {
          "model_module": "@jupyter-widgets/output",
          "model_name": "OutputModel",
          "model_module_version": "1.0.0",
          "state": {
            "_dom_classes": [],
            "_model_module": "@jupyter-widgets/output",
            "_model_module_version": "1.0.0",
            "_model_name": "OutputModel",
            "_view_count": null,
            "_view_module": "@jupyter-widgets/output",
            "_view_module_version": "1.0.0",
            "_view_name": "OutputView",
            "layout": "IPY_MODEL_efb62629a98841a2bc8efcd8c91213cc",
            "msg_id": "",
            "outputs": [
              {
                "output_type": "display_data",
                "data": {
                  "text/plain": "Image(value=b'\\x89PNG\\r\\n\\x1a\\n\\x00\\x00\\x00\\rIHDR\\x00\\x00\\x01\\xf4\\x00\\x00\\x01\\xb2\\x08\\x04\\x00\\x00\\x00\\xb8\\xde\\…",
                  "application/vnd.jupyter.widget-view+json": {
                    "version_major": 2,
                    "version_minor": 0,
                    "model_id": "f0cc9ff5af574fe890c587456a4cab19"
                  }
                },
                "metadata": {
                  "application/vnd.jupyter.widget-view+json": {
                    "colab": {
                      "custom_widget_manager": {
                        "url": "https://ssl.gstatic.com/colaboratory-static/widgets/colab-cdn-widget-manager/a8874ba6619b6106/manager.min.js"
                      }
                    }
                  }
                }
              }
            ]
          }
        },
        "efb62629a98841a2bc8efcd8c91213cc": {
          "model_module": "@jupyter-widgets/base",
          "model_name": "LayoutModel",
          "model_module_version": "1.2.0",
          "state": {
            "_model_module": "@jupyter-widgets/base",
            "_model_module_version": "1.2.0",
            "_model_name": "LayoutModel",
            "_view_count": null,
            "_view_module": "@jupyter-widgets/base",
            "_view_module_version": "1.2.0",
            "_view_name": "LayoutView",
            "align_content": null,
            "align_items": null,
            "align_self": null,
            "border": null,
            "bottom": null,
            "display": null,
            "flex": null,
            "flex_flow": null,
            "grid_area": null,
            "grid_auto_columns": null,
            "grid_auto_flow": null,
            "grid_auto_rows": null,
            "grid_column": null,
            "grid_gap": null,
            "grid_row": null,
            "grid_template_areas": null,
            "grid_template_columns": null,
            "grid_template_rows": null,
            "height": null,
            "justify_content": null,
            "justify_items": null,
            "left": null,
            "margin": null,
            "max_height": null,
            "max_width": null,
            "min_height": null,
            "min_width": null,
            "object_fit": null,
            "object_position": null,
            "order": null,
            "overflow": null,
            "overflow_x": null,
            "overflow_y": null,
            "padding": null,
            "right": null,
            "top": null,
            "visibility": null,
            "width": null
          }
        },
        "f0cc9ff5af574fe890c587456a4cab19": {
          "model_module": "@jupyter-widgets/controls",
          "model_name": "ImageModel",
          "model_module_version": "1.5.0",
          "state": {
            "_dom_classes": [],
            "_model_module": "@jupyter-widgets/controls",
            "_model_module_version": "1.5.0",
            "_model_name": "ImageModel",
            "_view_count": null,
            "_view_module": "@jupyter-widgets/controls",
            "_view_module_version": "1.5.0",
            "_view_name": "ImageView",
            "format": "png",
            "height": "",
            "layout": "IPY_MODEL_77bdedea35ed40a59b03cd41e24fe2c7",
            "width": ""
          }
        },
        "77bdedea35ed40a59b03cd41e24fe2c7": {
          "model_module": "@jupyter-widgets/base",
          "model_name": "LayoutModel",
          "model_module_version": "1.2.0",
          "state": {
            "_model_module": "@jupyter-widgets/base",
            "_model_module_version": "1.2.0",
            "_model_name": "LayoutModel",
            "_view_count": null,
            "_view_module": "@jupyter-widgets/base",
            "_view_module_version": "1.2.0",
            "_view_name": "LayoutView",
            "align_content": null,
            "align_items": null,
            "align_self": null,
            "border": null,
            "bottom": null,
            "display": null,
            "flex": null,
            "flex_flow": null,
            "grid_area": null,
            "grid_auto_columns": null,
            "grid_auto_flow": null,
            "grid_auto_rows": null,
            "grid_column": null,
            "grid_gap": null,
            "grid_row": null,
            "grid_template_areas": null,
            "grid_template_columns": null,
            "grid_template_rows": null,
            "height": null,
            "justify_content": null,
            "justify_items": null,
            "left": null,
            "margin": null,
            "max_height": null,
            "max_width": null,
            "min_height": null,
            "min_width": null,
            "object_fit": null,
            "object_position": null,
            "order": null,
            "overflow": null,
            "overflow_x": null,
            "overflow_y": null,
            "padding": null,
            "right": null,
            "top": null,
            "visibility": null,
            "width": null
          }
        },
        "885e65b055e24a8a99ff2424c3d62c40": {
          "model_module": "@jupyter-widgets/output",
          "model_name": "OutputModel",
          "model_module_version": "1.0.0",
          "state": {
            "_dom_classes": [],
            "_model_module": "@jupyter-widgets/output",
            "_model_module_version": "1.0.0",
            "_model_name": "OutputModel",
            "_view_count": null,
            "_view_module": "@jupyter-widgets/output",
            "_view_module_version": "1.0.0",
            "_view_name": "OutputView",
            "layout": "IPY_MODEL_d73bcfb066da48bbb7f8287ef4c93ce9",
            "msg_id": "",
            "outputs": [
              {
                "output_type": "display_data",
                "data": {
                  "text/plain": "Image(value=b'\\x89PNG\\r\\n\\x1a\\n\\x00\\x00\\x00\\rIHDR\\x00\\x00\\x01\\xf4\\x00\\x00\\x00\\xe2\\x08\\x04\\x00\\x00\\x00\\x12\\'\\xf…",
                  "application/vnd.jupyter.widget-view+json": {
                    "version_major": 2,
                    "version_minor": 0,
                    "model_id": "e37b08c2d44e460aa30bd31f5727800a"
                  }
                },
                "metadata": {
                  "application/vnd.jupyter.widget-view+json": {
                    "colab": {
                      "custom_widget_manager": {
                        "url": "https://ssl.gstatic.com/colaboratory-static/widgets/colab-cdn-widget-manager/a8874ba6619b6106/manager.min.js"
                      }
                    }
                  }
                }
              }
            ]
          }
        },
        "d73bcfb066da48bbb7f8287ef4c93ce9": {
          "model_module": "@jupyter-widgets/base",
          "model_name": "LayoutModel",
          "model_module_version": "1.2.0",
          "state": {
            "_model_module": "@jupyter-widgets/base",
            "_model_module_version": "1.2.0",
            "_model_name": "LayoutModel",
            "_view_count": null,
            "_view_module": "@jupyter-widgets/base",
            "_view_module_version": "1.2.0",
            "_view_name": "LayoutView",
            "align_content": null,
            "align_items": null,
            "align_self": null,
            "border": null,
            "bottom": null,
            "display": null,
            "flex": null,
            "flex_flow": null,
            "grid_area": null,
            "grid_auto_columns": null,
            "grid_auto_flow": null,
            "grid_auto_rows": null,
            "grid_column": null,
            "grid_gap": null,
            "grid_row": null,
            "grid_template_areas": null,
            "grid_template_columns": null,
            "grid_template_rows": null,
            "height": null,
            "justify_content": null,
            "justify_items": null,
            "left": null,
            "margin": null,
            "max_height": null,
            "max_width": null,
            "min_height": null,
            "min_width": null,
            "object_fit": null,
            "object_position": null,
            "order": null,
            "overflow": null,
            "overflow_x": null,
            "overflow_y": null,
            "padding": null,
            "right": null,
            "top": null,
            "visibility": null,
            "width": null
          }
        },
        "e37b08c2d44e460aa30bd31f5727800a": {
          "model_module": "@jupyter-widgets/controls",
          "model_name": "ImageModel",
          "model_module_version": "1.5.0",
          "state": {
            "_dom_classes": [],
            "_model_module": "@jupyter-widgets/controls",
            "_model_module_version": "1.5.0",
            "_model_name": "ImageModel",
            "_view_count": null,
            "_view_module": "@jupyter-widgets/controls",
            "_view_module_version": "1.5.0",
            "_view_name": "ImageView",
            "format": "png",
            "height": "",
            "layout": "IPY_MODEL_d12e7508d1fb4bd0b102665d817eb6c5",
            "width": ""
          }
        },
        "d12e7508d1fb4bd0b102665d817eb6c5": {
          "model_module": "@jupyter-widgets/base",
          "model_name": "LayoutModel",
          "model_module_version": "1.2.0",
          "state": {
            "_model_module": "@jupyter-widgets/base",
            "_model_module_version": "1.2.0",
            "_model_name": "LayoutModel",
            "_view_count": null,
            "_view_module": "@jupyter-widgets/base",
            "_view_module_version": "1.2.0",
            "_view_name": "LayoutView",
            "align_content": null,
            "align_items": null,
            "align_self": null,
            "border": null,
            "bottom": null,
            "display": null,
            "flex": null,
            "flex_flow": null,
            "grid_area": null,
            "grid_auto_columns": null,
            "grid_auto_flow": null,
            "grid_auto_rows": null,
            "grid_column": null,
            "grid_gap": null,
            "grid_row": null,
            "grid_template_areas": null,
            "grid_template_columns": null,
            "grid_template_rows": null,
            "height": null,
            "justify_content": null,
            "justify_items": null,
            "left": null,
            "margin": null,
            "max_height": null,
            "max_width": null,
            "min_height": null,
            "min_width": null,
            "object_fit": null,
            "object_position": null,
            "order": null,
            "overflow": null,
            "overflow_x": null,
            "overflow_y": null,
            "padding": null,
            "right": null,
            "top": null,
            "visibility": null,
            "width": null
          }
        }
      }
    }
  },
  "nbformat": 4,
  "nbformat_minor": 0
}