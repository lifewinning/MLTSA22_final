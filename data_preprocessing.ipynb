{
  "cells": [
    {
      "cell_type": "markdown",
      "metadata": {
        "id": "view-in-github",
        "colab_type": "text"
      },
      "source": [
        "<a href=\"https://colab.research.google.com/github/lifewinning/MLTSA22_final_IBHPMP/blob/main/data_preprocessing.ipynb\" target=\"_parent\"><img src=\"https://colab.research.google.com/assets/colab-badge.svg\" alt=\"Open In Colab\"/></a>"
      ]
    },
    {
      "cell_type": "markdown",
      "metadata": {
        "id": "l18M9_r5XmAQ"
      },
      "source": [
        "\n",
        "## Initialize EarthEngine, import geemap\n",
        "\n"
      ]
    },
    {
      "cell_type": "code",
      "execution_count": 1,
      "metadata": {
        "colab": {
          "base_uri": "https://localhost:8080/"
        },
        "id": "XeFsiSp2aDL6",
        "outputId": "a35e2796-e4e2-4f54-9680-294f311d801f"
      },
      "outputs": [
        {
          "output_type": "stream",
          "name": "stdout",
          "text": [
            "To authorize access needed by Earth Engine, open the following URL in a web browser and follow the instructions. If the web browser does not start automatically, please manually browse the URL below.\n",
            "\n",
            "    https://accounts.google.com/o/oauth2/auth?client_id=517222506229-vsmmajv00ul0bs7p89v5m89qs8eb9359.apps.googleusercontent.com&scope=https%3A%2F%2Fwww.googleapis.com%2Fauth%2Fearthengine+https%3A%2F%2Fwww.googleapis.com%2Fauth%2Fdevstorage.full_control&redirect_uri=urn%3Aietf%3Awg%3Aoauth%3A2.0%3Aoob&response_type=code&code_challenge=vqmB-CQjZwqosymzU1CHi8Q-KoOcd1dBnLRKcZ-os1g&code_challenge_method=S256\n",
            "\n",
            "The authorization workflow will generate a code, which you should paste in the box below. \n",
            "Enter verification code: 4/1AX4XfWhDDs6nxYfYIDHml-A0EFRiZih3F5CMGx0kVZ8Qn8E4Q1Sm_NcW0rA\n",
            "\n",
            "Successfully saved authorization token.\n"
          ]
        }
      ],
      "source": [
        "import ee\n",
        " \n",
        "# Trigger the authentication flow.\n",
        "ee.Authenticate()\n",
        " \n",
        "# Initialize the library.\n",
        "ee.Initialize()"
      ]
    },
    {
      "cell_type": "code",
      "source": [
        "pip install geemap"
      ],
      "metadata": {
        "colab": {
          "base_uri": "https://localhost:8080/"
        },
        "id": "kGV1arDp9DD0",
        "outputId": "87e38b5e-6f9a-4867-a39a-6c88f1582616"
      },
      "execution_count": 2,
      "outputs": [
        {
          "output_type": "stream",
          "name": "stdout",
          "text": [
            "Requirement already satisfied: geemap in /usr/local/lib/python3.7/dist-packages (0.12.1)\n",
            "Requirement already satisfied: geeadd>=0.5.1 in /usr/local/lib/python3.7/dist-packages (from geemap) (0.5.5)\n",
            "Requirement already satisfied: here-map-widget-for-jupyter>=1.1.1 in /usr/local/lib/python3.7/dist-packages (from geemap) (1.1.3)\n",
            "Requirement already satisfied: python-box~=5.4 in /usr/local/lib/python3.7/dist-packages (from geemap) (5.4.1)\n",
            "Requirement already satisfied: ipyleaflet>=0.14.0 in /usr/local/lib/python3.7/dist-packages (from geemap) (0.15.0)\n",
            "Requirement already satisfied: mss in /usr/local/lib/python3.7/dist-packages (from geemap) (6.1.0)\n",
            "Requirement already satisfied: matplotlib in /usr/local/lib/python3.7/dist-packages (from geemap) (3.2.2)\n",
            "Requirement already satisfied: ipynb-py-convert in /usr/local/lib/python3.7/dist-packages (from geemap) (0.4.6)\n",
            "Requirement already satisfied: click in /usr/local/lib/python3.7/dist-packages (from geemap) (7.1.2)\n",
            "Requirement already satisfied: pycrs in /usr/local/lib/python3.7/dist-packages (from geemap) (1.0.2)\n",
            "Requirement already satisfied: palettable in /usr/local/lib/python3.7/dist-packages (from geemap) (3.3.0)\n",
            "Requirement already satisfied: geojson in /usr/local/lib/python3.7/dist-packages (from geemap) (2.5.0)\n",
            "Requirement already satisfied: gdown in /usr/local/lib/python3.7/dist-packages (from geemap) (4.2.2)\n",
            "Requirement already satisfied: owslib in /usr/local/lib/python3.7/dist-packages (from geemap) (0.25.0)\n",
            "Requirement already satisfied: googledrivedownloader in /usr/local/lib/python3.7/dist-packages (from geemap) (0.4)\n",
            "Requirement already satisfied: colour in /usr/local/lib/python3.7/dist-packages (from geemap) (0.1.5)\n",
            "Requirement already satisfied: ipytree in /usr/local/lib/python3.7/dist-packages (from geemap) (0.2.1)\n",
            "Requirement already satisfied: plotly in /usr/local/lib/python3.7/dist-packages (from geemap) (5.5.0)\n",
            "Requirement already satisfied: earthengine-api>=0.1.230 in /usr/local/lib/python3.7/dist-packages (from geemap) (0.1.301)\n",
            "Requirement already satisfied: ipyevents in /usr/local/lib/python3.7/dist-packages (from geemap) (2.0.1)\n",
            "Requirement already satisfied: geocoder in /usr/local/lib/python3.7/dist-packages (from geemap) (1.38.1)\n",
            "Requirement already satisfied: pillow in /usr/local/lib/python3.7/dist-packages (from geemap) (7.1.2)\n",
            "Requirement already satisfied: ee-extra>=0.0.10 in /usr/local/lib/python3.7/dist-packages (from geemap) (0.0.12)\n",
            "Requirement already satisfied: numpy in /usr/local/lib/python3.7/dist-packages (from geemap) (1.21.5)\n",
            "Requirement already satisfied: ipyfilechooser>=0.6.0 in /usr/local/lib/python3.7/dist-packages (from geemap) (0.6.0)\n",
            "Requirement already satisfied: pandas in /usr/local/lib/python3.7/dist-packages (from geemap) (1.3.5)\n",
            "Requirement already satisfied: folium>=0.11.0 in /usr/local/lib/python3.7/dist-packages (from geemap) (0.12.1.post1)\n",
            "Requirement already satisfied: sankee in /usr/local/lib/python3.7/dist-packages (from geemap) (0.0.7)\n",
            "Requirement already satisfied: voila in /usr/local/lib/python3.7/dist-packages (from geemap) (0.3.3)\n",
            "Requirement already satisfied: ffmpeg-python in /usr/local/lib/python3.7/dist-packages (from geemap) (0.2.0)\n",
            "Requirement already satisfied: whiteboxgui>=0.6.0 in /usr/local/lib/python3.7/dist-packages (from geemap) (0.7.0)\n",
            "Requirement already satisfied: xyzservices in /usr/local/lib/python3.7/dist-packages (from geemap) (2022.3.0)\n",
            "Requirement already satisfied: jupyterlab>=3 in /usr/local/lib/python3.7/dist-packages (from geemap) (3.3.2)\n",
            "Requirement already satisfied: pyshp>=2.1.3 in /usr/local/lib/python3.7/dist-packages (from geemap) (2.2.0)\n",
            "Requirement already satisfied: bqplot in /usr/local/lib/python3.7/dist-packages (from geemap) (0.12.33)\n",
            "Requirement already satisfied: future in /usr/local/lib/python3.7/dist-packages (from earthengine-api>=0.1.230->geemap) (0.16.0)\n",
            "Requirement already satisfied: httplib2shim in /usr/local/lib/python3.7/dist-packages (from earthengine-api>=0.1.230->geemap) (0.0.3)\n",
            "Requirement already satisfied: six in /usr/local/lib/python3.7/dist-packages (from earthengine-api>=0.1.230->geemap) (1.15.0)\n",
            "Requirement already satisfied: google-auth-httplib2>=0.0.3 in /usr/local/lib/python3.7/dist-packages (from earthengine-api>=0.1.230->geemap) (0.0.4)\n",
            "Requirement already satisfied: google-cloud-storage in /usr/local/lib/python3.7/dist-packages (from earthengine-api>=0.1.230->geemap) (1.18.1)\n",
            "Requirement already satisfied: google-auth>=1.4.1 in /usr/local/lib/python3.7/dist-packages (from earthengine-api>=0.1.230->geemap) (1.35.0)\n",
            "Requirement already satisfied: google-api-python-client<2,>=1.12.1 in /usr/local/lib/python3.7/dist-packages (from earthengine-api>=0.1.230->geemap) (1.12.10)\n",
            "Requirement already satisfied: httplib2<1dev,>=0.9.2 in /usr/local/lib/python3.7/dist-packages (from earthengine-api>=0.1.230->geemap) (0.17.4)\n",
            "Requirement already satisfied: branca>=0.3.0 in /usr/local/lib/python3.7/dist-packages (from folium>=0.11.0->geemap) (0.4.2)\n",
            "Requirement already satisfied: requests in /usr/local/lib/python3.7/dist-packages (from folium>=0.11.0->geemap) (2.23.0)\n",
            "Requirement already satisfied: jinja2>=2.9 in /usr/local/lib/python3.7/dist-packages (from folium>=0.11.0->geemap) (3.0.3)\n",
            "Requirement already satisfied: beautifulsoup4>=4.9.0 in /usr/local/lib/python3.7/dist-packages (from geeadd>=0.5.1->geemap) (4.10.0)\n",
            "Requirement already satisfied: logzero>=1.5.0 in /usr/local/lib/python3.7/dist-packages (from geeadd>=0.5.1->geemap) (1.7.0)\n",
            "Requirement already satisfied: soupsieve>1.2 in /usr/local/lib/python3.7/dist-packages (from beautifulsoup4>=4.9.0->geeadd>=0.5.1->geemap) (2.3.1)\n",
            "Requirement already satisfied: uritemplate<4dev,>=3.0.0 in /usr/local/lib/python3.7/dist-packages (from google-api-python-client<2,>=1.12.1->earthengine-api>=0.1.230->geemap) (3.0.1)\n",
            "Requirement already satisfied: google-api-core<3dev,>=1.21.0 in /usr/local/lib/python3.7/dist-packages (from google-api-python-client<2,>=1.12.1->earthengine-api>=0.1.230->geemap) (1.26.3)\n",
            "Requirement already satisfied: packaging>=14.3 in /usr/local/lib/python3.7/dist-packages (from google-api-core<3dev,>=1.21.0->google-api-python-client<2,>=1.12.1->earthengine-api>=0.1.230->geemap) (21.3)\n",
            "Requirement already satisfied: googleapis-common-protos<2.0dev,>=1.6.0 in /usr/local/lib/python3.7/dist-packages (from google-api-core<3dev,>=1.21.0->google-api-python-client<2,>=1.12.1->earthengine-api>=0.1.230->geemap) (1.55.0)\n",
            "Requirement already satisfied: protobuf>=3.12.0 in /usr/local/lib/python3.7/dist-packages (from google-api-core<3dev,>=1.21.0->google-api-python-client<2,>=1.12.1->earthengine-api>=0.1.230->geemap) (3.17.3)\n",
            "Requirement already satisfied: pytz in /usr/local/lib/python3.7/dist-packages (from google-api-core<3dev,>=1.21.0->google-api-python-client<2,>=1.12.1->earthengine-api>=0.1.230->geemap) (2018.9)\n",
            "Requirement already satisfied: setuptools>=40.3.0 in /usr/local/lib/python3.7/dist-packages (from google-api-core<3dev,>=1.21.0->google-api-python-client<2,>=1.12.1->earthengine-api>=0.1.230->geemap) (57.4.0)\n",
            "Requirement already satisfied: rsa<5,>=3.1.4 in /usr/local/lib/python3.7/dist-packages (from google-auth>=1.4.1->earthengine-api>=0.1.230->geemap) (4.8)\n",
            "Requirement already satisfied: pyasn1-modules>=0.2.1 in /usr/local/lib/python3.7/dist-packages (from google-auth>=1.4.1->earthengine-api>=0.1.230->geemap) (0.2.8)\n",
            "Requirement already satisfied: cachetools<5.0,>=2.0.0 in /usr/local/lib/python3.7/dist-packages (from google-auth>=1.4.1->earthengine-api>=0.1.230->geemap) (4.2.4)\n",
            "Requirement already satisfied: ipywidgets<8,>=7.6.0 in /usr/local/lib/python3.7/dist-packages (from here-map-widget-for-jupyter>=1.1.1->geemap) (7.6.5)\n",
            "Requirement already satisfied: traittypes<3,>=0.2.1 in /usr/local/lib/python3.7/dist-packages (from ipyleaflet>=0.14.0->geemap) (0.2.1)\n",
            "Requirement already satisfied: traitlets>=4.3.1 in /usr/local/lib/python3.7/dist-packages (from ipywidgets<8,>=7.6.0->here-map-widget-for-jupyter>=1.1.1->geemap) (5.1.1)\n",
            "Requirement already satisfied: ipykernel>=4.5.1 in /usr/local/lib/python3.7/dist-packages (from ipywidgets<8,>=7.6.0->here-map-widget-for-jupyter>=1.1.1->geemap) (4.10.1)\n",
            "Requirement already satisfied: ipython-genutils~=0.2.0 in /usr/local/lib/python3.7/dist-packages (from ipywidgets<8,>=7.6.0->here-map-widget-for-jupyter>=1.1.1->geemap) (0.2.0)\n",
            "Requirement already satisfied: ipython>=4.0.0 in /usr/local/lib/python3.7/dist-packages (from ipywidgets<8,>=7.6.0->here-map-widget-for-jupyter>=1.1.1->geemap) (5.5.0)\n",
            "Requirement already satisfied: nbformat>=4.2.0 in /usr/local/lib/python3.7/dist-packages (from ipywidgets<8,>=7.6.0->here-map-widget-for-jupyter>=1.1.1->geemap) (5.2.0)\n",
            "Requirement already satisfied: jupyterlab-widgets>=1.0.0 in /usr/local/lib/python3.7/dist-packages (from ipywidgets<8,>=7.6.0->here-map-widget-for-jupyter>=1.1.1->geemap) (1.0.2)\n",
            "Requirement already satisfied: widgetsnbextension~=3.5.0 in /usr/local/lib/python3.7/dist-packages (from ipywidgets<8,>=7.6.0->here-map-widget-for-jupyter>=1.1.1->geemap) (3.5.2)\n",
            "Requirement already satisfied: jupyter-client in /usr/local/lib/python3.7/dist-packages (from ipykernel>=4.5.1->ipywidgets<8,>=7.6.0->here-map-widget-for-jupyter>=1.1.1->geemap) (7.1.2)\n",
            "Requirement already satisfied: tornado>=4.0 in /usr/local/lib/python3.7/dist-packages (from ipykernel>=4.5.1->ipywidgets<8,>=7.6.0->here-map-widget-for-jupyter>=1.1.1->geemap) (6.1)\n",
            "Requirement already satisfied: pickleshare in /usr/local/lib/python3.7/dist-packages (from ipython>=4.0.0->ipywidgets<8,>=7.6.0->here-map-widget-for-jupyter>=1.1.1->geemap) (0.7.5)\n",
            "Requirement already satisfied: simplegeneric>0.8 in /usr/local/lib/python3.7/dist-packages (from ipython>=4.0.0->ipywidgets<8,>=7.6.0->here-map-widget-for-jupyter>=1.1.1->geemap) (0.8.1)\n",
            "Requirement already satisfied: prompt-toolkit<2.0.0,>=1.0.4 in /usr/local/lib/python3.7/dist-packages (from ipython>=4.0.0->ipywidgets<8,>=7.6.0->here-map-widget-for-jupyter>=1.1.1->geemap) (1.0.18)\n",
            "Requirement already satisfied: pygments in /usr/local/lib/python3.7/dist-packages (from ipython>=4.0.0->ipywidgets<8,>=7.6.0->here-map-widget-for-jupyter>=1.1.1->geemap) (2.6.1)\n",
            "Requirement already satisfied: decorator in /usr/local/lib/python3.7/dist-packages (from ipython>=4.0.0->ipywidgets<8,>=7.6.0->here-map-widget-for-jupyter>=1.1.1->geemap) (4.4.2)\n",
            "Requirement already satisfied: pexpect in /usr/local/lib/python3.7/dist-packages (from ipython>=4.0.0->ipywidgets<8,>=7.6.0->here-map-widget-for-jupyter>=1.1.1->geemap) (4.8.0)\n",
            "Requirement already satisfied: MarkupSafe>=2.0 in /usr/local/lib/python3.7/dist-packages (from jinja2>=2.9->folium>=0.11.0->geemap) (2.0.1)\n",
            "Requirement already satisfied: jupyter-core in /usr/local/lib/python3.7/dist-packages (from jupyterlab>=3->geemap) (4.9.2)\n",
            "Requirement already satisfied: jupyter-server~=1.4 in /usr/local/lib/python3.7/dist-packages (from jupyterlab>=3->geemap) (1.15.6)\n",
            "Requirement already satisfied: jupyterlab-server~=2.10 in /usr/local/lib/python3.7/dist-packages (from jupyterlab>=3->geemap) (2.11.2)\n",
            "Requirement already satisfied: nbclassic~=0.2 in /usr/local/lib/python3.7/dist-packages (from jupyterlab>=3->geemap) (0.3.7)\n",
            "Requirement already satisfied: Send2Trash in /usr/local/lib/python3.7/dist-packages (from jupyter-server~=1.4->jupyterlab>=3->geemap) (1.8.0)\n",
            "Requirement already satisfied: pyzmq>=17 in /usr/local/lib/python3.7/dist-packages (from jupyter-server~=1.4->jupyterlab>=3->geemap) (22.3.0)\n",
            "Requirement already satisfied: anyio>=3.1.0 in /usr/local/lib/python3.7/dist-packages (from jupyter-server~=1.4->jupyterlab>=3->geemap) (3.5.0)\n",
            "Requirement already satisfied: prometheus-client in /usr/local/lib/python3.7/dist-packages (from jupyter-server~=1.4->jupyterlab>=3->geemap) (0.13.1)\n",
            "Requirement already satisfied: websocket-client in /usr/local/lib/python3.7/dist-packages (from jupyter-server~=1.4->jupyterlab>=3->geemap) (1.3.1)\n",
            "Requirement already satisfied: nbconvert in /usr/local/lib/python3.7/dist-packages (from jupyter-server~=1.4->jupyterlab>=3->geemap) (6.4.4)\n",
            "Requirement already satisfied: terminado>=0.8.3 in /usr/local/lib/python3.7/dist-packages (from jupyter-server~=1.4->jupyterlab>=3->geemap) (0.13.3)\n",
            "Requirement already satisfied: argon2-cffi in /usr/local/lib/python3.7/dist-packages (from jupyter-server~=1.4->jupyterlab>=3->geemap) (21.3.0)\n",
            "Requirement already satisfied: idna>=2.8 in /usr/local/lib/python3.7/dist-packages (from anyio>=3.1.0->jupyter-server~=1.4->jupyterlab>=3->geemap) (2.10)\n",
            "Requirement already satisfied: typing-extensions in /usr/local/lib/python3.7/dist-packages (from anyio>=3.1.0->jupyter-server~=1.4->jupyterlab>=3->geemap) (3.10.0.2)\n",
            "Requirement already satisfied: sniffio>=1.1 in /usr/local/lib/python3.7/dist-packages (from anyio>=3.1.0->jupyter-server~=1.4->jupyterlab>=3->geemap) (1.2.0)\n",
            "Requirement already satisfied: python-dateutil>=2.1 in /usr/local/lib/python3.7/dist-packages (from jupyter-client->ipykernel>=4.5.1->ipywidgets<8,>=7.6.0->here-map-widget-for-jupyter>=1.1.1->geemap) (2.8.2)\n",
            "Requirement already satisfied: nest-asyncio>=1.5 in /usr/local/lib/python3.7/dist-packages (from jupyter-client->ipykernel>=4.5.1->ipywidgets<8,>=7.6.0->here-map-widget-for-jupyter>=1.1.1->geemap) (1.5.4)\n",
            "Requirement already satisfied: entrypoints in /usr/local/lib/python3.7/dist-packages (from jupyter-client->ipykernel>=4.5.1->ipywidgets<8,>=7.6.0->here-map-widget-for-jupyter>=1.1.1->geemap) (0.4)\n",
            "Requirement already satisfied: json5 in /usr/local/lib/python3.7/dist-packages (from jupyterlab-server~=2.10->jupyterlab>=3->geemap) (0.9.6)\n",
            "Requirement already satisfied: jsonschema>=3.0.1 in /usr/local/lib/python3.7/dist-packages (from jupyterlab-server~=2.10->jupyterlab>=3->geemap) (4.3.3)\n",
            "Requirement already satisfied: babel in /usr/local/lib/python3.7/dist-packages (from jupyterlab-server~=2.10->jupyterlab>=3->geemap) (2.9.1)\n",
            "Requirement already satisfied: importlib-resources>=1.4.0 in /usr/local/lib/python3.7/dist-packages (from jsonschema>=3.0.1->jupyterlab-server~=2.10->jupyterlab>=3->geemap) (5.4.0)\n",
            "Requirement already satisfied: attrs>=17.4.0 in /usr/local/lib/python3.7/dist-packages (from jsonschema>=3.0.1->jupyterlab-server~=2.10->jupyterlab>=3->geemap) (21.4.0)\n",
            "Requirement already satisfied: pyrsistent!=0.17.0,!=0.17.1,!=0.17.2,>=0.14.0 in /usr/local/lib/python3.7/dist-packages (from jsonschema>=3.0.1->jupyterlab-server~=2.10->jupyterlab>=3->geemap) (0.18.1)\n",
            "Requirement already satisfied: importlib-metadata in /usr/local/lib/python3.7/dist-packages (from jsonschema>=3.0.1->jupyterlab-server~=2.10->jupyterlab>=3->geemap) (4.11.2)\n",
            "Requirement already satisfied: zipp>=3.1.0 in /usr/local/lib/python3.7/dist-packages (from importlib-resources>=1.4.0->jsonschema>=3.0.1->jupyterlab-server~=2.10->jupyterlab>=3->geemap) (3.7.0)\n",
            "Requirement already satisfied: notebook-shim>=0.1.0 in /usr/local/lib/python3.7/dist-packages (from nbclassic~=0.2->jupyterlab>=3->geemap) (0.1.0)\n",
            "Requirement already satisfied: notebook<7 in /usr/local/lib/python3.7/dist-packages (from nbclassic~=0.2->jupyterlab>=3->geemap) (5.3.1)\n",
            "Requirement already satisfied: pyparsing!=3.0.5,>=2.0.2 in /usr/local/lib/python3.7/dist-packages (from packaging>=14.3->google-api-core<3dev,>=1.21.0->google-api-python-client<2,>=1.12.1->earthengine-api>=0.1.230->geemap) (3.0.7)\n",
            "Requirement already satisfied: wcwidth in /usr/local/lib/python3.7/dist-packages (from prompt-toolkit<2.0.0,>=1.0.4->ipython>=4.0.0->ipywidgets<8,>=7.6.0->here-map-widget-for-jupyter>=1.1.1->geemap) (0.2.5)\n",
            "Requirement already satisfied: pyasn1<0.5.0,>=0.4.6 in /usr/local/lib/python3.7/dist-packages (from pyasn1-modules>=0.2.1->google-auth>=1.4.1->earthengine-api>=0.1.230->geemap) (0.4.8)\n",
            "Requirement already satisfied: chardet<4,>=3.0.2 in /usr/local/lib/python3.7/dist-packages (from requests->folium>=0.11.0->geemap) (3.0.4)\n",
            "Requirement already satisfied: certifi>=2017.4.17 in /usr/local/lib/python3.7/dist-packages (from requests->folium>=0.11.0->geemap) (2021.10.8)\n",
            "Requirement already satisfied: urllib3!=1.25.0,!=1.25.1,<1.26,>=1.21.1 in /usr/local/lib/python3.7/dist-packages (from requests->folium>=0.11.0->geemap) (1.24.3)\n",
            "Requirement already satisfied: ptyprocess in /usr/local/lib/python3.7/dist-packages (from terminado>=0.8.3->jupyter-server~=1.4->jupyterlab>=3->geemap) (0.7.0)\n",
            "Requirement already satisfied: whitebox in /usr/local/lib/python3.7/dist-packages (from whiteboxgui>=0.6.0->geemap) (2.1.2)\n",
            "Requirement already satisfied: argon2-cffi-bindings in /usr/local/lib/python3.7/dist-packages (from argon2-cffi->jupyter-server~=1.4->jupyterlab>=3->geemap) (21.2.0)\n",
            "Requirement already satisfied: cffi>=1.0.1 in /usr/local/lib/python3.7/dist-packages (from argon2-cffi-bindings->argon2-cffi->jupyter-server~=1.4->jupyterlab>=3->geemap) (1.15.0)\n",
            "Requirement already satisfied: pycparser in /usr/local/lib/python3.7/dist-packages (from cffi>=1.0.1->argon2-cffi-bindings->argon2-cffi->jupyter-server~=1.4->jupyterlab>=3->geemap) (2.21)\n",
            "Requirement already satisfied: tqdm in /usr/local/lib/python3.7/dist-packages (from gdown->geemap) (4.63.0)\n",
            "Requirement already satisfied: filelock in /usr/local/lib/python3.7/dist-packages (from gdown->geemap) (3.6.0)\n",
            "Requirement already satisfied: ratelim in /usr/local/lib/python3.7/dist-packages (from geocoder->geemap) (0.1.6)\n",
            "Requirement already satisfied: google-cloud-core<2.0dev,>=1.0.0 in /usr/local/lib/python3.7/dist-packages (from google-cloud-storage->earthengine-api>=0.1.230->geemap) (1.0.3)\n",
            "Requirement already satisfied: google-resumable-media<0.5.0dev,>=0.3.1 in /usr/local/lib/python3.7/dist-packages (from google-cloud-storage->earthengine-api>=0.1.230->geemap) (0.4.1)\n",
            "Requirement already satisfied: cycler>=0.10 in /usr/local/lib/python3.7/dist-packages (from matplotlib->geemap) (0.11.0)\n",
            "Requirement already satisfied: kiwisolver>=1.0.1 in /usr/local/lib/python3.7/dist-packages (from matplotlib->geemap) (1.3.2)\n",
            "Requirement already satisfied: nbclient<0.6.0,>=0.5.0 in /usr/local/lib/python3.7/dist-packages (from nbconvert->jupyter-server~=1.4->jupyterlab>=3->geemap) (0.5.12)\n",
            "Requirement already satisfied: jupyterlab-pygments in /usr/local/lib/python3.7/dist-packages (from nbconvert->jupyter-server~=1.4->jupyterlab>=3->geemap) (0.1.2)\n",
            "Requirement already satisfied: testpath in /usr/local/lib/python3.7/dist-packages (from nbconvert->jupyter-server~=1.4->jupyterlab>=3->geemap) (0.6.0)\n",
            "Requirement already satisfied: defusedxml in /usr/local/lib/python3.7/dist-packages (from nbconvert->jupyter-server~=1.4->jupyterlab>=3->geemap) (0.7.1)\n",
            "Requirement already satisfied: bleach in /usr/local/lib/python3.7/dist-packages (from nbconvert->jupyter-server~=1.4->jupyterlab>=3->geemap) (4.1.0)\n",
            "Requirement already satisfied: pandocfilters>=1.4.1 in /usr/local/lib/python3.7/dist-packages (from nbconvert->jupyter-server~=1.4->jupyterlab>=3->geemap) (1.5.0)\n",
            "Requirement already satisfied: mistune<2,>=0.8.1 in /usr/local/lib/python3.7/dist-packages (from nbconvert->jupyter-server~=1.4->jupyterlab>=3->geemap) (0.8.4)\n",
            "Requirement already satisfied: webencodings in /usr/local/lib/python3.7/dist-packages (from bleach->nbconvert->jupyter-server~=1.4->jupyterlab>=3->geemap) (0.5.1)\n",
            "Requirement already satisfied: pyyaml in /usr/local/lib/python3.7/dist-packages (from owslib->geemap) (3.13)\n",
            "Requirement already satisfied: pyproj>=2 in /usr/local/lib/python3.7/dist-packages (from owslib->geemap) (3.2.1)\n",
            "Requirement already satisfied: tenacity>=6.2.0 in /usr/local/lib/python3.7/dist-packages (from plotly->geemap) (8.0.1)\n",
            "Requirement already satisfied: PySocks!=1.5.7,>=1.5.6 in /usr/local/lib/python3.7/dist-packages (from requests->folium>=0.11.0->geemap) (1.7.1)\n",
            "Requirement already satisfied: websockets>=9.0 in /usr/local/lib/python3.7/dist-packages (from voila->geemap) (10.2)\n"
          ]
        }
      ]
    },
    {
      "cell_type": "code",
      "source": [
        "import geemap\n",
        "Map = geemap.Map()"
      ],
      "metadata": {
        "id": "NpwiR8e09EuB"
      },
      "execution_count": 3,
      "outputs": []
    },
    {
      "cell_type": "code",
      "source": [
        "import json"
      ],
      "metadata": {
        "id": "GoMEVDgBa5jF"
      },
      "execution_count": 4,
      "outputs": []
    },
    {
      "cell_type": "markdown",
      "source": [
        "# Mount Drive"
      ],
      "metadata": {
        "id": "OG8QqJU4x3FY"
      }
    },
    {
      "cell_type": "code",
      "source": [
        "from google.colab import drive\n",
        "drive.mount('/content/drive')"
      ],
      "metadata": {
        "colab": {
          "base_uri": "https://localhost:8080/"
        },
        "id": "nIr8NrGMxxgf",
        "outputId": "b8c2cc2f-dd7e-4f81-8df0-2d54b05a4818"
      },
      "execution_count": 5,
      "outputs": [
        {
          "output_type": "stream",
          "name": "stdout",
          "text": [
            "Drive already mounted at /content/drive; to attempt to forcibly remount, call drive.mount(\"/content/drive\", force_remount=True).\n"
          ]
        }
      ]
    },
    {
      "cell_type": "code",
      "source": [
        "cd /content/drive/MyDrive/MLTSA22"
      ],
      "metadata": {
        "colab": {
          "base_uri": "https://localhost:8080/"
        },
        "id": "pHlFKYHax7Sj",
        "outputId": "643332c8-6ae9-4a0c-c272-7d09ab4c58ff"
      },
      "execution_count": 6,
      "outputs": [
        {
          "output_type": "stream",
          "name": "stdout",
          "text": [
            "/content/drive/MyDrive/MLTSA22\n"
          ]
        }
      ]
    },
    {
      "cell_type": "markdown",
      "source": [
        "# Set date params and load clipping features"
      ],
      "metadata": {
        "id": "GY7LgcVZyK-K"
      }
    },
    {
      "cell_type": "code",
      "source": [
        "# establish time series window\n",
        "start = ee.Date('2018-01-01')\n",
        "finish = ee.Date('2021-12-31')"
      ],
      "metadata": {
        "id": "oOxFU8Vfwrrx"
      },
      "execution_count": 122,
      "outputs": []
    },
    {
      "cell_type": "code",
      "source": [
        "# load a geojson with bounding boxes\n",
        "with open('mltsa_bb.geojson', 'r') as file:\n",
        "     geojson = json.load(file)\n",
        "for site, index in enumerate(range(0,4)):\n",
        "  print(index, geojson['features'][site]['properties']['site'])\n"
      ],
      "metadata": {
        "colab": {
          "base_uri": "https://localhost:8080/"
        },
        "id": "Pc5ygkIgcZN7",
        "outputId": "e4f54135-e854-4ab9-84e5-df4e501f591f"
      },
      "execution_count": 144,
      "outputs": [
        {
          "output_type": "stream",
          "name": "stdout",
          "text": [
            "0 singapore\n",
            "1 suez\n",
            "2 long beach\n",
            "3 rotterdam\n"
          ]
        }
      ]
    },
    {
      "cell_type": "markdown",
      "source": [
        "# Some generalizing functions"
      ],
      "metadata": {
        "id": "vw20VwIEfqNZ"
      }
    },
    {
      "cell_type": "code",
      "source": [
        "def cliptoaoi(image):\n",
        "  return image.clip(aoi)"
      ],
      "metadata": {
        "id": "vKnpCMRRIsjL"
      },
      "execution_count": 9,
      "outputs": []
    },
    {
      "cell_type": "code",
      "source": [
        "# generate a range of days between start and end of time series\n",
        "def getdates(collection):\n",
        "  first = collection.first().date()\n",
        "  print(first.format('yyy-MM-dd').getInfo())\n",
        "  diff = finish.difference(first, 'day')\n",
        "  def getDays(day):\n",
        "    return first.advance(day,'day')\n",
        "  \n",
        "  return ee.List.sequence(0, diff.subtract(1), 6).map(getDays)"
      ],
      "metadata": {
        "id": "kwdzlGmYynXI"
      },
      "execution_count": 60,
      "outputs": []
    },
    {
      "cell_type": "code",
      "source": [
        "def day_mosaics(date, newlist):\n",
        "  date = ee.Date(date)\n",
        "  newlist = ee.List(newlist)\n",
        "  \n",
        "  filtered = collection_clipped.filterDate(date, date.advance(1,'day'));\n",
        "\n",
        "  date_formatted = date.format('yyyy-MM-dd')\n",
        "\n",
        "  image_m = ee.Image(filtered.mosaic()).set({'ID': date_formatted}).set({'date': date}).clip(aoi)\n",
        "\n",
        "  # Add the mosaic to a list only if the collection has images\n",
        "  return ee.List(ee.Algorithms.If(filtered.size(), newlist.add(image_m), newlist))"
      ],
      "metadata": {
        "id": "J4YartQZznSK"
      },
      "execution_count": 31,
      "outputs": []
    },
    {
      "cell_type": "markdown",
      "source": [
        "# Suez Canal"
      ],
      "metadata": {
        "id": "suejIuTqbP44"
      }
    },
    {
      "cell_type": "code",
      "execution_count": 23,
      "metadata": {
        "id": "PRWSgszXTjFw"
      },
      "outputs": [],
      "source": [
        "coords = geojson['features'][1]['geometry']['coordinates']\n",
        "aoi = ee.Geometry.Polygon(coords)\n",
        "\n",
        "# query EE\n",
        "collection = ee.ImageCollection('COPERNICUS/S1_GRD').filterBounds(aoi).filterDate(start, finish).filter(ee.Filter.listContains('transmitterReceiverPolarisation', 'VH'))\n",
        "collection_clipped = collection.map(cliptoaoi).sort('segmentStartTime')\n",
        "collection_list = collection_clipped.toList(collection.size())\n",
        "\n",
        "# mosaic images from the same day as needed\n",
        "newcol = ee.ImageCollection(ee.List(getdates(collection).iterate(day_mosaics, ee.List([]))))\n",
        "newcol_list = newcol.toList(newcol.size())\n",
        "ids = newcol.aggregate_array('ID').getInfo()\n",
        "\n",
        "# this is for exporting\n",
        "vis_params = {'min': -20, 'max': 0, 'bands':'VH'}"
      ]
    },
    {
      "cell_type": "code",
      "source": [
        "# take a quick look at the first image just to see\n",
        "image = newcol.first()\n",
        "out_img = \"tests/suez-first.png\"\n",
        "geemap.get_image_thumbnail(image, out_img, vis_params, dimensions=500, format='png')\n",
        "geemap.show_image(out_img)"
      ],
      "metadata": {
        "colab": {
          "base_uri": "https://localhost:8080/",
          "height": 464,
          "referenced_widgets": [
            "6b4cf6d7a5d34d9ebc531d9469374b38",
            "4e5282f81eee4803a7284a6dfde39137",
            "2cb14a5d1f804ff3afb5c47b35786839",
            "7cc97672f3c14315ad0afe93174b0ba9"
          ]
        },
        "id": "tkcvPpv2KXRI",
        "outputId": "c4416669-0c2a-4bad-81fb-a64b4b25be44"
      },
      "execution_count": 161,
      "outputs": [
        {
          "output_type": "display_data",
          "data": {
            "text/plain": [
              "Output()"
            ],
            "application/vnd.jupyter.widget-view+json": {
              "version_major": 2,
              "version_minor": 0,
              "model_id": "6b4cf6d7a5d34d9ebc531d9469374b38"
            }
          },
          "metadata": {
            "application/vnd.jupyter.widget-view+json": {
              "colab": {
                "custom_widget_manager": {
                  "url": "https://ssl.gstatic.com/colaboratory-static/widgets/colab-cdn-widget-manager/a8874ba6619b6106/manager.min.js"
                }
              }
            }
          }
        }
      ]
    },
    {
      "cell_type": "code",
      "source": [
        "out_dir = 'finalimages/suez'\n",
        "geemap.get_image_collection_thumbnails(newcol, out_dir, vis_params, dimensions=500, format=\"png\", names=ids)"
      ],
      "metadata": {
        "colab": {
          "base_uri": "https://localhost:8080/"
        },
        "id": "vUTBHO1SLkvU",
        "outputId": "bbcc7609-153e-4cb9-a121-1a08ff6b4187"
      },
      "execution_count": 163,
      "outputs": [
        {
          "output_type": "stream",
          "name": "stdout",
          "text": [
            "Total number of images: 242\n",
            "\n",
            "Downloading 1/242: 2018-01-04.png ...\n",
            "Downloading 2/242: 2018-01-10.png ...\n",
            "Downloading 3/242: 2018-01-16.png ...\n",
            "Downloading 4/242: 2018-01-22.png ...\n",
            "Downloading 5/242: 2018-01-28.png ...\n",
            "Downloading 6/242: 2018-02-03.png ...\n",
            "Downloading 7/242: 2018-02-09.png ...\n",
            "Downloading 8/242: 2018-02-15.png ...\n",
            "Downloading 9/242: 2018-02-21.png ...\n",
            "Downloading 10/242: 2018-02-27.png ...\n",
            "Downloading 11/242: 2018-03-05.png ...\n",
            "Downloading 12/242: 2018-03-11.png ...\n",
            "Downloading 13/242: 2018-03-17.png ...\n",
            "Downloading 14/242: 2018-03-23.png ...\n",
            "Downloading 15/242: 2018-03-29.png ...\n",
            "Downloading 16/242: 2018-04-04.png ...\n",
            "Downloading 17/242: 2018-04-10.png ...\n",
            "Downloading 18/242: 2018-04-16.png ...\n",
            "Downloading 19/242: 2018-04-22.png ...\n",
            "An error occurred while downloading.\n",
            "Earth Engine capacity exceeded.\n",
            "Downloading 20/242: 2018-04-28.png ...\n",
            "Downloading 21/242: 2018-05-04.png ...\n",
            "Downloading 22/242: 2018-05-10.png ...\n",
            "Downloading 23/242: 2018-05-16.png ...\n",
            "Downloading 24/242: 2018-05-22.png ...\n",
            "Downloading 25/242: 2018-05-28.png ...\n",
            "Downloading 26/242: 2018-06-03.png ...\n",
            "Downloading 27/242: 2018-06-09.png ...\n",
            "Downloading 28/242: 2018-06-15.png ...\n",
            "Downloading 29/242: 2018-06-21.png ...\n",
            "Downloading 30/242: 2018-06-27.png ...\n",
            "Downloading 31/242: 2018-07-03.png ...\n",
            "Downloading 32/242: 2018-07-09.png ...\n",
            "Downloading 33/242: 2018-07-15.png ...\n",
            "Downloading 34/242: 2018-07-21.png ...\n",
            "Downloading 35/242: 2018-07-27.png ...\n",
            "Downloading 36/242: 2018-08-02.png ...\n",
            "Downloading 37/242: 2018-08-08.png ...\n",
            "Downloading 38/242: 2018-08-14.png ...\n",
            "Downloading 39/242: 2018-08-20.png ...\n",
            "Downloading 40/242: 2018-08-26.png ...\n",
            "Downloading 41/242: 2018-09-01.png ...\n",
            "Downloading 42/242: 2018-09-07.png ...\n",
            "Downloading 43/242: 2018-09-13.png ...\n",
            "Downloading 44/242: 2018-09-19.png ...\n",
            "Downloading 45/242: 2018-09-25.png ...\n",
            "Downloading 46/242: 2018-10-01.png ...\n",
            "Downloading 47/242: 2018-10-07.png ...\n",
            "Downloading 48/242: 2018-10-13.png ...\n",
            "Downloading 49/242: 2018-10-19.png ...\n",
            "Downloading 50/242: 2018-10-25.png ...\n",
            "Downloading 51/242: 2018-10-31.png ...\n",
            "Downloading 52/242: 2018-11-06.png ...\n",
            "Downloading 53/242: 2018-11-12.png ...\n",
            "Downloading 54/242: 2018-11-18.png ...\n",
            "Downloading 55/242: 2018-11-24.png ...\n",
            "Downloading 56/242: 2018-11-30.png ...\n",
            "Downloading 57/242: 2018-12-06.png ...\n",
            "Downloading 58/242: 2018-12-12.png ...\n",
            "Downloading 59/242: 2018-12-18.png ...\n",
            "Downloading 60/242: 2018-12-24.png ...\n",
            "Downloading 61/242: 2018-12-30.png ...\n",
            "Downloading 62/242: 2019-01-05.png ...\n",
            "Downloading 63/242: 2019-01-11.png ...\n",
            "Downloading 64/242: 2019-01-17.png ...\n",
            "Downloading 65/242: 2019-01-23.png ...\n",
            "Downloading 66/242: 2019-01-29.png ...\n",
            "Downloading 67/242: 2019-02-04.png ...\n",
            "Downloading 68/242: 2019-02-10.png ...\n",
            "Downloading 69/242: 2019-02-16.png ...\n",
            "Downloading 70/242: 2019-02-22.png ...\n",
            "Downloading 71/242: 2019-02-28.png ...\n",
            "Downloading 72/242: 2019-03-06.png ...\n",
            "Downloading 73/242: 2019-03-12.png ...\n",
            "Downloading 74/242: 2019-03-18.png ...\n",
            "Downloading 75/242: 2019-03-24.png ...\n",
            "Downloading 76/242: 2019-03-30.png ...\n",
            "Downloading 77/242: 2019-04-05.png ...\n",
            "Downloading 78/242: 2019-04-11.png ...\n",
            "Downloading 79/242: 2019-04-17.png ...\n",
            "Downloading 80/242: 2019-04-23.png ...\n",
            "Downloading 81/242: 2019-04-29.png ...\n",
            "Downloading 82/242: 2019-05-05.png ...\n",
            "Downloading 83/242: 2019-05-11.png ...\n",
            "Downloading 84/242: 2019-05-17.png ...\n",
            "Downloading 85/242: 2019-05-23.png ...\n",
            "Downloading 86/242: 2019-05-29.png ...\n",
            "Downloading 87/242: 2019-06-04.png ...\n",
            "Downloading 88/242: 2019-06-10.png ...\n",
            "Downloading 89/242: 2019-06-16.png ...\n",
            "Downloading 90/242: 2019-06-22.png ...\n",
            "Downloading 91/242: 2019-06-28.png ...\n",
            "Downloading 92/242: 2019-07-04.png ...\n",
            "Downloading 93/242: 2019-07-10.png ...\n",
            "Downloading 94/242: 2019-07-16.png ...\n",
            "Downloading 95/242: 2019-07-22.png ...\n",
            "Downloading 96/242: 2019-07-28.png ...\n",
            "Downloading 97/242: 2019-08-03.png ...\n",
            "Downloading 98/242: 2019-08-09.png ...\n",
            "Downloading 99/242: 2019-08-15.png ...\n",
            "Downloading 100/242: 2019-08-21.png ...\n",
            "Downloading 101/242: 2019-08-27.png ...\n",
            "Downloading 102/242: 2019-09-02.png ...\n",
            "Downloading 103/242: 2019-09-08.png ...\n",
            "Downloading 104/242: 2019-09-14.png ...\n",
            "Downloading 105/242: 2019-09-20.png ...\n",
            "Downloading 106/242: 2019-09-26.png ...\n",
            "Downloading 107/242: 2019-10-02.png ...\n",
            "Downloading 108/242: 2019-10-08.png ...\n",
            "Downloading 109/242: 2019-10-14.png ...\n",
            "Downloading 110/242: 2019-10-20.png ...\n",
            "Downloading 111/242: 2019-10-26.png ...\n",
            "Downloading 112/242: 2019-11-01.png ...\n",
            "Downloading 113/242: 2019-11-07.png ...\n",
            "Downloading 114/242: 2019-11-13.png ...\n",
            "Downloading 115/242: 2019-11-19.png ...\n",
            "Downloading 116/242: 2019-11-25.png ...\n",
            "Downloading 117/242: 2019-12-01.png ...\n",
            "Downloading 118/242: 2019-12-07.png ...\n",
            "Downloading 119/242: 2019-12-13.png ...\n",
            "Downloading 120/242: 2019-12-19.png ...\n",
            "Downloading 121/242: 2019-12-25.png ...\n",
            "Downloading 122/242: 2019-12-31.png ...\n",
            "Downloading 123/242: 2020-01-06.png ...\n",
            "Downloading 124/242: 2020-01-12.png ...\n",
            "Downloading 125/242: 2020-01-18.png ...\n",
            "Downloading 126/242: 2020-01-24.png ...\n",
            "Downloading 127/242: 2020-01-30.png ...\n",
            "Downloading 128/242: 2020-02-05.png ...\n",
            "Downloading 129/242: 2020-02-11.png ...\n",
            "Downloading 130/242: 2020-02-17.png ...\n",
            "Downloading 131/242: 2020-02-23.png ...\n",
            "Downloading 132/242: 2020-02-29.png ...\n",
            "Downloading 133/242: 2020-03-06.png ...\n",
            "Downloading 134/242: 2020-03-12.png ...\n",
            "Downloading 135/242: 2020-03-18.png ...\n",
            "Downloading 136/242: 2020-03-24.png ...\n",
            "Downloading 137/242: 2020-03-30.png ...\n",
            "Downloading 138/242: 2020-04-05.png ...\n",
            "Downloading 139/242: 2020-04-11.png ...\n",
            "Downloading 140/242: 2020-04-17.png ...\n",
            "Downloading 141/242: 2020-04-23.png ...\n",
            "Downloading 142/242: 2020-04-29.png ...\n",
            "Downloading 143/242: 2020-05-05.png ...\n",
            "Downloading 144/242: 2020-05-11.png ...\n",
            "Downloading 145/242: 2020-05-17.png ...\n",
            "Downloading 146/242: 2020-05-23.png ...\n",
            "Downloading 147/242: 2020-05-29.png ...\n",
            "Downloading 148/242: 2020-06-04.png ...\n",
            "Downloading 149/242: 2020-06-10.png ...\n",
            "Downloading 150/242: 2020-06-16.png ...\n",
            "Downloading 151/242: 2020-06-22.png ...\n",
            "Downloading 152/242: 2020-06-28.png ...\n",
            "Downloading 153/242: 2020-07-04.png ...\n",
            "Downloading 154/242: 2020-07-10.png ...\n",
            "Downloading 155/242: 2020-07-16.png ...\n",
            "Downloading 156/242: 2020-07-22.png ...\n",
            "Downloading 157/242: 2020-07-28.png ...\n",
            "Downloading 158/242: 2020-08-03.png ...\n",
            "Downloading 159/242: 2020-08-09.png ...\n",
            "Downloading 160/242: 2020-08-15.png ...\n",
            "Downloading 161/242: 2020-08-21.png ...\n",
            "Downloading 162/242: 2020-08-27.png ...\n",
            "Downloading 163/242: 2020-09-02.png ...\n",
            "Downloading 164/242: 2020-09-08.png ...\n",
            "Downloading 165/242: 2020-09-14.png ...\n",
            "Downloading 166/242: 2020-09-20.png ...\n",
            "Downloading 167/242: 2020-09-26.png ...\n",
            "Downloading 168/242: 2020-10-02.png ...\n",
            "Downloading 169/242: 2020-10-08.png ...\n",
            "Downloading 170/242: 2020-10-14.png ...\n",
            "Downloading 171/242: 2020-10-20.png ...\n",
            "Downloading 172/242: 2020-10-26.png ...\n",
            "Downloading 173/242: 2020-11-01.png ...\n",
            "Downloading 174/242: 2020-11-07.png ...\n",
            "Downloading 175/242: 2020-11-13.png ...\n",
            "Downloading 176/242: 2020-11-19.png ...\n",
            "Downloading 177/242: 2020-11-25.png ...\n",
            "Downloading 178/242: 2020-12-01.png ...\n",
            "Downloading 179/242: 2020-12-07.png ...\n",
            "Downloading 180/242: 2020-12-13.png ...\n",
            "Downloading 181/242: 2020-12-19.png ...\n",
            "Downloading 182/242: 2020-12-25.png ...\n",
            "Downloading 183/242: 2020-12-31.png ...\n",
            "Downloading 184/242: 2021-01-06.png ...\n",
            "Downloading 185/242: 2021-01-12.png ...\n",
            "Downloading 186/242: 2021-01-18.png ...\n",
            "Downloading 187/242: 2021-01-24.png ...\n",
            "Downloading 188/242: 2021-01-30.png ...\n",
            "Downloading 189/242: 2021-02-05.png ...\n",
            "Downloading 190/242: 2021-02-11.png ...\n",
            "Downloading 191/242: 2021-02-17.png ...\n",
            "Downloading 192/242: 2021-03-01.png ...\n",
            "Downloading 193/242: 2021-03-07.png ...\n",
            "Downloading 194/242: 2021-03-13.png ...\n",
            "Downloading 195/242: 2021-03-19.png ...\n",
            "Downloading 196/242: 2021-03-25.png ...\n",
            "Downloading 197/242: 2021-03-31.png ...\n",
            "Downloading 198/242: 2021-04-06.png ...\n",
            "Downloading 199/242: 2021-04-12.png ...\n",
            "Downloading 200/242: 2021-04-18.png ...\n",
            "Downloading 201/242: 2021-04-24.png ...\n",
            "Downloading 202/242: 2021-04-30.png ...\n",
            "Downloading 203/242: 2021-05-06.png ...\n",
            "Downloading 204/242: 2021-05-12.png ...\n",
            "Downloading 205/242: 2021-05-18.png ...\n",
            "Downloading 206/242: 2021-05-24.png ...\n",
            "Downloading 207/242: 2021-05-30.png ...\n",
            "Downloading 208/242: 2021-06-05.png ...\n",
            "Downloading 209/242: 2021-06-11.png ...\n",
            "Downloading 210/242: 2021-06-17.png ...\n",
            "Downloading 211/242: 2021-06-23.png ...\n",
            "Downloading 212/242: 2021-06-29.png ...\n",
            "Downloading 213/242: 2021-07-05.png ...\n",
            "Downloading 214/242: 2021-07-11.png ...\n",
            "Downloading 215/242: 2021-07-17.png ...\n",
            "Downloading 216/242: 2021-07-23.png ...\n",
            "Downloading 217/242: 2021-07-29.png ...\n",
            "Downloading 218/242: 2021-08-04.png ...\n",
            "Downloading 219/242: 2021-08-10.png ...\n",
            "Downloading 220/242: 2021-08-16.png ...\n",
            "Downloading 221/242: 2021-08-22.png ...\n",
            "Downloading 222/242: 2021-08-28.png ...\n",
            "Downloading 223/242: 2021-09-03.png ...\n",
            "Downloading 224/242: 2021-09-09.png ...\n",
            "Downloading 225/242: 2021-09-15.png ...\n",
            "Downloading 226/242: 2021-09-21.png ...\n",
            "Downloading 227/242: 2021-09-27.png ...\n",
            "Downloading 228/242: 2021-10-03.png ...\n",
            "Downloading 229/242: 2021-10-09.png ...\n",
            "Downloading 230/242: 2021-10-15.png ...\n",
            "Downloading 231/242: 2021-10-21.png ...\n",
            "Downloading 232/242: 2021-10-27.png ...\n",
            "Downloading 233/242: 2021-11-02.png ...\n",
            "Downloading 234/242: 2021-11-08.png ...\n",
            "Downloading 235/242: 2021-11-14.png ...\n",
            "Downloading 236/242: 2021-11-20.png ...\n",
            "Downloading 237/242: 2021-11-26.png ...\n",
            "Downloading 238/242: 2021-12-02.png ...\n",
            "Downloading 239/242: 2021-12-08.png ...\n",
            "Downloading 240/242: 2021-12-14.png ...\n",
            "Downloading 241/242: 2021-12-20.png ...\n",
            "Downloading 242/242: 2021-12-26.png ...\n"
          ]
        }
      ]
    },
    {
      "cell_type": "markdown",
      "source": [
        "# Long Beach"
      ],
      "metadata": {
        "id": "gjOqfTNiy5nQ"
      }
    },
    {
      "cell_type": "code",
      "source": [
        "# update to long beach\n",
        "coords = geojson['features'][2]['geometry']['coordinates']\n",
        "aoi = ee.Geometry.Polygon(coords)\n",
        "\n",
        "# query EE\n",
        "collection = ee.ImageCollection('COPERNICUS/S1_GRD').filterBounds(aoi).filterDate(start, finish).filter(ee.Filter.listContains('transmitterReceiverPolarisation', 'VH'))\n",
        "collection_clipped = collection.map(cliptoaoi).sort('segmentStartTime')\n",
        "collection_list = collection_clipped.toList(collection_clipped.size())"
      ],
      "metadata": {
        "id": "8OZAjgF275KA"
      },
      "execution_count": 99,
      "outputs": []
    },
    {
      "cell_type": "code",
      "source": [
        "# generate a range of days between start and end of time series\n",
        "def getdates(coll):\n",
        "  first = coll.first().date()\n",
        "  diff = finish.difference(first, 'day')\n",
        "  def getDays(day):\n",
        "    return first.advance(day,'day')\n",
        "  \n",
        "  return ee.List.sequence(0, diff.subtract(1), 6).map(getDays)"
      ],
      "metadata": {
        "id": "E4e-nHqs-WaP"
      },
      "execution_count": 65,
      "outputs": []
    },
    {
      "cell_type": "code",
      "source": [
        "# mosaic images from the same day as needed, make list of IDs from mosaic images\n",
        "newcol = ee.ImageCollection(ee.List(getdates(collection_clipped).iterate(day_mosaics, ee.List([]))))\n",
        "newcol_list = newcol.toList(newcol.size())\n",
        "ids = newcol.aggregate_array('ID').getInfo()\n",
        "\n",
        "# this is for exporting\n",
        "vis_params = {'min': -20, 'max': 0, 'bands':'VH'}"
      ],
      "metadata": {
        "id": "7K8eWYvifR4y"
      },
      "execution_count": 67,
      "outputs": []
    },
    {
      "cell_type": "code",
      "source": [
        "# take a quick look at the first image just to see\n",
        "out_img = \"tests/longbeach-first.png\"\n",
        "image = newcol.first()\n",
        "geemap.get_image_thumbnail(image, out_img, vis_params, dimensions=500, format='png')\n",
        "geemap.show_image(out_img)"
      ],
      "metadata": {
        "colab": {
          "base_uri": "https://localhost:8080/",
          "height": 391,
          "referenced_widgets": [
            "435e4e13c10d48f892818267e6768fa1",
            "79898dc7ca4b41e68dcf82f3eec79f6c",
            "1f64369c0c2b423599f3398500e123f3",
            "7b45a866246b4eee95335757febbc23c"
          ]
        },
        "id": "7wNXwSx9gjd5",
        "outputId": "fcf67c28-6989-42db-8fe7-d839d73f6f70"
      },
      "execution_count": 70,
      "outputs": [
        {
          "output_type": "display_data",
          "data": {
            "text/plain": [
              "Output()"
            ],
            "application/vnd.jupyter.widget-view+json": {
              "version_major": 2,
              "version_minor": 0,
              "model_id": "435e4e13c10d48f892818267e6768fa1"
            }
          },
          "metadata": {
            "application/vnd.jupyter.widget-view+json": {
              "colab": {
                "custom_widget_manager": {
                  "url": "https://ssl.gstatic.com/colaboratory-static/widgets/colab-cdn-widget-manager/a8874ba6619b6106/manager.min.js"
                }
              }
            }
          }
        }
      ]
    },
    {
      "cell_type": "code",
      "source": [
        "out_dir = 'finalimages/longbeach'\n",
        "geemap.get_image_collection_thumbnails(newcol, out_dir, vis_params, dimensions=500, format=\"png\", names=ids)"
      ],
      "metadata": {
        "colab": {
          "base_uri": "https://localhost:8080/"
        },
        "id": "yrVKSHNUgwqF",
        "outputId": "52f1ee86-6aa0-4d48-c80a-95121849597a"
      },
      "execution_count": 71,
      "outputs": [
        {
          "output_type": "stream",
          "name": "stdout",
          "text": [
            "Total number of images: 222\n",
            "\n",
            "Downloading 1/222: 2018-01-04.png ...\n",
            "Downloading 2/222: 2018-01-10.png ...\n",
            "Downloading 3/222: 2018-01-16.png ...\n",
            "Downloading 4/222: 2018-01-22.png ...\n",
            "Downloading 5/222: 2018-01-28.png ...\n",
            "Downloading 6/222: 2018-02-03.png ...\n",
            "Downloading 7/222: 2018-02-15.png ...\n",
            "Downloading 8/222: 2018-02-27.png ...\n",
            "Downloading 9/222: 2018-03-11.png ...\n",
            "Downloading 10/222: 2018-03-23.png ...\n",
            "Downloading 11/222: 2018-04-04.png ...\n",
            "Downloading 12/222: 2018-04-10.png ...\n",
            "Downloading 13/222: 2018-04-16.png ...\n",
            "Downloading 14/222: 2018-04-22.png ...\n",
            "Downloading 15/222: 2018-04-28.png ...\n",
            "Downloading 16/222: 2018-05-04.png ...\n",
            "Downloading 17/222: 2018-05-10.png ...\n",
            "Downloading 18/222: 2018-05-16.png ...\n",
            "Downloading 19/222: 2018-05-22.png ...\n",
            "Downloading 20/222: 2018-05-28.png ...\n",
            "Downloading 21/222: 2018-06-03.png ...\n",
            "Downloading 22/222: 2018-06-09.png ...\n",
            "Downloading 23/222: 2018-06-15.png ...\n",
            "Downloading 24/222: 2018-06-21.png ...\n",
            "Downloading 25/222: 2018-06-27.png ...\n",
            "Downloading 26/222: 2018-07-03.png ...\n",
            "Downloading 27/222: 2018-07-09.png ...\n",
            "Downloading 28/222: 2018-07-15.png ...\n",
            "Downloading 29/222: 2018-07-21.png ...\n",
            "Downloading 30/222: 2018-07-27.png ...\n",
            "Downloading 31/222: 2018-08-02.png ...\n",
            "Downloading 32/222: 2018-08-14.png ...\n",
            "Downloading 33/222: 2018-08-26.png ...\n",
            "Downloading 34/222: 2018-09-07.png ...\n",
            "Downloading 35/222: 2018-09-19.png ...\n",
            "Downloading 36/222: 2018-09-25.png ...\n",
            "Downloading 37/222: 2018-10-01.png ...\n",
            "Downloading 38/222: 2018-10-13.png ...\n",
            "Downloading 39/222: 2018-10-25.png ...\n",
            "Downloading 40/222: 2018-11-06.png ...\n",
            "Downloading 41/222: 2018-11-18.png ...\n",
            "Downloading 42/222: 2018-11-30.png ...\n",
            "Downloading 43/222: 2018-12-12.png ...\n",
            "Downloading 44/222: 2018-12-24.png ...\n",
            "Downloading 45/222: 2018-12-30.png ...\n",
            "Downloading 46/222: 2019-01-05.png ...\n",
            "Downloading 47/222: 2019-01-11.png ...\n",
            "Downloading 48/222: 2019-01-17.png ...\n",
            "Downloading 49/222: 2019-01-23.png ...\n",
            "Downloading 50/222: 2019-01-29.png ...\n",
            "Downloading 51/222: 2019-02-10.png ...\n",
            "Downloading 52/222: 2019-02-22.png ...\n",
            "Downloading 53/222: 2019-03-06.png ...\n",
            "Downloading 54/222: 2019-03-12.png ...\n",
            "Downloading 55/222: 2019-03-18.png ...\n",
            "Downloading 56/222: 2019-03-24.png ...\n",
            "Downloading 57/222: 2019-03-30.png ...\n",
            "Downloading 58/222: 2019-04-05.png ...\n",
            "Downloading 59/222: 2019-04-11.png ...\n",
            "Downloading 60/222: 2019-04-17.png ...\n",
            "Downloading 61/222: 2019-04-23.png ...\n",
            "Downloading 62/222: 2019-04-29.png ...\n",
            "Downloading 63/222: 2019-05-05.png ...\n",
            "Downloading 64/222: 2019-05-11.png ...\n",
            "Downloading 65/222: 2019-05-17.png ...\n",
            "Downloading 66/222: 2019-05-23.png ...\n",
            "Downloading 67/222: 2019-05-29.png ...\n",
            "Downloading 68/222: 2019-06-10.png ...\n",
            "Downloading 69/222: 2019-06-16.png ...\n",
            "Downloading 70/222: 2019-06-22.png ...\n",
            "Downloading 71/222: 2019-06-28.png ...\n",
            "Downloading 72/222: 2019-07-04.png ...\n",
            "Downloading 73/222: 2019-07-10.png ...\n",
            "Downloading 74/222: 2019-07-16.png ...\n",
            "Downloading 75/222: 2019-07-22.png ...\n",
            "Downloading 76/222: 2019-07-28.png ...\n",
            "Downloading 77/222: 2019-08-03.png ...\n",
            "Downloading 78/222: 2019-08-09.png ...\n",
            "Downloading 79/222: 2019-08-15.png ...\n",
            "Downloading 80/222: 2019-08-21.png ...\n",
            "Downloading 81/222: 2019-08-27.png ...\n",
            "Downloading 82/222: 2019-09-02.png ...\n",
            "Downloading 83/222: 2019-09-08.png ...\n",
            "Downloading 84/222: 2019-09-14.png ...\n",
            "Downloading 85/222: 2019-09-20.png ...\n",
            "Downloading 86/222: 2019-09-26.png ...\n",
            "Downloading 87/222: 2019-10-02.png ...\n",
            "Downloading 88/222: 2019-10-08.png ...\n",
            "Downloading 89/222: 2019-10-14.png ...\n",
            "Downloading 90/222: 2019-10-20.png ...\n",
            "Downloading 91/222: 2019-10-26.png ...\n",
            "Downloading 92/222: 2019-11-01.png ...\n",
            "Downloading 93/222: 2019-11-07.png ...\n",
            "Downloading 94/222: 2019-11-13.png ...\n",
            "Downloading 95/222: 2019-11-19.png ...\n",
            "Downloading 96/222: 2019-11-25.png ...\n",
            "Downloading 97/222: 2019-12-01.png ...\n",
            "Downloading 98/222: 2019-12-07.png ...\n",
            "Downloading 99/222: 2019-12-13.png ...\n",
            "Downloading 100/222: 2019-12-19.png ...\n",
            "Downloading 101/222: 2019-12-25.png ...\n",
            "Downloading 102/222: 2019-12-31.png ...\n",
            "Downloading 103/222: 2020-01-06.png ...\n",
            "Downloading 104/222: 2020-01-12.png ...\n",
            "Downloading 105/222: 2020-01-18.png ...\n",
            "Downloading 106/222: 2020-01-24.png ...\n",
            "Downloading 107/222: 2020-01-30.png ...\n",
            "Downloading 108/222: 2020-02-05.png ...\n",
            "Downloading 109/222: 2020-02-11.png ...\n",
            "Downloading 110/222: 2020-02-17.png ...\n",
            "Downloading 111/222: 2020-02-23.png ...\n",
            "Downloading 112/222: 2020-02-29.png ...\n",
            "Downloading 113/222: 2020-03-06.png ...\n",
            "Downloading 114/222: 2020-03-12.png ...\n",
            "Downloading 115/222: 2020-03-18.png ...\n",
            "Downloading 116/222: 2020-03-24.png ...\n",
            "Downloading 117/222: 2020-03-30.png ...\n",
            "Downloading 118/222: 2020-04-05.png ...\n",
            "Downloading 119/222: 2020-04-11.png ...\n",
            "Downloading 120/222: 2020-04-17.png ...\n",
            "Downloading 121/222: 2020-04-23.png ...\n",
            "Downloading 122/222: 2020-04-29.png ...\n",
            "Downloading 123/222: 2020-05-05.png ...\n",
            "Downloading 124/222: 2020-05-11.png ...\n",
            "Downloading 125/222: 2020-05-17.png ...\n",
            "Downloading 126/222: 2020-05-23.png ...\n",
            "Downloading 127/222: 2020-05-29.png ...\n",
            "Downloading 128/222: 2020-06-04.png ...\n",
            "Downloading 129/222: 2020-06-10.png ...\n",
            "Downloading 130/222: 2020-06-16.png ...\n",
            "Downloading 131/222: 2020-06-22.png ...\n",
            "Downloading 132/222: 2020-06-28.png ...\n",
            "Downloading 133/222: 2020-07-04.png ...\n",
            "Downloading 134/222: 2020-07-10.png ...\n",
            "Downloading 135/222: 2020-07-16.png ...\n",
            "Downloading 136/222: 2020-07-22.png ...\n",
            "Downloading 137/222: 2020-07-28.png ...\n",
            "Downloading 138/222: 2020-08-03.png ...\n",
            "Downloading 139/222: 2020-08-09.png ...\n",
            "Downloading 140/222: 2020-08-15.png ...\n",
            "Downloading 141/222: 2020-08-21.png ...\n",
            "Downloading 142/222: 2020-08-27.png ...\n",
            "Downloading 143/222: 2020-09-02.png ...\n",
            "Downloading 144/222: 2020-09-08.png ...\n",
            "Downloading 145/222: 2020-09-14.png ...\n",
            "Downloading 146/222: 2020-09-20.png ...\n",
            "Downloading 147/222: 2020-09-26.png ...\n",
            "Downloading 148/222: 2020-10-02.png ...\n",
            "Downloading 149/222: 2020-10-08.png ...\n",
            "Downloading 150/222: 2020-10-14.png ...\n",
            "Downloading 151/222: 2020-10-20.png ...\n",
            "Downloading 152/222: 2020-10-26.png ...\n",
            "Downloading 153/222: 2020-11-01.png ...\n",
            "Downloading 154/222: 2020-11-07.png ...\n",
            "Downloading 155/222: 2020-11-13.png ...\n",
            "Downloading 156/222: 2020-11-19.png ...\n",
            "Downloading 157/222: 2020-11-25.png ...\n",
            "Downloading 158/222: 2020-12-01.png ...\n",
            "Downloading 159/222: 2020-12-07.png ...\n",
            "Downloading 160/222: 2020-12-13.png ...\n",
            "Downloading 161/222: 2020-12-19.png ...\n",
            "Downloading 162/222: 2020-12-25.png ...\n",
            "Downloading 163/222: 2020-12-31.png ...\n",
            "Downloading 164/222: 2021-01-06.png ...\n",
            "Downloading 165/222: 2021-01-12.png ...\n",
            "Downloading 166/222: 2021-01-18.png ...\n",
            "Downloading 167/222: 2021-01-24.png ...\n",
            "Downloading 168/222: 2021-01-30.png ...\n",
            "Downloading 169/222: 2021-02-05.png ...\n",
            "Downloading 170/222: 2021-02-11.png ...\n",
            "Downloading 171/222: 2021-02-17.png ...\n",
            "Downloading 172/222: 2021-02-23.png ...\n",
            "Downloading 173/222: 2021-03-01.png ...\n",
            "Downloading 174/222: 2021-03-07.png ...\n",
            "Downloading 175/222: 2021-03-13.png ...\n",
            "Downloading 176/222: 2021-03-19.png ...\n",
            "Downloading 177/222: 2021-03-25.png ...\n",
            "Downloading 178/222: 2021-03-31.png ...\n",
            "Downloading 179/222: 2021-04-06.png ...\n",
            "Downloading 180/222: 2021-04-12.png ...\n",
            "Downloading 181/222: 2021-04-18.png ...\n",
            "Downloading 182/222: 2021-04-24.png ...\n",
            "Downloading 183/222: 2021-04-30.png ...\n",
            "Downloading 184/222: 2021-05-06.png ...\n",
            "Downloading 185/222: 2021-05-12.png ...\n",
            "Downloading 186/222: 2021-05-18.png ...\n",
            "Downloading 187/222: 2021-05-24.png ...\n",
            "Downloading 188/222: 2021-05-30.png ...\n",
            "Downloading 189/222: 2021-06-05.png ...\n",
            "Downloading 190/222: 2021-06-11.png ...\n",
            "Downloading 191/222: 2021-06-17.png ...\n",
            "Downloading 192/222: 2021-06-23.png ...\n",
            "Downloading 193/222: 2021-06-29.png ...\n",
            "Downloading 194/222: 2021-07-05.png ...\n",
            "Downloading 195/222: 2021-07-11.png ...\n",
            "Downloading 196/222: 2021-07-17.png ...\n",
            "Downloading 197/222: 2021-07-23.png ...\n",
            "Downloading 198/222: 2021-07-29.png ...\n",
            "Downloading 199/222: 2021-08-04.png ...\n",
            "Downloading 200/222: 2021-08-10.png ...\n",
            "Downloading 201/222: 2021-08-16.png ...\n",
            "Downloading 202/222: 2021-08-22.png ...\n",
            "Downloading 203/222: 2021-08-28.png ...\n",
            "Downloading 204/222: 2021-09-03.png ...\n",
            "Downloading 205/222: 2021-09-09.png ...\n",
            "Downloading 206/222: 2021-09-15.png ...\n",
            "Downloading 207/222: 2021-09-21.png ...\n",
            "Downloading 208/222: 2021-09-27.png ...\n",
            "Downloading 209/222: 2021-10-03.png ...\n",
            "Downloading 210/222: 2021-10-09.png ...\n",
            "Downloading 211/222: 2021-10-15.png ...\n",
            "Downloading 212/222: 2021-10-21.png ...\n",
            "Downloading 213/222: 2021-10-27.png ...\n",
            "Downloading 214/222: 2021-11-02.png ...\n",
            "Downloading 215/222: 2021-11-08.png ...\n",
            "Downloading 216/222: 2021-11-14.png ...\n",
            "Downloading 217/222: 2021-11-20.png ...\n",
            "Downloading 218/222: 2021-11-26.png ...\n",
            "Downloading 219/222: 2021-12-02.png ...\n",
            "Downloading 220/222: 2021-12-08.png ...\n",
            "Downloading 221/222: 2021-12-14.png ...\n",
            "Downloading 222/222: 2021-12-20.png ...\n"
          ]
        }
      ]
    },
    {
      "cell_type": "markdown",
      "source": [
        "# Rotterdam"
      ],
      "metadata": {
        "id": "wB3gvNcEbcvd"
      }
    },
    {
      "cell_type": "code",
      "source": [
        "# generate a range of days between start and end of time series\n",
        "def getdates(coll):\n",
        "  diff = finish.difference(start, 'day')\n",
        "  def getDays(day):\n",
        "    return start.advance(day,'day')\n",
        "  \n",
        "  return ee.List.sequence(0, diff.subtract(1),6).map(getDays)"
      ],
      "metadata": {
        "id": "eqequIAQbRpm"
      },
      "execution_count": 145,
      "outputs": []
    },
    {
      "cell_type": "code",
      "source": [
        "# update to rotterdam\n",
        "coords = geojson['features'][3]['geometry']['coordinates']\n",
        "aoi = ee.Geometry.Polygon(coords)\n",
        "\n",
        "# query EE\n",
        "collection = ee.ImageCollection('COPERNICUS/S1_GRD').filterBounds(aoi).filterDate(start, finish).filter(ee.Filter.listContains('transmitterReceiverPolarisation', 'VH')).filter(ee.Filter.eq('instrumentMode', 'IW')).filter(ee.Filter.eq('orbitProperties_pass', 'DESCENDING'))\n",
        "collection_clipped = collection.map(cliptoaoi).sort('segmentStartTime')\n",
        "collection_list = collection_clipped.toList(collection_clipped.size())\n",
        "\n",
        "# mosaic images from the same day as needed, make list of IDs from mosaic images\n",
        "newcol = ee.ImageCollection(ee.List(getdates(collection_clipped).iterate(day_mosaics, ee.List([]))))\n",
        "newcol_list = newcol.toList(newcol.size())\n",
        "ids = newcol.aggregate_array('ID').getInfo()\n",
        "\n",
        "# this is for exporting\n",
        "vis_params = {'min': -20, 'max': 0, 'bands':'VH'}"
      ],
      "metadata": {
        "id": "akVpk5NNhkNx"
      },
      "execution_count": 146,
      "outputs": []
    },
    {
      "cell_type": "code",
      "source": [
        "len(ids), ids"
      ],
      "metadata": {
        "colab": {
          "base_uri": "https://localhost:8080/"
        },
        "id": "S23atd8K4N1q",
        "outputId": "84181cbe-e610-456d-9fc1-979cecc15535"
      },
      "execution_count": 147,
      "outputs": [
        {
          "output_type": "execute_result",
          "data": {
            "text/plain": [
              "(239,\n",
              " ['2018-01-01',\n",
              "  '2018-01-07',\n",
              "  '2018-01-13',\n",
              "  '2018-01-19',\n",
              "  '2018-01-25',\n",
              "  '2018-01-31',\n",
              "  '2018-02-06',\n",
              "  '2018-02-12',\n",
              "  '2018-02-18',\n",
              "  '2018-02-24',\n",
              "  '2018-03-02',\n",
              "  '2018-03-08',\n",
              "  '2018-03-14',\n",
              "  '2018-03-20',\n",
              "  '2018-03-26',\n",
              "  '2018-04-01',\n",
              "  '2018-04-07',\n",
              "  '2018-04-13',\n",
              "  '2018-04-19',\n",
              "  '2018-04-25',\n",
              "  '2018-05-01',\n",
              "  '2018-05-07',\n",
              "  '2018-05-13',\n",
              "  '2018-05-19',\n",
              "  '2018-05-25',\n",
              "  '2018-05-31',\n",
              "  '2018-06-06',\n",
              "  '2018-06-12',\n",
              "  '2018-06-18',\n",
              "  '2018-06-24',\n",
              "  '2018-06-30',\n",
              "  '2018-07-06',\n",
              "  '2018-07-12',\n",
              "  '2018-07-18',\n",
              "  '2018-07-24',\n",
              "  '2018-07-30',\n",
              "  '2018-08-05',\n",
              "  '2018-08-11',\n",
              "  '2018-08-17',\n",
              "  '2018-08-23',\n",
              "  '2018-09-04',\n",
              "  '2018-09-10',\n",
              "  '2018-09-16',\n",
              "  '2018-09-22',\n",
              "  '2018-09-28',\n",
              "  '2018-10-04',\n",
              "  '2018-10-10',\n",
              "  '2018-10-16',\n",
              "  '2018-10-22',\n",
              "  '2018-10-28',\n",
              "  '2018-11-03',\n",
              "  '2018-11-09',\n",
              "  '2018-11-15',\n",
              "  '2018-11-21',\n",
              "  '2018-11-27',\n",
              "  '2018-12-03',\n",
              "  '2018-12-09',\n",
              "  '2018-12-15',\n",
              "  '2018-12-21',\n",
              "  '2018-12-27',\n",
              "  '2019-01-02',\n",
              "  '2019-01-08',\n",
              "  '2019-01-14',\n",
              "  '2019-01-20',\n",
              "  '2019-01-26',\n",
              "  '2019-02-13',\n",
              "  '2019-02-19',\n",
              "  '2019-02-25',\n",
              "  '2019-03-03',\n",
              "  '2019-03-09',\n",
              "  '2019-03-15',\n",
              "  '2019-03-21',\n",
              "  '2019-03-27',\n",
              "  '2019-04-02',\n",
              "  '2019-04-08',\n",
              "  '2019-04-14',\n",
              "  '2019-04-20',\n",
              "  '2019-04-26',\n",
              "  '2019-05-02',\n",
              "  '2019-05-08',\n",
              "  '2019-05-14',\n",
              "  '2019-05-20',\n",
              "  '2019-05-26',\n",
              "  '2019-06-01',\n",
              "  '2019-06-13',\n",
              "  '2019-06-19',\n",
              "  '2019-06-25',\n",
              "  '2019-07-01',\n",
              "  '2019-07-07',\n",
              "  '2019-07-13',\n",
              "  '2019-07-19',\n",
              "  '2019-07-25',\n",
              "  '2019-07-31',\n",
              "  '2019-08-06',\n",
              "  '2019-08-12',\n",
              "  '2019-08-18',\n",
              "  '2019-08-24',\n",
              "  '2019-08-30',\n",
              "  '2019-09-05',\n",
              "  '2019-09-11',\n",
              "  '2019-09-17',\n",
              "  '2019-09-23',\n",
              "  '2019-09-29',\n",
              "  '2019-10-05',\n",
              "  '2019-10-11',\n",
              "  '2019-10-17',\n",
              "  '2019-10-23',\n",
              "  '2019-10-29',\n",
              "  '2019-11-04',\n",
              "  '2019-11-10',\n",
              "  '2019-11-16',\n",
              "  '2019-11-22',\n",
              "  '2019-11-28',\n",
              "  '2019-12-04',\n",
              "  '2019-12-10',\n",
              "  '2019-12-16',\n",
              "  '2019-12-22',\n",
              "  '2019-12-28',\n",
              "  '2020-01-03',\n",
              "  '2020-01-09',\n",
              "  '2020-01-15',\n",
              "  '2020-01-21',\n",
              "  '2020-01-27',\n",
              "  '2020-02-02',\n",
              "  '2020-02-08',\n",
              "  '2020-02-14',\n",
              "  '2020-02-20',\n",
              "  '2020-02-26',\n",
              "  '2020-03-03',\n",
              "  '2020-03-09',\n",
              "  '2020-03-15',\n",
              "  '2020-03-21',\n",
              "  '2020-03-27',\n",
              "  '2020-04-02',\n",
              "  '2020-04-08',\n",
              "  '2020-04-14',\n",
              "  '2020-04-20',\n",
              "  '2020-04-26',\n",
              "  '2020-05-02',\n",
              "  '2020-05-08',\n",
              "  '2020-05-14',\n",
              "  '2020-05-20',\n",
              "  '2020-05-26',\n",
              "  '2020-06-01',\n",
              "  '2020-06-07',\n",
              "  '2020-06-13',\n",
              "  '2020-06-19',\n",
              "  '2020-06-25',\n",
              "  '2020-07-01',\n",
              "  '2020-07-07',\n",
              "  '2020-07-13',\n",
              "  '2020-07-19',\n",
              "  '2020-07-25',\n",
              "  '2020-07-31',\n",
              "  '2020-08-06',\n",
              "  '2020-08-12',\n",
              "  '2020-08-18',\n",
              "  '2020-08-24',\n",
              "  '2020-08-30',\n",
              "  '2020-09-05',\n",
              "  '2020-09-11',\n",
              "  '2020-09-17',\n",
              "  '2020-09-23',\n",
              "  '2020-09-29',\n",
              "  '2020-10-05',\n",
              "  '2020-10-11',\n",
              "  '2020-10-17',\n",
              "  '2020-10-23',\n",
              "  '2020-10-29',\n",
              "  '2020-11-04',\n",
              "  '2020-11-10',\n",
              "  '2020-11-16',\n",
              "  '2020-11-22',\n",
              "  '2020-11-28',\n",
              "  '2020-12-04',\n",
              "  '2020-12-10',\n",
              "  '2020-12-16',\n",
              "  '2020-12-22',\n",
              "  '2020-12-28',\n",
              "  '2021-01-03',\n",
              "  '2021-01-09',\n",
              "  '2021-01-15',\n",
              "  '2021-01-21',\n",
              "  '2021-01-27',\n",
              "  '2021-02-02',\n",
              "  '2021-02-08',\n",
              "  '2021-02-14',\n",
              "  '2021-02-20',\n",
              "  '2021-02-26',\n",
              "  '2021-03-04',\n",
              "  '2021-03-10',\n",
              "  '2021-03-16',\n",
              "  '2021-03-22',\n",
              "  '2021-03-28',\n",
              "  '2021-04-03',\n",
              "  '2021-04-09',\n",
              "  '2021-04-15',\n",
              "  '2021-04-21',\n",
              "  '2021-04-27',\n",
              "  '2021-05-03',\n",
              "  '2021-05-09',\n",
              "  '2021-05-15',\n",
              "  '2021-05-21',\n",
              "  '2021-05-27',\n",
              "  '2021-06-02',\n",
              "  '2021-06-08',\n",
              "  '2021-06-14',\n",
              "  '2021-06-20',\n",
              "  '2021-06-26',\n",
              "  '2021-07-02',\n",
              "  '2021-07-08',\n",
              "  '2021-07-14',\n",
              "  '2021-07-20',\n",
              "  '2021-07-26',\n",
              "  '2021-08-01',\n",
              "  '2021-08-07',\n",
              "  '2021-08-13',\n",
              "  '2021-08-19',\n",
              "  '2021-08-25',\n",
              "  '2021-08-31',\n",
              "  '2021-09-06',\n",
              "  '2021-09-12',\n",
              "  '2021-09-18',\n",
              "  '2021-09-24',\n",
              "  '2021-09-30',\n",
              "  '2021-10-06',\n",
              "  '2021-10-12',\n",
              "  '2021-10-18',\n",
              "  '2021-10-24',\n",
              "  '2021-10-30',\n",
              "  '2021-11-05',\n",
              "  '2021-11-11',\n",
              "  '2021-11-17',\n",
              "  '2021-11-23',\n",
              "  '2021-11-29',\n",
              "  '2021-12-05',\n",
              "  '2021-12-11',\n",
              "  '2021-12-17',\n",
              "  '2021-12-23'])"
            ]
          },
          "metadata": {},
          "execution_count": 147
        }
      ]
    },
    {
      "cell_type": "code",
      "source": [
        "# take a quick look at the first image just to see\n",
        "out_img = \"tests/rotterdam-first.png\"\n",
        "image = newcol.first()\n",
        "geemap.get_image_thumbnail(image, out_img, vis_params, dimensions=500, format='png')\n",
        "geemap.show_image(out_img)"
      ],
      "metadata": {
        "colab": {
          "base_uri": "https://localhost:8080/",
          "height": 460,
          "referenced_widgets": [
            "cc581b31e47848db96a32d357e8e0d89",
            "0261ac71eb754269bd35a075c7d9e40f",
            "4b0fb78e60254254ae13434c3acdde0f",
            "78e67a34a9b141ce81cf003b6c91b654"
          ]
        },
        "id": "tGlZPiethm-T",
        "outputId": "abca4c8c-dd30-40ee-c6c2-925d51d2870d"
      },
      "execution_count": 148,
      "outputs": [
        {
          "output_type": "display_data",
          "data": {
            "text/plain": [
              "Output()"
            ],
            "application/vnd.jupyter.widget-view+json": {
              "version_major": 2,
              "version_minor": 0,
              "model_id": "cc581b31e47848db96a32d357e8e0d89"
            }
          },
          "metadata": {
            "application/vnd.jupyter.widget-view+json": {
              "colab": {
                "custom_widget_manager": {
                  "url": "https://ssl.gstatic.com/colaboratory-static/widgets/colab-cdn-widget-manager/a8874ba6619b6106/manager.min.js"
                }
              }
            }
          }
        }
      ]
    },
    {
      "cell_type": "code",
      "source": [
        "out_dir = 'finalimages/rotterdam'\n",
        "geemap.get_image_collection_thumbnails(newcol, out_dir, vis_params, dimensions=500, format=\"png\", names=ids)"
      ],
      "metadata": {
        "colab": {
          "base_uri": "https://localhost:8080/"
        },
        "id": "oacccARhhobx",
        "outputId": "ff9735af-7568-422e-c9cc-9fa2d7502ada"
      },
      "execution_count": 149,
      "outputs": [
        {
          "output_type": "stream",
          "name": "stdout",
          "text": [
            "Total number of images: 239\n",
            "\n",
            "Downloading 1/239: 2018-01-01.png ...\n",
            "Downloading 2/239: 2018-01-07.png ...\n",
            "Downloading 3/239: 2018-01-13.png ...\n",
            "Downloading 4/239: 2018-01-19.png ...\n",
            "Downloading 5/239: 2018-01-25.png ...\n",
            "Downloading 6/239: 2018-01-31.png ...\n",
            "Downloading 7/239: 2018-02-06.png ...\n",
            "Downloading 8/239: 2018-02-12.png ...\n",
            "Downloading 9/239: 2018-02-18.png ...\n",
            "Downloading 10/239: 2018-02-24.png ...\n",
            "Downloading 11/239: 2018-03-02.png ...\n",
            "Downloading 12/239: 2018-03-08.png ...\n",
            "Downloading 13/239: 2018-03-14.png ...\n",
            "Downloading 14/239: 2018-03-20.png ...\n",
            "Downloading 15/239: 2018-03-26.png ...\n",
            "Downloading 16/239: 2018-04-01.png ...\n",
            "Downloading 17/239: 2018-04-07.png ...\n",
            "Downloading 18/239: 2018-04-13.png ...\n",
            "Downloading 19/239: 2018-04-19.png ...\n",
            "Downloading 20/239: 2018-04-25.png ...\n",
            "Downloading 21/239: 2018-05-01.png ...\n",
            "Downloading 22/239: 2018-05-07.png ...\n",
            "Downloading 23/239: 2018-05-13.png ...\n",
            "Downloading 24/239: 2018-05-19.png ...\n",
            "Downloading 25/239: 2018-05-25.png ...\n",
            "Downloading 26/239: 2018-05-31.png ...\n",
            "Downloading 27/239: 2018-06-06.png ...\n",
            "Downloading 28/239: 2018-06-12.png ...\n",
            "Downloading 29/239: 2018-06-18.png ...\n",
            "Downloading 30/239: 2018-06-24.png ...\n",
            "Downloading 31/239: 2018-06-30.png ...\n",
            "Downloading 32/239: 2018-07-06.png ...\n",
            "Downloading 33/239: 2018-07-12.png ...\n",
            "Downloading 34/239: 2018-07-18.png ...\n",
            "Downloading 35/239: 2018-07-24.png ...\n",
            "Downloading 36/239: 2018-07-30.png ...\n",
            "Downloading 37/239: 2018-08-05.png ...\n",
            "Downloading 38/239: 2018-08-11.png ...\n",
            "Downloading 39/239: 2018-08-17.png ...\n",
            "Downloading 40/239: 2018-08-23.png ...\n",
            "Downloading 41/239: 2018-09-04.png ...\n",
            "Downloading 42/239: 2018-09-10.png ...\n",
            "Downloading 43/239: 2018-09-16.png ...\n",
            "Downloading 44/239: 2018-09-22.png ...\n",
            "Downloading 45/239: 2018-09-28.png ...\n",
            "Downloading 46/239: 2018-10-04.png ...\n",
            "Downloading 47/239: 2018-10-10.png ...\n",
            "Downloading 48/239: 2018-10-16.png ...\n",
            "Downloading 49/239: 2018-10-22.png ...\n",
            "Downloading 50/239: 2018-10-28.png ...\n",
            "Downloading 51/239: 2018-11-03.png ...\n",
            "Downloading 52/239: 2018-11-09.png ...\n",
            "Downloading 53/239: 2018-11-15.png ...\n",
            "Downloading 54/239: 2018-11-21.png ...\n",
            "Downloading 55/239: 2018-11-27.png ...\n",
            "Downloading 56/239: 2018-12-03.png ...\n",
            "Downloading 57/239: 2018-12-09.png ...\n",
            "Downloading 58/239: 2018-12-15.png ...\n",
            "Downloading 59/239: 2018-12-21.png ...\n",
            "Downloading 60/239: 2018-12-27.png ...\n",
            "Downloading 61/239: 2019-01-02.png ...\n",
            "Downloading 62/239: 2019-01-08.png ...\n",
            "Downloading 63/239: 2019-01-14.png ...\n",
            "Downloading 64/239: 2019-01-20.png ...\n",
            "Downloading 65/239: 2019-01-26.png ...\n",
            "Downloading 66/239: 2019-02-13.png ...\n",
            "Downloading 67/239: 2019-02-19.png ...\n",
            "Downloading 68/239: 2019-02-25.png ...\n",
            "Downloading 69/239: 2019-03-03.png ...\n",
            "Downloading 70/239: 2019-03-09.png ...\n",
            "Downloading 71/239: 2019-03-15.png ...\n",
            "Downloading 72/239: 2019-03-21.png ...\n",
            "Downloading 73/239: 2019-03-27.png ...\n",
            "Downloading 74/239: 2019-04-02.png ...\n",
            "Downloading 75/239: 2019-04-08.png ...\n",
            "Downloading 76/239: 2019-04-14.png ...\n",
            "Downloading 77/239: 2019-04-20.png ...\n",
            "Downloading 78/239: 2019-04-26.png ...\n",
            "Downloading 79/239: 2019-05-02.png ...\n",
            "Downloading 80/239: 2019-05-08.png ...\n",
            "Downloading 81/239: 2019-05-14.png ...\n",
            "Downloading 82/239: 2019-05-20.png ...\n",
            "Downloading 83/239: 2019-05-26.png ...\n",
            "Downloading 84/239: 2019-06-01.png ...\n",
            "Downloading 85/239: 2019-06-13.png ...\n",
            "Downloading 86/239: 2019-06-19.png ...\n",
            "Downloading 87/239: 2019-06-25.png ...\n",
            "Downloading 88/239: 2019-07-01.png ...\n",
            "Downloading 89/239: 2019-07-07.png ...\n",
            "Downloading 90/239: 2019-07-13.png ...\n",
            "Downloading 91/239: 2019-07-19.png ...\n",
            "Downloading 92/239: 2019-07-25.png ...\n",
            "Downloading 93/239: 2019-07-31.png ...\n",
            "Downloading 94/239: 2019-08-06.png ...\n",
            "Downloading 95/239: 2019-08-12.png ...\n",
            "Downloading 96/239: 2019-08-18.png ...\n",
            "Downloading 97/239: 2019-08-24.png ...\n",
            "Downloading 98/239: 2019-08-30.png ...\n",
            "Downloading 99/239: 2019-09-05.png ...\n",
            "Downloading 100/239: 2019-09-11.png ...\n",
            "Downloading 101/239: 2019-09-17.png ...\n",
            "Downloading 102/239: 2019-09-23.png ...\n",
            "Downloading 103/239: 2019-09-29.png ...\n",
            "Downloading 104/239: 2019-10-05.png ...\n",
            "Downloading 105/239: 2019-10-11.png ...\n",
            "Downloading 106/239: 2019-10-17.png ...\n",
            "Downloading 107/239: 2019-10-23.png ...\n",
            "Downloading 108/239: 2019-10-29.png ...\n",
            "Downloading 109/239: 2019-11-04.png ...\n",
            "Downloading 110/239: 2019-11-10.png ...\n",
            "Downloading 111/239: 2019-11-16.png ...\n",
            "Downloading 112/239: 2019-11-22.png ...\n",
            "Downloading 113/239: 2019-11-28.png ...\n",
            "Downloading 114/239: 2019-12-04.png ...\n",
            "Downloading 115/239: 2019-12-10.png ...\n",
            "Downloading 116/239: 2019-12-16.png ...\n",
            "Downloading 117/239: 2019-12-22.png ...\n",
            "Downloading 118/239: 2019-12-28.png ...\n",
            "Downloading 119/239: 2020-01-03.png ...\n",
            "Downloading 120/239: 2020-01-09.png ...\n",
            "Downloading 121/239: 2020-01-15.png ...\n",
            "Downloading 122/239: 2020-01-21.png ...\n",
            "Downloading 123/239: 2020-01-27.png ...\n",
            "Downloading 124/239: 2020-02-02.png ...\n",
            "Downloading 125/239: 2020-02-08.png ...\n",
            "Downloading 126/239: 2020-02-14.png ...\n",
            "Downloading 127/239: 2020-02-20.png ...\n",
            "Downloading 128/239: 2020-02-26.png ...\n",
            "Downloading 129/239: 2020-03-03.png ...\n",
            "Downloading 130/239: 2020-03-09.png ...\n",
            "Downloading 131/239: 2020-03-15.png ...\n",
            "Downloading 132/239: 2020-03-21.png ...\n",
            "Downloading 133/239: 2020-03-27.png ...\n",
            "Downloading 134/239: 2020-04-02.png ...\n",
            "Downloading 135/239: 2020-04-08.png ...\n",
            "Downloading 136/239: 2020-04-14.png ...\n",
            "Downloading 137/239: 2020-04-20.png ...\n",
            "Downloading 138/239: 2020-04-26.png ...\n",
            "Downloading 139/239: 2020-05-02.png ...\n",
            "Downloading 140/239: 2020-05-08.png ...\n",
            "Downloading 141/239: 2020-05-14.png ...\n",
            "Downloading 142/239: 2020-05-20.png ...\n",
            "Downloading 143/239: 2020-05-26.png ...\n",
            "Downloading 144/239: 2020-06-01.png ...\n",
            "Downloading 145/239: 2020-06-07.png ...\n",
            "Downloading 146/239: 2020-06-13.png ...\n",
            "Downloading 147/239: 2020-06-19.png ...\n",
            "Downloading 148/239: 2020-06-25.png ...\n",
            "Downloading 149/239: 2020-07-01.png ...\n",
            "Downloading 150/239: 2020-07-07.png ...\n",
            "Downloading 151/239: 2020-07-13.png ...\n",
            "Downloading 152/239: 2020-07-19.png ...\n",
            "Downloading 153/239: 2020-07-25.png ...\n",
            "Downloading 154/239: 2020-07-31.png ...\n",
            "Downloading 155/239: 2020-08-06.png ...\n",
            "Downloading 156/239: 2020-08-12.png ...\n",
            "Downloading 157/239: 2020-08-18.png ...\n",
            "Downloading 158/239: 2020-08-24.png ...\n",
            "Downloading 159/239: 2020-08-30.png ...\n",
            "Downloading 160/239: 2020-09-05.png ...\n",
            "Downloading 161/239: 2020-09-11.png ...\n",
            "Downloading 162/239: 2020-09-17.png ...\n",
            "Downloading 163/239: 2020-09-23.png ...\n",
            "Downloading 164/239: 2020-09-29.png ...\n",
            "Downloading 165/239: 2020-10-05.png ...\n",
            "Downloading 166/239: 2020-10-11.png ...\n",
            "Downloading 167/239: 2020-10-17.png ...\n",
            "Downloading 168/239: 2020-10-23.png ...\n",
            "Downloading 169/239: 2020-10-29.png ...\n",
            "Downloading 170/239: 2020-11-04.png ...\n",
            "Downloading 171/239: 2020-11-10.png ...\n",
            "Downloading 172/239: 2020-11-16.png ...\n",
            "Downloading 173/239: 2020-11-22.png ...\n",
            "Downloading 174/239: 2020-11-28.png ...\n",
            "Downloading 175/239: 2020-12-04.png ...\n",
            "Downloading 176/239: 2020-12-10.png ...\n",
            "Downloading 177/239: 2020-12-16.png ...\n",
            "Downloading 178/239: 2020-12-22.png ...\n",
            "Downloading 179/239: 2020-12-28.png ...\n",
            "Downloading 180/239: 2021-01-03.png ...\n",
            "Downloading 181/239: 2021-01-09.png ...\n",
            "Downloading 182/239: 2021-01-15.png ...\n",
            "Downloading 183/239: 2021-01-21.png ...\n",
            "Downloading 184/239: 2021-01-27.png ...\n",
            "Downloading 185/239: 2021-02-02.png ...\n",
            "Downloading 186/239: 2021-02-08.png ...\n",
            "Downloading 187/239: 2021-02-14.png ...\n",
            "Downloading 188/239: 2021-02-20.png ...\n",
            "Downloading 189/239: 2021-02-26.png ...\n",
            "Downloading 190/239: 2021-03-04.png ...\n",
            "Downloading 191/239: 2021-03-10.png ...\n",
            "Downloading 192/239: 2021-03-16.png ...\n",
            "Downloading 193/239: 2021-03-22.png ...\n",
            "Downloading 194/239: 2021-03-28.png ...\n",
            "Downloading 195/239: 2021-04-03.png ...\n",
            "Downloading 196/239: 2021-04-09.png ...\n",
            "Downloading 197/239: 2021-04-15.png ...\n",
            "Downloading 198/239: 2021-04-21.png ...\n",
            "Downloading 199/239: 2021-04-27.png ...\n",
            "Downloading 200/239: 2021-05-03.png ...\n",
            "Downloading 201/239: 2021-05-09.png ...\n",
            "Downloading 202/239: 2021-05-15.png ...\n",
            "Downloading 203/239: 2021-05-21.png ...\n",
            "Downloading 204/239: 2021-05-27.png ...\n",
            "Downloading 205/239: 2021-06-02.png ...\n",
            "Downloading 206/239: 2021-06-08.png ...\n",
            "Downloading 207/239: 2021-06-14.png ...\n",
            "Downloading 208/239: 2021-06-20.png ...\n",
            "Downloading 209/239: 2021-06-26.png ...\n",
            "Downloading 210/239: 2021-07-02.png ...\n",
            "Downloading 211/239: 2021-07-08.png ...\n",
            "Downloading 212/239: 2021-07-14.png ...\n",
            "Downloading 213/239: 2021-07-20.png ...\n",
            "Downloading 214/239: 2021-07-26.png ...\n",
            "Downloading 215/239: 2021-08-01.png ...\n",
            "Downloading 216/239: 2021-08-07.png ...\n",
            "Downloading 217/239: 2021-08-13.png ...\n",
            "Downloading 218/239: 2021-08-19.png ...\n",
            "Downloading 219/239: 2021-08-25.png ...\n",
            "Downloading 220/239: 2021-08-31.png ...\n",
            "Downloading 221/239: 2021-09-06.png ...\n",
            "Downloading 222/239: 2021-09-12.png ...\n",
            "Downloading 223/239: 2021-09-18.png ...\n",
            "Downloading 224/239: 2021-09-24.png ...\n",
            "Downloading 225/239: 2021-09-30.png ...\n",
            "Downloading 226/239: 2021-10-06.png ...\n",
            "Downloading 227/239: 2021-10-12.png ...\n",
            "Downloading 228/239: 2021-10-18.png ...\n",
            "Downloading 229/239: 2021-10-24.png ...\n",
            "Downloading 230/239: 2021-10-30.png ...\n",
            "Downloading 231/239: 2021-11-05.png ...\n",
            "Downloading 232/239: 2021-11-11.png ...\n",
            "Downloading 233/239: 2021-11-17.png ...\n",
            "Downloading 234/239: 2021-11-23.png ...\n",
            "Downloading 235/239: 2021-11-29.png ...\n",
            "Downloading 236/239: 2021-12-05.png ...\n",
            "Downloading 237/239: 2021-12-11.png ...\n",
            "Downloading 238/239: 2021-12-17.png ...\n",
            "Downloading 239/239: 2021-12-23.png ...\n"
          ]
        }
      ]
    },
    {
      "cell_type": "markdown",
      "source": [
        "# Singapore"
      ],
      "metadata": {
        "id": "Y0MQ4FNHbgli"
      }
    },
    {
      "cell_type": "code",
      "source": [
        "# update to singapore\n",
        "coords = geojson['features'][0]['geometry']['coordinates']\n",
        "aoi = ee.Geometry.Polygon(coords)\n",
        "\n",
        "# query EE\n",
        "collection = ee.ImageCollection('COPERNICUS/S1_GRD').filterBounds(aoi).filterDate(start, finish).filter(ee.Filter.listContains('transmitterReceiverPolarisation', 'VH'))\n",
        "collection_clipped = collection.map(cliptoaoi).sort('segmentStartTime')\n",
        "collection_list = collection_clipped.toList(collection_clipped.size())"
      ],
      "metadata": {
        "id": "TLrrdkULPSru"
      },
      "execution_count": 131,
      "outputs": []
    },
    {
      "cell_type": "code",
      "source": [
        "# generate a range of days between start and end of time series\n",
        "# because of the size of the image and gaps in overlap days (?) Singapore actually has a 12 day lag\n",
        "def getdates(coll):\n",
        "  first = ee.Date('2018-01-06')\n",
        "  diff = finish.difference(first, 'day')\n",
        "  def getDays(day):\n",
        "    return first.advance(day,'day')\n",
        "  \n",
        "  return ee.List.sequence(0, diff.subtract(1),12).map(getDays)"
      ],
      "metadata": {
        "id": "GhqRFKqhPQiq"
      },
      "execution_count": 143,
      "outputs": []
    },
    {
      "cell_type": "code",
      "source": [
        "# mosaic images from the same day as needed, make list of IDs from mosaic images\n",
        "newcol = ee.ImageCollection(ee.List(getdates(collection_clipped).iterate(day_mosaics, ee.List([]))))\n",
        "newcol_list = newcol.toList(newcol.size())\n",
        "ids = newcol.aggregate_array('ID').getInfo()\n",
        "\n",
        "# this is for exporting\n",
        "vis_params = {'min': -20, 'max': 0, 'bands':'VH'}"
      ],
      "metadata": {
        "id": "GScaLwzPPpyD"
      },
      "execution_count": 140,
      "outputs": []
    },
    {
      "cell_type": "code",
      "source": [
        "# take a quick look at the first image just to see\n",
        "out_img = \"tests/singapore-first.png\"\n",
        "image = newcol.first()\n",
        "geemap.get_image_thumbnail(image, out_img, vis_params, dimensions=800, format='png')\n",
        "geemap.show_image(out_img)"
      ],
      "metadata": {
        "colab": {
          "base_uri": "https://localhost:8080/",
          "height": 257,
          "referenced_widgets": [
            "4a973c8f64274e9fa369de4633227ff7",
            "4822e6819b1c4635b233e06a2ec36150",
            "38d0782ba4f94ed9a1ea4ef84b255910",
            "4cca71f602c34f7dbcb47a2449d8035e"
          ]
        },
        "id": "VsSFdH5nhzWZ",
        "outputId": "9212b726-34b7-4525-fbe4-801bcd4f26f6"
      },
      "execution_count": 136,
      "outputs": [
        {
          "output_type": "display_data",
          "data": {
            "text/plain": [
              "Output()"
            ],
            "application/vnd.jupyter.widget-view+json": {
              "version_major": 2,
              "version_minor": 0,
              "model_id": "4a973c8f64274e9fa369de4633227ff7"
            }
          },
          "metadata": {
            "application/vnd.jupyter.widget-view+json": {
              "colab": {
                "custom_widget_manager": {
                  "url": "https://ssl.gstatic.com/colaboratory-static/widgets/colab-cdn-widget-manager/a8874ba6619b6106/manager.min.js"
                }
              }
            }
          }
        }
      ]
    },
    {
      "cell_type": "code",
      "source": [
        "out_dir = 'finalimages/singapore'\n",
        "geemap.get_image_collection_thumbnails(newcol, out_dir, vis_params, dimensions=800, format=\"png\", names=ids)"
      ],
      "metadata": {
        "colab": {
          "base_uri": "https://localhost:8080/"
        },
        "id": "Ffvafp3kh4bn",
        "outputId": "5040661b-b5db-4162-b3bc-99a52ca86753"
      },
      "execution_count": 142,
      "outputs": [
        {
          "output_type": "stream",
          "name": "stdout",
          "text": [
            "Total number of images: 118\n",
            "\n",
            "Downloading 1/118: 2018-01-06.png ...\n",
            "Downloading 2/118: 2018-01-18.png ...\n",
            "Downloading 3/118: 2018-01-30.png ...\n",
            "Downloading 4/118: 2018-02-11.png ...\n",
            "Downloading 5/118: 2018-02-23.png ...\n",
            "Downloading 6/118: 2018-03-19.png ...\n",
            "Downloading 7/118: 2018-03-31.png ...\n",
            "Downloading 8/118: 2018-04-12.png ...\n",
            "Downloading 9/118: 2018-04-24.png ...\n",
            "Downloading 10/118: 2018-05-06.png ...\n",
            "Downloading 11/118: 2018-05-18.png ...\n",
            "Downloading 12/118: 2018-05-30.png ...\n",
            "Downloading 13/118: 2018-06-11.png ...\n",
            "Downloading 14/118: 2018-06-23.png ...\n",
            "Downloading 15/118: 2018-07-05.png ...\n",
            "Downloading 16/118: 2018-07-17.png ...\n",
            "Downloading 17/118: 2018-07-29.png ...\n",
            "Downloading 18/118: 2018-08-10.png ...\n",
            "Downloading 19/118: 2018-08-22.png ...\n",
            "Downloading 20/118: 2018-09-03.png ...\n",
            "Downloading 21/118: 2018-09-15.png ...\n",
            "Downloading 22/118: 2018-09-27.png ...\n",
            "Downloading 23/118: 2018-10-09.png ...\n",
            "Downloading 24/118: 2018-10-21.png ...\n",
            "Downloading 25/118: 2018-11-02.png ...\n",
            "Downloading 26/118: 2018-11-14.png ...\n",
            "Downloading 27/118: 2018-11-26.png ...\n",
            "Downloading 28/118: 2018-12-08.png ...\n",
            "Downloading 29/118: 2018-12-20.png ...\n",
            "Downloading 30/118: 2019-01-01.png ...\n",
            "Downloading 31/118: 2019-01-13.png ...\n",
            "Downloading 32/118: 2019-01-25.png ...\n",
            "Downloading 33/118: 2019-02-06.png ...\n",
            "Downloading 34/118: 2019-02-18.png ...\n",
            "Downloading 35/118: 2019-03-02.png ...\n",
            "Downloading 36/118: 2019-03-14.png ...\n",
            "Downloading 37/118: 2019-03-26.png ...\n",
            "Downloading 38/118: 2019-04-07.png ...\n",
            "Downloading 39/118: 2019-04-19.png ...\n",
            "Downloading 40/118: 2019-05-01.png ...\n",
            "Downloading 41/118: 2019-05-13.png ...\n",
            "Downloading 42/118: 2019-05-25.png ...\n",
            "Downloading 43/118: 2019-06-06.png ...\n",
            "Downloading 44/118: 2019-06-18.png ...\n",
            "Downloading 45/118: 2019-06-30.png ...\n",
            "Downloading 46/118: 2019-07-12.png ...\n",
            "Downloading 47/118: 2019-08-05.png ...\n",
            "Downloading 48/118: 2019-08-17.png ...\n",
            "Downloading 49/118: 2019-08-29.png ...\n",
            "Downloading 50/118: 2019-09-10.png ...\n",
            "Downloading 51/118: 2019-09-22.png ...\n",
            "Downloading 52/118: 2019-10-04.png ...\n",
            "Downloading 53/118: 2019-10-16.png ...\n",
            "Downloading 54/118: 2019-10-28.png ...\n",
            "Downloading 55/118: 2019-11-09.png ...\n",
            "Downloading 56/118: 2019-11-21.png ...\n",
            "Downloading 57/118: 2019-12-03.png ...\n",
            "Downloading 58/118: 2019-12-15.png ...\n",
            "Downloading 59/118: 2019-12-27.png ...\n",
            "Downloading 60/118: 2020-01-08.png ...\n",
            "Downloading 61/118: 2020-01-20.png ...\n",
            "Downloading 62/118: 2020-02-01.png ...\n",
            "Downloading 63/118: 2020-02-13.png ...\n",
            "Downloading 64/118: 2020-03-08.png ...\n",
            "Downloading 65/118: 2020-03-20.png ...\n",
            "Downloading 66/118: 2020-04-01.png ...\n",
            "Downloading 67/118: 2020-04-13.png ...\n",
            "Downloading 68/118: 2020-04-25.png ...\n",
            "Downloading 69/118: 2020-05-07.png ...\n",
            "Downloading 70/118: 2020-05-19.png ...\n",
            "Downloading 71/118: 2020-05-31.png ...\n",
            "Downloading 72/118: 2020-06-12.png ...\n",
            "Downloading 73/118: 2020-06-24.png ...\n",
            "Downloading 74/118: 2020-07-06.png ...\n",
            "Downloading 75/118: 2020-07-30.png ...\n",
            "Downloading 76/118: 2020-08-11.png ...\n",
            "Downloading 77/118: 2020-08-23.png ...\n",
            "Downloading 78/118: 2020-09-04.png ...\n",
            "Downloading 79/118: 2020-09-16.png ...\n",
            "Downloading 80/118: 2020-09-28.png ...\n",
            "Downloading 81/118: 2020-10-10.png ...\n",
            "Downloading 82/118: 2020-10-22.png ...\n",
            "Downloading 83/118: 2020-11-03.png ...\n",
            "Downloading 84/118: 2020-11-15.png ...\n",
            "Downloading 85/118: 2020-11-27.png ...\n",
            "Downloading 86/118: 2020-12-09.png ...\n",
            "Downloading 87/118: 2020-12-21.png ...\n",
            "Downloading 88/118: 2021-01-02.png ...\n",
            "Downloading 89/118: 2021-01-14.png ...\n",
            "Downloading 90/118: 2021-01-26.png ...\n",
            "Downloading 91/118: 2021-02-07.png ...\n",
            "Downloading 92/118: 2021-02-19.png ...\n",
            "Downloading 93/118: 2021-03-03.png ...\n",
            "Downloading 94/118: 2021-03-15.png ...\n",
            "Downloading 95/118: 2021-03-27.png ...\n",
            "Downloading 96/118: 2021-04-08.png ...\n",
            "Downloading 97/118: 2021-04-20.png ...\n",
            "Downloading 98/118: 2021-05-02.png ...\n",
            "Downloading 99/118: 2021-05-14.png ...\n",
            "Downloading 100/118: 2021-05-26.png ...\n",
            "Downloading 101/118: 2021-06-07.png ...\n",
            "Downloading 102/118: 2021-06-19.png ...\n",
            "Downloading 103/118: 2021-07-01.png ...\n",
            "Downloading 104/118: 2021-07-13.png ...\n",
            "Downloading 105/118: 2021-07-25.png ...\n",
            "Downloading 106/118: 2021-08-06.png ...\n",
            "Downloading 107/118: 2021-08-18.png ...\n",
            "Downloading 108/118: 2021-08-30.png ...\n",
            "Downloading 109/118: 2021-09-11.png ...\n",
            "Downloading 110/118: 2021-09-23.png ...\n",
            "Downloading 111/118: 2021-10-05.png ...\n",
            "Downloading 112/118: 2021-10-17.png ...\n",
            "Downloading 113/118: 2021-10-29.png ...\n",
            "Downloading 114/118: 2021-11-10.png ...\n",
            "Downloading 115/118: 2021-11-22.png ...\n",
            "Downloading 116/118: 2021-12-04.png ...\n",
            "Downloading 117/118: 2021-12-16.png ...\n",
            "Downloading 118/118: 2021-12-28.png ...\n"
          ]
        }
      ]
    }
  ],
  "metadata": {
    "colab": {
      "collapsed_sections": [],
      "name": "MLSTA Final Project Preprocessing",
      "provenance": [],
      "include_colab_link": true
    },
    "kernelspec": {
      "display_name": "Python 3",
      "name": "python3"
    },
    "widgets": {
      "application/vnd.jupyter.widget-state+json": {
        "6b4cf6d7a5d34d9ebc531d9469374b38": {
          "model_module": "@jupyter-widgets/output",
          "model_name": "OutputModel",
          "model_module_version": "1.0.0",
          "state": {
            "_dom_classes": [],
            "_model_module": "@jupyter-widgets/output",
            "_model_module_version": "1.0.0",
            "_model_name": "OutputModel",
            "_view_count": null,
            "_view_module": "@jupyter-widgets/output",
            "_view_module_version": "1.0.0",
            "_view_name": "OutputView",
            "layout": "IPY_MODEL_4e5282f81eee4803a7284a6dfde39137",
            "msg_id": "",
            "outputs": [
              {
                "output_type": "display_data",
                "data": {
                  "text/plain": "Image(value=b'\\x89PNG\\r\\n\\x1a\\n\\x00\\x00\\x00\\rIHDR\\x00\\x00\\x01\\xf4\\x00\\x00\\x01\\xb6\\x08\\x04\\x00\\x00\\x00#O\\xbcf\\x…",
                  "application/vnd.jupyter.widget-view+json": {
                    "version_major": 2,
                    "version_minor": 0,
                    "model_id": "2cb14a5d1f804ff3afb5c47b35786839"
                  }
                },
                "metadata": {
                  "application/vnd.jupyter.widget-view+json": {
                    "colab": {
                      "custom_widget_manager": {
                        "url": "https://ssl.gstatic.com/colaboratory-static/widgets/colab-cdn-widget-manager/a8874ba6619b6106/manager.min.js"
                      }
                    }
                  }
                }
              }
            ]
          }
        },
        "4e5282f81eee4803a7284a6dfde39137": {
          "model_module": "@jupyter-widgets/base",
          "model_name": "LayoutModel",
          "model_module_version": "1.2.0",
          "state": {
            "_model_module": "@jupyter-widgets/base",
            "_model_module_version": "1.2.0",
            "_model_name": "LayoutModel",
            "_view_count": null,
            "_view_module": "@jupyter-widgets/base",
            "_view_module_version": "1.2.0",
            "_view_name": "LayoutView",
            "align_content": null,
            "align_items": null,
            "align_self": null,
            "border": null,
            "bottom": null,
            "display": null,
            "flex": null,
            "flex_flow": null,
            "grid_area": null,
            "grid_auto_columns": null,
            "grid_auto_flow": null,
            "grid_auto_rows": null,
            "grid_column": null,
            "grid_gap": null,
            "grid_row": null,
            "grid_template_areas": null,
            "grid_template_columns": null,
            "grid_template_rows": null,
            "height": null,
            "justify_content": null,
            "justify_items": null,
            "left": null,
            "margin": null,
            "max_height": null,
            "max_width": null,
            "min_height": null,
            "min_width": null,
            "object_fit": null,
            "object_position": null,
            "order": null,
            "overflow": null,
            "overflow_x": null,
            "overflow_y": null,
            "padding": null,
            "right": null,
            "top": null,
            "visibility": null,
            "width": null
          }
        },
        "2cb14a5d1f804ff3afb5c47b35786839": {
          "model_module": "@jupyter-widgets/controls",
          "model_name": "ImageModel",
          "model_module_version": "1.5.0",
          "state": {
            "_dom_classes": [],
            "_model_module": "@jupyter-widgets/controls",
            "_model_module_version": "1.5.0",
            "_model_name": "ImageModel",
            "_view_count": null,
            "_view_module": "@jupyter-widgets/controls",
            "_view_module_version": "1.5.0",
            "_view_name": "ImageView",
            "format": "png",
            "height": "",
            "layout": "IPY_MODEL_7cc97672f3c14315ad0afe93174b0ba9",
            "width": ""
          }
        },
        "7cc97672f3c14315ad0afe93174b0ba9": {
          "model_module": "@jupyter-widgets/base",
          "model_name": "LayoutModel",
          "model_module_version": "1.2.0",
          "state": {
            "_model_module": "@jupyter-widgets/base",
            "_model_module_version": "1.2.0",
            "_model_name": "LayoutModel",
            "_view_count": null,
            "_view_module": "@jupyter-widgets/base",
            "_view_module_version": "1.2.0",
            "_view_name": "LayoutView",
            "align_content": null,
            "align_items": null,
            "align_self": null,
            "border": null,
            "bottom": null,
            "display": null,
            "flex": null,
            "flex_flow": null,
            "grid_area": null,
            "grid_auto_columns": null,
            "grid_auto_flow": null,
            "grid_auto_rows": null,
            "grid_column": null,
            "grid_gap": null,
            "grid_row": null,
            "grid_template_areas": null,
            "grid_template_columns": null,
            "grid_template_rows": null,
            "height": null,
            "justify_content": null,
            "justify_items": null,
            "left": null,
            "margin": null,
            "max_height": null,
            "max_width": null,
            "min_height": null,
            "min_width": null,
            "object_fit": null,
            "object_position": null,
            "order": null,
            "overflow": null,
            "overflow_x": null,
            "overflow_y": null,
            "padding": null,
            "right": null,
            "top": null,
            "visibility": null,
            "width": null
          }
        },
        "435e4e13c10d48f892818267e6768fa1": {
          "model_module": "@jupyter-widgets/output",
          "model_name": "OutputModel",
          "model_module_version": "1.0.0",
          "state": {
            "_dom_classes": [],
            "_model_module": "@jupyter-widgets/output",
            "_model_module_version": "1.0.0",
            "_model_name": "OutputModel",
            "_view_count": null,
            "_view_module": "@jupyter-widgets/output",
            "_view_module_version": "1.0.0",
            "_view_name": "OutputView",
            "layout": "IPY_MODEL_79898dc7ca4b41e68dcf82f3eec79f6c",
            "msg_id": "",
            "outputs": [
              {
                "output_type": "display_data",
                "data": {
                  "text/plain": "Image(value=b'\\x89PNG\\r\\n\\x1a\\n\\x00\\x00\\x00\\rIHDR\\x00\\x00\\x01\\xf4\\x00\\x00\\x01m\\x08\\x04\\x00\\x00\\x00[\\xb6P\\x8a\\x…",
                  "application/vnd.jupyter.widget-view+json": {
                    "version_major": 2,
                    "version_minor": 0,
                    "model_id": "1f64369c0c2b423599f3398500e123f3"
                  }
                },
                "metadata": {
                  "application/vnd.jupyter.widget-view+json": {
                    "colab": {
                      "custom_widget_manager": {
                        "url": "https://ssl.gstatic.com/colaboratory-static/widgets/colab-cdn-widget-manager/a8874ba6619b6106/manager.min.js"
                      }
                    }
                  }
                }
              }
            ]
          }
        },
        "79898dc7ca4b41e68dcf82f3eec79f6c": {
          "model_module": "@jupyter-widgets/base",
          "model_name": "LayoutModel",
          "model_module_version": "1.2.0",
          "state": {
            "_model_module": "@jupyter-widgets/base",
            "_model_module_version": "1.2.0",
            "_model_name": "LayoutModel",
            "_view_count": null,
            "_view_module": "@jupyter-widgets/base",
            "_view_module_version": "1.2.0",
            "_view_name": "LayoutView",
            "align_content": null,
            "align_items": null,
            "align_self": null,
            "border": null,
            "bottom": null,
            "display": null,
            "flex": null,
            "flex_flow": null,
            "grid_area": null,
            "grid_auto_columns": null,
            "grid_auto_flow": null,
            "grid_auto_rows": null,
            "grid_column": null,
            "grid_gap": null,
            "grid_row": null,
            "grid_template_areas": null,
            "grid_template_columns": null,
            "grid_template_rows": null,
            "height": null,
            "justify_content": null,
            "justify_items": null,
            "left": null,
            "margin": null,
            "max_height": null,
            "max_width": null,
            "min_height": null,
            "min_width": null,
            "object_fit": null,
            "object_position": null,
            "order": null,
            "overflow": null,
            "overflow_x": null,
            "overflow_y": null,
            "padding": null,
            "right": null,
            "top": null,
            "visibility": null,
            "width": null
          }
        },
        "1f64369c0c2b423599f3398500e123f3": {
          "model_module": "@jupyter-widgets/controls",
          "model_name": "ImageModel",
          "model_module_version": "1.5.0",
          "state": {
            "_dom_classes": [],
            "_model_module": "@jupyter-widgets/controls",
            "_model_module_version": "1.5.0",
            "_model_name": "ImageModel",
            "_view_count": null,
            "_view_module": "@jupyter-widgets/controls",
            "_view_module_version": "1.5.0",
            "_view_name": "ImageView",
            "format": "png",
            "height": "",
            "layout": "IPY_MODEL_7b45a866246b4eee95335757febbc23c",
            "width": ""
          }
        },
        "7b45a866246b4eee95335757febbc23c": {
          "model_module": "@jupyter-widgets/base",
          "model_name": "LayoutModel",
          "model_module_version": "1.2.0",
          "state": {
            "_model_module": "@jupyter-widgets/base",
            "_model_module_version": "1.2.0",
            "_model_name": "LayoutModel",
            "_view_count": null,
            "_view_module": "@jupyter-widgets/base",
            "_view_module_version": "1.2.0",
            "_view_name": "LayoutView",
            "align_content": null,
            "align_items": null,
            "align_self": null,
            "border": null,
            "bottom": null,
            "display": null,
            "flex": null,
            "flex_flow": null,
            "grid_area": null,
            "grid_auto_columns": null,
            "grid_auto_flow": null,
            "grid_auto_rows": null,
            "grid_column": null,
            "grid_gap": null,
            "grid_row": null,
            "grid_template_areas": null,
            "grid_template_columns": null,
            "grid_template_rows": null,
            "height": null,
            "justify_content": null,
            "justify_items": null,
            "left": null,
            "margin": null,
            "max_height": null,
            "max_width": null,
            "min_height": null,
            "min_width": null,
            "object_fit": null,
            "object_position": null,
            "order": null,
            "overflow": null,
            "overflow_x": null,
            "overflow_y": null,
            "padding": null,
            "right": null,
            "top": null,
            "visibility": null,
            "width": null
          }
        },
        "cc581b31e47848db96a32d357e8e0d89": {
          "model_module": "@jupyter-widgets/output",
          "model_name": "OutputModel",
          "model_module_version": "1.0.0",
          "state": {
            "_dom_classes": [],
            "_model_module": "@jupyter-widgets/output",
            "_model_module_version": "1.0.0",
            "_model_name": "OutputModel",
            "_view_count": null,
            "_view_module": "@jupyter-widgets/output",
            "_view_module_version": "1.0.0",
            "_view_name": "OutputView",
            "layout": "IPY_MODEL_0261ac71eb754269bd35a075c7d9e40f",
            "msg_id": "",
            "outputs": [
              {
                "output_type": "display_data",
                "data": {
                  "text/plain": "Image(value=b'\\x89PNG\\r\\n\\x1a\\n\\x00\\x00\\x00\\rIHDR\\x00\\x00\\x01\\xf4\\x00\\x00\\x01\\xb2\\x08\\x04\\x00\\x00\\x00\\xb8\\xde\\…",
                  "application/vnd.jupyter.widget-view+json": {
                    "version_major": 2,
                    "version_minor": 0,
                    "model_id": "4b0fb78e60254254ae13434c3acdde0f"
                  }
                },
                "metadata": {
                  "application/vnd.jupyter.widget-view+json": {
                    "colab": {
                      "custom_widget_manager": {
                        "url": "https://ssl.gstatic.com/colaboratory-static/widgets/colab-cdn-widget-manager/a8874ba6619b6106/manager.min.js"
                      }
                    }
                  }
                }
              }
            ]
          }
        },
        "0261ac71eb754269bd35a075c7d9e40f": {
          "model_module": "@jupyter-widgets/base",
          "model_name": "LayoutModel",
          "model_module_version": "1.2.0",
          "state": {
            "_model_module": "@jupyter-widgets/base",
            "_model_module_version": "1.2.0",
            "_model_name": "LayoutModel",
            "_view_count": null,
            "_view_module": "@jupyter-widgets/base",
            "_view_module_version": "1.2.0",
            "_view_name": "LayoutView",
            "align_content": null,
            "align_items": null,
            "align_self": null,
            "border": null,
            "bottom": null,
            "display": null,
            "flex": null,
            "flex_flow": null,
            "grid_area": null,
            "grid_auto_columns": null,
            "grid_auto_flow": null,
            "grid_auto_rows": null,
            "grid_column": null,
            "grid_gap": null,
            "grid_row": null,
            "grid_template_areas": null,
            "grid_template_columns": null,
            "grid_template_rows": null,
            "height": null,
            "justify_content": null,
            "justify_items": null,
            "left": null,
            "margin": null,
            "max_height": null,
            "max_width": null,
            "min_height": null,
            "min_width": null,
            "object_fit": null,
            "object_position": null,
            "order": null,
            "overflow": null,
            "overflow_x": null,
            "overflow_y": null,
            "padding": null,
            "right": null,
            "top": null,
            "visibility": null,
            "width": null
          }
        },
        "4b0fb78e60254254ae13434c3acdde0f": {
          "model_module": "@jupyter-widgets/controls",
          "model_name": "ImageModel",
          "model_module_version": "1.5.0",
          "state": {
            "_dom_classes": [],
            "_model_module": "@jupyter-widgets/controls",
            "_model_module_version": "1.5.0",
            "_model_name": "ImageModel",
            "_view_count": null,
            "_view_module": "@jupyter-widgets/controls",
            "_view_module_version": "1.5.0",
            "_view_name": "ImageView",
            "format": "png",
            "height": "",
            "layout": "IPY_MODEL_78e67a34a9b141ce81cf003b6c91b654",
            "width": ""
          }
        },
        "78e67a34a9b141ce81cf003b6c91b654": {
          "model_module": "@jupyter-widgets/base",
          "model_name": "LayoutModel",
          "model_module_version": "1.2.0",
          "state": {
            "_model_module": "@jupyter-widgets/base",
            "_model_module_version": "1.2.0",
            "_model_name": "LayoutModel",
            "_view_count": null,
            "_view_module": "@jupyter-widgets/base",
            "_view_module_version": "1.2.0",
            "_view_name": "LayoutView",
            "align_content": null,
            "align_items": null,
            "align_self": null,
            "border": null,
            "bottom": null,
            "display": null,
            "flex": null,
            "flex_flow": null,
            "grid_area": null,
            "grid_auto_columns": null,
            "grid_auto_flow": null,
            "grid_auto_rows": null,
            "grid_column": null,
            "grid_gap": null,
            "grid_row": null,
            "grid_template_areas": null,
            "grid_template_columns": null,
            "grid_template_rows": null,
            "height": null,
            "justify_content": null,
            "justify_items": null,
            "left": null,
            "margin": null,
            "max_height": null,
            "max_width": null,
            "min_height": null,
            "min_width": null,
            "object_fit": null,
            "object_position": null,
            "order": null,
            "overflow": null,
            "overflow_x": null,
            "overflow_y": null,
            "padding": null,
            "right": null,
            "top": null,
            "visibility": null,
            "width": null
          }
        },
        "4a973c8f64274e9fa369de4633227ff7": {
          "model_module": "@jupyter-widgets/output",
          "model_name": "OutputModel",
          "model_module_version": "1.0.0",
          "state": {
            "_dom_classes": [],
            "_model_module": "@jupyter-widgets/output",
            "_model_module_version": "1.0.0",
            "_model_name": "OutputModel",
            "_view_count": null,
            "_view_module": "@jupyter-widgets/output",
            "_view_module_version": "1.0.0",
            "_view_name": "OutputView",
            "layout": "IPY_MODEL_4822e6819b1c4635b233e06a2ec36150",
            "msg_id": "",
            "outputs": [
              {
                "output_type": "display_data",
                "data": {
                  "text/plain": "Image(value=b'\\x89PNG\\r\\n\\x1a\\n\\x00\\x00\\x00\\rIHDR\\x00\\x00\\x03 \\x00\\x00\\x00\\xe7\\x08\\x04\\x00\\x00\\x00L|\\xfar\\x00\\…",
                  "application/vnd.jupyter.widget-view+json": {
                    "version_major": 2,
                    "version_minor": 0,
                    "model_id": "38d0782ba4f94ed9a1ea4ef84b255910"
                  }
                },
                "metadata": {
                  "application/vnd.jupyter.widget-view+json": {
                    "colab": {
                      "custom_widget_manager": {
                        "url": "https://ssl.gstatic.com/colaboratory-static/widgets/colab-cdn-widget-manager/a8874ba6619b6106/manager.min.js"
                      }
                    }
                  }
                }
              }
            ]
          }
        },
        "4822e6819b1c4635b233e06a2ec36150": {
          "model_module": "@jupyter-widgets/base",
          "model_name": "LayoutModel",
          "model_module_version": "1.2.0",
          "state": {
            "_model_module": "@jupyter-widgets/base",
            "_model_module_version": "1.2.0",
            "_model_name": "LayoutModel",
            "_view_count": null,
            "_view_module": "@jupyter-widgets/base",
            "_view_module_version": "1.2.0",
            "_view_name": "LayoutView",
            "align_content": null,
            "align_items": null,
            "align_self": null,
            "border": null,
            "bottom": null,
            "display": null,
            "flex": null,
            "flex_flow": null,
            "grid_area": null,
            "grid_auto_columns": null,
            "grid_auto_flow": null,
            "grid_auto_rows": null,
            "grid_column": null,
            "grid_gap": null,
            "grid_row": null,
            "grid_template_areas": null,
            "grid_template_columns": null,
            "grid_template_rows": null,
            "height": null,
            "justify_content": null,
            "justify_items": null,
            "left": null,
            "margin": null,
            "max_height": null,
            "max_width": null,
            "min_height": null,
            "min_width": null,
            "object_fit": null,
            "object_position": null,
            "order": null,
            "overflow": null,
            "overflow_x": null,
            "overflow_y": null,
            "padding": null,
            "right": null,
            "top": null,
            "visibility": null,
            "width": null
          }
        },
        "38d0782ba4f94ed9a1ea4ef84b255910": {
          "model_module": "@jupyter-widgets/controls",
          "model_name": "ImageModel",
          "model_module_version": "1.5.0",
          "state": {
            "_dom_classes": [],
            "_model_module": "@jupyter-widgets/controls",
            "_model_module_version": "1.5.0",
            "_model_name": "ImageModel",
            "_view_count": null,
            "_view_module": "@jupyter-widgets/controls",
            "_view_module_version": "1.5.0",
            "_view_name": "ImageView",
            "format": "png",
            "height": "",
            "layout": "IPY_MODEL_4cca71f602c34f7dbcb47a2449d8035e",
            "width": ""
          }
        },
        "4cca71f602c34f7dbcb47a2449d8035e": {
          "model_module": "@jupyter-widgets/base",
          "model_name": "LayoutModel",
          "model_module_version": "1.2.0",
          "state": {
            "_model_module": "@jupyter-widgets/base",
            "_model_module_version": "1.2.0",
            "_model_name": "LayoutModel",
            "_view_count": null,
            "_view_module": "@jupyter-widgets/base",
            "_view_module_version": "1.2.0",
            "_view_name": "LayoutView",
            "align_content": null,
            "align_items": null,
            "align_self": null,
            "border": null,
            "bottom": null,
            "display": null,
            "flex": null,
            "flex_flow": null,
            "grid_area": null,
            "grid_auto_columns": null,
            "grid_auto_flow": null,
            "grid_auto_rows": null,
            "grid_column": null,
            "grid_gap": null,
            "grid_row": null,
            "grid_template_areas": null,
            "grid_template_columns": null,
            "grid_template_rows": null,
            "height": null,
            "justify_content": null,
            "justify_items": null,
            "left": null,
            "margin": null,
            "max_height": null,
            "max_width": null,
            "min_height": null,
            "min_width": null,
            "object_fit": null,
            "object_position": null,
            "order": null,
            "overflow": null,
            "overflow_x": null,
            "overflow_y": null,
            "padding": null,
            "right": null,
            "top": null,
            "visibility": null,
            "width": null
          }
        }
      }
    }
  },
  "nbformat": 4,
  "nbformat_minor": 0
}