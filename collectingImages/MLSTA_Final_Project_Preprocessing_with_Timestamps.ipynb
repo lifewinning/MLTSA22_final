{
  "cells": [
    {
      "cell_type": "markdown",
      "metadata": {
        "id": "view-in-github",
        "colab_type": "text"
      },
      "source": [
        "<a href=\"https://colab.research.google.com/github/lifewinning/MLTSA22_final/blob/main/MLSTA_Final_Project_Preprocessing_with_Timestamps.ipynb\" target=\"_parent\"><img src=\"https://colab.research.google.com/assets/colab-badge.svg\" alt=\"Open In Colab\"/></a>"
      ]
    },
    {
      "cell_type": "markdown",
      "source": [
        "Updated method for collecting imagery and incorporating timestamps."
      ],
      "metadata": {
        "id": "HXRXrVdnac8F"
      }
    },
    {
      "cell_type": "markdown",
      "metadata": {
        "id": "l18M9_r5XmAQ"
      },
      "source": [
        "\n",
        "## Initialize EarthEngine, import geemap\n",
        "\n"
      ]
    },
    {
      "cell_type": "code",
      "source": [
        "pip install geemap"
      ],
      "metadata": {
        "colab": {
          "base_uri": "https://localhost:8080/",
          "height": 1000
        },
        "id": "kGV1arDp9DD0",
        "outputId": "43859d11-11ba-4dd4-f514-fe3ac6fd6d67"
      },
      "execution_count": null,
      "outputs": [
        {
          "output_type": "stream",
          "name": "stdout",
          "text": [
            "Collecting geemap\n",
            "  Downloading geemap-0.13.4-py2.py3-none-any.whl (2.0 MB)\n",
            "\u001b[?25l\r\u001b[K     |▏                               | 10 kB 22.6 MB/s eta 0:00:01\r\u001b[K     |▍                               | 20 kB 24.3 MB/s eta 0:00:01\r\u001b[K     |▌                               | 30 kB 18.7 MB/s eta 0:00:01\r\u001b[K     |▊                               | 40 kB 16.4 MB/s eta 0:00:01\r\u001b[K     |▉                               | 51 kB 8.1 MB/s eta 0:00:01\r\u001b[K     |█                               | 61 kB 9.5 MB/s eta 0:00:01\r\u001b[K     |█▏                              | 71 kB 8.8 MB/s eta 0:00:01\r\u001b[K     |█▍                              | 81 kB 9.3 MB/s eta 0:00:01\r\u001b[K     |█▌                              | 92 kB 10.3 MB/s eta 0:00:01\r\u001b[K     |█▊                              | 102 kB 8.5 MB/s eta 0:00:01\r\u001b[K     |█▉                              | 112 kB 8.5 MB/s eta 0:00:01\r\u001b[K     |██                              | 122 kB 8.5 MB/s eta 0:00:01\r\u001b[K     |██▏                             | 133 kB 8.5 MB/s eta 0:00:01\r\u001b[K     |██▍                             | 143 kB 8.5 MB/s eta 0:00:01\r\u001b[K     |██▌                             | 153 kB 8.5 MB/s eta 0:00:01\r\u001b[K     |██▊                             | 163 kB 8.5 MB/s eta 0:00:01\r\u001b[K     |██▉                             | 174 kB 8.5 MB/s eta 0:00:01\r\u001b[K     |███                             | 184 kB 8.5 MB/s eta 0:00:01\r\u001b[K     |███▏                            | 194 kB 8.5 MB/s eta 0:00:01\r\u001b[K     |███▍                            | 204 kB 8.5 MB/s eta 0:00:01\r\u001b[K     |███▌                            | 215 kB 8.5 MB/s eta 0:00:01\r\u001b[K     |███▊                            | 225 kB 8.5 MB/s eta 0:00:01\r\u001b[K     |███▉                            | 235 kB 8.5 MB/s eta 0:00:01\r\u001b[K     |████                            | 245 kB 8.5 MB/s eta 0:00:01\r\u001b[K     |████▏                           | 256 kB 8.5 MB/s eta 0:00:01\r\u001b[K     |████▍                           | 266 kB 8.5 MB/s eta 0:00:01\r\u001b[K     |████▌                           | 276 kB 8.5 MB/s eta 0:00:01\r\u001b[K     |████▊                           | 286 kB 8.5 MB/s eta 0:00:01\r\u001b[K     |████▉                           | 296 kB 8.5 MB/s eta 0:00:01\r\u001b[K     |█████                           | 307 kB 8.5 MB/s eta 0:00:01\r\u001b[K     |█████▏                          | 317 kB 8.5 MB/s eta 0:00:01\r\u001b[K     |█████▍                          | 327 kB 8.5 MB/s eta 0:00:01\r\u001b[K     |█████▌                          | 337 kB 8.5 MB/s eta 0:00:01\r\u001b[K     |█████▊                          | 348 kB 8.5 MB/s eta 0:00:01\r\u001b[K     |█████▉                          | 358 kB 8.5 MB/s eta 0:00:01\r\u001b[K     |██████                          | 368 kB 8.5 MB/s eta 0:00:01\r\u001b[K     |██████▏                         | 378 kB 8.5 MB/s eta 0:00:01\r\u001b[K     |██████▍                         | 389 kB 8.5 MB/s eta 0:00:01\r\u001b[K     |██████▌                         | 399 kB 8.5 MB/s eta 0:00:01\r\u001b[K     |██████▊                         | 409 kB 8.5 MB/s eta 0:00:01\r\u001b[K     |██████▉                         | 419 kB 8.5 MB/s eta 0:00:01\r\u001b[K     |███████                         | 430 kB 8.5 MB/s eta 0:00:01\r\u001b[K     |███████▏                        | 440 kB 8.5 MB/s eta 0:00:01\r\u001b[K     |███████▍                        | 450 kB 8.5 MB/s eta 0:00:01\r\u001b[K     |███████▌                        | 460 kB 8.5 MB/s eta 0:00:01\r\u001b[K     |███████▊                        | 471 kB 8.5 MB/s eta 0:00:01\r\u001b[K     |███████▉                        | 481 kB 8.5 MB/s eta 0:00:01\r\u001b[K     |████████                        | 491 kB 8.5 MB/s eta 0:00:01\r\u001b[K     |████████▏                       | 501 kB 8.5 MB/s eta 0:00:01\r\u001b[K     |████████▍                       | 512 kB 8.5 MB/s eta 0:00:01\r\u001b[K     |████████▌                       | 522 kB 8.5 MB/s eta 0:00:01\r\u001b[K     |████████▊                       | 532 kB 8.5 MB/s eta 0:00:01\r\u001b[K     |████████▉                       | 542 kB 8.5 MB/s eta 0:00:01\r\u001b[K     |█████████                       | 552 kB 8.5 MB/s eta 0:00:01\r\u001b[K     |█████████▏                      | 563 kB 8.5 MB/s eta 0:00:01\r\u001b[K     |█████████▍                      | 573 kB 8.5 MB/s eta 0:00:01\r\u001b[K     |█████████▌                      | 583 kB 8.5 MB/s eta 0:00:01\r\u001b[K     |█████████▊                      | 593 kB 8.5 MB/s eta 0:00:01\r\u001b[K     |█████████▉                      | 604 kB 8.5 MB/s eta 0:00:01\r\u001b[K     |██████████                      | 614 kB 8.5 MB/s eta 0:00:01\r\u001b[K     |██████████▏                     | 624 kB 8.5 MB/s eta 0:00:01\r\u001b[K     |██████████▍                     | 634 kB 8.5 MB/s eta 0:00:01\r\u001b[K     |██████████▌                     | 645 kB 8.5 MB/s eta 0:00:01\r\u001b[K     |██████████▊                     | 655 kB 8.5 MB/s eta 0:00:01\r\u001b[K     |██████████▉                     | 665 kB 8.5 MB/s eta 0:00:01\r\u001b[K     |███████████                     | 675 kB 8.5 MB/s eta 0:00:01\r\u001b[K     |███████████▏                    | 686 kB 8.5 MB/s eta 0:00:01\r\u001b[K     |███████████▍                    | 696 kB 8.5 MB/s eta 0:00:01\r\u001b[K     |███████████▌                    | 706 kB 8.5 MB/s eta 0:00:01\r\u001b[K     |███████████▊                    | 716 kB 8.5 MB/s eta 0:00:01\r\u001b[K     |███████████▉                    | 727 kB 8.5 MB/s eta 0:00:01\r\u001b[K     |████████████                    | 737 kB 8.5 MB/s eta 0:00:01\r\u001b[K     |████████████▏                   | 747 kB 8.5 MB/s eta 0:00:01\r\u001b[K     |████████████▍                   | 757 kB 8.5 MB/s eta 0:00:01\r\u001b[K     |████████████▌                   | 768 kB 8.5 MB/s eta 0:00:01\r\u001b[K     |████████████▊                   | 778 kB 8.5 MB/s eta 0:00:01\r\u001b[K     |████████████▉                   | 788 kB 8.5 MB/s eta 0:00:01\r\u001b[K     |█████████████                   | 798 kB 8.5 MB/s eta 0:00:01\r\u001b[K     |█████████████▏                  | 808 kB 8.5 MB/s eta 0:00:01\r\u001b[K     |█████████████▍                  | 819 kB 8.5 MB/s eta 0:00:01\r\u001b[K     |█████████████▌                  | 829 kB 8.5 MB/s eta 0:00:01\r\u001b[K     |█████████████▊                  | 839 kB 8.5 MB/s eta 0:00:01\r\u001b[K     |█████████████▉                  | 849 kB 8.5 MB/s eta 0:00:01\r\u001b[K     |██████████████                  | 860 kB 8.5 MB/s eta 0:00:01\r\u001b[K     |██████████████▏                 | 870 kB 8.5 MB/s eta 0:00:01\r\u001b[K     |██████████████▍                 | 880 kB 8.5 MB/s eta 0:00:01\r\u001b[K     |██████████████▌                 | 890 kB 8.5 MB/s eta 0:00:01\r\u001b[K     |██████████████▊                 | 901 kB 8.5 MB/s eta 0:00:01\r\u001b[K     |██████████████▉                 | 911 kB 8.5 MB/s eta 0:00:01\r\u001b[K     |███████████████                 | 921 kB 8.5 MB/s eta 0:00:01\r\u001b[K     |███████████████▏                | 931 kB 8.5 MB/s eta 0:00:01\r\u001b[K     |███████████████▍                | 942 kB 8.5 MB/s eta 0:00:01\r\u001b[K     |███████████████▌                | 952 kB 8.5 MB/s eta 0:00:01\r\u001b[K     |███████████████▊                | 962 kB 8.5 MB/s eta 0:00:01\r\u001b[K     |███████████████▉                | 972 kB 8.5 MB/s eta 0:00:01\r\u001b[K     |████████████████                | 983 kB 8.5 MB/s eta 0:00:01\r\u001b[K     |████████████████▏               | 993 kB 8.5 MB/s eta 0:00:01\r\u001b[K     |████████████████▍               | 1.0 MB 8.5 MB/s eta 0:00:01\r\u001b[K     |████████████████▌               | 1.0 MB 8.5 MB/s eta 0:00:01\r\u001b[K     |████████████████▊               | 1.0 MB 8.5 MB/s eta 0:00:01\r\u001b[K     |████████████████▉               | 1.0 MB 8.5 MB/s eta 0:00:01\r\u001b[K     |█████████████████               | 1.0 MB 8.5 MB/s eta 0:00:01\r\u001b[K     |█████████████████▏              | 1.1 MB 8.5 MB/s eta 0:00:01\r\u001b[K     |█████████████████▍              | 1.1 MB 8.5 MB/s eta 0:00:01\r\u001b[K     |█████████████████▌              | 1.1 MB 8.5 MB/s eta 0:00:01\r\u001b[K     |█████████████████▊              | 1.1 MB 8.5 MB/s eta 0:00:01\r\u001b[K     |█████████████████▉              | 1.1 MB 8.5 MB/s eta 0:00:01\r\u001b[K     |██████████████████              | 1.1 MB 8.5 MB/s eta 0:00:01\r\u001b[K     |██████████████████▏             | 1.1 MB 8.5 MB/s eta 0:00:01\r\u001b[K     |██████████████████▍             | 1.1 MB 8.5 MB/s eta 0:00:01\r\u001b[K     |██████████████████▌             | 1.1 MB 8.5 MB/s eta 0:00:01\r\u001b[K     |██████████████████▊             | 1.1 MB 8.5 MB/s eta 0:00:01\r\u001b[K     |██████████████████▉             | 1.2 MB 8.5 MB/s eta 0:00:01\r\u001b[K     |███████████████████             | 1.2 MB 8.5 MB/s eta 0:00:01\r\u001b[K     |███████████████████▏            | 1.2 MB 8.5 MB/s eta 0:00:01\r\u001b[K     |███████████████████▍            | 1.2 MB 8.5 MB/s eta 0:00:01\r\u001b[K     |███████████████████▌            | 1.2 MB 8.5 MB/s eta 0:00:01\r\u001b[K     |███████████████████▊            | 1.2 MB 8.5 MB/s eta 0:00:01\r\u001b[K     |███████████████████▉            | 1.2 MB 8.5 MB/s eta 0:00:01\r\u001b[K     |████████████████████            | 1.2 MB 8.5 MB/s eta 0:00:01\r\u001b[K     |████████████████████▏           | 1.2 MB 8.5 MB/s eta 0:00:01\r\u001b[K     |████████████████████▍           | 1.2 MB 8.5 MB/s eta 0:00:01\r\u001b[K     |████████████████████▌           | 1.3 MB 8.5 MB/s eta 0:00:01\r\u001b[K     |████████████████████▊           | 1.3 MB 8.5 MB/s eta 0:00:01\r\u001b[K     |████████████████████▉           | 1.3 MB 8.5 MB/s eta 0:00:01\r\u001b[K     |█████████████████████           | 1.3 MB 8.5 MB/s eta 0:00:01\r\u001b[K     |█████████████████████▏          | 1.3 MB 8.5 MB/s eta 0:00:01\r\u001b[K     |█████████████████████▍          | 1.3 MB 8.5 MB/s eta 0:00:01\r\u001b[K     |█████████████████████▌          | 1.3 MB 8.5 MB/s eta 0:00:01\r\u001b[K     |█████████████████████▊          | 1.3 MB 8.5 MB/s eta 0:00:01\r\u001b[K     |█████████████████████▉          | 1.3 MB 8.5 MB/s eta 0:00:01\r\u001b[K     |██████████████████████          | 1.4 MB 8.5 MB/s eta 0:00:01\r\u001b[K     |██████████████████████▏         | 1.4 MB 8.5 MB/s eta 0:00:01\r\u001b[K     |██████████████████████▍         | 1.4 MB 8.5 MB/s eta 0:00:01\r\u001b[K     |██████████████████████▌         | 1.4 MB 8.5 MB/s eta 0:00:01\r\u001b[K     |██████████████████████▊         | 1.4 MB 8.5 MB/s eta 0:00:01\r\u001b[K     |██████████████████████▉         | 1.4 MB 8.5 MB/s eta 0:00:01\r\u001b[K     |███████████████████████         | 1.4 MB 8.5 MB/s eta 0:00:01\r\u001b[K     |███████████████████████▏        | 1.4 MB 8.5 MB/s eta 0:00:01\r\u001b[K     |███████████████████████▍        | 1.4 MB 8.5 MB/s eta 0:00:01\r\u001b[K     |███████████████████████▌        | 1.4 MB 8.5 MB/s eta 0:00:01\r\u001b[K     |███████████████████████▊        | 1.5 MB 8.5 MB/s eta 0:00:01\r\u001b[K     |███████████████████████▉        | 1.5 MB 8.5 MB/s eta 0:00:01\r\u001b[K     |████████████████████████        | 1.5 MB 8.5 MB/s eta 0:00:01\r\u001b[K     |████████████████████████▏       | 1.5 MB 8.5 MB/s eta 0:00:01\r\u001b[K     |████████████████████████▍       | 1.5 MB 8.5 MB/s eta 0:00:01\r\u001b[K     |████████████████████████▌       | 1.5 MB 8.5 MB/s eta 0:00:01\r\u001b[K     |████████████████████████▊       | 1.5 MB 8.5 MB/s eta 0:00:01\r\u001b[K     |████████████████████████▉       | 1.5 MB 8.5 MB/s eta 0:00:01\r\u001b[K     |█████████████████████████       | 1.5 MB 8.5 MB/s eta 0:00:01\r\u001b[K     |█████████████████████████▏      | 1.5 MB 8.5 MB/s eta 0:00:01\r\u001b[K     |█████████████████████████▍      | 1.6 MB 8.5 MB/s eta 0:00:01\r\u001b[K     |█████████████████████████▌      | 1.6 MB 8.5 MB/s eta 0:00:01\r\u001b[K     |█████████████████████████▊      | 1.6 MB 8.5 MB/s eta 0:00:01\r\u001b[K     |█████████████████████████▉      | 1.6 MB 8.5 MB/s eta 0:00:01\r\u001b[K     |██████████████████████████      | 1.6 MB 8.5 MB/s eta 0:00:01\r\u001b[K     |██████████████████████████▏     | 1.6 MB 8.5 MB/s eta 0:00:01\r\u001b[K     |██████████████████████████▍     | 1.6 MB 8.5 MB/s eta 0:00:01\r\u001b[K     |██████████████████████████▌     | 1.6 MB 8.5 MB/s eta 0:00:01\r\u001b[K     |██████████████████████████▊     | 1.6 MB 8.5 MB/s eta 0:00:01\r\u001b[K     |██████████████████████████▉     | 1.6 MB 8.5 MB/s eta 0:00:01\r\u001b[K     |███████████████████████████     | 1.7 MB 8.5 MB/s eta 0:00:01\r\u001b[K     |███████████████████████████▏    | 1.7 MB 8.5 MB/s eta 0:00:01\r\u001b[K     |███████████████████████████▍    | 1.7 MB 8.5 MB/s eta 0:00:01\r\u001b[K     |███████████████████████████▌    | 1.7 MB 8.5 MB/s eta 0:00:01\r\u001b[K     |███████████████████████████▊    | 1.7 MB 8.5 MB/s eta 0:00:01\r\u001b[K     |███████████████████████████▉    | 1.7 MB 8.5 MB/s eta 0:00:01\r\u001b[K     |████████████████████████████    | 1.7 MB 8.5 MB/s eta 0:00:01\r\u001b[K     |████████████████████████████▏   | 1.7 MB 8.5 MB/s eta 0:00:01\r\u001b[K     |████████████████████████████▍   | 1.7 MB 8.5 MB/s eta 0:00:01\r\u001b[K     |████████████████████████████▌   | 1.8 MB 8.5 MB/s eta 0:00:01\r\u001b[K     |████████████████████████████▊   | 1.8 MB 8.5 MB/s eta 0:00:01\r\u001b[K     |████████████████████████████▉   | 1.8 MB 8.5 MB/s eta 0:00:01\r\u001b[K     |█████████████████████████████   | 1.8 MB 8.5 MB/s eta 0:00:01\r\u001b[K     |█████████████████████████████▏  | 1.8 MB 8.5 MB/s eta 0:00:01\r\u001b[K     |█████████████████████████████▍  | 1.8 MB 8.5 MB/s eta 0:00:01\r\u001b[K     |█████████████████████████████▌  | 1.8 MB 8.5 MB/s eta 0:00:01\r\u001b[K     |█████████████████████████████▊  | 1.8 MB 8.5 MB/s eta 0:00:01\r\u001b[K     |█████████████████████████████▉  | 1.8 MB 8.5 MB/s eta 0:00:01\r\u001b[K     |██████████████████████████████  | 1.8 MB 8.5 MB/s eta 0:00:01\r\u001b[K     |██████████████████████████████▏ | 1.9 MB 8.5 MB/s eta 0:00:01\r\u001b[K     |██████████████████████████████▍ | 1.9 MB 8.5 MB/s eta 0:00:01\r\u001b[K     |██████████████████████████████▌ | 1.9 MB 8.5 MB/s eta 0:00:01\r\u001b[K     |██████████████████████████████▊ | 1.9 MB 8.5 MB/s eta 0:00:01\r\u001b[K     |██████████████████████████████▉ | 1.9 MB 8.5 MB/s eta 0:00:01\r\u001b[K     |███████████████████████████████ | 1.9 MB 8.5 MB/s eta 0:00:01\r\u001b[K     |███████████████████████████████▏| 1.9 MB 8.5 MB/s eta 0:00:01\r\u001b[K     |███████████████████████████████▍| 1.9 MB 8.5 MB/s eta 0:00:01\r\u001b[K     |███████████████████████████████▌| 1.9 MB 8.5 MB/s eta 0:00:01\r\u001b[K     |███████████████████████████████▊| 1.9 MB 8.5 MB/s eta 0:00:01\r\u001b[K     |███████████████████████████████▉| 2.0 MB 8.5 MB/s eta 0:00:01\r\u001b[K     |████████████████████████████████| 2.0 MB 8.5 MB/s \n",
            "\u001b[?25hRequirement already satisfied: pillow in /usr/local/lib/python3.7/dist-packages (from geemap) (7.1.2)\n",
            "Collecting xyzservices\n",
            "  Downloading xyzservices-2022.4.0-py3-none-any.whl (36 kB)\n",
            "Requirement already satisfied: pandas in /usr/local/lib/python3.7/dist-packages (from geemap) (1.3.5)\n",
            "Collecting sankee\n",
            "  Downloading sankee-0.0.7.tar.gz (29 kB)\n",
            "Collecting ipyleaflet>=0.14.0\n",
            "  Downloading ipyleaflet-0.16.0-py2.py3-none-any.whl (3.3 MB)\n",
            "\u001b[K     |████████████████████████████████| 3.3 MB 39.1 MB/s \n",
            "\u001b[?25hCollecting jupyterlab>=3\n",
            "  Downloading jupyterlab-3.3.4-py3-none-any.whl (8.7 MB)\n",
            "\u001b[K     |████████████████████████████████| 8.7 MB 35.3 MB/s \n",
            "\u001b[?25hCollecting ffmpeg-python\n",
            "  Downloading ffmpeg_python-0.2.0-py3-none-any.whl (25 kB)\n",
            "Collecting bqplot\n",
            "  Downloading bqplot-0.12.33-py2.py3-none-any.whl (1.2 MB)\n",
            "\u001b[K     |████████████████████████████████| 1.2 MB 42.7 MB/s \n",
            "\u001b[?25hCollecting ipyfilechooser>=0.6.0\n",
            "  Downloading ipyfilechooser-0.6.0-py3-none-any.whl (11 kB)\n",
            "Requirement already satisfied: gdown in /usr/local/lib/python3.7/dist-packages (from geemap) (4.4.0)\n",
            "Collecting ee-extra>=0.0.10\n",
            "  Downloading ee_extra-0.0.13.tar.gz (187 kB)\n",
            "\u001b[K     |████████████████████████████████| 187 kB 62.3 MB/s \n",
            "\u001b[?25hCollecting colour\n",
            "  Downloading colour-0.1.5-py2.py3-none-any.whl (23 kB)\n",
            "Collecting folium>=0.11.0\n",
            "  Downloading folium-0.12.1.post1-py2.py3-none-any.whl (95 kB)\n",
            "\u001b[K     |████████████████████████████████| 95 kB 4.1 MB/s \n",
            "\u001b[?25hCollecting geeadd>=0.5.1\n",
            "  Downloading geeadd-0.5.5-py3-none-any.whl (30 kB)\n",
            "Collecting geocoder\n",
            "  Downloading geocoder-1.38.1-py2.py3-none-any.whl (98 kB)\n",
            "\u001b[K     |████████████████████████████████| 98 kB 8.2 MB/s \n",
            "\u001b[?25hCollecting mapclassify>=2.4.0\n",
            "  Downloading mapclassify-2.4.3-py3-none-any.whl (38 kB)\n",
            "Collecting whiteboxgui>=0.6.0\n",
            "  Downloading whiteboxgui-0.7.0-py2.py3-none-any.whl (99 kB)\n",
            "\u001b[K     |████████████████████████████████| 99 kB 9.4 MB/s \n",
            "\u001b[?25hRequirement already satisfied: numpy in /usr/local/lib/python3.7/dist-packages (from geemap) (1.21.6)\n",
            "Requirement already satisfied: matplotlib in /usr/local/lib/python3.7/dist-packages (from geemap) (3.2.2)\n",
            "Collecting pycrs\n",
            "  Downloading PyCRS-1.0.2.tar.gz (36 kB)\n",
            "Requirement already satisfied: earthengine-api>=0.1.304 in /usr/local/lib/python3.7/dist-packages (from geemap) (0.1.306)\n",
            "Collecting pyshp>=2.1.3\n",
            "  Downloading pyshp-2.3.0-py2.py3-none-any.whl (46 kB)\n",
            "\u001b[K     |████████████████████████████████| 46 kB 4.0 MB/s \n",
            "\u001b[?25hCollecting geojson\n",
            "  Downloading geojson-2.5.0-py2.py3-none-any.whl (14 kB)\n",
            "Collecting ipytree\n",
            "  Downloading ipytree-0.2.1-py2.py3-none-any.whl (1.3 MB)\n",
            "\u001b[K     |████████████████████████████████| 1.3 MB 45.5 MB/s \n",
            "\u001b[?25hCollecting ipyevents\n",
            "  Downloading ipyevents-2.0.1-py2.py3-none-any.whl (130 kB)\n",
            "\u001b[K     |████████████████████████████████| 130 kB 56.8 MB/s \n",
            "\u001b[?25hCollecting python-box\n",
            "  Downloading python_box-6.0.2-cp37-cp37m-manylinux_2_17_x86_64.manylinux2014_x86_64.whl (3.0 MB)\n",
            "\u001b[K     |████████████████████████████████| 3.0 MB 39.7 MB/s \n",
            "\u001b[?25hRequirement already satisfied: httplib2<1dev,>=0.9.2 in /usr/local/lib/python3.7/dist-packages (from earthengine-api>=0.1.304->geemap) (0.17.4)\n",
            "Requirement already satisfied: httplib2shim in /usr/local/lib/python3.7/dist-packages (from earthengine-api>=0.1.304->geemap) (0.0.3)\n",
            "Requirement already satisfied: google-auth>=1.4.1 in /usr/local/lib/python3.7/dist-packages (from earthengine-api>=0.1.304->geemap) (1.35.0)\n",
            "Requirement already satisfied: future in /usr/local/lib/python3.7/dist-packages (from earthengine-api>=0.1.304->geemap) (0.16.0)\n",
            "Requirement already satisfied: google-cloud-storage in /usr/local/lib/python3.7/dist-packages (from earthengine-api>=0.1.304->geemap) (1.18.1)\n",
            "Requirement already satisfied: google-api-python-client<2,>=1.12.1 in /usr/local/lib/python3.7/dist-packages (from earthengine-api>=0.1.304->geemap) (1.12.11)\n",
            "Requirement already satisfied: six in /usr/local/lib/python3.7/dist-packages (from earthengine-api>=0.1.304->geemap) (1.15.0)\n",
            "Requirement already satisfied: google-auth-httplib2>=0.0.3 in /usr/local/lib/python3.7/dist-packages (from earthengine-api>=0.1.304->geemap) (0.0.4)\n",
            "Requirement already satisfied: requests in /usr/local/lib/python3.7/dist-packages (from folium>=0.11.0->geemap) (2.23.0)\n",
            "Requirement already satisfied: branca>=0.3.0 in /usr/local/lib/python3.7/dist-packages (from folium>=0.11.0->geemap) (0.5.0)\n",
            "Requirement already satisfied: jinja2>=2.9 in /usr/local/lib/python3.7/dist-packages (from folium>=0.11.0->geemap) (2.11.3)\n",
            "Collecting beautifulsoup4>=4.9.0\n",
            "  Downloading beautifulsoup4-4.11.1-py3-none-any.whl (128 kB)\n",
            "\u001b[K     |████████████████████████████████| 128 kB 23.0 MB/s \n",
            "\u001b[?25hCollecting logzero>=1.5.0\n",
            "  Downloading logzero-1.7.0-py2.py3-none-any.whl (16 kB)\n",
            "Requirement already satisfied: soupsieve>1.2 in /usr/local/lib/python3.7/dist-packages (from beautifulsoup4>=4.9.0->geeadd>=0.5.1->geemap) (2.3.2.post1)\n",
            "Requirement already satisfied: google-api-core<3dev,>=1.21.0 in /usr/local/lib/python3.7/dist-packages (from google-api-python-client<2,>=1.12.1->earthengine-api>=0.1.304->geemap) (1.31.5)\n",
            "Requirement already satisfied: uritemplate<4dev,>=3.0.0 in /usr/local/lib/python3.7/dist-packages (from google-api-python-client<2,>=1.12.1->earthengine-api>=0.1.304->geemap) (3.0.1)\n",
            "Requirement already satisfied: setuptools>=40.3.0 in /usr/local/lib/python3.7/dist-packages (from google-api-core<3dev,>=1.21.0->google-api-python-client<2,>=1.12.1->earthengine-api>=0.1.304->geemap) (57.4.0)\n",
            "Requirement already satisfied: packaging>=14.3 in /usr/local/lib/python3.7/dist-packages (from google-api-core<3dev,>=1.21.0->google-api-python-client<2,>=1.12.1->earthengine-api>=0.1.304->geemap) (21.3)\n",
            "Requirement already satisfied: pytz in /usr/local/lib/python3.7/dist-packages (from google-api-core<3dev,>=1.21.0->google-api-python-client<2,>=1.12.1->earthengine-api>=0.1.304->geemap) (2022.1)\n",
            "Requirement already satisfied: protobuf>=3.12.0 in /usr/local/lib/python3.7/dist-packages (from google-api-core<3dev,>=1.21.0->google-api-python-client<2,>=1.12.1->earthengine-api>=0.1.304->geemap) (3.17.3)\n",
            "Requirement already satisfied: googleapis-common-protos<2.0dev,>=1.6.0 in /usr/local/lib/python3.7/dist-packages (from google-api-core<3dev,>=1.21.0->google-api-python-client<2,>=1.12.1->earthengine-api>=0.1.304->geemap) (1.56.0)\n",
            "Requirement already satisfied: rsa<5,>=3.1.4 in /usr/local/lib/python3.7/dist-packages (from google-auth>=1.4.1->earthengine-api>=0.1.304->geemap) (4.8)\n",
            "Requirement already satisfied: pyasn1-modules>=0.2.1 in /usr/local/lib/python3.7/dist-packages (from google-auth>=1.4.1->earthengine-api>=0.1.304->geemap) (0.2.8)\n",
            "Requirement already satisfied: cachetools<5.0,>=2.0.0 in /usr/local/lib/python3.7/dist-packages (from google-auth>=1.4.1->earthengine-api>=0.1.304->geemap) (4.2.4)\n",
            "Requirement already satisfied: ipywidgets in /usr/local/lib/python3.7/dist-packages (from ipyfilechooser>=0.6.0->geemap) (7.7.0)\n",
            "Collecting traittypes<3,>=0.2.1\n",
            "  Downloading traittypes-0.2.1-py2.py3-none-any.whl (8.6 kB)\n",
            "Requirement already satisfied: jupyterlab-widgets>=1.0.0 in /usr/local/lib/python3.7/dist-packages (from ipywidgets->ipyfilechooser>=0.6.0->geemap) (1.1.0)\n",
            "Requirement already satisfied: traitlets>=4.3.1 in /usr/local/lib/python3.7/dist-packages (from ipywidgets->ipyfilechooser>=0.6.0->geemap) (5.1.1)\n",
            "Requirement already satisfied: widgetsnbextension~=3.6.0 in /usr/local/lib/python3.7/dist-packages (from ipywidgets->ipyfilechooser>=0.6.0->geemap) (3.6.0)\n",
            "Requirement already satisfied: nbformat>=4.2.0 in /usr/local/lib/python3.7/dist-packages (from ipywidgets->ipyfilechooser>=0.6.0->geemap) (5.3.0)\n",
            "Requirement already satisfied: ipykernel>=4.5.1 in /usr/local/lib/python3.7/dist-packages (from ipywidgets->ipyfilechooser>=0.6.0->geemap) (4.10.1)\n",
            "Requirement already satisfied: ipython-genutils~=0.2.0 in /usr/local/lib/python3.7/dist-packages (from ipywidgets->ipyfilechooser>=0.6.0->geemap) (0.2.0)\n",
            "Requirement already satisfied: ipython>=4.0.0 in /usr/local/lib/python3.7/dist-packages (from ipywidgets->ipyfilechooser>=0.6.0->geemap) (5.5.0)\n",
            "Requirement already satisfied: jupyter-client in /usr/local/lib/python3.7/dist-packages (from ipykernel>=4.5.1->ipywidgets->ipyfilechooser>=0.6.0->geemap) (5.3.5)\n",
            "Requirement already satisfied: tornado>=4.0 in /usr/local/lib/python3.7/dist-packages (from ipykernel>=4.5.1->ipywidgets->ipyfilechooser>=0.6.0->geemap) (5.1.1)\n",
            "Requirement already satisfied: pickleshare in /usr/local/lib/python3.7/dist-packages (from ipython>=4.0.0->ipywidgets->ipyfilechooser>=0.6.0->geemap) (0.7.5)\n",
            "Requirement already satisfied: simplegeneric>0.8 in /usr/local/lib/python3.7/dist-packages (from ipython>=4.0.0->ipywidgets->ipyfilechooser>=0.6.0->geemap) (0.8.1)\n",
            "Requirement already satisfied: pygments in /usr/local/lib/python3.7/dist-packages (from ipython>=4.0.0->ipywidgets->ipyfilechooser>=0.6.0->geemap) (2.6.1)\n",
            "Requirement already satisfied: prompt-toolkit<2.0.0,>=1.0.4 in /usr/local/lib/python3.7/dist-packages (from ipython>=4.0.0->ipywidgets->ipyfilechooser>=0.6.0->geemap) (1.0.18)\n",
            "Requirement already satisfied: decorator in /usr/local/lib/python3.7/dist-packages (from ipython>=4.0.0->ipywidgets->ipyfilechooser>=0.6.0->geemap) (4.4.2)\n",
            "Requirement already satisfied: pexpect in /usr/local/lib/python3.7/dist-packages (from ipython>=4.0.0->ipywidgets->ipyfilechooser>=0.6.0->geemap) (4.8.0)\n",
            "Requirement already satisfied: MarkupSafe>=0.23 in /usr/local/lib/python3.7/dist-packages (from jinja2>=2.9->folium>=0.11.0->geemap) (2.0.1)\n",
            "Collecting tornado>=4.0\n",
            "  Downloading tornado-6.1-cp37-cp37m-manylinux2010_x86_64.whl (428 kB)\n",
            "\u001b[K     |████████████████████████████████| 428 kB 68.5 MB/s \n",
            "\u001b[?25hCollecting jupyter-server~=1.4\n",
            "  Downloading jupyter_server-1.17.0-py3-none-any.whl (342 kB)\n",
            "\u001b[K     |████████████████████████████████| 342 kB 72.2 MB/s \n",
            "\u001b[?25hCollecting jupyterlab-server~=2.10\n",
            "  Downloading jupyterlab_server-2.13.0-py3-none-any.whl (53 kB)\n",
            "\u001b[K     |████████████████████████████████| 53 kB 2.0 MB/s \n",
            "\u001b[?25hRequirement already satisfied: jupyter-core in /usr/local/lib/python3.7/dist-packages (from jupyterlab>=3->geemap) (4.10.0)\n",
            "Collecting nbclassic~=0.2\n",
            "  Downloading nbclassic-0.3.7-py3-none-any.whl (13 kB)\n",
            "Collecting anyio<4,>=3.1.0\n",
            "  Downloading anyio-3.5.0-py3-none-any.whl (79 kB)\n",
            "\u001b[K     |████████████████████████████████| 79 kB 5.7 MB/s \n",
            "\u001b[?25hRequirement already satisfied: prometheus-client in /usr/local/lib/python3.7/dist-packages (from jupyter-server~=1.4->jupyterlab>=3->geemap) (0.14.1)\n",
            "Collecting nbconvert>=6.4.4\n",
            "  Downloading nbconvert-6.5.0-py3-none-any.whl (561 kB)\n",
            "\u001b[K     |████████████████████████████████| 561 kB 57.4 MB/s \n",
            "\u001b[?25hRequirement already satisfied: pyzmq>=17 in /usr/local/lib/python3.7/dist-packages (from jupyter-server~=1.4->jupyterlab>=3->geemap) (22.3.0)\n",
            "Requirement already satisfied: terminado>=0.8.3 in /usr/local/lib/python3.7/dist-packages (from jupyter-server~=1.4->jupyterlab>=3->geemap) (0.13.3)\n",
            "Collecting websocket-client\n",
            "  Downloading websocket_client-1.3.2-py3-none-any.whl (54 kB)\n",
            "\u001b[K     |████████████████████████████████| 54 kB 2.5 MB/s \n",
            "\u001b[?25hRequirement already satisfied: Send2Trash in /usr/local/lib/python3.7/dist-packages (from jupyter-server~=1.4->jupyterlab>=3->geemap) (1.8.0)\n",
            "Requirement already satisfied: argon2-cffi in /usr/local/lib/python3.7/dist-packages (from jupyter-server~=1.4->jupyterlab>=3->geemap) (21.3.0)\n",
            "Collecting jupyter-client\n",
            "  Downloading jupyter_client-7.3.0-py3-none-any.whl (130 kB)\n",
            "\u001b[K     |████████████████████████████████| 130 kB 57.2 MB/s \n",
            "\u001b[?25hRequirement already satisfied: typing-extensions in /usr/local/lib/python3.7/dist-packages (from anyio<4,>=3.1.0->jupyter-server~=1.4->jupyterlab>=3->geemap) (4.2.0)\n",
            "Collecting sniffio>=1.1\n",
            "  Downloading sniffio-1.2.0-py3-none-any.whl (10 kB)\n",
            "Requirement already satisfied: idna>=2.8 in /usr/local/lib/python3.7/dist-packages (from anyio<4,>=3.1.0->jupyter-server~=1.4->jupyterlab>=3->geemap) (2.10)\n",
            "Requirement already satisfied: entrypoints in /usr/local/lib/python3.7/dist-packages (from jupyter-client->ipykernel>=4.5.1->ipywidgets->ipyfilechooser>=0.6.0->geemap) (0.4)\n",
            "Requirement already satisfied: python-dateutil>=2.8.2 in /usr/local/lib/python3.7/dist-packages (from jupyter-client->ipykernel>=4.5.1->ipywidgets->ipyfilechooser>=0.6.0->geemap) (2.8.2)\n",
            "Requirement already satisfied: nest-asyncio>=1.5.4 in /usr/local/lib/python3.7/dist-packages (from jupyter-client->ipykernel>=4.5.1->ipywidgets->ipyfilechooser>=0.6.0->geemap) (1.5.5)\n",
            "Collecting jinja2>=2.9\n",
            "  Downloading Jinja2-3.1.2-py3-none-any.whl (133 kB)\n",
            "\u001b[K     |████████████████████████████████| 133 kB 55.1 MB/s \n",
            "\u001b[?25hCollecting json5\n",
            "  Downloading json5-0.9.6-py2.py3-none-any.whl (18 kB)\n",
            "Requirement already satisfied: importlib-metadata>=3.6 in /usr/local/lib/python3.7/dist-packages (from jupyterlab-server~=2.10->jupyterlab>=3->geemap) (4.11.3)\n",
            "Requirement already satisfied: jsonschema>=3.0.1 in /usr/local/lib/python3.7/dist-packages (from jupyterlab-server~=2.10->jupyterlab>=3->geemap) (4.3.3)\n",
            "Requirement already satisfied: babel in /usr/local/lib/python3.7/dist-packages (from jupyterlab-server~=2.10->jupyterlab>=3->geemap) (2.10.1)\n",
            "Requirement already satisfied: zipp>=0.5 in /usr/local/lib/python3.7/dist-packages (from importlib-metadata>=3.6->jupyterlab-server~=2.10->jupyterlab>=3->geemap) (3.8.0)\n",
            "Requirement already satisfied: pyrsistent!=0.17.0,!=0.17.1,!=0.17.2,>=0.14.0 in /usr/local/lib/python3.7/dist-packages (from jsonschema>=3.0.1->jupyterlab-server~=2.10->jupyterlab>=3->geemap) (0.18.1)\n",
            "Requirement already satisfied: attrs>=17.4.0 in /usr/local/lib/python3.7/dist-packages (from jsonschema>=3.0.1->jupyterlab-server~=2.10->jupyterlab>=3->geemap) (21.4.0)\n",
            "Requirement already satisfied: importlib-resources>=1.4.0 in /usr/local/lib/python3.7/dist-packages (from jsonschema>=3.0.1->jupyterlab-server~=2.10->jupyterlab>=3->geemap) (5.7.1)\n",
            "Requirement already satisfied: scipy>=1.0 in /usr/local/lib/python3.7/dist-packages (from mapclassify>=2.4.0->geemap) (1.4.1)\n",
            "Requirement already satisfied: scikit-learn in /usr/local/lib/python3.7/dist-packages (from mapclassify>=2.4.0->geemap) (1.0.2)\n",
            "Requirement already satisfied: networkx in /usr/local/lib/python3.7/dist-packages (from mapclassify>=2.4.0->geemap) (2.6.3)\n",
            "Requirement already satisfied: notebook<7 in /usr/local/lib/python3.7/dist-packages (from nbclassic~=0.2->jupyterlab>=3->geemap) (5.3.1)\n",
            "Collecting notebook-shim>=0.1.0\n",
            "  Downloading notebook_shim-0.1.0-py3-none-any.whl (13 kB)\n",
            "Requirement already satisfied: jupyterlab-pygments in /usr/local/lib/python3.7/dist-packages (from nbconvert>=6.4.4->jupyter-server~=1.4->jupyterlab>=3->geemap) (0.2.2)\n",
            "Requirement already satisfied: pandocfilters>=1.4.1 in /usr/local/lib/python3.7/dist-packages (from nbconvert>=6.4.4->jupyter-server~=1.4->jupyterlab>=3->geemap) (1.5.0)\n",
            "Requirement already satisfied: mistune<2,>=0.8.1 in /usr/local/lib/python3.7/dist-packages (from nbconvert>=6.4.4->jupyter-server~=1.4->jupyterlab>=3->geemap) (0.8.4)\n",
            "Requirement already satisfied: tinycss2 in /usr/local/lib/python3.7/dist-packages (from nbconvert>=6.4.4->jupyter-server~=1.4->jupyterlab>=3->geemap) (1.1.1)\n",
            "Requirement already satisfied: defusedxml in /usr/local/lib/python3.7/dist-packages (from nbconvert>=6.4.4->jupyter-server~=1.4->jupyterlab>=3->geemap) (0.7.1)\n",
            "Requirement already satisfied: nbclient>=0.5.0 in /usr/local/lib/python3.7/dist-packages (from nbconvert>=6.4.4->jupyter-server~=1.4->jupyterlab>=3->geemap) (0.6.0)\n",
            "Requirement already satisfied: bleach in /usr/local/lib/python3.7/dist-packages (from nbconvert>=6.4.4->jupyter-server~=1.4->jupyterlab>=3->geemap) (5.0.0)\n",
            "Requirement already satisfied: fastjsonschema in /usr/local/lib/python3.7/dist-packages (from nbformat>=4.2.0->ipywidgets->ipyfilechooser>=0.6.0->geemap) (2.15.3)\n",
            "Requirement already satisfied: pyparsing!=3.0.5,>=2.0.2 in /usr/local/lib/python3.7/dist-packages (from packaging>=14.3->google-api-core<3dev,>=1.21.0->google-api-python-client<2,>=1.12.1->earthengine-api>=0.1.304->geemap) (3.0.8)\n",
            "Requirement already satisfied: wcwidth in /usr/local/lib/python3.7/dist-packages (from prompt-toolkit<2.0.0,>=1.0.4->ipython>=4.0.0->ipywidgets->ipyfilechooser>=0.6.0->geemap) (0.2.5)\n",
            "Requirement already satisfied: pyasn1<0.5.0,>=0.4.6 in /usr/local/lib/python3.7/dist-packages (from pyasn1-modules>=0.2.1->google-auth>=1.4.1->earthengine-api>=0.1.304->geemap) (0.4.8)\n",
            "Requirement already satisfied: certifi>=2017.4.17 in /usr/local/lib/python3.7/dist-packages (from requests->folium>=0.11.0->geemap) (2021.10.8)\n",
            "Requirement already satisfied: urllib3!=1.25.0,!=1.25.1,<1.26,>=1.21.1 in /usr/local/lib/python3.7/dist-packages (from requests->folium>=0.11.0->geemap) (1.24.3)\n",
            "Requirement already satisfied: chardet<4,>=3.0.2 in /usr/local/lib/python3.7/dist-packages (from requests->folium>=0.11.0->geemap) (3.0.4)\n",
            "Requirement already satisfied: ptyprocess in /usr/local/lib/python3.7/dist-packages (from terminado>=0.8.3->jupyter-server~=1.4->jupyterlab>=3->geemap) (0.7.0)\n",
            "Collecting whitebox\n",
            "  Downloading whitebox-2.1.2-py2.py3-none-any.whl (75 kB)\n",
            "\u001b[K     |████████████████████████████████| 75 kB 4.7 MB/s \n",
            "\u001b[?25hRequirement already satisfied: argon2-cffi-bindings in /usr/local/lib/python3.7/dist-packages (from argon2-cffi->jupyter-server~=1.4->jupyterlab>=3->geemap) (21.2.0)\n",
            "Requirement already satisfied: cffi>=1.0.1 in /usr/local/lib/python3.7/dist-packages (from argon2-cffi-bindings->argon2-cffi->jupyter-server~=1.4->jupyterlab>=3->geemap) (1.15.0)\n",
            "Requirement already satisfied: pycparser in /usr/local/lib/python3.7/dist-packages (from cffi>=1.0.1->argon2-cffi-bindings->argon2-cffi->jupyter-server~=1.4->jupyterlab>=3->geemap) (2.21)\n",
            "Requirement already satisfied: webencodings in /usr/local/lib/python3.7/dist-packages (from bleach->nbconvert>=6.4.4->jupyter-server~=1.4->jupyterlab>=3->geemap) (0.5.1)\n",
            "Requirement already satisfied: tqdm in /usr/local/lib/python3.7/dist-packages (from gdown->geemap) (4.64.0)\n",
            "Requirement already satisfied: filelock in /usr/local/lib/python3.7/dist-packages (from gdown->geemap) (3.6.0)\n",
            "Requirement already satisfied: click in /usr/local/lib/python3.7/dist-packages (from geocoder->geemap) (7.1.2)\n",
            "Collecting ratelim\n",
            "  Downloading ratelim-0.1.6-py2.py3-none-any.whl (4.0 kB)\n",
            "Requirement already satisfied: google-resumable-media<0.5.0dev,>=0.3.1 in /usr/local/lib/python3.7/dist-packages (from google-cloud-storage->earthengine-api>=0.1.304->geemap) (0.4.1)\n",
            "Requirement already satisfied: google-cloud-core<2.0dev,>=1.0.0 in /usr/local/lib/python3.7/dist-packages (from google-cloud-storage->earthengine-api>=0.1.304->geemap) (1.0.3)\n",
            "Requirement already satisfied: kiwisolver>=1.0.1 in /usr/local/lib/python3.7/dist-packages (from matplotlib->geemap) (1.4.2)\n",
            "Requirement already satisfied: cycler>=0.10 in /usr/local/lib/python3.7/dist-packages (from matplotlib->geemap) (0.11.0)\n",
            "Requirement already satisfied: PySocks!=1.5.7,>=1.5.6 in /usr/local/lib/python3.7/dist-packages (from requests->folium>=0.11.0->geemap) (1.7.1)\n",
            "Requirement already satisfied: plotly>=5.2.2 in /usr/local/lib/python3.7/dist-packages (from sankee->geemap) (5.5.0)\n",
            "Requirement already satisfied: tenacity>=6.2.0 in /usr/local/lib/python3.7/dist-packages (from plotly>=5.2.2->sankee->geemap) (8.0.1)\n",
            "Requirement already satisfied: threadpoolctl>=2.0.0 in /usr/local/lib/python3.7/dist-packages (from scikit-learn->mapclassify>=2.4.0->geemap) (3.1.0)\n",
            "Requirement already satisfied: joblib>=0.11 in /usr/local/lib/python3.7/dist-packages (from scikit-learn->mapclassify>=2.4.0->geemap) (1.1.0)\n",
            "Building wheels for collected packages: ee-extra, pycrs, sankee\n",
            "  Building wheel for ee-extra (setup.py) ... \u001b[?25l\u001b[?25hdone\n",
            "  Created wheel for ee-extra: filename=ee_extra-0.0.13-py3-none-any.whl size=198407 sha256=0bdbeff3bfe25522a220283cd416ad6a4e3a6f0597f9a8f2d3a50b8824339ff9\n",
            "  Stored in directory: /root/.cache/pip/wheels/54/f2/bc/51930fbbffdd2ef1b5aac2e332c068e4913e56634f90efdef8\n",
            "  Building wheel for pycrs (setup.py) ... \u001b[?25l\u001b[?25hdone\n",
            "  Created wheel for pycrs: filename=PyCRS-1.0.2-py3-none-any.whl size=32704 sha256=6906fa06d1d0cf411eb4a9ddf48bf7e0f65392cf44958579c76eea2598c176f7\n",
            "  Stored in directory: /root/.cache/pip/wheels/3e/ce/32/1ec0aba6b9770681a423e82f0274c57d09ad2c20c2864901f9\n",
            "  Building wheel for sankee (setup.py) ... \u001b[?25l\u001b[?25hdone\n",
            "  Created wheel for sankee: filename=sankee-0.0.7-py3-none-any.whl size=27639 sha256=e23e497aa571c644fbcca92091fb0463e68e36a70643675e5f8a717bf5393df6\n",
            "  Stored in directory: /root/.cache/pip/wheels/13/28/83/5726f82a8cb0baf76169d99ee0595c420afedb9020e22bbd4b\n",
            "Successfully built ee-extra pycrs sankee\n",
            "Installing collected packages: tornado, jupyter-client, jinja2, beautifulsoup4, sniffio, nbconvert, websocket-client, anyio, jupyter-server, notebook-shim, json5, xyzservices, whitebox, traittypes, ratelim, nbclassic, logzero, jupyterlab-server, ipytree, ipyfilechooser, whiteboxgui, sankee, python-box, pyshp, pycrs, mapclassify, jupyterlab, ipyleaflet, ipyevents, geojson, geocoder, geeadd, folium, ffmpeg-python, ee-extra, colour, bqplot, geemap\n",
            "  Attempting uninstall: tornado\n",
            "    Found existing installation: tornado 5.1.1\n",
            "    Uninstalling tornado-5.1.1:\n",
            "      Successfully uninstalled tornado-5.1.1\n",
            "  Attempting uninstall: jupyter-client\n",
            "    Found existing installation: jupyter-client 5.3.5\n",
            "    Uninstalling jupyter-client-5.3.5:\n",
            "      Successfully uninstalled jupyter-client-5.3.5\n",
            "  Attempting uninstall: jinja2\n",
            "    Found existing installation: Jinja2 2.11.3\n",
            "    Uninstalling Jinja2-2.11.3:\n",
            "      Successfully uninstalled Jinja2-2.11.3\n",
            "  Attempting uninstall: beautifulsoup4\n",
            "    Found existing installation: beautifulsoup4 4.6.3\n",
            "    Uninstalling beautifulsoup4-4.6.3:\n",
            "      Successfully uninstalled beautifulsoup4-4.6.3\n",
            "  Attempting uninstall: nbconvert\n",
            "    Found existing installation: nbconvert 5.6.1\n",
            "    Uninstalling nbconvert-5.6.1:\n",
            "      Successfully uninstalled nbconvert-5.6.1\n",
            "  Attempting uninstall: folium\n",
            "    Found existing installation: folium 0.8.3\n",
            "    Uninstalling folium-0.8.3:\n",
            "      Successfully uninstalled folium-0.8.3\n",
            "\u001b[31mERROR: pip's dependency resolver does not currently take into account all the packages that are installed. This behaviour is the source of the following dependency conflicts.\n",
            "google-colab 1.0.0 requires tornado~=5.1.0; python_version >= \"3.0\", but you have tornado 6.1 which is incompatible.\n",
            "flask 1.1.4 requires Jinja2<3.0,>=2.10.1, but you have jinja2 3.1.2 which is incompatible.\n",
            "datascience 0.10.6 requires folium==0.2.1, but you have folium 0.12.1.post1 which is incompatible.\u001b[0m\n",
            "Successfully installed anyio-3.5.0 beautifulsoup4-4.11.1 bqplot-0.12.33 colour-0.1.5 ee-extra-0.0.13 ffmpeg-python-0.2.0 folium-0.12.1.post1 geeadd-0.5.5 geemap-0.13.4 geocoder-1.38.1 geojson-2.5.0 ipyevents-2.0.1 ipyfilechooser-0.6.0 ipyleaflet-0.16.0 ipytree-0.2.1 jinja2-3.1.2 json5-0.9.6 jupyter-client-7.3.0 jupyter-server-1.17.0 jupyterlab-3.3.4 jupyterlab-server-2.13.0 logzero-1.7.0 mapclassify-2.4.3 nbclassic-0.3.7 nbconvert-6.5.0 notebook-shim-0.1.0 pycrs-1.0.2 pyshp-2.3.0 python-box-6.0.2 ratelim-0.1.6 sankee-0.0.7 sniffio-1.2.0 tornado-6.1 traittypes-0.2.1 websocket-client-1.3.2 whitebox-2.1.2 whiteboxgui-0.7.0 xyzservices-2022.4.0\n"
          ]
        },
        {
          "output_type": "display_data",
          "data": {
            "application/vnd.colab-display-data+json": {
              "pip_warning": {
                "packages": [
                  "jupyter_client",
                  "tornado"
                ]
              }
            }
          },
          "metadata": {}
        }
      ]
    },
    {
      "cell_type": "code",
      "execution_count": null,
      "metadata": {
        "colab": {
          "base_uri": "https://localhost:8080/"
        },
        "id": "XeFsiSp2aDL6",
        "outputId": "f891fada-ae75-4674-bf7f-c48e6294cf45"
      },
      "outputs": [
        {
          "output_type": "stream",
          "name": "stdout",
          "text": [
            "To authorize access needed by Earth Engine, open the following URL in a web browser and follow the instructions. If the web browser does not start automatically, please manually browse the URL below.\n",
            "\n",
            "    https://code.earthengine.google.com/client-auth?scopes=https%3A//www.googleapis.com/auth/earthengine%20https%3A//www.googleapis.com/auth/devstorage.full_control&request_id=5F3i3vkqWqvdO34shNI8Da5avNpTYKbLTdHb8jUVriQ&tc=YkS1vX8zLDDcfWVLfjGeml1OZOMEaIMWJwYvfp95LXk&cc=Gadv2-p7NmrstnP6PD-8fCmQIKKSu9Tuu5Dll2wEVG0\n",
            "\n",
            "The authorization workflow will generate a code, which you should paste in the box below. \n",
            "Enter verification code: 4/1AX4XfWgZqjQSpDatQO48BOVaN7ZJC7HVEfGr_fcVggtV6rEqHjtH2-B3L70\n",
            "\n",
            "Successfully saved authorization token.\n"
          ]
        }
      ],
      "source": [
        "import ee\n",
        " \n",
        "# Trigger the authentication flow.\n",
        "ee.Authenticate()\n",
        " \n",
        "# Initialize the library.\n",
        "ee.Initialize()"
      ]
    },
    {
      "cell_type": "code",
      "source": [
        "import geemap\n",
        "Map = geemap.Map()"
      ],
      "metadata": {
        "id": "NpwiR8e09EuB"
      },
      "execution_count": null,
      "outputs": []
    },
    {
      "cell_type": "code",
      "source": [
        "import json\n",
        "from urllib.request import urlopen\n",
        "import glob\n",
        "from datetime import datetime"
      ],
      "metadata": {
        "id": "GoMEVDgBa5jF"
      },
      "execution_count": null,
      "outputs": []
    },
    {
      "cell_type": "code",
      "source": [
        "from google.colab import drive\n",
        "drive.mount('/content/drive')"
      ],
      "metadata": {
        "colab": {
          "base_uri": "https://localhost:8080/"
        },
        "id": "tcqrA2OHVvtO",
        "outputId": "e50a7b59-f212-433e-8340-52e7327e5c0c"
      },
      "execution_count": null,
      "outputs": [
        {
          "output_type": "stream",
          "name": "stdout",
          "text": [
            "Mounted at /content/drive\n"
          ]
        }
      ]
    },
    {
      "cell_type": "code",
      "source": [
        "cd /content/drive/MyDrive/MLTSA22"
      ],
      "metadata": {
        "colab": {
          "base_uri": "https://localhost:8080/"
        },
        "id": "AHJVqhslWBES",
        "outputId": "4903151a-6683-464e-df1b-785c7ee72daf"
      },
      "execution_count": null,
      "outputs": [
        {
          "output_type": "stream",
          "name": "stdout",
          "text": [
            "/content/drive/MyDrive/MLTSA22\n"
          ]
        }
      ]
    },
    {
      "cell_type": "markdown",
      "source": [
        "# Set date params and load clipping features"
      ],
      "metadata": {
        "id": "GY7LgcVZyK-K"
      }
    },
    {
      "cell_type": "code",
      "source": [
        "# establish time series window\n",
        "start = ee.Date('2018-01-01')\n",
        "finish = ee.Date('2021-12-31')"
      ],
      "metadata": {
        "id": "oOxFU8Vfwrrx"
      },
      "execution_count": null,
      "outputs": []
    },
    {
      "cell_type": "code",
      "source": [
        "# load geojson with bounding boxes\n",
        "url = urlopen('https://raw.githubusercontent.com/lifewinning/MLTSA22_final/main/mltsa_bb.geojson')\n",
        "original_sites = json.load(url)"
      ],
      "metadata": {
        "id": "3pFBLxF73DCQ"
      },
      "execution_count": null,
      "outputs": []
    },
    {
      "cell_type": "code",
      "source": [
        "# there are 2 files bc I'm an idiot\n",
        "url = urlopen('https://raw.githubusercontent.com/lifewinning/MLTSA22_final/main/added_ports.geojson')\n",
        "geojson = json.load(url)\n",
        "\n",
        "feats = geojson['features'] + original_sites['features']\n",
        "\n",
        "for site, index in enumerate(range(0,len(feats))):\n",
        "  print(index, feats[site]['properties']['site'])"
      ],
      "metadata": {
        "colab": {
          "base_uri": "https://localhost:8080/"
        },
        "id": "Pc5ygkIgcZN7",
        "outputId": "a2427573-a4f5-458d-aad0-6689e8b91d04"
      },
      "execution_count": null,
      "outputs": [
        {
          "output_type": "stream",
          "name": "stdout",
          "text": [
            "0 oakland\n",
            "1 tacoma\n",
            "2 shanghai\n",
            "3 bayonne\n",
            "4 bayonne-02\n",
            "5 savannah\n",
            "6 miami\n",
            "7 singapore\n",
            "8 suez\n",
            "9 long beach\n",
            "10 rotterdam\n"
          ]
        }
      ]
    },
    {
      "cell_type": "markdown",
      "source": [
        "# Some generalizing functions"
      ],
      "metadata": {
        "id": "vw20VwIEfqNZ"
      }
    },
    {
      "cell_type": "code",
      "source": [
        "def cliptoaoi(image):\n",
        "  return image.clip(aoi)"
      ],
      "metadata": {
        "id": "vKnpCMRRIsjL"
      },
      "execution_count": null,
      "outputs": []
    },
    {
      "cell_type": "code",
      "source": [
        "# generate a range of days between start and end of time series\n",
        "def getdates(collection, days):\n",
        "  first = collection.first().date()\n",
        "  diff = finish.difference(first, 'day')\n",
        "  \n",
        "  def getDays(day):\n",
        "    return first.advance(day,'day')\n",
        "  \n",
        "  return ee.List.sequence(0, diff.subtract(1), days).map(getDays)"
      ],
      "metadata": {
        "id": "kwdzlGmYynXI"
      },
      "execution_count": null,
      "outputs": []
    },
    {
      "cell_type": "code",
      "source": [
        "def day_mosaics(date, newlist):\n",
        "  date = ee.Date(date)\n",
        "  newlist = ee.List(newlist)\n",
        "  \n",
        "  filtered = collection.filterDate(date, date.advance(1, 'day'))\n",
        "\n",
        "  date_formatted = date.format('yyyy-MM-dd:H:mm:ss', 'UTC')\n",
        "\n",
        "  dates = filtered.aggregate_array('system:time_start').map(lambda time_start: ee.Date(time_start).format('Y-MM-dd_H:mm:ss', 'UTC'))\n",
        "\n",
        "  image_m = ee.Image(filtered.mosaic()).set({'ID': date_formatted}).set({'dates': dates}).clip(aoi)\n",
        "\n",
        "  # Add the mosaic to a list only if the collection has images\n",
        "  return ee.List(ee.Algorithms.If(filtered.size(), newlist.add(image_m), newlist))"
      ],
      "metadata": {
        "id": "J4YartQZznSK"
      },
      "execution_count": null,
      "outputs": []
    },
    {
      "cell_type": "code",
      "source": [
        "def check_gaps(list):\n",
        "  dates = list.aggregate_array('system:time_start').getInfo()\n",
        "  date1 = ee.Date(dates[0])\n",
        "  date2 = ee.Date(dates[1])\n",
        "  if date2.difference(date1, 'days').getInfo() > 6: \n",
        "    return 12\n",
        "  if date2.difference(date1, 'days').getInfo() < 6: \n",
        "    return 6"
      ],
      "metadata": {
        "id": "Wg6er2Ai6zGx"
      },
      "execution_count": null,
      "outputs": []
    },
    {
      "cell_type": "code",
      "source": [
        "def clip(coords):\n",
        "  return ee.Geometry.Polygon(coords['geometry']['coordinates'])"
      ],
      "metadata": {
        "id": "p3T1cOIJZcNn"
      },
      "execution_count": null,
      "outputs": []
    },
    {
      "cell_type": "code",
      "source": [
        "def view_thumbnail(coords, band, number):\n",
        "  name = coords['properties']['site']\n",
        "  # query EE\n",
        "\n",
        "  collection = ee.ImageCollection('COPERNICUS/S1_GRD').filterBounds(aoi).filterDate(start, finish).filter(ee.Filter.listContains('transmitterReceiverPolarisation', 'VH'))\n",
        "  collection_clipped = collection.map(cliptoaoi).sort('segmentStartTime')\n",
        "\n",
        "  ids = collection_clipped.aggregate_array('system:time_start').map(lambda time_start: ee.Date(time_start).format('Y-MM-dd_H:m:s', 'UTC')).getInfo()\n",
        " \n",
        "  # take a quick look at the first image just to see\n",
        "\n",
        "  print(name)\n",
        "  out_img = \"tests/{0}/1/{2}.png\".format(band, number, name)\n",
        "\n",
        "  vis_params = {'min': -5, 'max': 0, 'bands':'VH'}\n",
        "  \n",
        "  image = 'test/VH/5/{0}'.format(name)\n",
        "\n",
        "  image = collection_clipped.first()\n",
        "  geemap.get_image_thumbnail(image, out_img, vis_params, dimensions=500, format='png')\n",
        "  geemap.show_image(out_img)"
      ],
      "metadata": {
        "id": "WaNOxoMKbS1m"
      },
      "execution_count": null,
      "outputs": []
    },
    {
      "cell_type": "code",
      "source": [
        "def get_images(coords, band, number):\n",
        "  name = coords['properties']['site']\n",
        "  # query EE\n",
        "\n",
        "  collection = ee.ImageCollection('COPERNICUS/S1_GRD').filterBounds(aoi).filterDate(start, finish).filter(ee.Filter.listContains('transmitterReceiverPolarisation', 'VH'))\n",
        "  collection_clipped = collection.map(cliptoaoi).sort('segmentStartTime')\n",
        "\n",
        "  ids = collection_clipped.aggregate_array('system:time_start').map(lambda time_start: ee.Date(time_start).format('Y-MM-dd_H:m:s', 'UTC')).getInfo()\n",
        "  # take a quick look at the first image just to see\n",
        "\n",
        "  print(name)\n",
        "  newcol = ee.ImageCollection(ee.List(getdates(collection_clipped, check_gaps(collection_clipped)).iterate(day_mosaics, ee.List([]))))\n",
        "  newcol_list = newcol.toList(newcol.size())\n",
        "  vis_params = {'min': number, 'max': 0, 'bands': band }\n",
        "  \n",
        "  out_dir = 'timestampedit/{0}/{1}/{2}'.format(band, number, name)\n",
        "  geemap.get_image_collection_thumbnails(collection_clipped, out_dir, vis_params, dimensions=800, format=\"png\", names=ids)"
      ],
      "metadata": {
        "id": "CMnz-r2cutcr"
      },
      "execution_count": null,
      "outputs": []
    },
    {
      "cell_type": "code",
      "source": [
        "for f in feats: \n",
        "  aoi = clip(f)\n",
        "  view_thumbnail(f, 'VH', -5)"
      ],
      "metadata": {
        "colab": {
          "base_uri": "https://localhost:8080/",
          "height": 1000,
          "referenced_widgets": [
            "f73d57c1f9df4518a09793eab8152c3c",
            "b70cbf298b2942b09f62b41278e8df3d",
            "e895aa8eeea845c7a1565af17aa6d5af",
            "65e08d5de8c94c19ab35a5547570ea1c",
            "8af4a86661cc48cb8b6c736786c41d14",
            "f1701c0074fd4962ab4904041c5369d3",
            "a998eb601f6842ef802660a2a15af5d6",
            "e13850b94e1c46acb88ea38b730ce183",
            "6bf31255256847da939b1e0d29d31a46",
            "7fd7e9f457c047a59adbb8c707090751",
            "79bc2aa273ff4d9db4bf9e2f386ed022",
            "3d1c34b332964831964cab55dfe6dd33",
            "984f4010584740519390608446822856",
            "640bdefd3e0046a997d7b1c5216b6106",
            "3a856811fbdd43758f87ff9f10546fcf",
            "ba533b8b35ec4aa589861c130651905e",
            "cdae367d231149da960762e388d1aff1",
            "9d775035ec4e4db387c64a53f32ca4dd",
            "f2f03793872f40a0b7b5727314a022d3",
            "2fdd8b208ec04520aae89c44878c4512",
            "1ae4cbf8e5c44bc196006b23b92fea6e",
            "154b877f0811439297b0fec4e6434de9",
            "b6e22dcbb1cd40b0b4603557137d0b1f",
            "ff24bf6e66304bdd864262a4b455a6c4",
            "c3d6d9f6500a4d64b9dfcdad7b33d49d",
            "4ddab0463901412cad14c0bd398dbe0d",
            "7ef5952c5dc8458e99f6c005b2032617",
            "48040547dcf644089a0bb5a1e2d0f4d4",
            "2065afaa33624f0c9cc9b39bbb6377bc",
            "3f7b10e124ec482783e4b0da7ff60cb9",
            "136b65bb003640498ca84cd8ff496bfe",
            "c06814cd80db488dbf0b97bd2fa90028",
            "cd219ff51cdd40d09e10230a014b498f",
            "884850989ca44a42b27f7572256aec4e",
            "294ebd209ef245fa83779a1cc94efd5a",
            "0fafbc794dbd45059415a6c97952c1e1",
            "210615fcb0264e08aa133eda0011d4a0",
            "df41fc5b512441eb8d85464b9451f6a1",
            "ae753aaa9e04434f8d1cd7354301b5a4",
            "629059ec0cb14e4f91d8b7c2bc11a2c4",
            "43e95a60190b4187ac900300494da2ec",
            "ddaece4b6bce4a95891ff1d8bbe53ce5",
            "37d0c063efc44db19d78006afb8e7dba",
            "54f8553c287a4b5cb37d1dd77c31c0ca"
          ]
        },
        "id": "EJr7LCvZaUSA",
        "outputId": "0ac7c108-c19e-4006-e959-482aae691b33"
      },
      "execution_count": null,
      "outputs": [
        {
          "output_type": "stream",
          "name": "stdout",
          "text": [
            "oakland\n"
          ]
        },
        {
          "output_type": "display_data",
          "data": {
            "text/plain": [
              "Output()"
            ],
            "application/vnd.jupyter.widget-view+json": {
              "version_major": 2,
              "version_minor": 0,
              "model_id": "f73d57c1f9df4518a09793eab8152c3c"
            }
          },
          "metadata": {
            "application/vnd.jupyter.widget-view+json": {
              "colab": {
                "custom_widget_manager": {
                  "url": "https://ssl.gstatic.com/colaboratory-static/widgets/colab-cdn-widget-manager/a8874ba6619b6106/manager.min.js"
                }
              }
            }
          }
        },
        {
          "output_type": "stream",
          "name": "stdout",
          "text": [
            "tacoma\n"
          ]
        },
        {
          "output_type": "display_data",
          "data": {
            "text/plain": [
              "Output()"
            ],
            "application/vnd.jupyter.widget-view+json": {
              "version_major": 2,
              "version_minor": 0,
              "model_id": "f1701c0074fd4962ab4904041c5369d3"
            }
          },
          "metadata": {
            "application/vnd.jupyter.widget-view+json": {
              "colab": {
                "custom_widget_manager": {
                  "url": "https://ssl.gstatic.com/colaboratory-static/widgets/colab-cdn-widget-manager/a8874ba6619b6106/manager.min.js"
                }
              }
            }
          }
        },
        {
          "output_type": "stream",
          "name": "stdout",
          "text": [
            "shanghai\n"
          ]
        },
        {
          "output_type": "display_data",
          "data": {
            "text/plain": [
              "Output()"
            ],
            "application/vnd.jupyter.widget-view+json": {
              "version_major": 2,
              "version_minor": 0,
              "model_id": "7fd7e9f457c047a59adbb8c707090751"
            }
          },
          "metadata": {
            "application/vnd.jupyter.widget-view+json": {
              "colab": {
                "custom_widget_manager": {
                  "url": "https://ssl.gstatic.com/colaboratory-static/widgets/colab-cdn-widget-manager/a8874ba6619b6106/manager.min.js"
                }
              }
            }
          }
        },
        {
          "output_type": "stream",
          "name": "stdout",
          "text": [
            "bayonne\n"
          ]
        },
        {
          "output_type": "display_data",
          "data": {
            "text/plain": [
              "Output()"
            ],
            "application/vnd.jupyter.widget-view+json": {
              "version_major": 2,
              "version_minor": 0,
              "model_id": "640bdefd3e0046a997d7b1c5216b6106"
            }
          },
          "metadata": {
            "application/vnd.jupyter.widget-view+json": {
              "colab": {
                "custom_widget_manager": {
                  "url": "https://ssl.gstatic.com/colaboratory-static/widgets/colab-cdn-widget-manager/a8874ba6619b6106/manager.min.js"
                }
              }
            }
          }
        },
        {
          "output_type": "stream",
          "name": "stdout",
          "text": [
            "bayonne-02\n"
          ]
        },
        {
          "output_type": "display_data",
          "data": {
            "text/plain": [
              "Output()"
            ],
            "application/vnd.jupyter.widget-view+json": {
              "version_major": 2,
              "version_minor": 0,
              "model_id": "9d775035ec4e4db387c64a53f32ca4dd"
            }
          },
          "metadata": {
            "application/vnd.jupyter.widget-view+json": {
              "colab": {
                "custom_widget_manager": {
                  "url": "https://ssl.gstatic.com/colaboratory-static/widgets/colab-cdn-widget-manager/a8874ba6619b6106/manager.min.js"
                }
              }
            }
          }
        },
        {
          "output_type": "stream",
          "name": "stdout",
          "text": [
            "savannah\n"
          ]
        },
        {
          "output_type": "display_data",
          "data": {
            "text/plain": [
              "Output()"
            ],
            "application/vnd.jupyter.widget-view+json": {
              "version_major": 2,
              "version_minor": 0,
              "model_id": "154b877f0811439297b0fec4e6434de9"
            }
          },
          "metadata": {
            "application/vnd.jupyter.widget-view+json": {
              "colab": {
                "custom_widget_manager": {
                  "url": "https://ssl.gstatic.com/colaboratory-static/widgets/colab-cdn-widget-manager/a8874ba6619b6106/manager.min.js"
                }
              }
            }
          }
        },
        {
          "output_type": "stream",
          "name": "stdout",
          "text": [
            "miami\n"
          ]
        },
        {
          "output_type": "display_data",
          "data": {
            "text/plain": [
              "Output()"
            ],
            "application/vnd.jupyter.widget-view+json": {
              "version_major": 2,
              "version_minor": 0,
              "model_id": "4ddab0463901412cad14c0bd398dbe0d"
            }
          },
          "metadata": {
            "application/vnd.jupyter.widget-view+json": {
              "colab": {
                "custom_widget_manager": {
                  "url": "https://ssl.gstatic.com/colaboratory-static/widgets/colab-cdn-widget-manager/a8874ba6619b6106/manager.min.js"
                }
              }
            }
          }
        },
        {
          "output_type": "stream",
          "name": "stdout",
          "text": [
            "singapore\n"
          ]
        },
        {
          "output_type": "display_data",
          "data": {
            "text/plain": [
              "Output()"
            ],
            "application/vnd.jupyter.widget-view+json": {
              "version_major": 2,
              "version_minor": 0,
              "model_id": "3f7b10e124ec482783e4b0da7ff60cb9"
            }
          },
          "metadata": {
            "application/vnd.jupyter.widget-view+json": {
              "colab": {
                "custom_widget_manager": {
                  "url": "https://ssl.gstatic.com/colaboratory-static/widgets/colab-cdn-widget-manager/a8874ba6619b6106/manager.min.js"
                }
              }
            }
          }
        },
        {
          "output_type": "stream",
          "name": "stdout",
          "text": [
            "suez\n"
          ]
        },
        {
          "output_type": "display_data",
          "data": {
            "text/plain": [
              "Output()"
            ],
            "application/vnd.jupyter.widget-view+json": {
              "version_major": 2,
              "version_minor": 0,
              "model_id": "884850989ca44a42b27f7572256aec4e"
            }
          },
          "metadata": {
            "application/vnd.jupyter.widget-view+json": {
              "colab": {
                "custom_widget_manager": {
                  "url": "https://ssl.gstatic.com/colaboratory-static/widgets/colab-cdn-widget-manager/a8874ba6619b6106/manager.min.js"
                }
              }
            }
          }
        },
        {
          "output_type": "stream",
          "name": "stdout",
          "text": [
            "long beach\n"
          ]
        },
        {
          "output_type": "display_data",
          "data": {
            "text/plain": [
              "Output()"
            ],
            "application/vnd.jupyter.widget-view+json": {
              "version_major": 2,
              "version_minor": 0,
              "model_id": "df41fc5b512441eb8d85464b9451f6a1"
            }
          },
          "metadata": {
            "application/vnd.jupyter.widget-view+json": {
              "colab": {
                "custom_widget_manager": {
                  "url": "https://ssl.gstatic.com/colaboratory-static/widgets/colab-cdn-widget-manager/a8874ba6619b6106/manager.min.js"
                }
              }
            }
          }
        },
        {
          "output_type": "stream",
          "name": "stdout",
          "text": [
            "rotterdam\n"
          ]
        },
        {
          "output_type": "display_data",
          "data": {
            "text/plain": [
              "Output()"
            ],
            "application/vnd.jupyter.widget-view+json": {
              "version_major": 2,
              "version_minor": 0,
              "model_id": "ddaece4b6bce4a95891ff1d8bbe53ce5"
            }
          },
          "metadata": {
            "application/vnd.jupyter.widget-view+json": {
              "colab": {
                "custom_widget_manager": {
                  "url": "https://ssl.gstatic.com/colaboratory-static/widgets/colab-cdn-widget-manager/a8874ba6619b6106/manager.min.js"
                }
              }
            }
          }
        }
      ]
    },
    {
      "cell_type": "code",
      "source": [
        "for f in feats: \n",
        "  aoi = clip(f)\n",
        "  view_thumbnail(f, 'VH', -20)"
      ],
      "metadata": {
        "colab": {
          "base_uri": "https://localhost:8080/",
          "height": 1000,
          "referenced_widgets": [
            "201856f4511e44e2918d36dfc3fe7a5f",
            "55c1109298ee4280b9a2eaa110c03a01",
            "76dbb3f4ee174cd9983c6501791d462a",
            "163ec50c7917456597c2be9c32b6ee5d",
            "a5a2de50e41d4505b0a131ceb85b1f56",
            "fe60f0c467504defa7c748dd554c0534",
            "d64bf685a1a041959d0d19c6da3c8349",
            "5d7b9c57d2d44e23acee8aee897a4449",
            "62bdc2a34a7648399698d9f6d3384776",
            "6213161f6bc04b03b4b716fb0db04d6d",
            "5e701d23cb6c46309d4779e0d788a977",
            "c02052c0e0bf4822a75917034183807a",
            "a43b58bae609466f8a48d51c6467e474",
            "c41a43823b254b4a9005d5a0a0cfa853",
            "6784cad4b7394f8da8574b7b67c25ee0",
            "40edd233d26244dbb05d88eebf3723cd",
            "4d0b9459c2e84d51bf51188ca902a520",
            "3e17d4a736e24f44af2f693470245086",
            "ed5836fd41954a79a44f1b63a416fe45",
            "2e5f65d3f91f423ea3747fc4d48e2278",
            "b859ded8134747939da026449ec8d469",
            "ebcef2962ade43e3afd343808a7f2273",
            "5e3c8d01f41a41f8bb90434906c9ef66",
            "03d3669aad834dbe8f41fee9911964ec",
            "e7a5e4a639b645bcb5c4952374bdbfd9",
            "16b042de06a446a8a6c9bbd4a2df4536",
            "fba68bf3d6874fd4924c2502adcac256",
            "5b52675a6b8a4d178faae3e07c08939d",
            "269350f6f3ad42e3a5fc2c4a0e26abf7",
            "99d2eded1cf64ac9881ac9d936d1de0b",
            "25a7d82d149b405c807a4e14022e8dae",
            "c1e0131c6e5845b386d9c70f662fa29c",
            "0d00e1c0a3d44062a08a47bf4d0f8fb9",
            "a17829a23259425b8198dd6a23143cc6",
            "f6e26c299f1142a7853e6ca2fd8c8e7b",
            "6ce30a9395354a19977a3efb9487d1c2",
            "3da7c5b93cb94736818cb14f0ffd0d54",
            "a37f84a8ca494f95af3b61ac92d1ad12",
            "65d049d2bd4442d0b263dffa56d8fdf9",
            "a2beab6016bd46e3bb852d3fdfc8f62d",
            "c613f8c5feaa4bfc83040dad825e7946",
            "566956ced9c6451c825e5a2d1dfcde40",
            "8f9b18c2b2784f3e968fd4c7ccd12d73",
            "a1b0100e562e47ccbf4a8b3dd297c14e"
          ]
        },
        "id": "wkNnF9EZc8gb",
        "outputId": "def99312-47f8-43ac-e123-61d4ffe37694"
      },
      "execution_count": null,
      "outputs": [
        {
          "output_type": "stream",
          "name": "stdout",
          "text": [
            "oakland\n"
          ]
        },
        {
          "output_type": "display_data",
          "data": {
            "text/plain": [
              "Output()"
            ],
            "application/vnd.jupyter.widget-view+json": {
              "version_major": 2,
              "version_minor": 0,
              "model_id": "201856f4511e44e2918d36dfc3fe7a5f"
            }
          },
          "metadata": {
            "application/vnd.jupyter.widget-view+json": {
              "colab": {
                "custom_widget_manager": {
                  "url": "https://ssl.gstatic.com/colaboratory-static/widgets/colab-cdn-widget-manager/a8874ba6619b6106/manager.min.js"
                }
              }
            }
          }
        },
        {
          "output_type": "stream",
          "name": "stdout",
          "text": [
            "tacoma\n"
          ]
        },
        {
          "output_type": "display_data",
          "data": {
            "text/plain": [
              "Output()"
            ],
            "application/vnd.jupyter.widget-view+json": {
              "version_major": 2,
              "version_minor": 0,
              "model_id": "fe60f0c467504defa7c748dd554c0534"
            }
          },
          "metadata": {
            "application/vnd.jupyter.widget-view+json": {
              "colab": {
                "custom_widget_manager": {
                  "url": "https://ssl.gstatic.com/colaboratory-static/widgets/colab-cdn-widget-manager/a8874ba6619b6106/manager.min.js"
                }
              }
            }
          }
        },
        {
          "output_type": "stream",
          "name": "stdout",
          "text": [
            "shanghai\n"
          ]
        },
        {
          "output_type": "display_data",
          "data": {
            "text/plain": [
              "Output()"
            ],
            "application/vnd.jupyter.widget-view+json": {
              "version_major": 2,
              "version_minor": 0,
              "model_id": "6213161f6bc04b03b4b716fb0db04d6d"
            }
          },
          "metadata": {
            "application/vnd.jupyter.widget-view+json": {
              "colab": {
                "custom_widget_manager": {
                  "url": "https://ssl.gstatic.com/colaboratory-static/widgets/colab-cdn-widget-manager/a8874ba6619b6106/manager.min.js"
                }
              }
            }
          }
        },
        {
          "output_type": "stream",
          "name": "stdout",
          "text": [
            "bayonne\n"
          ]
        },
        {
          "output_type": "display_data",
          "data": {
            "text/plain": [
              "Output()"
            ],
            "application/vnd.jupyter.widget-view+json": {
              "version_major": 2,
              "version_minor": 0,
              "model_id": "c41a43823b254b4a9005d5a0a0cfa853"
            }
          },
          "metadata": {
            "application/vnd.jupyter.widget-view+json": {
              "colab": {
                "custom_widget_manager": {
                  "url": "https://ssl.gstatic.com/colaboratory-static/widgets/colab-cdn-widget-manager/a8874ba6619b6106/manager.min.js"
                }
              }
            }
          }
        },
        {
          "output_type": "stream",
          "name": "stdout",
          "text": [
            "bayonne-02\n"
          ]
        },
        {
          "output_type": "display_data",
          "data": {
            "text/plain": [
              "Output()"
            ],
            "application/vnd.jupyter.widget-view+json": {
              "version_major": 2,
              "version_minor": 0,
              "model_id": "3e17d4a736e24f44af2f693470245086"
            }
          },
          "metadata": {
            "application/vnd.jupyter.widget-view+json": {
              "colab": {
                "custom_widget_manager": {
                  "url": "https://ssl.gstatic.com/colaboratory-static/widgets/colab-cdn-widget-manager/a8874ba6619b6106/manager.min.js"
                }
              }
            }
          }
        },
        {
          "output_type": "stream",
          "name": "stdout",
          "text": [
            "savannah\n"
          ]
        },
        {
          "output_type": "display_data",
          "data": {
            "text/plain": [
              "Output()"
            ],
            "application/vnd.jupyter.widget-view+json": {
              "version_major": 2,
              "version_minor": 0,
              "model_id": "ebcef2962ade43e3afd343808a7f2273"
            }
          },
          "metadata": {
            "application/vnd.jupyter.widget-view+json": {
              "colab": {
                "custom_widget_manager": {
                  "url": "https://ssl.gstatic.com/colaboratory-static/widgets/colab-cdn-widget-manager/a8874ba6619b6106/manager.min.js"
                }
              }
            }
          }
        },
        {
          "output_type": "stream",
          "name": "stdout",
          "text": [
            "miami\n"
          ]
        },
        {
          "output_type": "display_data",
          "data": {
            "text/plain": [
              "Output()"
            ],
            "application/vnd.jupyter.widget-view+json": {
              "version_major": 2,
              "version_minor": 0,
              "model_id": "16b042de06a446a8a6c9bbd4a2df4536"
            }
          },
          "metadata": {
            "application/vnd.jupyter.widget-view+json": {
              "colab": {
                "custom_widget_manager": {
                  "url": "https://ssl.gstatic.com/colaboratory-static/widgets/colab-cdn-widget-manager/a8874ba6619b6106/manager.min.js"
                }
              }
            }
          }
        },
        {
          "output_type": "stream",
          "name": "stdout",
          "text": [
            "singapore\n"
          ]
        },
        {
          "output_type": "display_data",
          "data": {
            "text/plain": [
              "Output()"
            ],
            "application/vnd.jupyter.widget-view+json": {
              "version_major": 2,
              "version_minor": 0,
              "model_id": "99d2eded1cf64ac9881ac9d936d1de0b"
            }
          },
          "metadata": {
            "application/vnd.jupyter.widget-view+json": {
              "colab": {
                "custom_widget_manager": {
                  "url": "https://ssl.gstatic.com/colaboratory-static/widgets/colab-cdn-widget-manager/a8874ba6619b6106/manager.min.js"
                }
              }
            }
          }
        },
        {
          "output_type": "stream",
          "name": "stdout",
          "text": [
            "suez\n"
          ]
        },
        {
          "output_type": "display_data",
          "data": {
            "text/plain": [
              "Output()"
            ],
            "application/vnd.jupyter.widget-view+json": {
              "version_major": 2,
              "version_minor": 0,
              "model_id": "a17829a23259425b8198dd6a23143cc6"
            }
          },
          "metadata": {
            "application/vnd.jupyter.widget-view+json": {
              "colab": {
                "custom_widget_manager": {
                  "url": "https://ssl.gstatic.com/colaboratory-static/widgets/colab-cdn-widget-manager/a8874ba6619b6106/manager.min.js"
                }
              }
            }
          }
        },
        {
          "output_type": "stream",
          "name": "stdout",
          "text": [
            "long beach\n"
          ]
        },
        {
          "output_type": "display_data",
          "data": {
            "text/plain": [
              "Output()"
            ],
            "application/vnd.jupyter.widget-view+json": {
              "version_major": 2,
              "version_minor": 0,
              "model_id": "a37f84a8ca494f95af3b61ac92d1ad12"
            }
          },
          "metadata": {
            "application/vnd.jupyter.widget-view+json": {
              "colab": {
                "custom_widget_manager": {
                  "url": "https://ssl.gstatic.com/colaboratory-static/widgets/colab-cdn-widget-manager/a8874ba6619b6106/manager.min.js"
                }
              }
            }
          }
        },
        {
          "output_type": "stream",
          "name": "stdout",
          "text": [
            "rotterdam\n"
          ]
        },
        {
          "output_type": "display_data",
          "data": {
            "text/plain": [
              "Output()"
            ],
            "application/vnd.jupyter.widget-view+json": {
              "version_major": 2,
              "version_minor": 0,
              "model_id": "566956ced9c6451c825e5a2d1dfcde40"
            }
          },
          "metadata": {
            "application/vnd.jupyter.widget-view+json": {
              "colab": {
                "custom_widget_manager": {
                  "url": "https://ssl.gstatic.com/colaboratory-static/widgets/colab-cdn-widget-manager/a8874ba6619b6106/manager.min.js"
                }
              }
            }
          }
        }
      ]
    },
    {
      "cell_type": "code",
      "source": [
        "# export all images (uneven time series/large areas aren't tiled together)\n",
        "# for f in feats: \n",
        "#   aoi = clip(f)\n",
        "#   get_images(f, 'VH', -20)"
      ],
      "metadata": {
        "colab": {
          "base_uri": "https://localhost:8080/",
          "height": 371
        },
        "id": "iVGyuk4lcTkA",
        "outputId": "b89e8aa2-9fd2-40b5-ba20-87a3ef7587ce"
      },
      "execution_count": null,
      "outputs": [
        {
          "output_type": "stream",
          "name": "stdout",
          "text": [
            "oakland\n"
          ]
        },
        {
          "output_type": "error",
          "ename": "NameError",
          "evalue": "ignored",
          "traceback": [
            "\u001b[0;31m---------------------------------------------------------------------------\u001b[0m",
            "\u001b[0;31mNameError\u001b[0m                                 Traceback (most recent call last)",
            "\u001b[0;32m<ipython-input-19-b5cc9f19e009>\u001b[0m in \u001b[0;36m<module>\u001b[0;34m()\u001b[0m\n\u001b[1;32m      2\u001b[0m \u001b[0;32mfor\u001b[0m \u001b[0mf\u001b[0m \u001b[0;32min\u001b[0m \u001b[0mfeats\u001b[0m\u001b[0;34m:\u001b[0m\u001b[0;34m\u001b[0m\u001b[0;34m\u001b[0m\u001b[0m\n\u001b[1;32m      3\u001b[0m   \u001b[0maoi\u001b[0m \u001b[0;34m=\u001b[0m \u001b[0mclip\u001b[0m\u001b[0;34m(\u001b[0m\u001b[0mf\u001b[0m\u001b[0;34m)\u001b[0m\u001b[0;34m\u001b[0m\u001b[0;34m\u001b[0m\u001b[0m\n\u001b[0;32m----> 4\u001b[0;31m   \u001b[0mget_images\u001b[0m\u001b[0;34m(\u001b[0m\u001b[0mf\u001b[0m\u001b[0;34m,\u001b[0m \u001b[0;34m'VH'\u001b[0m\u001b[0;34m,\u001b[0m \u001b[0;34m-\u001b[0m\u001b[0;36m20\u001b[0m\u001b[0;34m)\u001b[0m\u001b[0;34m\u001b[0m\u001b[0;34m\u001b[0m\u001b[0m\n\u001b[0m",
            "\u001b[0;32m<ipython-input-16-fdaba6a89031>\u001b[0m in \u001b[0;36mget_images\u001b[0;34m(coords, band, number)\u001b[0m\n\u001b[1;32m     10\u001b[0m \u001b[0;34m\u001b[0m\u001b[0m\n\u001b[1;32m     11\u001b[0m   \u001b[0mprint\u001b[0m\u001b[0;34m(\u001b[0m\u001b[0mname\u001b[0m\u001b[0;34m)\u001b[0m\u001b[0;34m\u001b[0m\u001b[0;34m\u001b[0m\u001b[0m\n\u001b[0;32m---> 12\u001b[0;31m   \u001b[0mnewcol\u001b[0m \u001b[0;34m=\u001b[0m \u001b[0mee\u001b[0m\u001b[0;34m.\u001b[0m\u001b[0mImageCollection\u001b[0m\u001b[0;34m(\u001b[0m\u001b[0mee\u001b[0m\u001b[0;34m.\u001b[0m\u001b[0mList\u001b[0m\u001b[0;34m(\u001b[0m\u001b[0mgetdates\u001b[0m\u001b[0;34m(\u001b[0m\u001b[0mcollection_clipped\u001b[0m\u001b[0;34m,\u001b[0m \u001b[0mcheck_gaps\u001b[0m\u001b[0;34m(\u001b[0m\u001b[0mcollection_clipped\u001b[0m\u001b[0;34m)\u001b[0m\u001b[0;34m)\u001b[0m\u001b[0;34m.\u001b[0m\u001b[0miterate\u001b[0m\u001b[0;34m(\u001b[0m\u001b[0mday_mosaics\u001b[0m\u001b[0;34m,\u001b[0m \u001b[0mee\u001b[0m\u001b[0;34m.\u001b[0m\u001b[0mList\u001b[0m\u001b[0;34m(\u001b[0m\u001b[0;34m[\u001b[0m\u001b[0;34m]\u001b[0m\u001b[0;34m)\u001b[0m\u001b[0;34m)\u001b[0m\u001b[0;34m)\u001b[0m\u001b[0;34m)\u001b[0m\u001b[0;34m\u001b[0m\u001b[0;34m\u001b[0m\u001b[0m\n\u001b[0m\u001b[1;32m     13\u001b[0m   \u001b[0mnewcol_list\u001b[0m \u001b[0;34m=\u001b[0m \u001b[0mnewcol\u001b[0m\u001b[0;34m.\u001b[0m\u001b[0mtoList\u001b[0m\u001b[0;34m(\u001b[0m\u001b[0mnewcol\u001b[0m\u001b[0;34m.\u001b[0m\u001b[0msize\u001b[0m\u001b[0;34m(\u001b[0m\u001b[0;34m)\u001b[0m\u001b[0;34m)\u001b[0m\u001b[0;34m\u001b[0m\u001b[0;34m\u001b[0m\u001b[0m\n\u001b[1;32m     14\u001b[0m   \u001b[0mvis_params\u001b[0m \u001b[0;34m=\u001b[0m \u001b[0;34m{\u001b[0m\u001b[0;34m'min'\u001b[0m\u001b[0;34m:\u001b[0m \u001b[0mnumber\u001b[0m\u001b[0;34m,\u001b[0m \u001b[0;34m'max'\u001b[0m\u001b[0;34m:\u001b[0m \u001b[0;36m0\u001b[0m\u001b[0;34m,\u001b[0m \u001b[0;34m'bands'\u001b[0m\u001b[0;34m:\u001b[0m \u001b[0mband\u001b[0m \u001b[0;34m}\u001b[0m\u001b[0;34m\u001b[0m\u001b[0;34m\u001b[0m\u001b[0m\n",
            "\u001b[0;32m/usr/local/lib/python3.7/dist-packages/ee/apifunction.py\u001b[0m in \u001b[0;36m<lambda>\u001b[0;34m(*args, **kwargs)\u001b[0m\n\u001b[1;32m    203\u001b[0m         \u001b[0;32mdef\u001b[0m \u001b[0mMakeBoundFunction\u001b[0m\u001b[0;34m(\u001b[0m\u001b[0mfunc\u001b[0m\u001b[0;34m)\u001b[0m\u001b[0;34m:\u001b[0m\u001b[0;34m\u001b[0m\u001b[0;34m\u001b[0m\u001b[0m\n\u001b[1;32m    204\u001b[0m           \u001b[0;31m# We need the lambda to capture \"func\" from the enclosing scope.\u001b[0m\u001b[0;34m\u001b[0m\u001b[0;34m\u001b[0m\u001b[0;34m\u001b[0m\u001b[0m\n\u001b[0;32m--> 205\u001b[0;31m           \u001b[0;32mreturn\u001b[0m \u001b[0;32mlambda\u001b[0m \u001b[0;34m*\u001b[0m\u001b[0margs\u001b[0m\u001b[0;34m,\u001b[0m \u001b[0;34m**\u001b[0m\u001b[0mkwargs\u001b[0m\u001b[0;34m:\u001b[0m \u001b[0mfunc\u001b[0m\u001b[0;34m.\u001b[0m\u001b[0mcall\u001b[0m\u001b[0;34m(\u001b[0m\u001b[0;34m*\u001b[0m\u001b[0margs\u001b[0m\u001b[0;34m,\u001b[0m \u001b[0;34m**\u001b[0m\u001b[0mkwargs\u001b[0m\u001b[0;34m)\u001b[0m  \u001b[0;31m# pylint: disable=unnecessary-lambda\u001b[0m\u001b[0;34m\u001b[0m\u001b[0;34m\u001b[0m\u001b[0m\n\u001b[0m\u001b[1;32m    206\u001b[0m         \u001b[0mbound_function\u001b[0m \u001b[0;34m=\u001b[0m \u001b[0mMakeBoundFunction\u001b[0m\u001b[0;34m(\u001b[0m\u001b[0mapi_func\u001b[0m\u001b[0;34m)\u001b[0m\u001b[0;34m\u001b[0m\u001b[0;34m\u001b[0m\u001b[0m\n\u001b[1;32m    207\u001b[0m \u001b[0;34m\u001b[0m\u001b[0m\n",
            "\u001b[0;32m/usr/local/lib/python3.7/dist-packages/ee/function.py\u001b[0m in \u001b[0;36mcall\u001b[0;34m(self, *args, **kwargs)\u001b[0m\n\u001b[1;32m     65\u001b[0m       \u001b[0mto\u001b[0m \u001b[0mthat\u001b[0m \u001b[0mtype\u001b[0m\u001b[0;34m.\u001b[0m\u001b[0;34m\u001b[0m\u001b[0;34m\u001b[0m\u001b[0m\n\u001b[1;32m     66\u001b[0m     \"\"\"\n\u001b[0;32m---> 67\u001b[0;31m     \u001b[0;32mreturn\u001b[0m \u001b[0mself\u001b[0m\u001b[0;34m.\u001b[0m\u001b[0mapply\u001b[0m\u001b[0;34m(\u001b[0m\u001b[0mself\u001b[0m\u001b[0;34m.\u001b[0m\u001b[0mnameArgs\u001b[0m\u001b[0;34m(\u001b[0m\u001b[0margs\u001b[0m\u001b[0;34m,\u001b[0m \u001b[0mkwargs\u001b[0m\u001b[0;34m)\u001b[0m\u001b[0;34m)\u001b[0m\u001b[0;34m\u001b[0m\u001b[0;34m\u001b[0m\u001b[0m\n\u001b[0m\u001b[1;32m     68\u001b[0m \u001b[0;34m\u001b[0m\u001b[0m\n\u001b[1;32m     69\u001b[0m   \u001b[0;32mdef\u001b[0m \u001b[0mapply\u001b[0m\u001b[0;34m(\u001b[0m\u001b[0mself\u001b[0m\u001b[0;34m,\u001b[0m \u001b[0mnamed_args\u001b[0m\u001b[0;34m)\u001b[0m\u001b[0;34m:\u001b[0m\u001b[0;34m\u001b[0m\u001b[0;34m\u001b[0m\u001b[0m\n",
            "\u001b[0;32m/usr/local/lib/python3.7/dist-packages/ee/function.py\u001b[0m in \u001b[0;36mapply\u001b[0;34m(self, named_args)\u001b[0m\n\u001b[1;32m     78\u001b[0m       \u001b[0mto\u001b[0m \u001b[0mthat\u001b[0m \u001b[0mtype\u001b[0m\u001b[0;34m.\u001b[0m\u001b[0;34m\u001b[0m\u001b[0;34m\u001b[0m\u001b[0m\n\u001b[1;32m     79\u001b[0m     \"\"\"\n\u001b[0;32m---> 80\u001b[0;31m     \u001b[0mresult\u001b[0m \u001b[0;34m=\u001b[0m \u001b[0mcomputedobject\u001b[0m\u001b[0;34m.\u001b[0m\u001b[0mComputedObject\u001b[0m\u001b[0;34m(\u001b[0m\u001b[0mself\u001b[0m\u001b[0;34m,\u001b[0m \u001b[0mself\u001b[0m\u001b[0;34m.\u001b[0m\u001b[0mpromoteArgs\u001b[0m\u001b[0;34m(\u001b[0m\u001b[0mnamed_args\u001b[0m\u001b[0;34m)\u001b[0m\u001b[0;34m)\u001b[0m\u001b[0;34m\u001b[0m\u001b[0;34m\u001b[0m\u001b[0m\n\u001b[0m\u001b[1;32m     81\u001b[0m     \u001b[0;32mreturn\u001b[0m \u001b[0mFunction\u001b[0m\u001b[0;34m.\u001b[0m\u001b[0m_promoter\u001b[0m\u001b[0;34m(\u001b[0m\u001b[0mresult\u001b[0m\u001b[0;34m,\u001b[0m \u001b[0mself\u001b[0m\u001b[0;34m.\u001b[0m\u001b[0mgetReturnType\u001b[0m\u001b[0;34m(\u001b[0m\u001b[0;34m)\u001b[0m\u001b[0;34m)\u001b[0m\u001b[0;34m\u001b[0m\u001b[0;34m\u001b[0m\u001b[0m\n\u001b[1;32m     82\u001b[0m \u001b[0;34m\u001b[0m\u001b[0m\n",
            "\u001b[0;32m/usr/local/lib/python3.7/dist-packages/ee/function.py\u001b[0m in \u001b[0;36mpromoteArgs\u001b[0;34m(self, args)\u001b[0m\n\u001b[1;32m    105\u001b[0m       \u001b[0mname\u001b[0m \u001b[0;34m=\u001b[0m \u001b[0mspec\u001b[0m\u001b[0;34m[\u001b[0m\u001b[0;34m'name'\u001b[0m\u001b[0;34m]\u001b[0m\u001b[0;34m\u001b[0m\u001b[0;34m\u001b[0m\u001b[0m\n\u001b[1;32m    106\u001b[0m       \u001b[0;32mif\u001b[0m \u001b[0mname\u001b[0m \u001b[0;32min\u001b[0m \u001b[0margs\u001b[0m\u001b[0;34m:\u001b[0m\u001b[0;34m\u001b[0m\u001b[0;34m\u001b[0m\u001b[0m\n\u001b[0;32m--> 107\u001b[0;31m         \u001b[0mpromoted_args\u001b[0m\u001b[0;34m[\u001b[0m\u001b[0mname\u001b[0m\u001b[0;34m]\u001b[0m \u001b[0;34m=\u001b[0m \u001b[0mFunction\u001b[0m\u001b[0;34m.\u001b[0m\u001b[0m_promoter\u001b[0m\u001b[0;34m(\u001b[0m\u001b[0margs\u001b[0m\u001b[0;34m[\u001b[0m\u001b[0mname\u001b[0m\u001b[0;34m]\u001b[0m\u001b[0;34m,\u001b[0m \u001b[0mspec\u001b[0m\u001b[0;34m[\u001b[0m\u001b[0;34m'type'\u001b[0m\u001b[0;34m]\u001b[0m\u001b[0;34m)\u001b[0m\u001b[0;34m\u001b[0m\u001b[0;34m\u001b[0m\u001b[0m\n\u001b[0m\u001b[1;32m    108\u001b[0m       \u001b[0;32melif\u001b[0m \u001b[0;32mnot\u001b[0m \u001b[0mspec\u001b[0m\u001b[0;34m.\u001b[0m\u001b[0mget\u001b[0m\u001b[0;34m(\u001b[0m\u001b[0;34m'optional'\u001b[0m\u001b[0;34m)\u001b[0m\u001b[0;34m:\u001b[0m\u001b[0;34m\u001b[0m\u001b[0;34m\u001b[0m\u001b[0m\n\u001b[1;32m    109\u001b[0m         raise ee_exception.EEException(\n",
            "\u001b[0;32m/usr/local/lib/python3.7/dist-packages/ee/__init__.py\u001b[0m in \u001b[0;36m_Promote\u001b[0;34m(arg, klass)\u001b[0m\n\u001b[1;32m    250\u001b[0m       \u001b[0;32melse\u001b[0m\u001b[0;34m:\u001b[0m\u001b[0;34m\u001b[0m\u001b[0;34m\u001b[0m\u001b[0m\n\u001b[1;32m    251\u001b[0m         \u001b[0margs_count\u001b[0m \u001b[0;34m=\u001b[0m \u001b[0mlen\u001b[0m\u001b[0;34m(\u001b[0m\u001b[0minspect\u001b[0m\u001b[0;34m.\u001b[0m\u001b[0mgetfullargspec\u001b[0m\u001b[0;34m(\u001b[0m\u001b[0marg\u001b[0m\u001b[0;34m)\u001b[0m\u001b[0;34m.\u001b[0m\u001b[0margs\u001b[0m\u001b[0;34m)\u001b[0m\u001b[0;34m\u001b[0m\u001b[0;34m\u001b[0m\u001b[0m\n\u001b[0;32m--> 252\u001b[0;31m       \u001b[0;32mreturn\u001b[0m \u001b[0mCustomFunction\u001b[0m\u001b[0;34m.\u001b[0m\u001b[0mcreate\u001b[0m\u001b[0;34m(\u001b[0m\u001b[0marg\u001b[0m\u001b[0;34m,\u001b[0m \u001b[0;34m'Object'\u001b[0m\u001b[0;34m,\u001b[0m \u001b[0;34m[\u001b[0m\u001b[0;34m'Object'\u001b[0m\u001b[0;34m]\u001b[0m \u001b[0;34m*\u001b[0m \u001b[0margs_count\u001b[0m\u001b[0;34m)\u001b[0m\u001b[0;34m\u001b[0m\u001b[0;34m\u001b[0m\u001b[0m\n\u001b[0m\u001b[1;32m    253\u001b[0m     \u001b[0;32melif\u001b[0m \u001b[0misinstance\u001b[0m\u001b[0;34m(\u001b[0m\u001b[0marg\u001b[0m\u001b[0;34m,\u001b[0m \u001b[0mEncodable\u001b[0m\u001b[0;34m)\u001b[0m\u001b[0;34m:\u001b[0m\u001b[0;34m\u001b[0m\u001b[0;34m\u001b[0m\u001b[0m\n\u001b[1;32m    254\u001b[0m       \u001b[0;31m# An ee.Function or a computed function like the return value of\u001b[0m\u001b[0;34m\u001b[0m\u001b[0;34m\u001b[0m\u001b[0;34m\u001b[0m\u001b[0m\n",
            "\u001b[0;32m/usr/local/lib/python3.7/dist-packages/ee/customfunction.py\u001b[0m in \u001b[0;36mcreate\u001b[0;34m(func, return_type, arg_types)\u001b[0m\n\u001b[1;32m    123\u001b[0m         \u001b[0;34m'args'\u001b[0m\u001b[0;34m:\u001b[0m \u001b[0margs\u001b[0m\u001b[0;34m\u001b[0m\u001b[0;34m\u001b[0m\u001b[0m\n\u001b[1;32m    124\u001b[0m     }\n\u001b[0;32m--> 125\u001b[0;31m     \u001b[0;32mreturn\u001b[0m \u001b[0mCustomFunction\u001b[0m\u001b[0;34m(\u001b[0m\u001b[0msignature\u001b[0m\u001b[0;34m,\u001b[0m \u001b[0mfunc\u001b[0m\u001b[0;34m)\u001b[0m\u001b[0;34m\u001b[0m\u001b[0;34m\u001b[0m\u001b[0m\n\u001b[0m\u001b[1;32m    126\u001b[0m \u001b[0;34m\u001b[0m\u001b[0m\n\u001b[1;32m    127\u001b[0m   \u001b[0;34m@\u001b[0m\u001b[0mstaticmethod\u001b[0m\u001b[0;34m\u001b[0m\u001b[0;34m\u001b[0m\u001b[0m\n",
            "\u001b[0;32m/usr/local/lib/python3.7/dist-packages/ee/customfunction.py\u001b[0m in \u001b[0;36m__init__\u001b[0;34m(self, signature, body)\u001b[0m\n\u001b[1;32m     41\u001b[0m                  for arg in signature['args']]\n\u001b[1;32m     42\u001b[0m \u001b[0;34m\u001b[0m\u001b[0m\n\u001b[0;32m---> 43\u001b[0;31m     \u001b[0;32mif\u001b[0m \u001b[0mbody\u001b[0m\u001b[0;34m(\u001b[0m\u001b[0;34m*\u001b[0m\u001b[0mvariables\u001b[0m\u001b[0;34m)\u001b[0m \u001b[0;32mis\u001b[0m \u001b[0;32mNone\u001b[0m\u001b[0;34m:\u001b[0m\u001b[0;34m\u001b[0m\u001b[0;34m\u001b[0m\u001b[0m\n\u001b[0m\u001b[1;32m     44\u001b[0m       \u001b[0;32mraise\u001b[0m \u001b[0mee_exception\u001b[0m\u001b[0;34m.\u001b[0m\u001b[0mEEException\u001b[0m\u001b[0;34m(\u001b[0m\u001b[0;34m'User-defined methods must return a value'\u001b[0m\u001b[0;34m)\u001b[0m\u001b[0;34m\u001b[0m\u001b[0;34m\u001b[0m\u001b[0m\n\u001b[1;32m     45\u001b[0m \u001b[0;34m\u001b[0m\u001b[0m\n",
            "\u001b[0;32m<ipython-input-12-101055e335b7>\u001b[0m in \u001b[0;36mday_mosaics\u001b[0;34m(date, newlist)\u001b[0m\n\u001b[1;32m      3\u001b[0m   \u001b[0mnewlist\u001b[0m \u001b[0;34m=\u001b[0m \u001b[0mee\u001b[0m\u001b[0;34m.\u001b[0m\u001b[0mList\u001b[0m\u001b[0;34m(\u001b[0m\u001b[0mnewlist\u001b[0m\u001b[0;34m)\u001b[0m\u001b[0;34m\u001b[0m\u001b[0;34m\u001b[0m\u001b[0m\n\u001b[1;32m      4\u001b[0m \u001b[0;34m\u001b[0m\u001b[0m\n\u001b[0;32m----> 5\u001b[0;31m   \u001b[0mfiltered\u001b[0m \u001b[0;34m=\u001b[0m \u001b[0mcollection\u001b[0m\u001b[0;34m.\u001b[0m\u001b[0mfilterDate\u001b[0m\u001b[0;34m(\u001b[0m\u001b[0mdate\u001b[0m\u001b[0;34m,\u001b[0m \u001b[0mdate\u001b[0m\u001b[0;34m.\u001b[0m\u001b[0madvance\u001b[0m\u001b[0;34m(\u001b[0m\u001b[0;36m1\u001b[0m\u001b[0;34m,\u001b[0m \u001b[0;34m'day'\u001b[0m\u001b[0;34m)\u001b[0m\u001b[0;34m)\u001b[0m\u001b[0;34m\u001b[0m\u001b[0;34m\u001b[0m\u001b[0m\n\u001b[0m\u001b[1;32m      6\u001b[0m \u001b[0;34m\u001b[0m\u001b[0m\n\u001b[1;32m      7\u001b[0m   \u001b[0mdate_formatted\u001b[0m \u001b[0;34m=\u001b[0m \u001b[0mdate\u001b[0m\u001b[0;34m.\u001b[0m\u001b[0mformat\u001b[0m\u001b[0;34m(\u001b[0m\u001b[0;34m'yyyy-MM-dd:H:mm:ss'\u001b[0m\u001b[0;34m,\u001b[0m \u001b[0;34m'UTC'\u001b[0m\u001b[0;34m)\u001b[0m\u001b[0;34m\u001b[0m\u001b[0;34m\u001b[0m\u001b[0m\n",
            "\u001b[0;31mNameError\u001b[0m: name 'collection' is not defined"
          ]
        }
      ]
    },
    {
      "cell_type": "markdown",
      "source": [
        "Mosaic images (composed of images taken within the same day tiled together) are a little more finicky..."
      ],
      "metadata": {
        "id": "c3Zow6xLF2GK"
      }
    },
    {
      "cell_type": "markdown",
      "source": [
        "# Suez"
      ],
      "metadata": {
        "id": "cj8_pMukIPov"
      }
    },
    {
      "cell_type": "code",
      "source": [
        "aoi = clip(feats[8])\n",
        "name = feats[8]['properties']['site']\n",
        "# query EE\n",
        "collection = ee.ImageCollection('COPERNICUS/S1_GRD').filterBounds(aoi).filterDate(start, finish).filter(ee.Filter.listContains('transmitterReceiverPolarisation', 'VH'))\n",
        "collection_clipped = collection.map(cliptoaoi).sort('segmentStartTime')\n",
        "\n",
        "# mosaic images from the same day as needed\n",
        "newcol = ee.ImageCollection(ee.List(getdates(collection_clipped, 2).iterate(day_mosaics, ee.List([]))))\n",
        "dates = newcol.aggregate_array('dates').getInfo()\n",
        "ids = []\n",
        "\n",
        "\n",
        "for d in dates:\n",
        "  if len(d) > 1: \n",
        "    to_dates = [datetime.strptime(item, '%Y-%m-%d_%H:%M:%S') for item in d]\n",
        "    to_dates.index(min(to_dates))\n",
        "    ids.append(d[to_dates.index(max(to_dates))])\n",
        "  else:\n",
        "    ids.append(d[0])\n",
        "\n",
        "print(ids)\n",
        "\n",
        "vis_params = {'min': -20, 'max': 0, 'bands':'VH'}\n",
        "\n",
        "out_dir = 'mosaic_with_timestamps/{0}'.format(name)\n",
        "geemap.get_image_collection_thumbnails(newcol, out_dir, vis_params, dimensions=800, format=\"png\", names=ids)"
      ],
      "metadata": {
        "colab": {
          "base_uri": "https://localhost:8080/"
        },
        "id": "D8RbATjHHhJp",
        "outputId": "61d07204-63d3-4b85-e82a-8efe4764473f"
      },
      "execution_count": null,
      "outputs": [
        {
          "output_type": "stream",
          "name": "stdout",
          "text": [
            "['2018-01-04_15:48:05', '2018-01-06_3:43:43', '2018-01-10_15:47:39', '2018-01-12_3:44:31', '2018-01-16_15:48:05', '2018-01-18_3:43:43', '2018-01-22_15:47:39', '2018-01-24_3:44:31', '2018-01-28_15:48:04', '2018-01-30_3:43:42', '2018-02-03_15:47:38', '2018-02-05_3:44:31', '2018-02-09_15:48:04', '2018-02-11_3:43:42', '2018-02-15_15:47:38', '2018-02-17_3:44:30', '2018-02-21_15:48:04', '2018-02-23_3:43:42', '2018-02-27_15:47:38', '2018-03-01_3:44:30', '2018-03-05_15:48:04', '2018-03-07_3:43:42', '2018-03-11_15:47:38', '2018-03-13_3:44:30', '2018-03-17_15:48:04', '2018-03-19_3:43:42', '2018-03-23_15:47:38', '2018-03-25_3:44:31', '2018-03-29_15:48:04', '2018-03-31_3:43:42', '2018-04-04_15:47:39', '2018-04-06_3:44:31', '2018-04-10_15:48:05', '2018-04-12_3:43:43', '2018-04-16_15:47:39', '2018-04-18_3:44:31', '2018-04-22_15:48:05', '2018-04-24_3:43:43', '2018-04-28_15:47:40', '2018-04-30_3:44:32', '2018-05-04_15:48:06', '2018-05-06_3:43:44', '2018-05-10_15:47:40', '2018-05-12_3:44:33', '2018-05-16_15:48:06', '2018-05-18_3:43:44', '2018-05-22_15:47:41', '2018-05-24_3:44:33', '2018-05-28_15:48:07', '2018-05-30_3:43:45', '2018-06-03_15:47:42', '2018-06-05_3:44:34', '2018-06-09_15:48:08', '2018-06-11_3:43:46', '2018-06-15_15:47:43', '2018-06-17_3:44:35', '2018-06-21_15:48:08', '2018-06-23_3:43:47', '2018-06-27_15:47:43', '2018-06-29_3:44:35', '2018-07-03_15:48:09', '2018-07-05_3:43:47', '2018-07-09_15:47:44', '2018-07-11_3:44:36', '2018-07-15_15:48:10', '2018-07-17_3:43:48', '2018-07-21_15:47:45', '2018-07-23_3:44:37', '2018-07-27_15:48:11', '2018-07-29_3:43:49', '2018-08-02_15:47:45', '2018-08-04_3:44:37', '2018-08-08_15:48:11', '2018-08-10_3:43:49', '2018-08-14_15:47:46', '2018-08-16_3:44:38', '2018-08-20_15:48:12', '2018-08-22_3:43:50', '2018-08-26_15:47:47', '2018-08-28_3:44:39', '2018-09-01_15:48:13', '2018-09-03_3:43:51', '2018-09-07_15:47:47', '2018-09-09_3:44:40', '2018-09-13_15:48:13', '2018-09-15_3:43:51', '2018-09-19_15:47:48', '2018-09-21_3:44:40', '2018-09-25_15:48:13', '2018-09-27_3:43:51', '2018-10-01_15:47:48', '2018-10-03_3:44:40', '2018-10-07_15:48:14', '2018-10-09_3:43:52', '2018-10-13_15:47:48', '2018-10-15_3:44:40', '2018-10-19_15:48:14', '2018-10-21_3:43:52', '2018-10-25_15:47:48', '2018-10-27_3:44:40', '2018-10-31_15:48:14', '2018-11-02_3:43:52', '2018-11-06_15:47:48', '2018-11-12_15:48:13', '2018-11-14_3:43:52', '2018-11-18_15:47:48', '2018-11-20_3:44:40', '2018-11-24_15:48:13', '2018-11-30_15:47:47', '2018-12-02_3:44:39', '2018-12-06_15:48:13', '2018-12-08_3:43:51', '2018-12-12_15:47:47', '2018-12-14_3:44:39', '2018-12-18_15:48:12', '2018-12-20_3:43:51', '2018-12-24_15:47:47', '2018-12-26_3:44:39', '2018-12-30_15:48:12', '2019-01-01_3:43:50', '2019-01-05_15:47:46', '2019-01-07_3:44:38', '2019-01-11_15:48:11', '2019-01-13_3:43:50', '2019-01-17_15:47:46', '2019-01-19_3:44:38', '2019-01-23_15:48:11', '2019-01-25_3:43:49', '2019-01-29_15:47:46', '2019-01-31_3:44:37', '2019-02-04_15:48:10', '2019-02-06_3:43:49', '2019-02-10_15:47:45', '2019-02-12_3:44:37', '2019-02-16_15:48:10', '2019-02-18_3:43:49', '2019-02-22_15:47:45', '2019-02-24_3:44:37', '2019-02-28_15:48:10', '2019-03-02_3:43:49', '2019-03-06_15:47:45', '2019-03-08_3:44:37', '2019-03-12_15:48:10', '2019-03-14_3:43:49', '2019-03-18_15:47:45', '2019-03-20_3:44:37', '2019-03-24_15:48:11', '2019-03-26_3:43:49', '2019-03-30_15:47:45', '2019-04-01_3:44:37', '2019-04-05_15:48:11', '2019-04-07_3:43:49', '2019-04-11_15:47:46', '2019-04-13_3:44:37', '2019-04-17_15:48:11', '2019-04-19_3:43:49', '2019-04-23_15:47:46', '2019-04-25_3:44:38', '2019-04-29_15:48:12', '2019-05-01_3:43:59', '2019-05-05_15:47:47', '2019-05-07_3:44:38', '2019-05-11_15:48:12', '2019-05-13_3:43:59', '2019-05-17_15:47:47', '2019-05-19_3:44:39', '2019-05-23_15:48:13', '2019-05-25_3:44:00', '2019-05-29_15:47:48', '2019-05-31_3:44:40', '2019-06-04_15:48:13', '2019-06-06_3:44:01', '2019-06-10_15:47:48', '2019-06-12_3:44:40', '2019-06-16_15:48:14', '2019-06-18_3:44:01', '2019-06-22_15:47:49', '2019-06-24_3:44:41', '2019-06-28_15:48:15', '2019-06-30_3:44:02', '2019-07-04_15:47:50', '2019-07-10_15:48:15', '2019-07-12_3:44:03', '2019-07-16_15:47:51', '2019-07-18_3:44:43', '2019-07-22_15:48:16', '2019-07-24_3:44:03', '2019-07-28_15:47:51', '2019-07-30_3:44:43', '2019-08-03_15:48:17', '2019-08-05_3:44:04', '2019-08-09_15:47:52', '2019-08-11_3:44:44', '2019-08-15_15:48:18', '2019-08-17_3:44:05', '2019-08-21_15:47:53', '2019-08-23_3:44:45', '2019-08-27_15:48:18', '2019-09-02_15:47:53', '2019-09-04_3:44:45', '2019-09-08_15:48:19', '2019-09-10_3:44:06', '2019-09-14_15:47:54', '2019-09-16_3:44:46', '2019-09-20_15:48:19', '2019-09-26_15:47:55', '2019-09-28_3:44:46', '2019-10-02_15:48:20', '2019-10-04_3:44:07', '2019-10-08_15:47:54', '2019-10-10_3:44:46', '2019-10-14_15:48:20', '2019-10-16_3:44:07', '2019-10-20_15:47:55', '2019-10-22_3:44:46', '2019-10-26_15:48:20', '2019-10-28_3:44:07', '2019-11-01_15:47:54', '2019-11-03_3:44:47', '2019-11-07_15:48:20', '2019-11-09_3:44:07', '2019-11-13_15:47:55', '2019-11-15_3:44:46', '2019-11-19_15:48:20', '2019-11-21_3:44:07', '2019-11-25_15:47:54', '2019-11-27_3:44:46', '2019-12-01_15:48:19', '2019-12-03_3:44:06', '2019-12-07_15:47:54', '2019-12-09_3:44:46', '2019-12-13_15:48:19', '2019-12-15_3:44:06', '2019-12-19_15:47:53', '2019-12-21_3:44:45', '2019-12-25_15:48:18', '2019-12-27_3:44:05', '2019-12-31_15:47:53', '2020-01-02_3:44:45', '2020-01-05_15:55:52', '2020-01-08_3:44:05', '2020-01-12_15:47:52', '2020-01-14_3:44:44', '2020-01-18_15:48:17', '2020-01-20_3:44:04', '2020-01-24_15:47:52', '2020-01-26_3:44:44', '2020-01-30_15:48:17', '2020-02-01_3:44:04', '2020-02-04_15:56:44', '2020-02-07_3:44:43', '2020-02-11_15:48:17', '2020-02-13_3:44:04', '2020-02-17_15:47:51', '2020-02-19_3:44:43', '2020-02-23_15:48:17', '2020-02-25_3:44:03', '2020-02-29_15:47:51', '2020-03-02_3:44:43', '2020-03-06_15:48:17', '2020-03-08_3:44:04', '2020-03-12_15:47:51', '2020-03-14_3:44:43', '2020-03-18_15:48:17', '2020-03-20_3:44:04', '2020-03-24_15:47:51', '2020-03-26_3:44:43', '2020-03-30_15:48:17', '2020-04-01_3:44:04', '2020-04-05_15:47:52', '2020-04-07_3:44:44', '2020-04-11_15:48:17', '2020-04-13_3:44:04', '2020-04-17_15:47:52', '2020-04-19_3:44:44', '2020-04-23_15:48:18', '2020-04-25_3:44:05', '2020-04-29_15:47:53', '2020-05-01_3:44:45', '2020-05-05_15:48:18', '2020-05-07_3:44:05', '2020-05-11_15:47:53', '2020-05-13_3:44:45', '2020-05-17_15:48:19', '2020-05-19_3:44:06', '2020-05-23_15:47:54', '2020-05-25_3:44:46', '2020-05-29_15:48:20', '2020-05-31_3:44:07', '2020-06-04_15:47:55', '2020-06-06_3:44:47', '2020-06-10_15:48:21', '2020-06-12_3:44:08', '2020-06-16_15:47:55', '2020-06-18_3:44:47', '2020-06-22_15:48:21', '2020-06-24_3:44:08', '2020-06-28_15:47:56', '2020-06-30_3:44:48', '2020-07-04_15:48:22', '2020-07-06_3:44:09', '2020-07-10_15:47:57', '2020-07-12_3:44:49', '2020-07-16_15:48:22', '2020-07-18_3:44:09', '2020-07-22_15:47:57', '2020-07-24_3:44:50', '2020-07-28_15:48:23', '2020-07-30_3:44:10', '2020-08-03_15:47:58', '2020-08-05_3:44:50', '2020-08-09_15:48:24', '2020-08-11_3:44:11', '2020-08-15_15:47:59', '2020-08-17_3:44:51', '2020-08-21_15:48:25', '2020-08-23_3:44:12', '2020-08-27_15:48:00', '2020-08-29_3:44:52', '2020-09-02_15:48:25', '2020-09-04_3:44:12', '2020-09-08_15:48:00', '2020-09-10_3:44:52', '2020-09-14_15:48:26', '2020-09-16_3:44:13', '2020-09-20_15:48:00', '2020-09-22_3:44:53', '2020-09-26_15:48:26', '2020-09-28_3:44:13', '2020-10-02_15:48:01', '2020-10-04_3:44:53', '2020-10-08_15:48:26', '2020-10-10_3:44:13', '2020-10-14_15:48:01', '2020-10-16_3:44:53', '2020-10-20_15:48:26', '2020-10-22_3:44:13', '2020-10-26_15:48:01', '2020-10-28_3:44:53', '2020-11-01_15:48:26', '2020-11-03_3:44:13', '2020-11-07_15:48:01', '2020-11-09_3:44:53', '2020-11-13_15:48:26', '2020-11-15_3:44:13', '2020-11-19_15:48:01', '2020-11-21_3:44:53', '2020-11-25_15:48:26', '2020-11-27_3:44:13', '2020-12-01_15:48:00', '2020-12-03_3:44:52', '2020-12-07_15:48:25', '2020-12-09_3:44:12', '2020-12-13_15:48:00', '2020-12-15_3:44:52', '2020-12-19_15:48:25', '2020-12-21_3:44:19', '2020-12-25_15:47:59', '2020-12-31_15:48:24', '2021-01-02_3:44:11', '2021-01-06_15:47:58', '2021-01-08_3:44:50', '2021-01-12_15:48:24', '2021-01-14_3:44:11', '2021-01-18_15:47:58', '2021-01-24_15:48:23', '2021-01-26_3:44:10', '2021-01-30_15:47:58', '2021-02-01_3:44:50', '2021-02-05_15:48:23', '2021-02-07_3:44:10', '2021-02-11_15:47:57', '2021-02-13_3:44:49', '2021-02-17_15:48:22', '2021-02-19_3:44:09', '2021-02-22_15:56:49', '2021-02-25_3:44:49', '2021-03-01_15:48:22', '2021-03-03_3:44:09', '2021-03-07_15:47:57', '2021-03-09_3:44:49', '2021-03-13_15:48:22', '2021-03-15_3:44:09', '2021-03-19_15:47:57', '2021-03-21_3:44:49', '2021-03-25_15:48:23', '2021-03-27_3:44:10', '2021-03-31_15:47:57', '2021-04-02_3:44:49', '2021-04-06_15:48:23', '2021-04-08_3:44:10', '2021-04-12_15:47:58', '2021-04-14_3:44:50', '2021-04-18_15:48:24', '2021-04-20_3:44:11', '2021-04-24_15:47:58', '2021-04-26_3:44:50', '2021-04-30_15:48:24', '2021-05-02_3:44:11', '2021-05-06_15:47:59', '2021-05-08_3:44:51', '2021-05-12_15:48:25', '2021-05-14_3:44:12', '2021-05-18_15:47:59', '2021-05-20_3:44:51', '2021-05-24_15:48:25', '2021-05-26_3:44:12', '2021-05-30_15:48:00', '2021-06-01_3:44:52', '2021-06-05_15:48:26', '2021-06-07_3:44:13', '2021-06-11_15:48:01', '2021-06-13_3:44:53', '2021-06-17_15:48:27', '2021-06-19_3:44:14', '2021-06-23_15:48:02', '2021-06-25_3:44:54', '2021-06-29_15:48:28', '2021-07-01_3:44:14', '2021-07-05_15:48:02', '2021-07-07_3:44:54', '2021-07-11_15:48:28', '2021-07-13_3:44:15', '2021-07-17_15:48:03', '2021-07-19_3:44:55', '2021-07-23_15:48:29', '2021-07-25_3:44:16', '2021-07-29_15:48:04', '2021-07-31_3:44:56', '2021-08-04_15:48:30', '2021-08-06_3:44:17', '2021-08-10_15:48:04', '2021-08-12_3:44:56', '2021-08-16_15:48:30', '2021-08-18_3:44:17', '2021-08-22_15:48:05', '2021-08-24_3:44:57', '2021-08-28_15:48:31', '2021-08-30_3:44:18', '2021-09-03_15:48:06', '2021-09-05_3:44:58', '2021-09-09_15:48:31', '2021-09-11_3:44:18', '2021-09-15_15:48:06', '2021-09-17_3:44:58', '2021-09-21_15:48:32', '2021-09-23_3:44:19', '2021-09-27_15:48:06', '2021-09-29_3:44:59', '2021-10-03_15:48:32', '2021-10-05_3:44:19', '2021-10-09_15:48:07', '2021-10-11_3:44:59', '2021-10-15_15:48:32', '2021-10-17_3:44:19', '2021-10-21_15:48:07', '2021-10-23_3:44:59', '2021-10-27_15:48:32', '2021-10-29_3:44:19', '2021-11-02_15:48:07', '2021-11-04_3:44:58', '2021-11-08_15:48:32', '2021-11-10_3:44:19', '2021-11-14_15:48:06', '2021-11-16_3:44:58', '2021-11-20_15:48:32', '2021-11-22_3:44:19', '2021-11-26_15:48:06', '2021-11-28_3:44:58', '2021-12-02_15:48:31', '2021-12-04_3:44:18', '2021-12-08_15:48:05', '2021-12-10_3:44:57', '2021-12-14_15:48:31', '2021-12-16_3:44:18', '2021-12-20_15:48:05', '2021-12-22_3:44:57', '2021-12-26_15:48:30']\n",
            "Total number of images: 478\n",
            "\n",
            "Downloading 1/478: 2018-01-04_15:48:05.png ...\n",
            "Downloading 2/478: 2018-01-06_3:43:43.png ...\n",
            "Downloading 3/478: 2018-01-10_15:47:39.png ...\n",
            "Downloading 4/478: 2018-01-12_3:44:31.png ...\n",
            "Downloading 5/478: 2018-01-16_15:48:05.png ...\n",
            "Downloading 6/478: 2018-01-18_3:43:43.png ...\n",
            "Downloading 7/478: 2018-01-22_15:47:39.png ...\n",
            "Downloading 8/478: 2018-01-24_3:44:31.png ...\n",
            "Downloading 9/478: 2018-01-28_15:48:04.png ...\n",
            "Downloading 10/478: 2018-01-30_3:43:42.png ...\n",
            "Downloading 11/478: 2018-02-03_15:47:38.png ...\n",
            "Downloading 12/478: 2018-02-05_3:44:31.png ...\n",
            "Downloading 13/478: 2018-02-09_15:48:04.png ...\n",
            "Downloading 14/478: 2018-02-11_3:43:42.png ...\n",
            "Downloading 15/478: 2018-02-15_15:47:38.png ...\n",
            "Downloading 16/478: 2018-02-17_3:44:30.png ...\n",
            "Downloading 17/478: 2018-02-21_15:48:04.png ...\n",
            "Downloading 18/478: 2018-02-23_3:43:42.png ...\n",
            "Downloading 19/478: 2018-02-27_15:47:38.png ...\n",
            "Downloading 20/478: 2018-03-01_3:44:30.png ...\n",
            "Downloading 21/478: 2018-03-05_15:48:04.png ...\n",
            "Downloading 22/478: 2018-03-07_3:43:42.png ...\n",
            "Downloading 23/478: 2018-03-11_15:47:38.png ...\n",
            "Downloading 24/478: 2018-03-13_3:44:30.png ...\n",
            "Downloading 25/478: 2018-03-17_15:48:04.png ...\n",
            "Downloading 26/478: 2018-03-19_3:43:42.png ...\n",
            "Downloading 27/478: 2018-03-23_15:47:38.png ...\n",
            "Downloading 28/478: 2018-03-25_3:44:31.png ...\n",
            "Downloading 29/478: 2018-03-29_15:48:04.png ...\n",
            "Downloading 30/478: 2018-03-31_3:43:42.png ...\n",
            "Downloading 31/478: 2018-04-04_15:47:39.png ...\n",
            "Downloading 32/478: 2018-04-06_3:44:31.png ...\n",
            "Downloading 33/478: 2018-04-10_15:48:05.png ...\n",
            "Downloading 34/478: 2018-04-12_3:43:43.png ...\n",
            "Downloading 35/478: 2018-04-16_15:47:39.png ...\n",
            "Downloading 36/478: 2018-04-18_3:44:31.png ...\n",
            "Downloading 37/478: 2018-04-22_15:48:05.png ...\n",
            "Downloading 38/478: 2018-04-24_3:43:43.png ...\n",
            "Downloading 39/478: 2018-04-28_15:47:40.png ...\n",
            "Downloading 40/478: 2018-04-30_3:44:32.png ...\n",
            "Downloading 41/478: 2018-05-04_15:48:06.png ...\n",
            "Downloading 42/478: 2018-05-06_3:43:44.png ...\n",
            "Downloading 43/478: 2018-05-10_15:47:40.png ...\n",
            "Downloading 44/478: 2018-05-12_3:44:33.png ...\n",
            "Downloading 45/478: 2018-05-16_15:48:06.png ...\n",
            "Downloading 46/478: 2018-05-18_3:43:44.png ...\n",
            "Downloading 47/478: 2018-05-22_15:47:41.png ...\n",
            "Downloading 48/478: 2018-05-24_3:44:33.png ...\n",
            "Downloading 49/478: 2018-05-28_15:48:07.png ...\n",
            "Downloading 50/478: 2018-05-30_3:43:45.png ...\n",
            "Downloading 51/478: 2018-06-03_15:47:42.png ...\n",
            "Downloading 52/478: 2018-06-05_3:44:34.png ...\n",
            "Downloading 53/478: 2018-06-09_15:48:08.png ...\n",
            "Downloading 54/478: 2018-06-11_3:43:46.png ...\n",
            "Downloading 55/478: 2018-06-15_15:47:43.png ...\n",
            "Downloading 56/478: 2018-06-17_3:44:35.png ...\n",
            "Downloading 57/478: 2018-06-21_15:48:08.png ...\n",
            "Downloading 58/478: 2018-06-23_3:43:47.png ...\n",
            "Downloading 59/478: 2018-06-27_15:47:43.png ...\n",
            "Downloading 60/478: 2018-06-29_3:44:35.png ...\n",
            "Downloading 61/478: 2018-07-03_15:48:09.png ...\n",
            "Downloading 62/478: 2018-07-05_3:43:47.png ...\n",
            "Downloading 63/478: 2018-07-09_15:47:44.png ...\n",
            "Downloading 64/478: 2018-07-11_3:44:36.png ...\n",
            "Downloading 65/478: 2018-07-15_15:48:10.png ...\n",
            "Downloading 66/478: 2018-07-17_3:43:48.png ...\n",
            "Downloading 67/478: 2018-07-21_15:47:45.png ...\n",
            "Downloading 68/478: 2018-07-23_3:44:37.png ...\n",
            "Downloading 69/478: 2018-07-27_15:48:11.png ...\n",
            "Downloading 70/478: 2018-07-29_3:43:49.png ...\n",
            "Downloading 71/478: 2018-08-02_15:47:45.png ...\n",
            "Downloading 72/478: 2018-08-04_3:44:37.png ...\n",
            "Downloading 73/478: 2018-08-08_15:48:11.png ...\n",
            "Downloading 74/478: 2018-08-10_3:43:49.png ...\n",
            "Downloading 75/478: 2018-08-14_15:47:46.png ...\n",
            "Downloading 76/478: 2018-08-16_3:44:38.png ...\n",
            "Downloading 77/478: 2018-08-20_15:48:12.png ...\n",
            "Downloading 78/478: 2018-08-22_3:43:50.png ...\n",
            "Downloading 79/478: 2018-08-26_15:47:47.png ...\n",
            "Downloading 80/478: 2018-08-28_3:44:39.png ...\n",
            "Downloading 81/478: 2018-09-01_15:48:13.png ...\n",
            "Downloading 82/478: 2018-09-03_3:43:51.png ...\n",
            "Downloading 83/478: 2018-09-07_15:47:47.png ...\n",
            "Downloading 84/478: 2018-09-09_3:44:40.png ...\n",
            "Downloading 85/478: 2018-09-13_15:48:13.png ...\n",
            "Downloading 86/478: 2018-09-15_3:43:51.png ...\n",
            "Downloading 87/478: 2018-09-19_15:47:48.png ...\n",
            "Downloading 88/478: 2018-09-21_3:44:40.png ...\n",
            "Downloading 89/478: 2018-09-25_15:48:13.png ...\n",
            "Downloading 90/478: 2018-09-27_3:43:51.png ...\n",
            "Downloading 91/478: 2018-10-01_15:47:48.png ...\n",
            "Downloading 92/478: 2018-10-03_3:44:40.png ...\n",
            "Downloading 93/478: 2018-10-07_15:48:14.png ...\n",
            "Downloading 94/478: 2018-10-09_3:43:52.png ...\n",
            "Downloading 95/478: 2018-10-13_15:47:48.png ...\n",
            "Downloading 96/478: 2018-10-15_3:44:40.png ...\n",
            "Downloading 97/478: 2018-10-19_15:48:14.png ...\n",
            "Downloading 98/478: 2018-10-21_3:43:52.png ...\n",
            "Downloading 99/478: 2018-10-25_15:47:48.png ...\n",
            "Downloading 100/478: 2018-10-27_3:44:40.png ...\n",
            "Downloading 101/478: 2018-10-31_15:48:14.png ...\n",
            "Downloading 102/478: 2018-11-02_3:43:52.png ...\n",
            "Downloading 103/478: 2018-11-06_15:47:48.png ...\n",
            "Downloading 104/478: 2018-11-12_15:48:13.png ...\n",
            "Downloading 105/478: 2018-11-14_3:43:52.png ...\n",
            "Downloading 106/478: 2018-11-18_15:47:48.png ...\n",
            "Downloading 107/478: 2018-11-20_3:44:40.png ...\n",
            "Downloading 108/478: 2018-11-24_15:48:13.png ...\n",
            "Downloading 109/478: 2018-11-30_15:47:47.png ...\n",
            "Downloading 110/478: 2018-12-02_3:44:39.png ...\n",
            "Downloading 111/478: 2018-12-06_15:48:13.png ...\n",
            "Downloading 112/478: 2018-12-08_3:43:51.png ...\n",
            "Downloading 113/478: 2018-12-12_15:47:47.png ...\n",
            "Downloading 114/478: 2018-12-14_3:44:39.png ...\n",
            "Downloading 115/478: 2018-12-18_15:48:12.png ...\n",
            "Downloading 116/478: 2018-12-20_3:43:51.png ...\n",
            "Downloading 117/478: 2018-12-24_15:47:47.png ...\n",
            "Downloading 118/478: 2018-12-26_3:44:39.png ...\n",
            "Downloading 119/478: 2018-12-30_15:48:12.png ...\n",
            "Downloading 120/478: 2019-01-01_3:43:50.png ...\n",
            "Downloading 121/478: 2019-01-05_15:47:46.png ...\n",
            "Downloading 122/478: 2019-01-07_3:44:38.png ...\n",
            "Downloading 123/478: 2019-01-11_15:48:11.png ...\n",
            "Downloading 124/478: 2019-01-13_3:43:50.png ...\n",
            "Downloading 125/478: 2019-01-17_15:47:46.png ...\n",
            "Downloading 126/478: 2019-01-19_3:44:38.png ...\n",
            "Downloading 127/478: 2019-01-23_15:48:11.png ...\n",
            "Downloading 128/478: 2019-01-25_3:43:49.png ...\n",
            "Downloading 129/478: 2019-01-29_15:47:46.png ...\n",
            "Downloading 130/478: 2019-01-31_3:44:37.png ...\n",
            "Downloading 131/478: 2019-02-04_15:48:10.png ...\n",
            "Downloading 132/478: 2019-02-06_3:43:49.png ...\n",
            "Downloading 133/478: 2019-02-10_15:47:45.png ...\n",
            "Downloading 134/478: 2019-02-12_3:44:37.png ...\n",
            "Downloading 135/478: 2019-02-16_15:48:10.png ...\n",
            "Downloading 136/478: 2019-02-18_3:43:49.png ...\n",
            "Downloading 137/478: 2019-02-22_15:47:45.png ...\n",
            "Downloading 138/478: 2019-02-24_3:44:37.png ...\n",
            "Downloading 139/478: 2019-02-28_15:48:10.png ...\n",
            "Downloading 140/478: 2019-03-02_3:43:49.png ...\n",
            "Downloading 141/478: 2019-03-06_15:47:45.png ...\n",
            "Downloading 142/478: 2019-03-08_3:44:37.png ...\n",
            "Downloading 143/478: 2019-03-12_15:48:10.png ...\n",
            "Downloading 144/478: 2019-03-14_3:43:49.png ...\n",
            "Downloading 145/478: 2019-03-18_15:47:45.png ...\n",
            "Downloading 146/478: 2019-03-20_3:44:37.png ...\n",
            "Downloading 147/478: 2019-03-24_15:48:11.png ...\n",
            "Downloading 148/478: 2019-03-26_3:43:49.png ...\n",
            "Downloading 149/478: 2019-03-30_15:47:45.png ...\n",
            "Downloading 150/478: 2019-04-01_3:44:37.png ...\n",
            "Downloading 151/478: 2019-04-05_15:48:11.png ...\n",
            "Downloading 152/478: 2019-04-07_3:43:49.png ...\n",
            "Downloading 153/478: 2019-04-11_15:47:46.png ...\n",
            "Downloading 154/478: 2019-04-13_3:44:37.png ...\n",
            "Downloading 155/478: 2019-04-17_15:48:11.png ...\n",
            "Downloading 156/478: 2019-04-19_3:43:49.png ...\n",
            "Downloading 157/478: 2019-04-23_15:47:46.png ...\n",
            "Downloading 158/478: 2019-04-25_3:44:38.png ...\n",
            "Downloading 159/478: 2019-04-29_15:48:12.png ...\n",
            "Downloading 160/478: 2019-05-01_3:43:59.png ...\n",
            "Downloading 161/478: 2019-05-05_15:47:47.png ...\n",
            "Downloading 162/478: 2019-05-07_3:44:38.png ...\n",
            "Downloading 163/478: 2019-05-11_15:48:12.png ...\n",
            "Downloading 164/478: 2019-05-13_3:43:59.png ...\n",
            "Downloading 165/478: 2019-05-17_15:47:47.png ...\n",
            "Downloading 166/478: 2019-05-19_3:44:39.png ...\n",
            "Downloading 167/478: 2019-05-23_15:48:13.png ...\n",
            "Downloading 168/478: 2019-05-25_3:44:00.png ...\n",
            "Downloading 169/478: 2019-05-29_15:47:48.png ...\n",
            "Downloading 170/478: 2019-05-31_3:44:40.png ...\n",
            "Downloading 171/478: 2019-06-04_15:48:13.png ...\n",
            "Downloading 172/478: 2019-06-06_3:44:01.png ...\n",
            "Downloading 173/478: 2019-06-10_15:47:48.png ...\n",
            "Downloading 174/478: 2019-06-12_3:44:40.png ...\n",
            "Downloading 175/478: 2019-06-16_15:48:14.png ...\n",
            "Downloading 176/478: 2019-06-18_3:44:01.png ...\n",
            "Downloading 177/478: 2019-06-22_15:47:49.png ...\n",
            "Downloading 178/478: 2019-06-24_3:44:41.png ...\n",
            "Downloading 179/478: 2019-06-28_15:48:15.png ...\n",
            "Downloading 180/478: 2019-06-30_3:44:02.png ...\n",
            "Downloading 181/478: 2019-07-04_15:47:50.png ...\n",
            "Downloading 182/478: 2019-07-10_15:48:15.png ...\n",
            "Downloading 183/478: 2019-07-12_3:44:03.png ...\n",
            "Downloading 184/478: 2019-07-16_15:47:51.png ...\n",
            "Downloading 185/478: 2019-07-18_3:44:43.png ...\n",
            "Downloading 186/478: 2019-07-22_15:48:16.png ...\n",
            "Downloading 187/478: 2019-07-24_3:44:03.png ...\n",
            "Downloading 188/478: 2019-07-28_15:47:51.png ...\n",
            "Downloading 189/478: 2019-07-30_3:44:43.png ...\n",
            "Downloading 190/478: 2019-08-03_15:48:17.png ...\n",
            "Downloading 191/478: 2019-08-05_3:44:04.png ...\n",
            "Downloading 192/478: 2019-08-09_15:47:52.png ...\n",
            "Downloading 193/478: 2019-08-11_3:44:44.png ...\n",
            "Downloading 194/478: 2019-08-15_15:48:18.png ...\n",
            "Downloading 195/478: 2019-08-17_3:44:05.png ...\n",
            "Downloading 196/478: 2019-08-21_15:47:53.png ...\n",
            "Downloading 197/478: 2019-08-23_3:44:45.png ...\n",
            "Downloading 198/478: 2019-08-27_15:48:18.png ...\n",
            "Downloading 199/478: 2019-09-02_15:47:53.png ...\n",
            "Downloading 200/478: 2019-09-04_3:44:45.png ...\n",
            "Downloading 201/478: 2019-09-08_15:48:19.png ...\n",
            "Downloading 202/478: 2019-09-10_3:44:06.png ...\n",
            "Downloading 203/478: 2019-09-14_15:47:54.png ...\n",
            "Downloading 204/478: 2019-09-16_3:44:46.png ...\n",
            "Downloading 205/478: 2019-09-20_15:48:19.png ...\n",
            "Downloading 206/478: 2019-09-26_15:47:55.png ...\n",
            "Downloading 207/478: 2019-09-28_3:44:46.png ...\n",
            "Downloading 208/478: 2019-10-02_15:48:20.png ...\n",
            "Downloading 209/478: 2019-10-04_3:44:07.png ...\n",
            "Downloading 210/478: 2019-10-08_15:47:54.png ...\n",
            "Downloading 211/478: 2019-10-10_3:44:46.png ...\n",
            "Downloading 212/478: 2019-10-14_15:48:20.png ...\n",
            "Downloading 213/478: 2019-10-16_3:44:07.png ...\n",
            "Downloading 214/478: 2019-10-20_15:47:55.png ...\n",
            "Downloading 215/478: 2019-10-22_3:44:46.png ...\n",
            "Downloading 216/478: 2019-10-26_15:48:20.png ...\n",
            "Downloading 217/478: 2019-10-28_3:44:07.png ...\n",
            "Downloading 218/478: 2019-11-01_15:47:54.png ...\n",
            "Downloading 219/478: 2019-11-03_3:44:47.png ...\n",
            "Downloading 220/478: 2019-11-07_15:48:20.png ...\n",
            "Downloading 221/478: 2019-11-09_3:44:07.png ...\n",
            "Downloading 222/478: 2019-11-13_15:47:55.png ...\n",
            "Downloading 223/478: 2019-11-15_3:44:46.png ...\n",
            "Downloading 224/478: 2019-11-19_15:48:20.png ...\n",
            "Downloading 225/478: 2019-11-21_3:44:07.png ...\n",
            "Downloading 226/478: 2019-11-25_15:47:54.png ...\n",
            "Downloading 227/478: 2019-11-27_3:44:46.png ...\n",
            "Downloading 228/478: 2019-12-01_15:48:19.png ...\n",
            "Downloading 229/478: 2019-12-03_3:44:06.png ...\n",
            "Downloading 230/478: 2019-12-07_15:47:54.png ...\n",
            "Downloading 231/478: 2019-12-09_3:44:46.png ...\n",
            "Downloading 232/478: 2019-12-13_15:48:19.png ...\n",
            "Downloading 233/478: 2019-12-15_3:44:06.png ...\n",
            "Downloading 234/478: 2019-12-19_15:47:53.png ...\n",
            "Downloading 235/478: 2019-12-21_3:44:45.png ...\n",
            "Downloading 236/478: 2019-12-25_15:48:18.png ...\n",
            "Downloading 237/478: 2019-12-27_3:44:05.png ...\n",
            "Downloading 238/478: 2019-12-31_15:47:53.png ...\n",
            "Downloading 239/478: 2020-01-02_3:44:45.png ...\n",
            "Downloading 240/478: 2020-01-05_15:55:52.png ...\n",
            "Downloading 241/478: 2020-01-08_3:44:05.png ...\n",
            "Downloading 242/478: 2020-01-12_15:47:52.png ...\n",
            "Downloading 243/478: 2020-01-14_3:44:44.png ...\n",
            "Downloading 244/478: 2020-01-18_15:48:17.png ...\n",
            "Downloading 245/478: 2020-01-20_3:44:04.png ...\n",
            "Downloading 246/478: 2020-01-24_15:47:52.png ...\n",
            "Downloading 247/478: 2020-01-26_3:44:44.png ...\n",
            "Downloading 248/478: 2020-01-30_15:48:17.png ...\n",
            "Downloading 249/478: 2020-02-01_3:44:04.png ...\n",
            "Downloading 250/478: 2020-02-04_15:56:44.png ...\n",
            "Downloading 251/478: 2020-02-07_3:44:43.png ...\n",
            "Downloading 252/478: 2020-02-11_15:48:17.png ...\n",
            "Downloading 253/478: 2020-02-13_3:44:04.png ...\n",
            "Downloading 254/478: 2020-02-17_15:47:51.png ...\n",
            "Downloading 255/478: 2020-02-19_3:44:43.png ...\n",
            "Downloading 256/478: 2020-02-23_15:48:17.png ...\n",
            "Downloading 257/478: 2020-02-25_3:44:03.png ...\n",
            "Downloading 258/478: 2020-02-29_15:47:51.png ...\n",
            "Downloading 259/478: 2020-03-02_3:44:43.png ...\n",
            "Downloading 260/478: 2020-03-06_15:48:17.png ...\n",
            "Downloading 261/478: 2020-03-08_3:44:04.png ...\n",
            "Downloading 262/478: 2020-03-12_15:47:51.png ...\n",
            "Downloading 263/478: 2020-03-14_3:44:43.png ...\n",
            "Downloading 264/478: 2020-03-18_15:48:17.png ...\n",
            "Downloading 265/478: 2020-03-20_3:44:04.png ...\n",
            "Downloading 266/478: 2020-03-24_15:47:51.png ...\n",
            "Downloading 267/478: 2020-03-26_3:44:43.png ...\n",
            "Downloading 268/478: 2020-03-30_15:48:17.png ...\n",
            "Downloading 269/478: 2020-04-01_3:44:04.png ...\n",
            "Downloading 270/478: 2020-04-05_15:47:52.png ...\n",
            "Downloading 271/478: 2020-04-07_3:44:44.png ...\n",
            "Downloading 272/478: 2020-04-11_15:48:17.png ...\n",
            "Downloading 273/478: 2020-04-13_3:44:04.png ...\n",
            "Downloading 274/478: 2020-04-17_15:47:52.png ...\n",
            "Downloading 275/478: 2020-04-19_3:44:44.png ...\n",
            "Downloading 276/478: 2020-04-23_15:48:18.png ...\n",
            "Downloading 277/478: 2020-04-25_3:44:05.png ...\n",
            "Downloading 278/478: 2020-04-29_15:47:53.png ...\n",
            "Downloading 279/478: 2020-05-01_3:44:45.png ...\n",
            "Downloading 280/478: 2020-05-05_15:48:18.png ...\n",
            "Downloading 281/478: 2020-05-07_3:44:05.png ...\n",
            "Downloading 282/478: 2020-05-11_15:47:53.png ...\n",
            "Downloading 283/478: 2020-05-13_3:44:45.png ...\n",
            "Downloading 284/478: 2020-05-17_15:48:19.png ...\n",
            "Downloading 285/478: 2020-05-19_3:44:06.png ...\n",
            "Downloading 286/478: 2020-05-23_15:47:54.png ...\n",
            "Downloading 287/478: 2020-05-25_3:44:46.png ...\n",
            "Downloading 288/478: 2020-05-29_15:48:20.png ...\n",
            "Downloading 289/478: 2020-05-31_3:44:07.png ...\n",
            "Downloading 290/478: 2020-06-04_15:47:55.png ...\n",
            "Downloading 291/478: 2020-06-06_3:44:47.png ...\n",
            "Downloading 292/478: 2020-06-10_15:48:21.png ...\n",
            "Downloading 293/478: 2020-06-12_3:44:08.png ...\n",
            "Downloading 294/478: 2020-06-16_15:47:55.png ...\n",
            "Downloading 295/478: 2020-06-18_3:44:47.png ...\n",
            "Downloading 296/478: 2020-06-22_15:48:21.png ...\n",
            "Downloading 297/478: 2020-06-24_3:44:08.png ...\n",
            "Downloading 298/478: 2020-06-28_15:47:56.png ...\n",
            "Downloading 299/478: 2020-06-30_3:44:48.png ...\n",
            "Downloading 300/478: 2020-07-04_15:48:22.png ...\n",
            "Downloading 301/478: 2020-07-06_3:44:09.png ...\n",
            "Downloading 302/478: 2020-07-10_15:47:57.png ...\n",
            "Downloading 303/478: 2020-07-12_3:44:49.png ...\n",
            "Downloading 304/478: 2020-07-16_15:48:22.png ...\n",
            "Downloading 305/478: 2020-07-18_3:44:09.png ...\n",
            "Downloading 306/478: 2020-07-22_15:47:57.png ...\n",
            "Downloading 307/478: 2020-07-24_3:44:50.png ...\n",
            "Downloading 308/478: 2020-07-28_15:48:23.png ...\n",
            "Downloading 309/478: 2020-07-30_3:44:10.png ...\n",
            "Downloading 310/478: 2020-08-03_15:47:58.png ...\n",
            "Downloading 311/478: 2020-08-05_3:44:50.png ...\n",
            "Downloading 312/478: 2020-08-09_15:48:24.png ...\n",
            "Downloading 313/478: 2020-08-11_3:44:11.png ...\n",
            "Downloading 314/478: 2020-08-15_15:47:59.png ...\n",
            "Downloading 315/478: 2020-08-17_3:44:51.png ...\n",
            "Downloading 316/478: 2020-08-21_15:48:25.png ...\n",
            "Downloading 317/478: 2020-08-23_3:44:12.png ...\n",
            "Downloading 318/478: 2020-08-27_15:48:00.png ...\n",
            "Downloading 319/478: 2020-08-29_3:44:52.png ...\n",
            "Downloading 320/478: 2020-09-02_15:48:25.png ...\n",
            "Downloading 321/478: 2020-09-04_3:44:12.png ...\n",
            "Downloading 322/478: 2020-09-08_15:48:00.png ...\n",
            "Downloading 323/478: 2020-09-10_3:44:52.png ...\n",
            "Downloading 324/478: 2020-09-14_15:48:26.png ...\n",
            "Downloading 325/478: 2020-09-16_3:44:13.png ...\n",
            "Downloading 326/478: 2020-09-20_15:48:00.png ...\n",
            "Downloading 327/478: 2020-09-22_3:44:53.png ...\n",
            "Downloading 328/478: 2020-09-26_15:48:26.png ...\n",
            "Downloading 329/478: 2020-09-28_3:44:13.png ...\n",
            "Downloading 330/478: 2020-10-02_15:48:01.png ...\n",
            "Downloading 331/478: 2020-10-04_3:44:53.png ...\n",
            "Downloading 332/478: 2020-10-08_15:48:26.png ...\n",
            "Downloading 333/478: 2020-10-10_3:44:13.png ...\n",
            "Downloading 334/478: 2020-10-14_15:48:01.png ...\n",
            "Downloading 335/478: 2020-10-16_3:44:53.png ...\n",
            "Downloading 336/478: 2020-10-20_15:48:26.png ...\n",
            "Downloading 337/478: 2020-10-22_3:44:13.png ...\n",
            "Downloading 338/478: 2020-10-26_15:48:01.png ...\n",
            "Downloading 339/478: 2020-10-28_3:44:53.png ...\n",
            "Downloading 340/478: 2020-11-01_15:48:26.png ...\n",
            "Downloading 341/478: 2020-11-03_3:44:13.png ...\n",
            "Downloading 342/478: 2020-11-07_15:48:01.png ...\n",
            "Downloading 343/478: 2020-11-09_3:44:53.png ...\n",
            "Downloading 344/478: 2020-11-13_15:48:26.png ...\n",
            "Downloading 345/478: 2020-11-15_3:44:13.png ...\n",
            "Downloading 346/478: 2020-11-19_15:48:01.png ...\n",
            "Downloading 347/478: 2020-11-21_3:44:53.png ...\n",
            "Downloading 348/478: 2020-11-25_15:48:26.png ...\n",
            "Downloading 349/478: 2020-11-27_3:44:13.png ...\n",
            "Downloading 350/478: 2020-12-01_15:48:00.png ...\n",
            "Downloading 351/478: 2020-12-03_3:44:52.png ...\n",
            "Downloading 352/478: 2020-12-07_15:48:25.png ...\n",
            "Downloading 353/478: 2020-12-09_3:44:12.png ...\n",
            "Downloading 354/478: 2020-12-13_15:48:00.png ...\n",
            "Downloading 355/478: 2020-12-15_3:44:52.png ...\n",
            "Downloading 356/478: 2020-12-19_15:48:25.png ...\n",
            "Downloading 357/478: 2020-12-21_3:44:19.png ...\n",
            "Downloading 358/478: 2020-12-25_15:47:59.png ...\n",
            "Downloading 359/478: 2020-12-31_15:48:24.png ...\n",
            "Downloading 360/478: 2021-01-02_3:44:11.png ...\n",
            "Downloading 361/478: 2021-01-06_15:47:58.png ...\n",
            "Downloading 362/478: 2021-01-08_3:44:50.png ...\n",
            "Downloading 363/478: 2021-01-12_15:48:24.png ...\n",
            "Downloading 364/478: 2021-01-14_3:44:11.png ...\n",
            "Downloading 365/478: 2021-01-18_15:47:58.png ...\n",
            "Downloading 366/478: 2021-01-24_15:48:23.png ...\n",
            "Downloading 367/478: 2021-01-26_3:44:10.png ...\n",
            "Downloading 368/478: 2021-01-30_15:47:58.png ...\n",
            "Downloading 369/478: 2021-02-01_3:44:50.png ...\n",
            "Downloading 370/478: 2021-02-05_15:48:23.png ...\n",
            "Downloading 371/478: 2021-02-07_3:44:10.png ...\n",
            "Downloading 372/478: 2021-02-11_15:47:57.png ...\n",
            "Downloading 373/478: 2021-02-13_3:44:49.png ...\n",
            "Downloading 374/478: 2021-02-17_15:48:22.png ...\n",
            "Downloading 375/478: 2021-02-19_3:44:09.png ...\n",
            "Downloading 376/478: 2021-02-22_15:56:49.png ...\n",
            "Downloading 377/478: 2021-02-25_3:44:49.png ...\n",
            "Downloading 378/478: 2021-03-01_15:48:22.png ...\n",
            "Downloading 379/478: 2021-03-03_3:44:09.png ...\n",
            "Downloading 380/478: 2021-03-07_15:47:57.png ...\n",
            "Downloading 381/478: 2021-03-09_3:44:49.png ...\n",
            "Downloading 382/478: 2021-03-13_15:48:22.png ...\n",
            "Downloading 383/478: 2021-03-15_3:44:09.png ...\n",
            "Downloading 384/478: 2021-03-19_15:47:57.png ...\n",
            "Downloading 385/478: 2021-03-21_3:44:49.png ...\n",
            "Downloading 386/478: 2021-03-25_15:48:23.png ...\n",
            "Downloading 387/478: 2021-03-27_3:44:10.png ...\n",
            "Downloading 388/478: 2021-03-31_15:47:57.png ...\n",
            "Downloading 389/478: 2021-04-02_3:44:49.png ...\n",
            "Downloading 390/478: 2021-04-06_15:48:23.png ...\n",
            "Downloading 391/478: 2021-04-08_3:44:10.png ...\n",
            "Downloading 392/478: 2021-04-12_15:47:58.png ...\n",
            "Downloading 393/478: 2021-04-14_3:44:50.png ...\n",
            "Downloading 394/478: 2021-04-18_15:48:24.png ...\n",
            "Downloading 395/478: 2021-04-20_3:44:11.png ...\n",
            "Downloading 396/478: 2021-04-24_15:47:58.png ...\n",
            "Downloading 397/478: 2021-04-26_3:44:50.png ...\n",
            "Downloading 398/478: 2021-04-30_15:48:24.png ...\n",
            "Downloading 399/478: 2021-05-02_3:44:11.png ...\n",
            "Downloading 400/478: 2021-05-06_15:47:59.png ...\n",
            "Downloading 401/478: 2021-05-08_3:44:51.png ...\n",
            "Downloading 402/478: 2021-05-12_15:48:25.png ...\n",
            "Downloading 403/478: 2021-05-14_3:44:12.png ...\n",
            "Downloading 404/478: 2021-05-18_15:47:59.png ...\n",
            "Downloading 405/478: 2021-05-20_3:44:51.png ...\n",
            "Downloading 406/478: 2021-05-24_15:48:25.png ...\n",
            "Downloading 407/478: 2021-05-26_3:44:12.png ...\n",
            "Downloading 408/478: 2021-05-30_15:48:00.png ...\n",
            "Downloading 409/478: 2021-06-01_3:44:52.png ...\n",
            "Downloading 410/478: 2021-06-05_15:48:26.png ...\n",
            "Downloading 411/478: 2021-06-07_3:44:13.png ...\n",
            "Downloading 412/478: 2021-06-11_15:48:01.png ...\n",
            "Downloading 413/478: 2021-06-13_3:44:53.png ...\n",
            "Downloading 414/478: 2021-06-17_15:48:27.png ...\n",
            "Downloading 415/478: 2021-06-19_3:44:14.png ...\n",
            "Downloading 416/478: 2021-06-23_15:48:02.png ...\n",
            "Downloading 417/478: 2021-06-25_3:44:54.png ...\n",
            "Downloading 418/478: 2021-06-29_15:48:28.png ...\n",
            "Downloading 419/478: 2021-07-01_3:44:14.png ...\n",
            "Downloading 420/478: 2021-07-05_15:48:02.png ...\n",
            "Downloading 421/478: 2021-07-07_3:44:54.png ...\n",
            "Downloading 422/478: 2021-07-11_15:48:28.png ...\n",
            "Downloading 423/478: 2021-07-13_3:44:15.png ...\n",
            "Downloading 424/478: 2021-07-17_15:48:03.png ...\n",
            "Downloading 425/478: 2021-07-19_3:44:55.png ...\n",
            "Downloading 426/478: 2021-07-23_15:48:29.png ...\n",
            "Downloading 427/478: 2021-07-25_3:44:16.png ...\n",
            "Downloading 428/478: 2021-07-29_15:48:04.png ...\n",
            "Downloading 429/478: 2021-07-31_3:44:56.png ...\n",
            "Downloading 430/478: 2021-08-04_15:48:30.png ...\n",
            "Downloading 431/478: 2021-08-06_3:44:17.png ...\n",
            "Downloading 432/478: 2021-08-10_15:48:04.png ...\n",
            "Downloading 433/478: 2021-08-12_3:44:56.png ...\n",
            "Downloading 434/478: 2021-08-16_15:48:30.png ...\n",
            "Downloading 435/478: 2021-08-18_3:44:17.png ...\n",
            "Downloading 436/478: 2021-08-22_15:48:05.png ...\n",
            "Downloading 437/478: 2021-08-24_3:44:57.png ...\n",
            "Downloading 438/478: 2021-08-28_15:48:31.png ...\n",
            "Downloading 439/478: 2021-08-30_3:44:18.png ...\n",
            "Downloading 440/478: 2021-09-03_15:48:06.png ...\n",
            "Downloading 441/478: 2021-09-05_3:44:58.png ...\n",
            "Downloading 442/478: 2021-09-09_15:48:31.png ...\n",
            "Downloading 443/478: 2021-09-11_3:44:18.png ...\n",
            "Downloading 444/478: 2021-09-15_15:48:06.png ...\n",
            "Downloading 445/478: 2021-09-17_3:44:58.png ...\n",
            "Downloading 446/478: 2021-09-21_15:48:32.png ...\n",
            "Downloading 447/478: 2021-09-23_3:44:19.png ...\n",
            "Downloading 448/478: 2021-09-27_15:48:06.png ...\n",
            "Downloading 449/478: 2021-09-29_3:44:59.png ...\n",
            "Downloading 450/478: 2021-10-03_15:48:32.png ...\n",
            "Downloading 451/478: 2021-10-05_3:44:19.png ...\n",
            "Downloading 452/478: 2021-10-09_15:48:07.png ...\n",
            "Downloading 453/478: 2021-10-11_3:44:59.png ...\n",
            "Downloading 454/478: 2021-10-15_15:48:32.png ...\n",
            "Downloading 455/478: 2021-10-17_3:44:19.png ...\n",
            "Downloading 456/478: 2021-10-21_15:48:07.png ...\n",
            "Downloading 457/478: 2021-10-23_3:44:59.png ...\n",
            "Downloading 458/478: 2021-10-27_15:48:32.png ...\n",
            "Downloading 459/478: 2021-10-29_3:44:19.png ...\n",
            "Downloading 460/478: 2021-11-02_15:48:07.png ...\n",
            "Downloading 461/478: 2021-11-04_3:44:58.png ...\n",
            "Downloading 462/478: 2021-11-08_15:48:32.png ...\n",
            "Downloading 463/478: 2021-11-10_3:44:19.png ...\n",
            "Downloading 464/478: 2021-11-14_15:48:06.png ...\n",
            "Downloading 465/478: 2021-11-16_3:44:58.png ...\n",
            "Downloading 466/478: 2021-11-20_15:48:32.png ...\n",
            "Downloading 467/478: 2021-11-22_3:44:19.png ...\n",
            "Downloading 468/478: 2021-11-26_15:48:06.png ...\n",
            "Downloading 469/478: 2021-11-28_3:44:58.png ...\n",
            "Downloading 470/478: 2021-12-02_15:48:31.png ...\n",
            "Downloading 471/478: 2021-12-04_3:44:18.png ...\n",
            "Downloading 472/478: 2021-12-08_15:48:05.png ...\n",
            "Downloading 473/478: 2021-12-10_3:44:57.png ...\n",
            "Downloading 474/478: 2021-12-14_15:48:31.png ...\n",
            "Downloading 475/478: 2021-12-16_3:44:18.png ...\n",
            "Downloading 476/478: 2021-12-20_15:48:05.png ...\n",
            "Downloading 477/478: 2021-12-22_3:44:57.png ...\n",
            "Downloading 478/478: 2021-12-26_15:48:30.png ...\n"
          ]
        }
      ]
    },
    {
      "cell_type": "markdown",
      "source": [
        "# Rotterdam"
      ],
      "metadata": {
        "id": "bkAPhEzsIQ9Z"
      }
    },
    {
      "cell_type": "code",
      "source": [
        "aoi = clip(feats[10])\n",
        "name = feats[10]['properties']['site']\n",
        "# query EE\n",
        "collection = ee.ImageCollection('COPERNICUS/S1_GRD').filterBounds(aoi).filterDate(start, finish).filter(ee.Filter.listContains('transmitterReceiverPolarisation', 'VH'))\n",
        "collection_clipped = collection.map(cliptoaoi).sort('segmentStartTime')\n",
        "collection_list = collection_clipped.toList(collection.size())\n",
        "\n",
        "# mosaic images from the same day as needed\n",
        "newcol = ee.ImageCollection(ee.List(getdates(collection_clipped, 2).iterate(day_mosaics, ee.List([]))))\n",
        "ids = newcol.aggregate_array('dates')..getInfo()\n",
        "\n",
        "print(ids)\n",
        "# this is for exporting\n",
        "# vis_params = {'min': -20, 'max': 0, 'bands':'VH'}\n",
        "\n",
        "# out_dir = 'mosaic/2/clip/{0}'.format(name)\n",
        "# geemap.get_image_collection_thumbnails(newcol, out_dir, vis_params, dimensions=500, format=\"png\", names=ids)"
      ],
      "metadata": {
        "colab": {
          "base_uri": "https://localhost:8080/"
        },
        "id": "_QKJqV23zT05",
        "outputId": "64e07ac4-c5d8-4991-de96-ada5d1c2c99e"
      },
      "execution_count": null,
      "outputs": [
        {
          "output_type": "stream",
          "name": "stdout",
          "text": [
            "[['2018-01-01_5:58:12'], ['2018-01-13_5:58:12'], ['2018-01-25_5:58:12'], ['2018-04-07_5:58:12'], ['2018-04-19_5:58:12'], ['2018-05-01_5:58:13'], ['2018-05-13_5:58:13'], ['2018-05-25_5:58:14'], ['2018-06-06_5:58:15'], ['2018-06-18_5:58:16'], ['2018-06-30_5:58:16'], ['2018-07-12_5:58:17'], ['2018-07-24_5:58:18'], ['2018-08-05_5:58:18'], ['2018-08-17_5:58:19'], ['2018-09-10_5:58:20'], ['2018-09-22_5:58:21'], ['2018-10-04_5:58:21'], ['2018-10-16_5:58:21'], ['2018-10-28_5:58:21'], ['2018-11-09_5:58:21'], ['2018-11-21_5:58:21'], ['2018-12-03_5:58:20'], ['2018-12-15_5:58:19'], ['2018-12-27_5:58:19'], ['2019-01-08_5:58:19'], ['2019-01-20_5:58:18'], ['2019-02-13_5:58:18'], ['2019-02-25_5:58:18'], ['2019-03-09_5:58:18'], ['2019-03-21_5:58:18'], ['2019-04-02_5:58:18'], ['2019-04-14_5:58:18'], ['2019-04-26_5:58:19'], ['2019-05-08_5:58:19'], ['2019-05-20_5:58:20'], ['2019-06-01_5:58:20'], ['2019-06-13_5:58:21'], ['2019-06-25_5:58:22'], ['2019-07-07_5:58:23'], ['2019-07-19_5:58:23'], ['2019-07-31_5:58:24'], ['2019-08-12_5:58:25'], ['2019-08-24_5:58:26'], ['2019-09-05_5:58:26'], ['2019-09-17_5:58:27'], ['2019-09-29_5:58:27'], ['2019-10-11_5:58:27'], ['2019-10-23_5:58:27'], ['2019-11-04_5:58:27'], ['2019-11-16_5:58:27'], ['2019-11-28_5:58:27'], ['2019-12-10_5:58:26'], ['2019-12-22_5:58:26'], ['2020-01-03_5:58:25'], ['2020-01-15_5:58:25'], ['2020-01-27_5:58:24'], ['2020-02-08_5:58:24'], ['2020-02-20_5:58:24'], ['2020-03-03_5:58:24'], ['2020-03-15_5:58:24'], ['2020-03-27_5:58:24'], ['2020-04-08_5:58:24'], ['2020-04-20_5:58:25'], ['2020-05-02_5:58:25'], ['2020-05-14_5:58:26'], ['2020-05-26_5:58:27'], ['2020-06-07_5:58:27'], ['2020-06-19_5:58:28'], ['2020-07-01_5:58:29'], ['2020-07-13_5:58:30'], ['2020-07-25_5:58:30'], ['2020-08-06_5:58:31'], ['2020-08-18_5:58:32'], ['2020-08-30_5:58:32'], ['2020-09-11_5:58:33'], ['2020-09-23_5:58:33'], ['2020-10-05_5:58:34'], ['2020-10-17_5:58:34'], ['2020-10-29_5:58:34'], ['2020-11-10_5:58:33'], ['2020-11-22_5:58:33'], ['2020-12-04_5:58:33'], ['2020-12-16_5:58:32'], ['2020-12-28_5:58:32'], ['2021-01-09_5:58:31'], ['2021-01-21_5:58:30'], ['2021-02-02_5:58:30'], ['2021-02-14_5:58:30'], ['2021-02-26_5:58:30'], ['2021-03-10_5:58:30'], ['2021-03-22_5:58:30'], ['2021-04-03_5:58:30'], ['2021-04-15_5:58:31'], ['2021-04-27_5:58:31'], ['2021-05-09_5:58:32'], ['2021-05-21_5:58:32'], ['2021-06-02_5:58:33'], ['2021-06-14_5:58:34'], ['2021-06-26_5:58:34'], ['2021-07-08_5:58:35'], ['2021-07-20_5:58:36'], ['2021-08-01_5:58:37'], ['2021-08-13_5:58:37'], ['2021-08-25_5:58:38'], ['2021-09-06_5:58:38'], ['2021-09-18_5:58:39'], ['2021-09-30_5:58:39'], ['2021-10-12_5:58:39'], ['2021-10-24_5:58:39'], ['2021-11-05_5:58:39'], ['2021-11-17_5:58:39'], ['2021-11-29_5:58:39'], ['2021-12-11_5:58:38'], ['2021-12-23_5:58:37']]\n"
          ]
        }
      ]
    },
    {
      "cell_type": "code",
      "source": [
        ""
      ],
      "metadata": {
        "id": "AiMT0pQKIT2y"
      },
      "execution_count": null,
      "outputs": []
    }
  ],
  "metadata": {
    "colab": {
      "collapsed_sections": [],
      "name": "MLSTA Final Project Preprocessing with Timestamps",
      "provenance": [],
      "include_colab_link": true
    },
    "kernelspec": {
      "display_name": "Python 3",
      "name": "python3"
    },
    "widgets": {
      "application/vnd.jupyter.widget-state+json": {
        "f73d57c1f9df4518a09793eab8152c3c": {
          "model_module": "@jupyter-widgets/output",
          "model_name": "OutputModel",
          "model_module_version": "1.0.0",
          "state": {
            "_dom_classes": [],
            "_model_module": "@jupyter-widgets/output",
            "_model_module_version": "1.0.0",
            "_model_name": "OutputModel",
            "_view_count": null,
            "_view_module": "@jupyter-widgets/output",
            "_view_module_version": "1.0.0",
            "_view_name": "OutputView",
            "layout": "IPY_MODEL_b70cbf298b2942b09f62b41278e8df3d",
            "msg_id": "",
            "outputs": [
              {
                "output_type": "display_data",
                "data": {
                  "text/plain": "Image(value=b'\\x89PNG\\r\\n\\x1a\\n\\x00\\x00\\x00\\rIHDR\\x00\\x00\\x01\\xf4\\x00\\x00\\x00\\xf5\\x08\\x04\\x00\\x00\\x00\\x0c\\xf4\\…",
                  "application/vnd.jupyter.widget-view+json": {
                    "version_major": 2,
                    "version_minor": 0,
                    "model_id": "e895aa8eeea845c7a1565af17aa6d5af"
                  }
                },
                "metadata": {
                  "application/vnd.jupyter.widget-view+json": {
                    "colab": {
                      "custom_widget_manager": {
                        "url": "https://ssl.gstatic.com/colaboratory-static/widgets/colab-cdn-widget-manager/a8874ba6619b6106/manager.min.js"
                      }
                    }
                  }
                }
              }
            ]
          }
        },
        "b70cbf298b2942b09f62b41278e8df3d": {
          "model_module": "@jupyter-widgets/base",
          "model_name": "LayoutModel",
          "model_module_version": "1.2.0",
          "state": {
            "_model_module": "@jupyter-widgets/base",
            "_model_module_version": "1.2.0",
            "_model_name": "LayoutModel",
            "_view_count": null,
            "_view_module": "@jupyter-widgets/base",
            "_view_module_version": "1.2.0",
            "_view_name": "LayoutView",
            "align_content": null,
            "align_items": null,
            "align_self": null,
            "border": null,
            "bottom": null,
            "display": null,
            "flex": null,
            "flex_flow": null,
            "grid_area": null,
            "grid_auto_columns": null,
            "grid_auto_flow": null,
            "grid_auto_rows": null,
            "grid_column": null,
            "grid_gap": null,
            "grid_row": null,
            "grid_template_areas": null,
            "grid_template_columns": null,
            "grid_template_rows": null,
            "height": null,
            "justify_content": null,
            "justify_items": null,
            "left": null,
            "margin": null,
            "max_height": null,
            "max_width": null,
            "min_height": null,
            "min_width": null,
            "object_fit": null,
            "object_position": null,
            "order": null,
            "overflow": null,
            "overflow_x": null,
            "overflow_y": null,
            "padding": null,
            "right": null,
            "top": null,
            "visibility": null,
            "width": null
          }
        },
        "e895aa8eeea845c7a1565af17aa6d5af": {
          "model_module": "@jupyter-widgets/controls",
          "model_name": "ImageModel",
          "model_module_version": "1.5.0",
          "state": {
            "_dom_classes": [],
            "_model_module": "@jupyter-widgets/controls",
            "_model_module_version": "1.5.0",
            "_model_name": "ImageModel",
            "_view_count": null,
            "_view_module": "@jupyter-widgets/controls",
            "_view_module_version": "1.5.0",
            "_view_name": "ImageView",
            "format": "png",
            "height": "",
            "layout": "IPY_MODEL_65e08d5de8c94c19ab35a5547570ea1c",
            "width": ""
          }
        },
        "65e08d5de8c94c19ab35a5547570ea1c": {
          "model_module": "@jupyter-widgets/base",
          "model_name": "LayoutModel",
          "model_module_version": "1.2.0",
          "state": {
            "_model_module": "@jupyter-widgets/base",
            "_model_module_version": "1.2.0",
            "_model_name": "LayoutModel",
            "_view_count": null,
            "_view_module": "@jupyter-widgets/base",
            "_view_module_version": "1.2.0",
            "_view_name": "LayoutView",
            "align_content": null,
            "align_items": null,
            "align_self": null,
            "border": null,
            "bottom": null,
            "display": null,
            "flex": null,
            "flex_flow": null,
            "grid_area": null,
            "grid_auto_columns": null,
            "grid_auto_flow": null,
            "grid_auto_rows": null,
            "grid_column": null,
            "grid_gap": null,
            "grid_row": null,
            "grid_template_areas": null,
            "grid_template_columns": null,
            "grid_template_rows": null,
            "height": null,
            "justify_content": null,
            "justify_items": null,
            "left": null,
            "margin": null,
            "max_height": null,
            "max_width": null,
            "min_height": null,
            "min_width": null,
            "object_fit": null,
            "object_position": null,
            "order": null,
            "overflow": null,
            "overflow_x": null,
            "overflow_y": null,
            "padding": null,
            "right": null,
            "top": null,
            "visibility": null,
            "width": null
          }
        },
        "8af4a86661cc48cb8b6c736786c41d14": {
          "model_module": "@jupyter-widgets/base",
          "model_name": "LayoutModel",
          "model_module_version": "1.2.0",
          "state": {
            "_model_module": "@jupyter-widgets/base",
            "_model_module_version": "1.2.0",
            "_model_name": "LayoutModel",
            "_view_count": null,
            "_view_module": "@jupyter-widgets/base",
            "_view_module_version": "1.2.0",
            "_view_name": "LayoutView",
            "align_content": null,
            "align_items": null,
            "align_self": null,
            "border": null,
            "bottom": null,
            "display": null,
            "flex": null,
            "flex_flow": null,
            "grid_area": null,
            "grid_auto_columns": null,
            "grid_auto_flow": null,
            "grid_auto_rows": null,
            "grid_column": null,
            "grid_gap": null,
            "grid_row": null,
            "grid_template_areas": null,
            "grid_template_columns": null,
            "grid_template_rows": null,
            "height": null,
            "justify_content": null,
            "justify_items": null,
            "left": null,
            "margin": null,
            "max_height": null,
            "max_width": null,
            "min_height": null,
            "min_width": null,
            "object_fit": null,
            "object_position": null,
            "order": null,
            "overflow": null,
            "overflow_x": null,
            "overflow_y": null,
            "padding": null,
            "right": null,
            "top": null,
            "visibility": null,
            "width": null
          }
        },
        "f1701c0074fd4962ab4904041c5369d3": {
          "model_module": "@jupyter-widgets/output",
          "model_name": "OutputModel",
          "model_module_version": "1.0.0",
          "state": {
            "_dom_classes": [],
            "_model_module": "@jupyter-widgets/output",
            "_model_module_version": "1.0.0",
            "_model_name": "OutputModel",
            "_view_count": null,
            "_view_module": "@jupyter-widgets/output",
            "_view_module_version": "1.0.0",
            "_view_name": "OutputView",
            "layout": "IPY_MODEL_8af4a86661cc48cb8b6c736786c41d14",
            "msg_id": "",
            "outputs": [
              {
                "output_type": "display_data",
                "data": {
                  "text/plain": "Image(value=b'\\x89PNG\\r\\n\\x1a\\n\\x00\\x00\\x00\\rIHDR\\x00\\x00\\x01\\xf4\\x00\\x00\\x01\\xea\\x08\\x04\\x00\\x00\\x00X\\x03t\\xe…",
                  "application/vnd.jupyter.widget-view+json": {
                    "version_major": 2,
                    "version_minor": 0,
                    "model_id": "a998eb601f6842ef802660a2a15af5d6"
                  }
                },
                "metadata": {
                  "application/vnd.jupyter.widget-view+json": {
                    "colab": {
                      "custom_widget_manager": {
                        "url": "https://ssl.gstatic.com/colaboratory-static/widgets/colab-cdn-widget-manager/a8874ba6619b6106/manager.min.js"
                      }
                    }
                  }
                }
              }
            ]
          }
        },
        "a998eb601f6842ef802660a2a15af5d6": {
          "model_module": "@jupyter-widgets/controls",
          "model_name": "ImageModel",
          "model_module_version": "1.5.0",
          "state": {
            "_dom_classes": [],
            "_model_module": "@jupyter-widgets/controls",
            "_model_module_version": "1.5.0",
            "_model_name": "ImageModel",
            "_view_count": null,
            "_view_module": "@jupyter-widgets/controls",
            "_view_module_version": "1.5.0",
            "_view_name": "ImageView",
            "format": "png",
            "height": "",
            "layout": "IPY_MODEL_e13850b94e1c46acb88ea38b730ce183",
            "width": ""
          }
        },
        "e13850b94e1c46acb88ea38b730ce183": {
          "model_module": "@jupyter-widgets/base",
          "model_name": "LayoutModel",
          "model_module_version": "1.2.0",
          "state": {
            "_model_module": "@jupyter-widgets/base",
            "_model_module_version": "1.2.0",
            "_model_name": "LayoutModel",
            "_view_count": null,
            "_view_module": "@jupyter-widgets/base",
            "_view_module_version": "1.2.0",
            "_view_name": "LayoutView",
            "align_content": null,
            "align_items": null,
            "align_self": null,
            "border": null,
            "bottom": null,
            "display": null,
            "flex": null,
            "flex_flow": null,
            "grid_area": null,
            "grid_auto_columns": null,
            "grid_auto_flow": null,
            "grid_auto_rows": null,
            "grid_column": null,
            "grid_gap": null,
            "grid_row": null,
            "grid_template_areas": null,
            "grid_template_columns": null,
            "grid_template_rows": null,
            "height": null,
            "justify_content": null,
            "justify_items": null,
            "left": null,
            "margin": null,
            "max_height": null,
            "max_width": null,
            "min_height": null,
            "min_width": null,
            "object_fit": null,
            "object_position": null,
            "order": null,
            "overflow": null,
            "overflow_x": null,
            "overflow_y": null,
            "padding": null,
            "right": null,
            "top": null,
            "visibility": null,
            "width": null
          }
        },
        "6bf31255256847da939b1e0d29d31a46": {
          "model_module": "@jupyter-widgets/base",
          "model_name": "LayoutModel",
          "model_module_version": "1.2.0",
          "state": {
            "_model_module": "@jupyter-widgets/base",
            "_model_module_version": "1.2.0",
            "_model_name": "LayoutModel",
            "_view_count": null,
            "_view_module": "@jupyter-widgets/base",
            "_view_module_version": "1.2.0",
            "_view_name": "LayoutView",
            "align_content": null,
            "align_items": null,
            "align_self": null,
            "border": null,
            "bottom": null,
            "display": null,
            "flex": null,
            "flex_flow": null,
            "grid_area": null,
            "grid_auto_columns": null,
            "grid_auto_flow": null,
            "grid_auto_rows": null,
            "grid_column": null,
            "grid_gap": null,
            "grid_row": null,
            "grid_template_areas": null,
            "grid_template_columns": null,
            "grid_template_rows": null,
            "height": null,
            "justify_content": null,
            "justify_items": null,
            "left": null,
            "margin": null,
            "max_height": null,
            "max_width": null,
            "min_height": null,
            "min_width": null,
            "object_fit": null,
            "object_position": null,
            "order": null,
            "overflow": null,
            "overflow_x": null,
            "overflow_y": null,
            "padding": null,
            "right": null,
            "top": null,
            "visibility": null,
            "width": null
          }
        },
        "7fd7e9f457c047a59adbb8c707090751": {
          "model_module": "@jupyter-widgets/output",
          "model_name": "OutputModel",
          "model_module_version": "1.0.0",
          "state": {
            "_dom_classes": [],
            "_model_module": "@jupyter-widgets/output",
            "_model_module_version": "1.0.0",
            "_model_name": "OutputModel",
            "_view_count": null,
            "_view_module": "@jupyter-widgets/output",
            "_view_module_version": "1.0.0",
            "_view_name": "OutputView",
            "layout": "IPY_MODEL_6bf31255256847da939b1e0d29d31a46",
            "msg_id": "",
            "outputs": [
              {
                "output_type": "display_data",
                "data": {
                  "text/plain": "Image(value=b'\\x89PNG\\r\\n\\x1a\\n\\x00\\x00\\x00\\rIHDR\\x00\\x00\\x01\\xf4\\x00\\x00\\x01Y\\x08\\x04\\x00\\x00\\x00\\xc4]\\x151\\x…",
                  "application/vnd.jupyter.widget-view+json": {
                    "version_major": 2,
                    "version_minor": 0,
                    "model_id": "79bc2aa273ff4d9db4bf9e2f386ed022"
                  }
                },
                "metadata": {
                  "application/vnd.jupyter.widget-view+json": {
                    "colab": {
                      "custom_widget_manager": {
                        "url": "https://ssl.gstatic.com/colaboratory-static/widgets/colab-cdn-widget-manager/a8874ba6619b6106/manager.min.js"
                      }
                    }
                  }
                }
              }
            ]
          }
        },
        "79bc2aa273ff4d9db4bf9e2f386ed022": {
          "model_module": "@jupyter-widgets/controls",
          "model_name": "ImageModel",
          "model_module_version": "1.5.0",
          "state": {
            "_dom_classes": [],
            "_model_module": "@jupyter-widgets/controls",
            "_model_module_version": "1.5.0",
            "_model_name": "ImageModel",
            "_view_count": null,
            "_view_module": "@jupyter-widgets/controls",
            "_view_module_version": "1.5.0",
            "_view_name": "ImageView",
            "format": "png",
            "height": "",
            "layout": "IPY_MODEL_3d1c34b332964831964cab55dfe6dd33",
            "width": ""
          }
        },
        "3d1c34b332964831964cab55dfe6dd33": {
          "model_module": "@jupyter-widgets/base",
          "model_name": "LayoutModel",
          "model_module_version": "1.2.0",
          "state": {
            "_model_module": "@jupyter-widgets/base",
            "_model_module_version": "1.2.0",
            "_model_name": "LayoutModel",
            "_view_count": null,
            "_view_module": "@jupyter-widgets/base",
            "_view_module_version": "1.2.0",
            "_view_name": "LayoutView",
            "align_content": null,
            "align_items": null,
            "align_self": null,
            "border": null,
            "bottom": null,
            "display": null,
            "flex": null,
            "flex_flow": null,
            "grid_area": null,
            "grid_auto_columns": null,
            "grid_auto_flow": null,
            "grid_auto_rows": null,
            "grid_column": null,
            "grid_gap": null,
            "grid_row": null,
            "grid_template_areas": null,
            "grid_template_columns": null,
            "grid_template_rows": null,
            "height": null,
            "justify_content": null,
            "justify_items": null,
            "left": null,
            "margin": null,
            "max_height": null,
            "max_width": null,
            "min_height": null,
            "min_width": null,
            "object_fit": null,
            "object_position": null,
            "order": null,
            "overflow": null,
            "overflow_x": null,
            "overflow_y": null,
            "padding": null,
            "right": null,
            "top": null,
            "visibility": null,
            "width": null
          }
        },
        "984f4010584740519390608446822856": {
          "model_module": "@jupyter-widgets/base",
          "model_name": "LayoutModel",
          "model_module_version": "1.2.0",
          "state": {
            "_model_module": "@jupyter-widgets/base",
            "_model_module_version": "1.2.0",
            "_model_name": "LayoutModel",
            "_view_count": null,
            "_view_module": "@jupyter-widgets/base",
            "_view_module_version": "1.2.0",
            "_view_name": "LayoutView",
            "align_content": null,
            "align_items": null,
            "align_self": null,
            "border": null,
            "bottom": null,
            "display": null,
            "flex": null,
            "flex_flow": null,
            "grid_area": null,
            "grid_auto_columns": null,
            "grid_auto_flow": null,
            "grid_auto_rows": null,
            "grid_column": null,
            "grid_gap": null,
            "grid_row": null,
            "grid_template_areas": null,
            "grid_template_columns": null,
            "grid_template_rows": null,
            "height": null,
            "justify_content": null,
            "justify_items": null,
            "left": null,
            "margin": null,
            "max_height": null,
            "max_width": null,
            "min_height": null,
            "min_width": null,
            "object_fit": null,
            "object_position": null,
            "order": null,
            "overflow": null,
            "overflow_x": null,
            "overflow_y": null,
            "padding": null,
            "right": null,
            "top": null,
            "visibility": null,
            "width": null
          }
        },
        "640bdefd3e0046a997d7b1c5216b6106": {
          "model_module": "@jupyter-widgets/output",
          "model_name": "OutputModel",
          "model_module_version": "1.0.0",
          "state": {
            "_dom_classes": [],
            "_model_module": "@jupyter-widgets/output",
            "_model_module_version": "1.0.0",
            "_model_name": "OutputModel",
            "_view_count": null,
            "_view_module": "@jupyter-widgets/output",
            "_view_module_version": "1.0.0",
            "_view_name": "OutputView",
            "layout": "IPY_MODEL_984f4010584740519390608446822856",
            "msg_id": "",
            "outputs": [
              {
                "output_type": "display_data",
                "data": {
                  "text/plain": "Image(value=b'\\x89PNG\\r\\n\\x1a\\n\\x00\\x00\\x00\\rIHDR\\x00\\x00\\x01B\\x00\\x00\\x01\\xf4\\x08\\x04\\x00\\x00\\x00\\xe27\\xec\\x7…",
                  "application/vnd.jupyter.widget-view+json": {
                    "version_major": 2,
                    "version_minor": 0,
                    "model_id": "3a856811fbdd43758f87ff9f10546fcf"
                  }
                },
                "metadata": {
                  "application/vnd.jupyter.widget-view+json": {
                    "colab": {
                      "custom_widget_manager": {
                        "url": "https://ssl.gstatic.com/colaboratory-static/widgets/colab-cdn-widget-manager/a8874ba6619b6106/manager.min.js"
                      }
                    }
                  }
                }
              }
            ]
          }
        },
        "3a856811fbdd43758f87ff9f10546fcf": {
          "model_module": "@jupyter-widgets/controls",
          "model_name": "ImageModel",
          "model_module_version": "1.5.0",
          "state": {
            "_dom_classes": [],
            "_model_module": "@jupyter-widgets/controls",
            "_model_module_version": "1.5.0",
            "_model_name": "ImageModel",
            "_view_count": null,
            "_view_module": "@jupyter-widgets/controls",
            "_view_module_version": "1.5.0",
            "_view_name": "ImageView",
            "format": "png",
            "height": "",
            "layout": "IPY_MODEL_ba533b8b35ec4aa589861c130651905e",
            "width": ""
          }
        },
        "ba533b8b35ec4aa589861c130651905e": {
          "model_module": "@jupyter-widgets/base",
          "model_name": "LayoutModel",
          "model_module_version": "1.2.0",
          "state": {
            "_model_module": "@jupyter-widgets/base",
            "_model_module_version": "1.2.0",
            "_model_name": "LayoutModel",
            "_view_count": null,
            "_view_module": "@jupyter-widgets/base",
            "_view_module_version": "1.2.0",
            "_view_name": "LayoutView",
            "align_content": null,
            "align_items": null,
            "align_self": null,
            "border": null,
            "bottom": null,
            "display": null,
            "flex": null,
            "flex_flow": null,
            "grid_area": null,
            "grid_auto_columns": null,
            "grid_auto_flow": null,
            "grid_auto_rows": null,
            "grid_column": null,
            "grid_gap": null,
            "grid_row": null,
            "grid_template_areas": null,
            "grid_template_columns": null,
            "grid_template_rows": null,
            "height": null,
            "justify_content": null,
            "justify_items": null,
            "left": null,
            "margin": null,
            "max_height": null,
            "max_width": null,
            "min_height": null,
            "min_width": null,
            "object_fit": null,
            "object_position": null,
            "order": null,
            "overflow": null,
            "overflow_x": null,
            "overflow_y": null,
            "padding": null,
            "right": null,
            "top": null,
            "visibility": null,
            "width": null
          }
        },
        "cdae367d231149da960762e388d1aff1": {
          "model_module": "@jupyter-widgets/base",
          "model_name": "LayoutModel",
          "model_module_version": "1.2.0",
          "state": {
            "_model_module": "@jupyter-widgets/base",
            "_model_module_version": "1.2.0",
            "_model_name": "LayoutModel",
            "_view_count": null,
            "_view_module": "@jupyter-widgets/base",
            "_view_module_version": "1.2.0",
            "_view_name": "LayoutView",
            "align_content": null,
            "align_items": null,
            "align_self": null,
            "border": null,
            "bottom": null,
            "display": null,
            "flex": null,
            "flex_flow": null,
            "grid_area": null,
            "grid_auto_columns": null,
            "grid_auto_flow": null,
            "grid_auto_rows": null,
            "grid_column": null,
            "grid_gap": null,
            "grid_row": null,
            "grid_template_areas": null,
            "grid_template_columns": null,
            "grid_template_rows": null,
            "height": null,
            "justify_content": null,
            "justify_items": null,
            "left": null,
            "margin": null,
            "max_height": null,
            "max_width": null,
            "min_height": null,
            "min_width": null,
            "object_fit": null,
            "object_position": null,
            "order": null,
            "overflow": null,
            "overflow_x": null,
            "overflow_y": null,
            "padding": null,
            "right": null,
            "top": null,
            "visibility": null,
            "width": null
          }
        },
        "9d775035ec4e4db387c64a53f32ca4dd": {
          "model_module": "@jupyter-widgets/output",
          "model_name": "OutputModel",
          "model_module_version": "1.0.0",
          "state": {
            "_dom_classes": [],
            "_model_module": "@jupyter-widgets/output",
            "_model_module_version": "1.0.0",
            "_model_name": "OutputModel",
            "_view_count": null,
            "_view_module": "@jupyter-widgets/output",
            "_view_module_version": "1.0.0",
            "_view_name": "OutputView",
            "layout": "IPY_MODEL_cdae367d231149da960762e388d1aff1",
            "msg_id": "",
            "outputs": [
              {
                "output_type": "display_data",
                "data": {
                  "text/plain": "Image(value=b'\\x89PNG\\r\\n\\x1a\\n\\x00\\x00\\x00\\rIHDR\\x00\\x00\\x01\\xc5\\x00\\x00\\x01\\xf4\\x08\\x04\\x00\\x00\\x00\\xe6\\xee\\…",
                  "application/vnd.jupyter.widget-view+json": {
                    "version_major": 2,
                    "version_minor": 0,
                    "model_id": "f2f03793872f40a0b7b5727314a022d3"
                  }
                },
                "metadata": {
                  "application/vnd.jupyter.widget-view+json": {
                    "colab": {
                      "custom_widget_manager": {
                        "url": "https://ssl.gstatic.com/colaboratory-static/widgets/colab-cdn-widget-manager/a8874ba6619b6106/manager.min.js"
                      }
                    }
                  }
                }
              }
            ]
          }
        },
        "f2f03793872f40a0b7b5727314a022d3": {
          "model_module": "@jupyter-widgets/controls",
          "model_name": "ImageModel",
          "model_module_version": "1.5.0",
          "state": {
            "_dom_classes": [],
            "_model_module": "@jupyter-widgets/controls",
            "_model_module_version": "1.5.0",
            "_model_name": "ImageModel",
            "_view_count": null,
            "_view_module": "@jupyter-widgets/controls",
            "_view_module_version": "1.5.0",
            "_view_name": "ImageView",
            "format": "png",
            "height": "",
            "layout": "IPY_MODEL_2fdd8b208ec04520aae89c44878c4512",
            "width": ""
          }
        },
        "2fdd8b208ec04520aae89c44878c4512": {
          "model_module": "@jupyter-widgets/base",
          "model_name": "LayoutModel",
          "model_module_version": "1.2.0",
          "state": {
            "_model_module": "@jupyter-widgets/base",
            "_model_module_version": "1.2.0",
            "_model_name": "LayoutModel",
            "_view_count": null,
            "_view_module": "@jupyter-widgets/base",
            "_view_module_version": "1.2.0",
            "_view_name": "LayoutView",
            "align_content": null,
            "align_items": null,
            "align_self": null,
            "border": null,
            "bottom": null,
            "display": null,
            "flex": null,
            "flex_flow": null,
            "grid_area": null,
            "grid_auto_columns": null,
            "grid_auto_flow": null,
            "grid_auto_rows": null,
            "grid_column": null,
            "grid_gap": null,
            "grid_row": null,
            "grid_template_areas": null,
            "grid_template_columns": null,
            "grid_template_rows": null,
            "height": null,
            "justify_content": null,
            "justify_items": null,
            "left": null,
            "margin": null,
            "max_height": null,
            "max_width": null,
            "min_height": null,
            "min_width": null,
            "object_fit": null,
            "object_position": null,
            "order": null,
            "overflow": null,
            "overflow_x": null,
            "overflow_y": null,
            "padding": null,
            "right": null,
            "top": null,
            "visibility": null,
            "width": null
          }
        },
        "1ae4cbf8e5c44bc196006b23b92fea6e": {
          "model_module": "@jupyter-widgets/base",
          "model_name": "LayoutModel",
          "model_module_version": "1.2.0",
          "state": {
            "_model_module": "@jupyter-widgets/base",
            "_model_module_version": "1.2.0",
            "_model_name": "LayoutModel",
            "_view_count": null,
            "_view_module": "@jupyter-widgets/base",
            "_view_module_version": "1.2.0",
            "_view_name": "LayoutView",
            "align_content": null,
            "align_items": null,
            "align_self": null,
            "border": null,
            "bottom": null,
            "display": null,
            "flex": null,
            "flex_flow": null,
            "grid_area": null,
            "grid_auto_columns": null,
            "grid_auto_flow": null,
            "grid_auto_rows": null,
            "grid_column": null,
            "grid_gap": null,
            "grid_row": null,
            "grid_template_areas": null,
            "grid_template_columns": null,
            "grid_template_rows": null,
            "height": null,
            "justify_content": null,
            "justify_items": null,
            "left": null,
            "margin": null,
            "max_height": null,
            "max_width": null,
            "min_height": null,
            "min_width": null,
            "object_fit": null,
            "object_position": null,
            "order": null,
            "overflow": null,
            "overflow_x": null,
            "overflow_y": null,
            "padding": null,
            "right": null,
            "top": null,
            "visibility": null,
            "width": null
          }
        },
        "154b877f0811439297b0fec4e6434de9": {
          "model_module": "@jupyter-widgets/output",
          "model_name": "OutputModel",
          "model_module_version": "1.0.0",
          "state": {
            "_dom_classes": [],
            "_model_module": "@jupyter-widgets/output",
            "_model_module_version": "1.0.0",
            "_model_name": "OutputModel",
            "_view_count": null,
            "_view_module": "@jupyter-widgets/output",
            "_view_module_version": "1.0.0",
            "_view_name": "OutputView",
            "layout": "IPY_MODEL_1ae4cbf8e5c44bc196006b23b92fea6e",
            "msg_id": "",
            "outputs": [
              {
                "output_type": "display_data",
                "data": {
                  "text/plain": "Image(value=b'\\x89PNG\\r\\n\\x1a\\n\\x00\\x00\\x00\\rIHDR\\x00\\x00\\x00\\xf4\\x00\\x00\\x01\\xf4\\x08\\x04\\x00\\x00\\x00\\xa0Q\\xc8…",
                  "application/vnd.jupyter.widget-view+json": {
                    "version_major": 2,
                    "version_minor": 0,
                    "model_id": "b6e22dcbb1cd40b0b4603557137d0b1f"
                  }
                },
                "metadata": {
                  "application/vnd.jupyter.widget-view+json": {
                    "colab": {
                      "custom_widget_manager": {
                        "url": "https://ssl.gstatic.com/colaboratory-static/widgets/colab-cdn-widget-manager/a8874ba6619b6106/manager.min.js"
                      }
                    }
                  }
                }
              }
            ]
          }
        },
        "b6e22dcbb1cd40b0b4603557137d0b1f": {
          "model_module": "@jupyter-widgets/controls",
          "model_name": "ImageModel",
          "model_module_version": "1.5.0",
          "state": {
            "_dom_classes": [],
            "_model_module": "@jupyter-widgets/controls",
            "_model_module_version": "1.5.0",
            "_model_name": "ImageModel",
            "_view_count": null,
            "_view_module": "@jupyter-widgets/controls",
            "_view_module_version": "1.5.0",
            "_view_name": "ImageView",
            "format": "png",
            "height": "",
            "layout": "IPY_MODEL_ff24bf6e66304bdd864262a4b455a6c4",
            "width": ""
          }
        },
        "ff24bf6e66304bdd864262a4b455a6c4": {
          "model_module": "@jupyter-widgets/base",
          "model_name": "LayoutModel",
          "model_module_version": "1.2.0",
          "state": {
            "_model_module": "@jupyter-widgets/base",
            "_model_module_version": "1.2.0",
            "_model_name": "LayoutModel",
            "_view_count": null,
            "_view_module": "@jupyter-widgets/base",
            "_view_module_version": "1.2.0",
            "_view_name": "LayoutView",
            "align_content": null,
            "align_items": null,
            "align_self": null,
            "border": null,
            "bottom": null,
            "display": null,
            "flex": null,
            "flex_flow": null,
            "grid_area": null,
            "grid_auto_columns": null,
            "grid_auto_flow": null,
            "grid_auto_rows": null,
            "grid_column": null,
            "grid_gap": null,
            "grid_row": null,
            "grid_template_areas": null,
            "grid_template_columns": null,
            "grid_template_rows": null,
            "height": null,
            "justify_content": null,
            "justify_items": null,
            "left": null,
            "margin": null,
            "max_height": null,
            "max_width": null,
            "min_height": null,
            "min_width": null,
            "object_fit": null,
            "object_position": null,
            "order": null,
            "overflow": null,
            "overflow_x": null,
            "overflow_y": null,
            "padding": null,
            "right": null,
            "top": null,
            "visibility": null,
            "width": null
          }
        },
        "c3d6d9f6500a4d64b9dfcdad7b33d49d": {
          "model_module": "@jupyter-widgets/base",
          "model_name": "LayoutModel",
          "model_module_version": "1.2.0",
          "state": {
            "_model_module": "@jupyter-widgets/base",
            "_model_module_version": "1.2.0",
            "_model_name": "LayoutModel",
            "_view_count": null,
            "_view_module": "@jupyter-widgets/base",
            "_view_module_version": "1.2.0",
            "_view_name": "LayoutView",
            "align_content": null,
            "align_items": null,
            "align_self": null,
            "border": null,
            "bottom": null,
            "display": null,
            "flex": null,
            "flex_flow": null,
            "grid_area": null,
            "grid_auto_columns": null,
            "grid_auto_flow": null,
            "grid_auto_rows": null,
            "grid_column": null,
            "grid_gap": null,
            "grid_row": null,
            "grid_template_areas": null,
            "grid_template_columns": null,
            "grid_template_rows": null,
            "height": null,
            "justify_content": null,
            "justify_items": null,
            "left": null,
            "margin": null,
            "max_height": null,
            "max_width": null,
            "min_height": null,
            "min_width": null,
            "object_fit": null,
            "object_position": null,
            "order": null,
            "overflow": null,
            "overflow_x": null,
            "overflow_y": null,
            "padding": null,
            "right": null,
            "top": null,
            "visibility": null,
            "width": null
          }
        },
        "4ddab0463901412cad14c0bd398dbe0d": {
          "model_module": "@jupyter-widgets/output",
          "model_name": "OutputModel",
          "model_module_version": "1.0.0",
          "state": {
            "_dom_classes": [],
            "_model_module": "@jupyter-widgets/output",
            "_model_module_version": "1.0.0",
            "_model_name": "OutputModel",
            "_view_count": null,
            "_view_module": "@jupyter-widgets/output",
            "_view_module_version": "1.0.0",
            "_view_name": "OutputView",
            "layout": "IPY_MODEL_c3d6d9f6500a4d64b9dfcdad7b33d49d",
            "msg_id": "",
            "outputs": [
              {
                "output_type": "display_data",
                "data": {
                  "text/plain": "Image(value=b'\\x89PNG\\r\\n\\x1a\\n\\x00\\x00\\x00\\rIHDR\\x00\\x00\\x01\\xf4\\x00\\x00\\x013\\x08\\x04\\x00\\x00\\x00m29\\r\\x00\\x0…",
                  "application/vnd.jupyter.widget-view+json": {
                    "version_major": 2,
                    "version_minor": 0,
                    "model_id": "7ef5952c5dc8458e99f6c005b2032617"
                  }
                },
                "metadata": {
                  "application/vnd.jupyter.widget-view+json": {
                    "colab": {
                      "custom_widget_manager": {
                        "url": "https://ssl.gstatic.com/colaboratory-static/widgets/colab-cdn-widget-manager/a8874ba6619b6106/manager.min.js"
                      }
                    }
                  }
                }
              }
            ]
          }
        },
        "7ef5952c5dc8458e99f6c005b2032617": {
          "model_module": "@jupyter-widgets/controls",
          "model_name": "ImageModel",
          "model_module_version": "1.5.0",
          "state": {
            "_dom_classes": [],
            "_model_module": "@jupyter-widgets/controls",
            "_model_module_version": "1.5.0",
            "_model_name": "ImageModel",
            "_view_count": null,
            "_view_module": "@jupyter-widgets/controls",
            "_view_module_version": "1.5.0",
            "_view_name": "ImageView",
            "format": "png",
            "height": "",
            "layout": "IPY_MODEL_48040547dcf644089a0bb5a1e2d0f4d4",
            "width": ""
          }
        },
        "48040547dcf644089a0bb5a1e2d0f4d4": {
          "model_module": "@jupyter-widgets/base",
          "model_name": "LayoutModel",
          "model_module_version": "1.2.0",
          "state": {
            "_model_module": "@jupyter-widgets/base",
            "_model_module_version": "1.2.0",
            "_model_name": "LayoutModel",
            "_view_count": null,
            "_view_module": "@jupyter-widgets/base",
            "_view_module_version": "1.2.0",
            "_view_name": "LayoutView",
            "align_content": null,
            "align_items": null,
            "align_self": null,
            "border": null,
            "bottom": null,
            "display": null,
            "flex": null,
            "flex_flow": null,
            "grid_area": null,
            "grid_auto_columns": null,
            "grid_auto_flow": null,
            "grid_auto_rows": null,
            "grid_column": null,
            "grid_gap": null,
            "grid_row": null,
            "grid_template_areas": null,
            "grid_template_columns": null,
            "grid_template_rows": null,
            "height": null,
            "justify_content": null,
            "justify_items": null,
            "left": null,
            "margin": null,
            "max_height": null,
            "max_width": null,
            "min_height": null,
            "min_width": null,
            "object_fit": null,
            "object_position": null,
            "order": null,
            "overflow": null,
            "overflow_x": null,
            "overflow_y": null,
            "padding": null,
            "right": null,
            "top": null,
            "visibility": null,
            "width": null
          }
        },
        "2065afaa33624f0c9cc9b39bbb6377bc": {
          "model_module": "@jupyter-widgets/base",
          "model_name": "LayoutModel",
          "model_module_version": "1.2.0",
          "state": {
            "_model_module": "@jupyter-widgets/base",
            "_model_module_version": "1.2.0",
            "_model_name": "LayoutModel",
            "_view_count": null,
            "_view_module": "@jupyter-widgets/base",
            "_view_module_version": "1.2.0",
            "_view_name": "LayoutView",
            "align_content": null,
            "align_items": null,
            "align_self": null,
            "border": null,
            "bottom": null,
            "display": null,
            "flex": null,
            "flex_flow": null,
            "grid_area": null,
            "grid_auto_columns": null,
            "grid_auto_flow": null,
            "grid_auto_rows": null,
            "grid_column": null,
            "grid_gap": null,
            "grid_row": null,
            "grid_template_areas": null,
            "grid_template_columns": null,
            "grid_template_rows": null,
            "height": null,
            "justify_content": null,
            "justify_items": null,
            "left": null,
            "margin": null,
            "max_height": null,
            "max_width": null,
            "min_height": null,
            "min_width": null,
            "object_fit": null,
            "object_position": null,
            "order": null,
            "overflow": null,
            "overflow_x": null,
            "overflow_y": null,
            "padding": null,
            "right": null,
            "top": null,
            "visibility": null,
            "width": null
          }
        },
        "3f7b10e124ec482783e4b0da7ff60cb9": {
          "model_module": "@jupyter-widgets/output",
          "model_name": "OutputModel",
          "model_module_version": "1.0.0",
          "state": {
            "_dom_classes": [],
            "_model_module": "@jupyter-widgets/output",
            "_model_module_version": "1.0.0",
            "_model_name": "OutputModel",
            "_view_count": null,
            "_view_module": "@jupyter-widgets/output",
            "_view_module_version": "1.0.0",
            "_view_name": "OutputView",
            "layout": "IPY_MODEL_2065afaa33624f0c9cc9b39bbb6377bc",
            "msg_id": "",
            "outputs": [
              {
                "output_type": "display_data",
                "data": {
                  "text/plain": "Image(value=b'\\x89PNG\\r\\n\\x1a\\n\\x00\\x00\\x00\\rIHDR\\x00\\x00\\x01\\xf4\\x00\\x00\\x00\\x91\\x08\\x04\\x00\\x00\\x00\\x9f\\x91\\…",
                  "application/vnd.jupyter.widget-view+json": {
                    "version_major": 2,
                    "version_minor": 0,
                    "model_id": "136b65bb003640498ca84cd8ff496bfe"
                  }
                },
                "metadata": {
                  "application/vnd.jupyter.widget-view+json": {
                    "colab": {
                      "custom_widget_manager": {
                        "url": "https://ssl.gstatic.com/colaboratory-static/widgets/colab-cdn-widget-manager/a8874ba6619b6106/manager.min.js"
                      }
                    }
                  }
                }
              }
            ]
          }
        },
        "136b65bb003640498ca84cd8ff496bfe": {
          "model_module": "@jupyter-widgets/controls",
          "model_name": "ImageModel",
          "model_module_version": "1.5.0",
          "state": {
            "_dom_classes": [],
            "_model_module": "@jupyter-widgets/controls",
            "_model_module_version": "1.5.0",
            "_model_name": "ImageModel",
            "_view_count": null,
            "_view_module": "@jupyter-widgets/controls",
            "_view_module_version": "1.5.0",
            "_view_name": "ImageView",
            "format": "png",
            "height": "",
            "layout": "IPY_MODEL_c06814cd80db488dbf0b97bd2fa90028",
            "width": ""
          }
        },
        "c06814cd80db488dbf0b97bd2fa90028": {
          "model_module": "@jupyter-widgets/base",
          "model_name": "LayoutModel",
          "model_module_version": "1.2.0",
          "state": {
            "_model_module": "@jupyter-widgets/base",
            "_model_module_version": "1.2.0",
            "_model_name": "LayoutModel",
            "_view_count": null,
            "_view_module": "@jupyter-widgets/base",
            "_view_module_version": "1.2.0",
            "_view_name": "LayoutView",
            "align_content": null,
            "align_items": null,
            "align_self": null,
            "border": null,
            "bottom": null,
            "display": null,
            "flex": null,
            "flex_flow": null,
            "grid_area": null,
            "grid_auto_columns": null,
            "grid_auto_flow": null,
            "grid_auto_rows": null,
            "grid_column": null,
            "grid_gap": null,
            "grid_row": null,
            "grid_template_areas": null,
            "grid_template_columns": null,
            "grid_template_rows": null,
            "height": null,
            "justify_content": null,
            "justify_items": null,
            "left": null,
            "margin": null,
            "max_height": null,
            "max_width": null,
            "min_height": null,
            "min_width": null,
            "object_fit": null,
            "object_position": null,
            "order": null,
            "overflow": null,
            "overflow_x": null,
            "overflow_y": null,
            "padding": null,
            "right": null,
            "top": null,
            "visibility": null,
            "width": null
          }
        },
        "cd219ff51cdd40d09e10230a014b498f": {
          "model_module": "@jupyter-widgets/base",
          "model_name": "LayoutModel",
          "model_module_version": "1.2.0",
          "state": {
            "_model_module": "@jupyter-widgets/base",
            "_model_module_version": "1.2.0",
            "_model_name": "LayoutModel",
            "_view_count": null,
            "_view_module": "@jupyter-widgets/base",
            "_view_module_version": "1.2.0",
            "_view_name": "LayoutView",
            "align_content": null,
            "align_items": null,
            "align_self": null,
            "border": null,
            "bottom": null,
            "display": null,
            "flex": null,
            "flex_flow": null,
            "grid_area": null,
            "grid_auto_columns": null,
            "grid_auto_flow": null,
            "grid_auto_rows": null,
            "grid_column": null,
            "grid_gap": null,
            "grid_row": null,
            "grid_template_areas": null,
            "grid_template_columns": null,
            "grid_template_rows": null,
            "height": null,
            "justify_content": null,
            "justify_items": null,
            "left": null,
            "margin": null,
            "max_height": null,
            "max_width": null,
            "min_height": null,
            "min_width": null,
            "object_fit": null,
            "object_position": null,
            "order": null,
            "overflow": null,
            "overflow_x": null,
            "overflow_y": null,
            "padding": null,
            "right": null,
            "top": null,
            "visibility": null,
            "width": null
          }
        },
        "884850989ca44a42b27f7572256aec4e": {
          "model_module": "@jupyter-widgets/output",
          "model_name": "OutputModel",
          "model_module_version": "1.0.0",
          "state": {
            "_dom_classes": [],
            "_model_module": "@jupyter-widgets/output",
            "_model_module_version": "1.0.0",
            "_model_name": "OutputModel",
            "_view_count": null,
            "_view_module": "@jupyter-widgets/output",
            "_view_module_version": "1.0.0",
            "_view_name": "OutputView",
            "layout": "IPY_MODEL_cd219ff51cdd40d09e10230a014b498f",
            "msg_id": "",
            "outputs": [
              {
                "output_type": "display_data",
                "data": {
                  "text/plain": "Image(value=b'\\x89PNG\\r\\n\\x1a\\n\\x00\\x00\\x00\\rIHDR\\x00\\x00\\x01\\xf4\\x00\\x00\\x01\\xb6\\x08\\x04\\x00\\x00\\x00#O\\xbcf\\x…",
                  "application/vnd.jupyter.widget-view+json": {
                    "version_major": 2,
                    "version_minor": 0,
                    "model_id": "294ebd209ef245fa83779a1cc94efd5a"
                  }
                },
                "metadata": {
                  "application/vnd.jupyter.widget-view+json": {
                    "colab": {
                      "custom_widget_manager": {
                        "url": "https://ssl.gstatic.com/colaboratory-static/widgets/colab-cdn-widget-manager/a8874ba6619b6106/manager.min.js"
                      }
                    }
                  }
                }
              }
            ]
          }
        },
        "294ebd209ef245fa83779a1cc94efd5a": {
          "model_module": "@jupyter-widgets/controls",
          "model_name": "ImageModel",
          "model_module_version": "1.5.0",
          "state": {
            "_dom_classes": [],
            "_model_module": "@jupyter-widgets/controls",
            "_model_module_version": "1.5.0",
            "_model_name": "ImageModel",
            "_view_count": null,
            "_view_module": "@jupyter-widgets/controls",
            "_view_module_version": "1.5.0",
            "_view_name": "ImageView",
            "format": "png",
            "height": "",
            "layout": "IPY_MODEL_0fafbc794dbd45059415a6c97952c1e1",
            "width": ""
          }
        },
        "0fafbc794dbd45059415a6c97952c1e1": {
          "model_module": "@jupyter-widgets/base",
          "model_name": "LayoutModel",
          "model_module_version": "1.2.0",
          "state": {
            "_model_module": "@jupyter-widgets/base",
            "_model_module_version": "1.2.0",
            "_model_name": "LayoutModel",
            "_view_count": null,
            "_view_module": "@jupyter-widgets/base",
            "_view_module_version": "1.2.0",
            "_view_name": "LayoutView",
            "align_content": null,
            "align_items": null,
            "align_self": null,
            "border": null,
            "bottom": null,
            "display": null,
            "flex": null,
            "flex_flow": null,
            "grid_area": null,
            "grid_auto_columns": null,
            "grid_auto_flow": null,
            "grid_auto_rows": null,
            "grid_column": null,
            "grid_gap": null,
            "grid_row": null,
            "grid_template_areas": null,
            "grid_template_columns": null,
            "grid_template_rows": null,
            "height": null,
            "justify_content": null,
            "justify_items": null,
            "left": null,
            "margin": null,
            "max_height": null,
            "max_width": null,
            "min_height": null,
            "min_width": null,
            "object_fit": null,
            "object_position": null,
            "order": null,
            "overflow": null,
            "overflow_x": null,
            "overflow_y": null,
            "padding": null,
            "right": null,
            "top": null,
            "visibility": null,
            "width": null
          }
        },
        "210615fcb0264e08aa133eda0011d4a0": {
          "model_module": "@jupyter-widgets/base",
          "model_name": "LayoutModel",
          "model_module_version": "1.2.0",
          "state": {
            "_model_module": "@jupyter-widgets/base",
            "_model_module_version": "1.2.0",
            "_model_name": "LayoutModel",
            "_view_count": null,
            "_view_module": "@jupyter-widgets/base",
            "_view_module_version": "1.2.0",
            "_view_name": "LayoutView",
            "align_content": null,
            "align_items": null,
            "align_self": null,
            "border": null,
            "bottom": null,
            "display": null,
            "flex": null,
            "flex_flow": null,
            "grid_area": null,
            "grid_auto_columns": null,
            "grid_auto_flow": null,
            "grid_auto_rows": null,
            "grid_column": null,
            "grid_gap": null,
            "grid_row": null,
            "grid_template_areas": null,
            "grid_template_columns": null,
            "grid_template_rows": null,
            "height": null,
            "justify_content": null,
            "justify_items": null,
            "left": null,
            "margin": null,
            "max_height": null,
            "max_width": null,
            "min_height": null,
            "min_width": null,
            "object_fit": null,
            "object_position": null,
            "order": null,
            "overflow": null,
            "overflow_x": null,
            "overflow_y": null,
            "padding": null,
            "right": null,
            "top": null,
            "visibility": null,
            "width": null
          }
        },
        "df41fc5b512441eb8d85464b9451f6a1": {
          "model_module": "@jupyter-widgets/output",
          "model_name": "OutputModel",
          "model_module_version": "1.0.0",
          "state": {
            "_dom_classes": [],
            "_model_module": "@jupyter-widgets/output",
            "_model_module_version": "1.0.0",
            "_model_name": "OutputModel",
            "_view_count": null,
            "_view_module": "@jupyter-widgets/output",
            "_view_module_version": "1.0.0",
            "_view_name": "OutputView",
            "layout": "IPY_MODEL_210615fcb0264e08aa133eda0011d4a0",
            "msg_id": "",
            "outputs": [
              {
                "output_type": "display_data",
                "data": {
                  "text/plain": "Image(value=b'\\x89PNG\\r\\n\\x1a\\n\\x00\\x00\\x00\\rIHDR\\x00\\x00\\x01\\xf4\\x00\\x00\\x01W\\x08\\x04\\x00\\x00\\x00\\xfeWtA\\x00\\…",
                  "application/vnd.jupyter.widget-view+json": {
                    "version_major": 2,
                    "version_minor": 0,
                    "model_id": "ae753aaa9e04434f8d1cd7354301b5a4"
                  }
                },
                "metadata": {
                  "application/vnd.jupyter.widget-view+json": {
                    "colab": {
                      "custom_widget_manager": {
                        "url": "https://ssl.gstatic.com/colaboratory-static/widgets/colab-cdn-widget-manager/a8874ba6619b6106/manager.min.js"
                      }
                    }
                  }
                }
              }
            ]
          }
        },
        "ae753aaa9e04434f8d1cd7354301b5a4": {
          "model_module": "@jupyter-widgets/controls",
          "model_name": "ImageModel",
          "model_module_version": "1.5.0",
          "state": {
            "_dom_classes": [],
            "_model_module": "@jupyter-widgets/controls",
            "_model_module_version": "1.5.0",
            "_model_name": "ImageModel",
            "_view_count": null,
            "_view_module": "@jupyter-widgets/controls",
            "_view_module_version": "1.5.0",
            "_view_name": "ImageView",
            "format": "png",
            "height": "",
            "layout": "IPY_MODEL_629059ec0cb14e4f91d8b7c2bc11a2c4",
            "width": ""
          }
        },
        "629059ec0cb14e4f91d8b7c2bc11a2c4": {
          "model_module": "@jupyter-widgets/base",
          "model_name": "LayoutModel",
          "model_module_version": "1.2.0",
          "state": {
            "_model_module": "@jupyter-widgets/base",
            "_model_module_version": "1.2.0",
            "_model_name": "LayoutModel",
            "_view_count": null,
            "_view_module": "@jupyter-widgets/base",
            "_view_module_version": "1.2.0",
            "_view_name": "LayoutView",
            "align_content": null,
            "align_items": null,
            "align_self": null,
            "border": null,
            "bottom": null,
            "display": null,
            "flex": null,
            "flex_flow": null,
            "grid_area": null,
            "grid_auto_columns": null,
            "grid_auto_flow": null,
            "grid_auto_rows": null,
            "grid_column": null,
            "grid_gap": null,
            "grid_row": null,
            "grid_template_areas": null,
            "grid_template_columns": null,
            "grid_template_rows": null,
            "height": null,
            "justify_content": null,
            "justify_items": null,
            "left": null,
            "margin": null,
            "max_height": null,
            "max_width": null,
            "min_height": null,
            "min_width": null,
            "object_fit": null,
            "object_position": null,
            "order": null,
            "overflow": null,
            "overflow_x": null,
            "overflow_y": null,
            "padding": null,
            "right": null,
            "top": null,
            "visibility": null,
            "width": null
          }
        },
        "43e95a60190b4187ac900300494da2ec": {
          "model_module": "@jupyter-widgets/base",
          "model_name": "LayoutModel",
          "model_module_version": "1.2.0",
          "state": {
            "_model_module": "@jupyter-widgets/base",
            "_model_module_version": "1.2.0",
            "_model_name": "LayoutModel",
            "_view_count": null,
            "_view_module": "@jupyter-widgets/base",
            "_view_module_version": "1.2.0",
            "_view_name": "LayoutView",
            "align_content": null,
            "align_items": null,
            "align_self": null,
            "border": null,
            "bottom": null,
            "display": null,
            "flex": null,
            "flex_flow": null,
            "grid_area": null,
            "grid_auto_columns": null,
            "grid_auto_flow": null,
            "grid_auto_rows": null,
            "grid_column": null,
            "grid_gap": null,
            "grid_row": null,
            "grid_template_areas": null,
            "grid_template_columns": null,
            "grid_template_rows": null,
            "height": null,
            "justify_content": null,
            "justify_items": null,
            "left": null,
            "margin": null,
            "max_height": null,
            "max_width": null,
            "min_height": null,
            "min_width": null,
            "object_fit": null,
            "object_position": null,
            "order": null,
            "overflow": null,
            "overflow_x": null,
            "overflow_y": null,
            "padding": null,
            "right": null,
            "top": null,
            "visibility": null,
            "width": null
          }
        },
        "ddaece4b6bce4a95891ff1d8bbe53ce5": {
          "model_module": "@jupyter-widgets/output",
          "model_name": "OutputModel",
          "model_module_version": "1.0.0",
          "state": {
            "_dom_classes": [],
            "_model_module": "@jupyter-widgets/output",
            "_model_module_version": "1.0.0",
            "_model_name": "OutputModel",
            "_view_count": null,
            "_view_module": "@jupyter-widgets/output",
            "_view_module_version": "1.0.0",
            "_view_name": "OutputView",
            "layout": "IPY_MODEL_43e95a60190b4187ac900300494da2ec",
            "msg_id": "",
            "outputs": [
              {
                "output_type": "display_data",
                "data": {
                  "text/plain": "Image(value=b'\\x89PNG\\r\\n\\x1a\\n\\x00\\x00\\x00\\rIHDR\\x00\\x00\\x01\\xf4\\x00\\x00\\x01\\xf2\\x08\\x04\\x00\\x00\\x00\\xb7\\x86\\…",
                  "application/vnd.jupyter.widget-view+json": {
                    "version_major": 2,
                    "version_minor": 0,
                    "model_id": "37d0c063efc44db19d78006afb8e7dba"
                  }
                },
                "metadata": {
                  "application/vnd.jupyter.widget-view+json": {
                    "colab": {
                      "custom_widget_manager": {
                        "url": "https://ssl.gstatic.com/colaboratory-static/widgets/colab-cdn-widget-manager/a8874ba6619b6106/manager.min.js"
                      }
                    }
                  }
                }
              }
            ]
          }
        },
        "37d0c063efc44db19d78006afb8e7dba": {
          "model_module": "@jupyter-widgets/controls",
          "model_name": "ImageModel",
          "model_module_version": "1.5.0",
          "state": {
            "_dom_classes": [],
            "_model_module": "@jupyter-widgets/controls",
            "_model_module_version": "1.5.0",
            "_model_name": "ImageModel",
            "_view_count": null,
            "_view_module": "@jupyter-widgets/controls",
            "_view_module_version": "1.5.0",
            "_view_name": "ImageView",
            "format": "png",
            "height": "",
            "layout": "IPY_MODEL_54f8553c287a4b5cb37d1dd77c31c0ca",
            "width": ""
          }
        },
        "54f8553c287a4b5cb37d1dd77c31c0ca": {
          "model_module": "@jupyter-widgets/base",
          "model_name": "LayoutModel",
          "model_module_version": "1.2.0",
          "state": {
            "_model_module": "@jupyter-widgets/base",
            "_model_module_version": "1.2.0",
            "_model_name": "LayoutModel",
            "_view_count": null,
            "_view_module": "@jupyter-widgets/base",
            "_view_module_version": "1.2.0",
            "_view_name": "LayoutView",
            "align_content": null,
            "align_items": null,
            "align_self": null,
            "border": null,
            "bottom": null,
            "display": null,
            "flex": null,
            "flex_flow": null,
            "grid_area": null,
            "grid_auto_columns": null,
            "grid_auto_flow": null,
            "grid_auto_rows": null,
            "grid_column": null,
            "grid_gap": null,
            "grid_row": null,
            "grid_template_areas": null,
            "grid_template_columns": null,
            "grid_template_rows": null,
            "height": null,
            "justify_content": null,
            "justify_items": null,
            "left": null,
            "margin": null,
            "max_height": null,
            "max_width": null,
            "min_height": null,
            "min_width": null,
            "object_fit": null,
            "object_position": null,
            "order": null,
            "overflow": null,
            "overflow_x": null,
            "overflow_y": null,
            "padding": null,
            "right": null,
            "top": null,
            "visibility": null,
            "width": null
          }
        },
        "201856f4511e44e2918d36dfc3fe7a5f": {
          "model_module": "@jupyter-widgets/output",
          "model_name": "OutputModel",
          "model_module_version": "1.0.0",
          "state": {
            "_dom_classes": [],
            "_model_module": "@jupyter-widgets/output",
            "_model_module_version": "1.0.0",
            "_model_name": "OutputModel",
            "_view_count": null,
            "_view_module": "@jupyter-widgets/output",
            "_view_module_version": "1.0.0",
            "_view_name": "OutputView",
            "layout": "IPY_MODEL_55c1109298ee4280b9a2eaa110c03a01",
            "msg_id": "",
            "outputs": [
              {
                "output_type": "display_data",
                "data": {
                  "text/plain": "Image(value=b'\\x89PNG\\r\\n\\x1a\\n\\x00\\x00\\x00\\rIHDR\\x00\\x00\\x01\\xf4\\x00\\x00\\x00\\xf5\\x08\\x04\\x00\\x00\\x00\\x0c\\xf4\\…",
                  "application/vnd.jupyter.widget-view+json": {
                    "version_major": 2,
                    "version_minor": 0,
                    "model_id": "76dbb3f4ee174cd9983c6501791d462a"
                  }
                },
                "metadata": {
                  "application/vnd.jupyter.widget-view+json": {
                    "colab": {
                      "custom_widget_manager": {
                        "url": "https://ssl.gstatic.com/colaboratory-static/widgets/colab-cdn-widget-manager/a8874ba6619b6106/manager.min.js"
                      }
                    }
                  }
                }
              }
            ]
          }
        },
        "55c1109298ee4280b9a2eaa110c03a01": {
          "model_module": "@jupyter-widgets/base",
          "model_name": "LayoutModel",
          "model_module_version": "1.2.0",
          "state": {
            "_model_module": "@jupyter-widgets/base",
            "_model_module_version": "1.2.0",
            "_model_name": "LayoutModel",
            "_view_count": null,
            "_view_module": "@jupyter-widgets/base",
            "_view_module_version": "1.2.0",
            "_view_name": "LayoutView",
            "align_content": null,
            "align_items": null,
            "align_self": null,
            "border": null,
            "bottom": null,
            "display": null,
            "flex": null,
            "flex_flow": null,
            "grid_area": null,
            "grid_auto_columns": null,
            "grid_auto_flow": null,
            "grid_auto_rows": null,
            "grid_column": null,
            "grid_gap": null,
            "grid_row": null,
            "grid_template_areas": null,
            "grid_template_columns": null,
            "grid_template_rows": null,
            "height": null,
            "justify_content": null,
            "justify_items": null,
            "left": null,
            "margin": null,
            "max_height": null,
            "max_width": null,
            "min_height": null,
            "min_width": null,
            "object_fit": null,
            "object_position": null,
            "order": null,
            "overflow": null,
            "overflow_x": null,
            "overflow_y": null,
            "padding": null,
            "right": null,
            "top": null,
            "visibility": null,
            "width": null
          }
        },
        "76dbb3f4ee174cd9983c6501791d462a": {
          "model_module": "@jupyter-widgets/controls",
          "model_name": "ImageModel",
          "model_module_version": "1.5.0",
          "state": {
            "_dom_classes": [],
            "_model_module": "@jupyter-widgets/controls",
            "_model_module_version": "1.5.0",
            "_model_name": "ImageModel",
            "_view_count": null,
            "_view_module": "@jupyter-widgets/controls",
            "_view_module_version": "1.5.0",
            "_view_name": "ImageView",
            "format": "png",
            "height": "",
            "layout": "IPY_MODEL_163ec50c7917456597c2be9c32b6ee5d",
            "width": ""
          }
        },
        "163ec50c7917456597c2be9c32b6ee5d": {
          "model_module": "@jupyter-widgets/base",
          "model_name": "LayoutModel",
          "model_module_version": "1.2.0",
          "state": {
            "_model_module": "@jupyter-widgets/base",
            "_model_module_version": "1.2.0",
            "_model_name": "LayoutModel",
            "_view_count": null,
            "_view_module": "@jupyter-widgets/base",
            "_view_module_version": "1.2.0",
            "_view_name": "LayoutView",
            "align_content": null,
            "align_items": null,
            "align_self": null,
            "border": null,
            "bottom": null,
            "display": null,
            "flex": null,
            "flex_flow": null,
            "grid_area": null,
            "grid_auto_columns": null,
            "grid_auto_flow": null,
            "grid_auto_rows": null,
            "grid_column": null,
            "grid_gap": null,
            "grid_row": null,
            "grid_template_areas": null,
            "grid_template_columns": null,
            "grid_template_rows": null,
            "height": null,
            "justify_content": null,
            "justify_items": null,
            "left": null,
            "margin": null,
            "max_height": null,
            "max_width": null,
            "min_height": null,
            "min_width": null,
            "object_fit": null,
            "object_position": null,
            "order": null,
            "overflow": null,
            "overflow_x": null,
            "overflow_y": null,
            "padding": null,
            "right": null,
            "top": null,
            "visibility": null,
            "width": null
          }
        },
        "a5a2de50e41d4505b0a131ceb85b1f56": {
          "model_module": "@jupyter-widgets/base",
          "model_name": "LayoutModel",
          "model_module_version": "1.2.0",
          "state": {
            "_model_module": "@jupyter-widgets/base",
            "_model_module_version": "1.2.0",
            "_model_name": "LayoutModel",
            "_view_count": null,
            "_view_module": "@jupyter-widgets/base",
            "_view_module_version": "1.2.0",
            "_view_name": "LayoutView",
            "align_content": null,
            "align_items": null,
            "align_self": null,
            "border": null,
            "bottom": null,
            "display": null,
            "flex": null,
            "flex_flow": null,
            "grid_area": null,
            "grid_auto_columns": null,
            "grid_auto_flow": null,
            "grid_auto_rows": null,
            "grid_column": null,
            "grid_gap": null,
            "grid_row": null,
            "grid_template_areas": null,
            "grid_template_columns": null,
            "grid_template_rows": null,
            "height": null,
            "justify_content": null,
            "justify_items": null,
            "left": null,
            "margin": null,
            "max_height": null,
            "max_width": null,
            "min_height": null,
            "min_width": null,
            "object_fit": null,
            "object_position": null,
            "order": null,
            "overflow": null,
            "overflow_x": null,
            "overflow_y": null,
            "padding": null,
            "right": null,
            "top": null,
            "visibility": null,
            "width": null
          }
        },
        "fe60f0c467504defa7c748dd554c0534": {
          "model_module": "@jupyter-widgets/output",
          "model_name": "OutputModel",
          "model_module_version": "1.0.0",
          "state": {
            "_dom_classes": [],
            "_model_module": "@jupyter-widgets/output",
            "_model_module_version": "1.0.0",
            "_model_name": "OutputModel",
            "_view_count": null,
            "_view_module": "@jupyter-widgets/output",
            "_view_module_version": "1.0.0",
            "_view_name": "OutputView",
            "layout": "IPY_MODEL_a5a2de50e41d4505b0a131ceb85b1f56",
            "msg_id": "",
            "outputs": [
              {
                "output_type": "display_data",
                "data": {
                  "text/plain": "Image(value=b'\\x89PNG\\r\\n\\x1a\\n\\x00\\x00\\x00\\rIHDR\\x00\\x00\\x01\\xf4\\x00\\x00\\x01\\xea\\x08\\x04\\x00\\x00\\x00X\\x03t\\xe…",
                  "application/vnd.jupyter.widget-view+json": {
                    "version_major": 2,
                    "version_minor": 0,
                    "model_id": "d64bf685a1a041959d0d19c6da3c8349"
                  }
                },
                "metadata": {
                  "application/vnd.jupyter.widget-view+json": {
                    "colab": {
                      "custom_widget_manager": {
                        "url": "https://ssl.gstatic.com/colaboratory-static/widgets/colab-cdn-widget-manager/a8874ba6619b6106/manager.min.js"
                      }
                    }
                  }
                }
              }
            ]
          }
        },
        "d64bf685a1a041959d0d19c6da3c8349": {
          "model_module": "@jupyter-widgets/controls",
          "model_name": "ImageModel",
          "model_module_version": "1.5.0",
          "state": {
            "_dom_classes": [],
            "_model_module": "@jupyter-widgets/controls",
            "_model_module_version": "1.5.0",
            "_model_name": "ImageModel",
            "_view_count": null,
            "_view_module": "@jupyter-widgets/controls",
            "_view_module_version": "1.5.0",
            "_view_name": "ImageView",
            "format": "png",
            "height": "",
            "layout": "IPY_MODEL_5d7b9c57d2d44e23acee8aee897a4449",
            "width": ""
          }
        },
        "5d7b9c57d2d44e23acee8aee897a4449": {
          "model_module": "@jupyter-widgets/base",
          "model_name": "LayoutModel",
          "model_module_version": "1.2.0",
          "state": {
            "_model_module": "@jupyter-widgets/base",
            "_model_module_version": "1.2.0",
            "_model_name": "LayoutModel",
            "_view_count": null,
            "_view_module": "@jupyter-widgets/base",
            "_view_module_version": "1.2.0",
            "_view_name": "LayoutView",
            "align_content": null,
            "align_items": null,
            "align_self": null,
            "border": null,
            "bottom": null,
            "display": null,
            "flex": null,
            "flex_flow": null,
            "grid_area": null,
            "grid_auto_columns": null,
            "grid_auto_flow": null,
            "grid_auto_rows": null,
            "grid_column": null,
            "grid_gap": null,
            "grid_row": null,
            "grid_template_areas": null,
            "grid_template_columns": null,
            "grid_template_rows": null,
            "height": null,
            "justify_content": null,
            "justify_items": null,
            "left": null,
            "margin": null,
            "max_height": null,
            "max_width": null,
            "min_height": null,
            "min_width": null,
            "object_fit": null,
            "object_position": null,
            "order": null,
            "overflow": null,
            "overflow_x": null,
            "overflow_y": null,
            "padding": null,
            "right": null,
            "top": null,
            "visibility": null,
            "width": null
          }
        },
        "62bdc2a34a7648399698d9f6d3384776": {
          "model_module": "@jupyter-widgets/base",
          "model_name": "LayoutModel",
          "model_module_version": "1.2.0",
          "state": {
            "_model_module": "@jupyter-widgets/base",
            "_model_module_version": "1.2.0",
            "_model_name": "LayoutModel",
            "_view_count": null,
            "_view_module": "@jupyter-widgets/base",
            "_view_module_version": "1.2.0",
            "_view_name": "LayoutView",
            "align_content": null,
            "align_items": null,
            "align_self": null,
            "border": null,
            "bottom": null,
            "display": null,
            "flex": null,
            "flex_flow": null,
            "grid_area": null,
            "grid_auto_columns": null,
            "grid_auto_flow": null,
            "grid_auto_rows": null,
            "grid_column": null,
            "grid_gap": null,
            "grid_row": null,
            "grid_template_areas": null,
            "grid_template_columns": null,
            "grid_template_rows": null,
            "height": null,
            "justify_content": null,
            "justify_items": null,
            "left": null,
            "margin": null,
            "max_height": null,
            "max_width": null,
            "min_height": null,
            "min_width": null,
            "object_fit": null,
            "object_position": null,
            "order": null,
            "overflow": null,
            "overflow_x": null,
            "overflow_y": null,
            "padding": null,
            "right": null,
            "top": null,
            "visibility": null,
            "width": null
          }
        },
        "6213161f6bc04b03b4b716fb0db04d6d": {
          "model_module": "@jupyter-widgets/output",
          "model_name": "OutputModel",
          "model_module_version": "1.0.0",
          "state": {
            "_dom_classes": [],
            "_model_module": "@jupyter-widgets/output",
            "_model_module_version": "1.0.0",
            "_model_name": "OutputModel",
            "_view_count": null,
            "_view_module": "@jupyter-widgets/output",
            "_view_module_version": "1.0.0",
            "_view_name": "OutputView",
            "layout": "IPY_MODEL_62bdc2a34a7648399698d9f6d3384776",
            "msg_id": "",
            "outputs": [
              {
                "output_type": "display_data",
                "data": {
                  "text/plain": "Image(value=b'\\x89PNG\\r\\n\\x1a\\n\\x00\\x00\\x00\\rIHDR\\x00\\x00\\x01\\xf4\\x00\\x00\\x01Y\\x08\\x04\\x00\\x00\\x00\\xc4]\\x151\\x…",
                  "application/vnd.jupyter.widget-view+json": {
                    "version_major": 2,
                    "version_minor": 0,
                    "model_id": "5e701d23cb6c46309d4779e0d788a977"
                  }
                },
                "metadata": {
                  "application/vnd.jupyter.widget-view+json": {
                    "colab": {
                      "custom_widget_manager": {
                        "url": "https://ssl.gstatic.com/colaboratory-static/widgets/colab-cdn-widget-manager/a8874ba6619b6106/manager.min.js"
                      }
                    }
                  }
                }
              }
            ]
          }
        },
        "5e701d23cb6c46309d4779e0d788a977": {
          "model_module": "@jupyter-widgets/controls",
          "model_name": "ImageModel",
          "model_module_version": "1.5.0",
          "state": {
            "_dom_classes": [],
            "_model_module": "@jupyter-widgets/controls",
            "_model_module_version": "1.5.0",
            "_model_name": "ImageModel",
            "_view_count": null,
            "_view_module": "@jupyter-widgets/controls",
            "_view_module_version": "1.5.0",
            "_view_name": "ImageView",
            "format": "png",
            "height": "",
            "layout": "IPY_MODEL_c02052c0e0bf4822a75917034183807a",
            "width": ""
          }
        },
        "c02052c0e0bf4822a75917034183807a": {
          "model_module": "@jupyter-widgets/base",
          "model_name": "LayoutModel",
          "model_module_version": "1.2.0",
          "state": {
            "_model_module": "@jupyter-widgets/base",
            "_model_module_version": "1.2.0",
            "_model_name": "LayoutModel",
            "_view_count": null,
            "_view_module": "@jupyter-widgets/base",
            "_view_module_version": "1.2.0",
            "_view_name": "LayoutView",
            "align_content": null,
            "align_items": null,
            "align_self": null,
            "border": null,
            "bottom": null,
            "display": null,
            "flex": null,
            "flex_flow": null,
            "grid_area": null,
            "grid_auto_columns": null,
            "grid_auto_flow": null,
            "grid_auto_rows": null,
            "grid_column": null,
            "grid_gap": null,
            "grid_row": null,
            "grid_template_areas": null,
            "grid_template_columns": null,
            "grid_template_rows": null,
            "height": null,
            "justify_content": null,
            "justify_items": null,
            "left": null,
            "margin": null,
            "max_height": null,
            "max_width": null,
            "min_height": null,
            "min_width": null,
            "object_fit": null,
            "object_position": null,
            "order": null,
            "overflow": null,
            "overflow_x": null,
            "overflow_y": null,
            "padding": null,
            "right": null,
            "top": null,
            "visibility": null,
            "width": null
          }
        },
        "a43b58bae609466f8a48d51c6467e474": {
          "model_module": "@jupyter-widgets/base",
          "model_name": "LayoutModel",
          "model_module_version": "1.2.0",
          "state": {
            "_model_module": "@jupyter-widgets/base",
            "_model_module_version": "1.2.0",
            "_model_name": "LayoutModel",
            "_view_count": null,
            "_view_module": "@jupyter-widgets/base",
            "_view_module_version": "1.2.0",
            "_view_name": "LayoutView",
            "align_content": null,
            "align_items": null,
            "align_self": null,
            "border": null,
            "bottom": null,
            "display": null,
            "flex": null,
            "flex_flow": null,
            "grid_area": null,
            "grid_auto_columns": null,
            "grid_auto_flow": null,
            "grid_auto_rows": null,
            "grid_column": null,
            "grid_gap": null,
            "grid_row": null,
            "grid_template_areas": null,
            "grid_template_columns": null,
            "grid_template_rows": null,
            "height": null,
            "justify_content": null,
            "justify_items": null,
            "left": null,
            "margin": null,
            "max_height": null,
            "max_width": null,
            "min_height": null,
            "min_width": null,
            "object_fit": null,
            "object_position": null,
            "order": null,
            "overflow": null,
            "overflow_x": null,
            "overflow_y": null,
            "padding": null,
            "right": null,
            "top": null,
            "visibility": null,
            "width": null
          }
        },
        "c41a43823b254b4a9005d5a0a0cfa853": {
          "model_module": "@jupyter-widgets/output",
          "model_name": "OutputModel",
          "model_module_version": "1.0.0",
          "state": {
            "_dom_classes": [],
            "_model_module": "@jupyter-widgets/output",
            "_model_module_version": "1.0.0",
            "_model_name": "OutputModel",
            "_view_count": null,
            "_view_module": "@jupyter-widgets/output",
            "_view_module_version": "1.0.0",
            "_view_name": "OutputView",
            "layout": "IPY_MODEL_a43b58bae609466f8a48d51c6467e474",
            "msg_id": "",
            "outputs": [
              {
                "output_type": "display_data",
                "data": {
                  "text/plain": "Image(value=b'\\x89PNG\\r\\n\\x1a\\n\\x00\\x00\\x00\\rIHDR\\x00\\x00\\x01B\\x00\\x00\\x01\\xf4\\x08\\x04\\x00\\x00\\x00\\xe27\\xec\\x7…",
                  "application/vnd.jupyter.widget-view+json": {
                    "version_major": 2,
                    "version_minor": 0,
                    "model_id": "6784cad4b7394f8da8574b7b67c25ee0"
                  }
                },
                "metadata": {
                  "application/vnd.jupyter.widget-view+json": {
                    "colab": {
                      "custom_widget_manager": {
                        "url": "https://ssl.gstatic.com/colaboratory-static/widgets/colab-cdn-widget-manager/a8874ba6619b6106/manager.min.js"
                      }
                    }
                  }
                }
              }
            ]
          }
        },
        "6784cad4b7394f8da8574b7b67c25ee0": {
          "model_module": "@jupyter-widgets/controls",
          "model_name": "ImageModel",
          "model_module_version": "1.5.0",
          "state": {
            "_dom_classes": [],
            "_model_module": "@jupyter-widgets/controls",
            "_model_module_version": "1.5.0",
            "_model_name": "ImageModel",
            "_view_count": null,
            "_view_module": "@jupyter-widgets/controls",
            "_view_module_version": "1.5.0",
            "_view_name": "ImageView",
            "format": "png",
            "height": "",
            "layout": "IPY_MODEL_40edd233d26244dbb05d88eebf3723cd",
            "width": ""
          }
        },
        "40edd233d26244dbb05d88eebf3723cd": {
          "model_module": "@jupyter-widgets/base",
          "model_name": "LayoutModel",
          "model_module_version": "1.2.0",
          "state": {
            "_model_module": "@jupyter-widgets/base",
            "_model_module_version": "1.2.0",
            "_model_name": "LayoutModel",
            "_view_count": null,
            "_view_module": "@jupyter-widgets/base",
            "_view_module_version": "1.2.0",
            "_view_name": "LayoutView",
            "align_content": null,
            "align_items": null,
            "align_self": null,
            "border": null,
            "bottom": null,
            "display": null,
            "flex": null,
            "flex_flow": null,
            "grid_area": null,
            "grid_auto_columns": null,
            "grid_auto_flow": null,
            "grid_auto_rows": null,
            "grid_column": null,
            "grid_gap": null,
            "grid_row": null,
            "grid_template_areas": null,
            "grid_template_columns": null,
            "grid_template_rows": null,
            "height": null,
            "justify_content": null,
            "justify_items": null,
            "left": null,
            "margin": null,
            "max_height": null,
            "max_width": null,
            "min_height": null,
            "min_width": null,
            "object_fit": null,
            "object_position": null,
            "order": null,
            "overflow": null,
            "overflow_x": null,
            "overflow_y": null,
            "padding": null,
            "right": null,
            "top": null,
            "visibility": null,
            "width": null
          }
        },
        "4d0b9459c2e84d51bf51188ca902a520": {
          "model_module": "@jupyter-widgets/base",
          "model_name": "LayoutModel",
          "model_module_version": "1.2.0",
          "state": {
            "_model_module": "@jupyter-widgets/base",
            "_model_module_version": "1.2.0",
            "_model_name": "LayoutModel",
            "_view_count": null,
            "_view_module": "@jupyter-widgets/base",
            "_view_module_version": "1.2.0",
            "_view_name": "LayoutView",
            "align_content": null,
            "align_items": null,
            "align_self": null,
            "border": null,
            "bottom": null,
            "display": null,
            "flex": null,
            "flex_flow": null,
            "grid_area": null,
            "grid_auto_columns": null,
            "grid_auto_flow": null,
            "grid_auto_rows": null,
            "grid_column": null,
            "grid_gap": null,
            "grid_row": null,
            "grid_template_areas": null,
            "grid_template_columns": null,
            "grid_template_rows": null,
            "height": null,
            "justify_content": null,
            "justify_items": null,
            "left": null,
            "margin": null,
            "max_height": null,
            "max_width": null,
            "min_height": null,
            "min_width": null,
            "object_fit": null,
            "object_position": null,
            "order": null,
            "overflow": null,
            "overflow_x": null,
            "overflow_y": null,
            "padding": null,
            "right": null,
            "top": null,
            "visibility": null,
            "width": null
          }
        },
        "3e17d4a736e24f44af2f693470245086": {
          "model_module": "@jupyter-widgets/output",
          "model_name": "OutputModel",
          "model_module_version": "1.0.0",
          "state": {
            "_dom_classes": [],
            "_model_module": "@jupyter-widgets/output",
            "_model_module_version": "1.0.0",
            "_model_name": "OutputModel",
            "_view_count": null,
            "_view_module": "@jupyter-widgets/output",
            "_view_module_version": "1.0.0",
            "_view_name": "OutputView",
            "layout": "IPY_MODEL_4d0b9459c2e84d51bf51188ca902a520",
            "msg_id": "",
            "outputs": [
              {
                "output_type": "display_data",
                "data": {
                  "text/plain": "Image(value=b'\\x89PNG\\r\\n\\x1a\\n\\x00\\x00\\x00\\rIHDR\\x00\\x00\\x01\\xc5\\x00\\x00\\x01\\xf4\\x08\\x04\\x00\\x00\\x00\\xe6\\xee\\…",
                  "application/vnd.jupyter.widget-view+json": {
                    "version_major": 2,
                    "version_minor": 0,
                    "model_id": "ed5836fd41954a79a44f1b63a416fe45"
                  }
                },
                "metadata": {
                  "application/vnd.jupyter.widget-view+json": {
                    "colab": {
                      "custom_widget_manager": {
                        "url": "https://ssl.gstatic.com/colaboratory-static/widgets/colab-cdn-widget-manager/a8874ba6619b6106/manager.min.js"
                      }
                    }
                  }
                }
              }
            ]
          }
        },
        "ed5836fd41954a79a44f1b63a416fe45": {
          "model_module": "@jupyter-widgets/controls",
          "model_name": "ImageModel",
          "model_module_version": "1.5.0",
          "state": {
            "_dom_classes": [],
            "_model_module": "@jupyter-widgets/controls",
            "_model_module_version": "1.5.0",
            "_model_name": "ImageModel",
            "_view_count": null,
            "_view_module": "@jupyter-widgets/controls",
            "_view_module_version": "1.5.0",
            "_view_name": "ImageView",
            "format": "png",
            "height": "",
            "layout": "IPY_MODEL_2e5f65d3f91f423ea3747fc4d48e2278",
            "width": ""
          }
        },
        "2e5f65d3f91f423ea3747fc4d48e2278": {
          "model_module": "@jupyter-widgets/base",
          "model_name": "LayoutModel",
          "model_module_version": "1.2.0",
          "state": {
            "_model_module": "@jupyter-widgets/base",
            "_model_module_version": "1.2.0",
            "_model_name": "LayoutModel",
            "_view_count": null,
            "_view_module": "@jupyter-widgets/base",
            "_view_module_version": "1.2.0",
            "_view_name": "LayoutView",
            "align_content": null,
            "align_items": null,
            "align_self": null,
            "border": null,
            "bottom": null,
            "display": null,
            "flex": null,
            "flex_flow": null,
            "grid_area": null,
            "grid_auto_columns": null,
            "grid_auto_flow": null,
            "grid_auto_rows": null,
            "grid_column": null,
            "grid_gap": null,
            "grid_row": null,
            "grid_template_areas": null,
            "grid_template_columns": null,
            "grid_template_rows": null,
            "height": null,
            "justify_content": null,
            "justify_items": null,
            "left": null,
            "margin": null,
            "max_height": null,
            "max_width": null,
            "min_height": null,
            "min_width": null,
            "object_fit": null,
            "object_position": null,
            "order": null,
            "overflow": null,
            "overflow_x": null,
            "overflow_y": null,
            "padding": null,
            "right": null,
            "top": null,
            "visibility": null,
            "width": null
          }
        },
        "b859ded8134747939da026449ec8d469": {
          "model_module": "@jupyter-widgets/base",
          "model_name": "LayoutModel",
          "model_module_version": "1.2.0",
          "state": {
            "_model_module": "@jupyter-widgets/base",
            "_model_module_version": "1.2.0",
            "_model_name": "LayoutModel",
            "_view_count": null,
            "_view_module": "@jupyter-widgets/base",
            "_view_module_version": "1.2.0",
            "_view_name": "LayoutView",
            "align_content": null,
            "align_items": null,
            "align_self": null,
            "border": null,
            "bottom": null,
            "display": null,
            "flex": null,
            "flex_flow": null,
            "grid_area": null,
            "grid_auto_columns": null,
            "grid_auto_flow": null,
            "grid_auto_rows": null,
            "grid_column": null,
            "grid_gap": null,
            "grid_row": null,
            "grid_template_areas": null,
            "grid_template_columns": null,
            "grid_template_rows": null,
            "height": null,
            "justify_content": null,
            "justify_items": null,
            "left": null,
            "margin": null,
            "max_height": null,
            "max_width": null,
            "min_height": null,
            "min_width": null,
            "object_fit": null,
            "object_position": null,
            "order": null,
            "overflow": null,
            "overflow_x": null,
            "overflow_y": null,
            "padding": null,
            "right": null,
            "top": null,
            "visibility": null,
            "width": null
          }
        },
        "ebcef2962ade43e3afd343808a7f2273": {
          "model_module": "@jupyter-widgets/output",
          "model_name": "OutputModel",
          "model_module_version": "1.0.0",
          "state": {
            "_dom_classes": [],
            "_model_module": "@jupyter-widgets/output",
            "_model_module_version": "1.0.0",
            "_model_name": "OutputModel",
            "_view_count": null,
            "_view_module": "@jupyter-widgets/output",
            "_view_module_version": "1.0.0",
            "_view_name": "OutputView",
            "layout": "IPY_MODEL_b859ded8134747939da026449ec8d469",
            "msg_id": "",
            "outputs": [
              {
                "output_type": "display_data",
                "data": {
                  "text/plain": "Image(value=b'\\x89PNG\\r\\n\\x1a\\n\\x00\\x00\\x00\\rIHDR\\x00\\x00\\x00\\xf4\\x00\\x00\\x01\\xf4\\x08\\x04\\x00\\x00\\x00\\xa0Q\\xc8…",
                  "application/vnd.jupyter.widget-view+json": {
                    "version_major": 2,
                    "version_minor": 0,
                    "model_id": "5e3c8d01f41a41f8bb90434906c9ef66"
                  }
                },
                "metadata": {
                  "application/vnd.jupyter.widget-view+json": {
                    "colab": {
                      "custom_widget_manager": {
                        "url": "https://ssl.gstatic.com/colaboratory-static/widgets/colab-cdn-widget-manager/a8874ba6619b6106/manager.min.js"
                      }
                    }
                  }
                }
              }
            ]
          }
        },
        "5e3c8d01f41a41f8bb90434906c9ef66": {
          "model_module": "@jupyter-widgets/controls",
          "model_name": "ImageModel",
          "model_module_version": "1.5.0",
          "state": {
            "_dom_classes": [],
            "_model_module": "@jupyter-widgets/controls",
            "_model_module_version": "1.5.0",
            "_model_name": "ImageModel",
            "_view_count": null,
            "_view_module": "@jupyter-widgets/controls",
            "_view_module_version": "1.5.0",
            "_view_name": "ImageView",
            "format": "png",
            "height": "",
            "layout": "IPY_MODEL_03d3669aad834dbe8f41fee9911964ec",
            "width": ""
          }
        },
        "03d3669aad834dbe8f41fee9911964ec": {
          "model_module": "@jupyter-widgets/base",
          "model_name": "LayoutModel",
          "model_module_version": "1.2.0",
          "state": {
            "_model_module": "@jupyter-widgets/base",
            "_model_module_version": "1.2.0",
            "_model_name": "LayoutModel",
            "_view_count": null,
            "_view_module": "@jupyter-widgets/base",
            "_view_module_version": "1.2.0",
            "_view_name": "LayoutView",
            "align_content": null,
            "align_items": null,
            "align_self": null,
            "border": null,
            "bottom": null,
            "display": null,
            "flex": null,
            "flex_flow": null,
            "grid_area": null,
            "grid_auto_columns": null,
            "grid_auto_flow": null,
            "grid_auto_rows": null,
            "grid_column": null,
            "grid_gap": null,
            "grid_row": null,
            "grid_template_areas": null,
            "grid_template_columns": null,
            "grid_template_rows": null,
            "height": null,
            "justify_content": null,
            "justify_items": null,
            "left": null,
            "margin": null,
            "max_height": null,
            "max_width": null,
            "min_height": null,
            "min_width": null,
            "object_fit": null,
            "object_position": null,
            "order": null,
            "overflow": null,
            "overflow_x": null,
            "overflow_y": null,
            "padding": null,
            "right": null,
            "top": null,
            "visibility": null,
            "width": null
          }
        },
        "e7a5e4a639b645bcb5c4952374bdbfd9": {
          "model_module": "@jupyter-widgets/base",
          "model_name": "LayoutModel",
          "model_module_version": "1.2.0",
          "state": {
            "_model_module": "@jupyter-widgets/base",
            "_model_module_version": "1.2.0",
            "_model_name": "LayoutModel",
            "_view_count": null,
            "_view_module": "@jupyter-widgets/base",
            "_view_module_version": "1.2.0",
            "_view_name": "LayoutView",
            "align_content": null,
            "align_items": null,
            "align_self": null,
            "border": null,
            "bottom": null,
            "display": null,
            "flex": null,
            "flex_flow": null,
            "grid_area": null,
            "grid_auto_columns": null,
            "grid_auto_flow": null,
            "grid_auto_rows": null,
            "grid_column": null,
            "grid_gap": null,
            "grid_row": null,
            "grid_template_areas": null,
            "grid_template_columns": null,
            "grid_template_rows": null,
            "height": null,
            "justify_content": null,
            "justify_items": null,
            "left": null,
            "margin": null,
            "max_height": null,
            "max_width": null,
            "min_height": null,
            "min_width": null,
            "object_fit": null,
            "object_position": null,
            "order": null,
            "overflow": null,
            "overflow_x": null,
            "overflow_y": null,
            "padding": null,
            "right": null,
            "top": null,
            "visibility": null,
            "width": null
          }
        },
        "16b042de06a446a8a6c9bbd4a2df4536": {
          "model_module": "@jupyter-widgets/output",
          "model_name": "OutputModel",
          "model_module_version": "1.0.0",
          "state": {
            "_dom_classes": [],
            "_model_module": "@jupyter-widgets/output",
            "_model_module_version": "1.0.0",
            "_model_name": "OutputModel",
            "_view_count": null,
            "_view_module": "@jupyter-widgets/output",
            "_view_module_version": "1.0.0",
            "_view_name": "OutputView",
            "layout": "IPY_MODEL_e7a5e4a639b645bcb5c4952374bdbfd9",
            "msg_id": "",
            "outputs": [
              {
                "output_type": "display_data",
                "data": {
                  "text/plain": "Image(value=b'\\x89PNG\\r\\n\\x1a\\n\\x00\\x00\\x00\\rIHDR\\x00\\x00\\x01\\xf4\\x00\\x00\\x013\\x08\\x04\\x00\\x00\\x00m29\\r\\x00\\x0…",
                  "application/vnd.jupyter.widget-view+json": {
                    "version_major": 2,
                    "version_minor": 0,
                    "model_id": "fba68bf3d6874fd4924c2502adcac256"
                  }
                },
                "metadata": {
                  "application/vnd.jupyter.widget-view+json": {
                    "colab": {
                      "custom_widget_manager": {
                        "url": "https://ssl.gstatic.com/colaboratory-static/widgets/colab-cdn-widget-manager/a8874ba6619b6106/manager.min.js"
                      }
                    }
                  }
                }
              }
            ]
          }
        },
        "fba68bf3d6874fd4924c2502adcac256": {
          "model_module": "@jupyter-widgets/controls",
          "model_name": "ImageModel",
          "model_module_version": "1.5.0",
          "state": {
            "_dom_classes": [],
            "_model_module": "@jupyter-widgets/controls",
            "_model_module_version": "1.5.0",
            "_model_name": "ImageModel",
            "_view_count": null,
            "_view_module": "@jupyter-widgets/controls",
            "_view_module_version": "1.5.0",
            "_view_name": "ImageView",
            "format": "png",
            "height": "",
            "layout": "IPY_MODEL_5b52675a6b8a4d178faae3e07c08939d",
            "width": ""
          }
        },
        "5b52675a6b8a4d178faae3e07c08939d": {
          "model_module": "@jupyter-widgets/base",
          "model_name": "LayoutModel",
          "model_module_version": "1.2.0",
          "state": {
            "_model_module": "@jupyter-widgets/base",
            "_model_module_version": "1.2.0",
            "_model_name": "LayoutModel",
            "_view_count": null,
            "_view_module": "@jupyter-widgets/base",
            "_view_module_version": "1.2.0",
            "_view_name": "LayoutView",
            "align_content": null,
            "align_items": null,
            "align_self": null,
            "border": null,
            "bottom": null,
            "display": null,
            "flex": null,
            "flex_flow": null,
            "grid_area": null,
            "grid_auto_columns": null,
            "grid_auto_flow": null,
            "grid_auto_rows": null,
            "grid_column": null,
            "grid_gap": null,
            "grid_row": null,
            "grid_template_areas": null,
            "grid_template_columns": null,
            "grid_template_rows": null,
            "height": null,
            "justify_content": null,
            "justify_items": null,
            "left": null,
            "margin": null,
            "max_height": null,
            "max_width": null,
            "min_height": null,
            "min_width": null,
            "object_fit": null,
            "object_position": null,
            "order": null,
            "overflow": null,
            "overflow_x": null,
            "overflow_y": null,
            "padding": null,
            "right": null,
            "top": null,
            "visibility": null,
            "width": null
          }
        },
        "269350f6f3ad42e3a5fc2c4a0e26abf7": {
          "model_module": "@jupyter-widgets/base",
          "model_name": "LayoutModel",
          "model_module_version": "1.2.0",
          "state": {
            "_model_module": "@jupyter-widgets/base",
            "_model_module_version": "1.2.0",
            "_model_name": "LayoutModel",
            "_view_count": null,
            "_view_module": "@jupyter-widgets/base",
            "_view_module_version": "1.2.0",
            "_view_name": "LayoutView",
            "align_content": null,
            "align_items": null,
            "align_self": null,
            "border": null,
            "bottom": null,
            "display": null,
            "flex": null,
            "flex_flow": null,
            "grid_area": null,
            "grid_auto_columns": null,
            "grid_auto_flow": null,
            "grid_auto_rows": null,
            "grid_column": null,
            "grid_gap": null,
            "grid_row": null,
            "grid_template_areas": null,
            "grid_template_columns": null,
            "grid_template_rows": null,
            "height": null,
            "justify_content": null,
            "justify_items": null,
            "left": null,
            "margin": null,
            "max_height": null,
            "max_width": null,
            "min_height": null,
            "min_width": null,
            "object_fit": null,
            "object_position": null,
            "order": null,
            "overflow": null,
            "overflow_x": null,
            "overflow_y": null,
            "padding": null,
            "right": null,
            "top": null,
            "visibility": null,
            "width": null
          }
        },
        "99d2eded1cf64ac9881ac9d936d1de0b": {
          "model_module": "@jupyter-widgets/output",
          "model_name": "OutputModel",
          "model_module_version": "1.0.0",
          "state": {
            "_dom_classes": [],
            "_model_module": "@jupyter-widgets/output",
            "_model_module_version": "1.0.0",
            "_model_name": "OutputModel",
            "_view_count": null,
            "_view_module": "@jupyter-widgets/output",
            "_view_module_version": "1.0.0",
            "_view_name": "OutputView",
            "layout": "IPY_MODEL_269350f6f3ad42e3a5fc2c4a0e26abf7",
            "msg_id": "",
            "outputs": [
              {
                "output_type": "display_data",
                "data": {
                  "text/plain": "Image(value=b'\\x89PNG\\r\\n\\x1a\\n\\x00\\x00\\x00\\rIHDR\\x00\\x00\\x01\\xf4\\x00\\x00\\x00\\x91\\x08\\x04\\x00\\x00\\x00\\x9f\\x91\\…",
                  "application/vnd.jupyter.widget-view+json": {
                    "version_major": 2,
                    "version_minor": 0,
                    "model_id": "25a7d82d149b405c807a4e14022e8dae"
                  }
                },
                "metadata": {
                  "application/vnd.jupyter.widget-view+json": {
                    "colab": {
                      "custom_widget_manager": {
                        "url": "https://ssl.gstatic.com/colaboratory-static/widgets/colab-cdn-widget-manager/a8874ba6619b6106/manager.min.js"
                      }
                    }
                  }
                }
              }
            ]
          }
        },
        "25a7d82d149b405c807a4e14022e8dae": {
          "model_module": "@jupyter-widgets/controls",
          "model_name": "ImageModel",
          "model_module_version": "1.5.0",
          "state": {
            "_dom_classes": [],
            "_model_module": "@jupyter-widgets/controls",
            "_model_module_version": "1.5.0",
            "_model_name": "ImageModel",
            "_view_count": null,
            "_view_module": "@jupyter-widgets/controls",
            "_view_module_version": "1.5.0",
            "_view_name": "ImageView",
            "format": "png",
            "height": "",
            "layout": "IPY_MODEL_c1e0131c6e5845b386d9c70f662fa29c",
            "width": ""
          }
        },
        "c1e0131c6e5845b386d9c70f662fa29c": {
          "model_module": "@jupyter-widgets/base",
          "model_name": "LayoutModel",
          "model_module_version": "1.2.0",
          "state": {
            "_model_module": "@jupyter-widgets/base",
            "_model_module_version": "1.2.0",
            "_model_name": "LayoutModel",
            "_view_count": null,
            "_view_module": "@jupyter-widgets/base",
            "_view_module_version": "1.2.0",
            "_view_name": "LayoutView",
            "align_content": null,
            "align_items": null,
            "align_self": null,
            "border": null,
            "bottom": null,
            "display": null,
            "flex": null,
            "flex_flow": null,
            "grid_area": null,
            "grid_auto_columns": null,
            "grid_auto_flow": null,
            "grid_auto_rows": null,
            "grid_column": null,
            "grid_gap": null,
            "grid_row": null,
            "grid_template_areas": null,
            "grid_template_columns": null,
            "grid_template_rows": null,
            "height": null,
            "justify_content": null,
            "justify_items": null,
            "left": null,
            "margin": null,
            "max_height": null,
            "max_width": null,
            "min_height": null,
            "min_width": null,
            "object_fit": null,
            "object_position": null,
            "order": null,
            "overflow": null,
            "overflow_x": null,
            "overflow_y": null,
            "padding": null,
            "right": null,
            "top": null,
            "visibility": null,
            "width": null
          }
        },
        "0d00e1c0a3d44062a08a47bf4d0f8fb9": {
          "model_module": "@jupyter-widgets/base",
          "model_name": "LayoutModel",
          "model_module_version": "1.2.0",
          "state": {
            "_model_module": "@jupyter-widgets/base",
            "_model_module_version": "1.2.0",
            "_model_name": "LayoutModel",
            "_view_count": null,
            "_view_module": "@jupyter-widgets/base",
            "_view_module_version": "1.2.0",
            "_view_name": "LayoutView",
            "align_content": null,
            "align_items": null,
            "align_self": null,
            "border": null,
            "bottom": null,
            "display": null,
            "flex": null,
            "flex_flow": null,
            "grid_area": null,
            "grid_auto_columns": null,
            "grid_auto_flow": null,
            "grid_auto_rows": null,
            "grid_column": null,
            "grid_gap": null,
            "grid_row": null,
            "grid_template_areas": null,
            "grid_template_columns": null,
            "grid_template_rows": null,
            "height": null,
            "justify_content": null,
            "justify_items": null,
            "left": null,
            "margin": null,
            "max_height": null,
            "max_width": null,
            "min_height": null,
            "min_width": null,
            "object_fit": null,
            "object_position": null,
            "order": null,
            "overflow": null,
            "overflow_x": null,
            "overflow_y": null,
            "padding": null,
            "right": null,
            "top": null,
            "visibility": null,
            "width": null
          }
        },
        "a17829a23259425b8198dd6a23143cc6": {
          "model_module": "@jupyter-widgets/output",
          "model_name": "OutputModel",
          "model_module_version": "1.0.0",
          "state": {
            "_dom_classes": [],
            "_model_module": "@jupyter-widgets/output",
            "_model_module_version": "1.0.0",
            "_model_name": "OutputModel",
            "_view_count": null,
            "_view_module": "@jupyter-widgets/output",
            "_view_module_version": "1.0.0",
            "_view_name": "OutputView",
            "layout": "IPY_MODEL_0d00e1c0a3d44062a08a47bf4d0f8fb9",
            "msg_id": "",
            "outputs": [
              {
                "output_type": "display_data",
                "data": {
                  "text/plain": "Image(value=b'\\x89PNG\\r\\n\\x1a\\n\\x00\\x00\\x00\\rIHDR\\x00\\x00\\x01\\xf4\\x00\\x00\\x01\\xb6\\x08\\x04\\x00\\x00\\x00#O\\xbcf\\x…",
                  "application/vnd.jupyter.widget-view+json": {
                    "version_major": 2,
                    "version_minor": 0,
                    "model_id": "f6e26c299f1142a7853e6ca2fd8c8e7b"
                  }
                },
                "metadata": {
                  "application/vnd.jupyter.widget-view+json": {
                    "colab": {
                      "custom_widget_manager": {
                        "url": "https://ssl.gstatic.com/colaboratory-static/widgets/colab-cdn-widget-manager/a8874ba6619b6106/manager.min.js"
                      }
                    }
                  }
                }
              }
            ]
          }
        },
        "f6e26c299f1142a7853e6ca2fd8c8e7b": {
          "model_module": "@jupyter-widgets/controls",
          "model_name": "ImageModel",
          "model_module_version": "1.5.0",
          "state": {
            "_dom_classes": [],
            "_model_module": "@jupyter-widgets/controls",
            "_model_module_version": "1.5.0",
            "_model_name": "ImageModel",
            "_view_count": null,
            "_view_module": "@jupyter-widgets/controls",
            "_view_module_version": "1.5.0",
            "_view_name": "ImageView",
            "format": "png",
            "height": "",
            "layout": "IPY_MODEL_6ce30a9395354a19977a3efb9487d1c2",
            "width": ""
          }
        },
        "6ce30a9395354a19977a3efb9487d1c2": {
          "model_module": "@jupyter-widgets/base",
          "model_name": "LayoutModel",
          "model_module_version": "1.2.0",
          "state": {
            "_model_module": "@jupyter-widgets/base",
            "_model_module_version": "1.2.0",
            "_model_name": "LayoutModel",
            "_view_count": null,
            "_view_module": "@jupyter-widgets/base",
            "_view_module_version": "1.2.0",
            "_view_name": "LayoutView",
            "align_content": null,
            "align_items": null,
            "align_self": null,
            "border": null,
            "bottom": null,
            "display": null,
            "flex": null,
            "flex_flow": null,
            "grid_area": null,
            "grid_auto_columns": null,
            "grid_auto_flow": null,
            "grid_auto_rows": null,
            "grid_column": null,
            "grid_gap": null,
            "grid_row": null,
            "grid_template_areas": null,
            "grid_template_columns": null,
            "grid_template_rows": null,
            "height": null,
            "justify_content": null,
            "justify_items": null,
            "left": null,
            "margin": null,
            "max_height": null,
            "max_width": null,
            "min_height": null,
            "min_width": null,
            "object_fit": null,
            "object_position": null,
            "order": null,
            "overflow": null,
            "overflow_x": null,
            "overflow_y": null,
            "padding": null,
            "right": null,
            "top": null,
            "visibility": null,
            "width": null
          }
        },
        "3da7c5b93cb94736818cb14f0ffd0d54": {
          "model_module": "@jupyter-widgets/base",
          "model_name": "LayoutModel",
          "model_module_version": "1.2.0",
          "state": {
            "_model_module": "@jupyter-widgets/base",
            "_model_module_version": "1.2.0",
            "_model_name": "LayoutModel",
            "_view_count": null,
            "_view_module": "@jupyter-widgets/base",
            "_view_module_version": "1.2.0",
            "_view_name": "LayoutView",
            "align_content": null,
            "align_items": null,
            "align_self": null,
            "border": null,
            "bottom": null,
            "display": null,
            "flex": null,
            "flex_flow": null,
            "grid_area": null,
            "grid_auto_columns": null,
            "grid_auto_flow": null,
            "grid_auto_rows": null,
            "grid_column": null,
            "grid_gap": null,
            "grid_row": null,
            "grid_template_areas": null,
            "grid_template_columns": null,
            "grid_template_rows": null,
            "height": null,
            "justify_content": null,
            "justify_items": null,
            "left": null,
            "margin": null,
            "max_height": null,
            "max_width": null,
            "min_height": null,
            "min_width": null,
            "object_fit": null,
            "object_position": null,
            "order": null,
            "overflow": null,
            "overflow_x": null,
            "overflow_y": null,
            "padding": null,
            "right": null,
            "top": null,
            "visibility": null,
            "width": null
          }
        },
        "a37f84a8ca494f95af3b61ac92d1ad12": {
          "model_module": "@jupyter-widgets/output",
          "model_name": "OutputModel",
          "model_module_version": "1.0.0",
          "state": {
            "_dom_classes": [],
            "_model_module": "@jupyter-widgets/output",
            "_model_module_version": "1.0.0",
            "_model_name": "OutputModel",
            "_view_count": null,
            "_view_module": "@jupyter-widgets/output",
            "_view_module_version": "1.0.0",
            "_view_name": "OutputView",
            "layout": "IPY_MODEL_3da7c5b93cb94736818cb14f0ffd0d54",
            "msg_id": "",
            "outputs": [
              {
                "output_type": "display_data",
                "data": {
                  "text/plain": "Image(value=b'\\x89PNG\\r\\n\\x1a\\n\\x00\\x00\\x00\\rIHDR\\x00\\x00\\x01\\xf4\\x00\\x00\\x01W\\x08\\x04\\x00\\x00\\x00\\xfeWtA\\x00\\…",
                  "application/vnd.jupyter.widget-view+json": {
                    "version_major": 2,
                    "version_minor": 0,
                    "model_id": "65d049d2bd4442d0b263dffa56d8fdf9"
                  }
                },
                "metadata": {
                  "application/vnd.jupyter.widget-view+json": {
                    "colab": {
                      "custom_widget_manager": {
                        "url": "https://ssl.gstatic.com/colaboratory-static/widgets/colab-cdn-widget-manager/a8874ba6619b6106/manager.min.js"
                      }
                    }
                  }
                }
              }
            ]
          }
        },
        "65d049d2bd4442d0b263dffa56d8fdf9": {
          "model_module": "@jupyter-widgets/controls",
          "model_name": "ImageModel",
          "model_module_version": "1.5.0",
          "state": {
            "_dom_classes": [],
            "_model_module": "@jupyter-widgets/controls",
            "_model_module_version": "1.5.0",
            "_model_name": "ImageModel",
            "_view_count": null,
            "_view_module": "@jupyter-widgets/controls",
            "_view_module_version": "1.5.0",
            "_view_name": "ImageView",
            "format": "png",
            "height": "",
            "layout": "IPY_MODEL_a2beab6016bd46e3bb852d3fdfc8f62d",
            "width": ""
          }
        },
        "a2beab6016bd46e3bb852d3fdfc8f62d": {
          "model_module": "@jupyter-widgets/base",
          "model_name": "LayoutModel",
          "model_module_version": "1.2.0",
          "state": {
            "_model_module": "@jupyter-widgets/base",
            "_model_module_version": "1.2.0",
            "_model_name": "LayoutModel",
            "_view_count": null,
            "_view_module": "@jupyter-widgets/base",
            "_view_module_version": "1.2.0",
            "_view_name": "LayoutView",
            "align_content": null,
            "align_items": null,
            "align_self": null,
            "border": null,
            "bottom": null,
            "display": null,
            "flex": null,
            "flex_flow": null,
            "grid_area": null,
            "grid_auto_columns": null,
            "grid_auto_flow": null,
            "grid_auto_rows": null,
            "grid_column": null,
            "grid_gap": null,
            "grid_row": null,
            "grid_template_areas": null,
            "grid_template_columns": null,
            "grid_template_rows": null,
            "height": null,
            "justify_content": null,
            "justify_items": null,
            "left": null,
            "margin": null,
            "max_height": null,
            "max_width": null,
            "min_height": null,
            "min_width": null,
            "object_fit": null,
            "object_position": null,
            "order": null,
            "overflow": null,
            "overflow_x": null,
            "overflow_y": null,
            "padding": null,
            "right": null,
            "top": null,
            "visibility": null,
            "width": null
          }
        },
        "c613f8c5feaa4bfc83040dad825e7946": {
          "model_module": "@jupyter-widgets/base",
          "model_name": "LayoutModel",
          "model_module_version": "1.2.0",
          "state": {
            "_model_module": "@jupyter-widgets/base",
            "_model_module_version": "1.2.0",
            "_model_name": "LayoutModel",
            "_view_count": null,
            "_view_module": "@jupyter-widgets/base",
            "_view_module_version": "1.2.0",
            "_view_name": "LayoutView",
            "align_content": null,
            "align_items": null,
            "align_self": null,
            "border": null,
            "bottom": null,
            "display": null,
            "flex": null,
            "flex_flow": null,
            "grid_area": null,
            "grid_auto_columns": null,
            "grid_auto_flow": null,
            "grid_auto_rows": null,
            "grid_column": null,
            "grid_gap": null,
            "grid_row": null,
            "grid_template_areas": null,
            "grid_template_columns": null,
            "grid_template_rows": null,
            "height": null,
            "justify_content": null,
            "justify_items": null,
            "left": null,
            "margin": null,
            "max_height": null,
            "max_width": null,
            "min_height": null,
            "min_width": null,
            "object_fit": null,
            "object_position": null,
            "order": null,
            "overflow": null,
            "overflow_x": null,
            "overflow_y": null,
            "padding": null,
            "right": null,
            "top": null,
            "visibility": null,
            "width": null
          }
        },
        "566956ced9c6451c825e5a2d1dfcde40": {
          "model_module": "@jupyter-widgets/output",
          "model_name": "OutputModel",
          "model_module_version": "1.0.0",
          "state": {
            "_dom_classes": [],
            "_model_module": "@jupyter-widgets/output",
            "_model_module_version": "1.0.0",
            "_model_name": "OutputModel",
            "_view_count": null,
            "_view_module": "@jupyter-widgets/output",
            "_view_module_version": "1.0.0",
            "_view_name": "OutputView",
            "layout": "IPY_MODEL_c613f8c5feaa4bfc83040dad825e7946",
            "msg_id": "",
            "outputs": [
              {
                "output_type": "display_data",
                "data": {
                  "text/plain": "Image(value=b'\\x89PNG\\r\\n\\x1a\\n\\x00\\x00\\x00\\rIHDR\\x00\\x00\\x01\\xf4\\x00\\x00\\x01\\xf2\\x08\\x04\\x00\\x00\\x00\\xb7\\x86\\…",
                  "application/vnd.jupyter.widget-view+json": {
                    "version_major": 2,
                    "version_minor": 0,
                    "model_id": "8f9b18c2b2784f3e968fd4c7ccd12d73"
                  }
                },
                "metadata": {
                  "application/vnd.jupyter.widget-view+json": {
                    "colab": {
                      "custom_widget_manager": {
                        "url": "https://ssl.gstatic.com/colaboratory-static/widgets/colab-cdn-widget-manager/a8874ba6619b6106/manager.min.js"
                      }
                    }
                  }
                }
              }
            ]
          }
        },
        "8f9b18c2b2784f3e968fd4c7ccd12d73": {
          "model_module": "@jupyter-widgets/controls",
          "model_name": "ImageModel",
          "model_module_version": "1.5.0",
          "state": {
            "_dom_classes": [],
            "_model_module": "@jupyter-widgets/controls",
            "_model_module_version": "1.5.0",
            "_model_name": "ImageModel",
            "_view_count": null,
            "_view_module": "@jupyter-widgets/controls",
            "_view_module_version": "1.5.0",
            "_view_name": "ImageView",
            "format": "png",
            "height": "",
            "layout": "IPY_MODEL_a1b0100e562e47ccbf4a8b3dd297c14e",
            "width": ""
          }
        },
        "a1b0100e562e47ccbf4a8b3dd297c14e": {
          "model_module": "@jupyter-widgets/base",
          "model_name": "LayoutModel",
          "model_module_version": "1.2.0",
          "state": {
            "_model_module": "@jupyter-widgets/base",
            "_model_module_version": "1.2.0",
            "_model_name": "LayoutModel",
            "_view_count": null,
            "_view_module": "@jupyter-widgets/base",
            "_view_module_version": "1.2.0",
            "_view_name": "LayoutView",
            "align_content": null,
            "align_items": null,
            "align_self": null,
            "border": null,
            "bottom": null,
            "display": null,
            "flex": null,
            "flex_flow": null,
            "grid_area": null,
            "grid_auto_columns": null,
            "grid_auto_flow": null,
            "grid_auto_rows": null,
            "grid_column": null,
            "grid_gap": null,
            "grid_row": null,
            "grid_template_areas": null,
            "grid_template_columns": null,
            "grid_template_rows": null,
            "height": null,
            "justify_content": null,
            "justify_items": null,
            "left": null,
            "margin": null,
            "max_height": null,
            "max_width": null,
            "min_height": null,
            "min_width": null,
            "object_fit": null,
            "object_position": null,
            "order": null,
            "overflow": null,
            "overflow_x": null,
            "overflow_y": null,
            "padding": null,
            "right": null,
            "top": null,
            "visibility": null,
            "width": null
          }
        }
      }
    }
  },
  "nbformat": 4,
  "nbformat_minor": 0
}